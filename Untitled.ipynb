{
 "cells": [
  {
   "cell_type": "code",
   "execution_count": 1,
   "metadata": {},
   "outputs": [],
   "source": [
    "import plotly.graph_objects as go\n",
    "\n",
    "import pandas as pd\n",
    "import os\n",
    "\n",
    "import dash\n",
    "import dash_core_components as dcc\n",
    "import dash_html_components as html\n",
    "import pandas as pd\n",
    "import plotly.graph_objs as go\n",
    "\n",
    "#from app import app"
   ]
  },
  {
   "cell_type": "code",
   "execution_count": 2,
   "metadata": {},
   "outputs": [],
   "source": [
    "csv_file = \"data/NationalScores.csv\"\n",
    "df = pd.read_csv(csv_file, encoding =\"ISO-8859-1\")"
   ]
  },
  {
   "cell_type": "code",
   "execution_count": 3,
   "metadata": {},
   "outputs": [],
   "source": [
    "for col in df.columns:\n",
    "    df[col] = df[col].astype(str)\n",
    "\n",
    "df['text'] = df['state'] + '<br>' + \\\n",
    "    'Year: ' + df['start_year'] + ' Math: ' + df['avg_2009_math'] + '<br>' + \\\n",
    "    'Reading: ' + df['avg_2009_read']\n",
    "df.columns = [col.replace(\"AAPL.\", \"\") for col in df.columns]"
   ]
  },
  {
   "cell_type": "code",
   "execution_count": 10,
   "metadata": {},
   "outputs": [
    {
     "data": {
      "application/vnd.plotly.v1+json": {
       "config": {
        "plotlyServerURL": "https://plot.ly"
       },
       "data": [
        {
         "autocolorscale": false,
         "colorbar": {
          "title": {
           "text": "Average Math Difference"
          }
         },
         "colorscale": [
          [
           0,
           "rgb(247,251,255)"
          ],
          [
           0.125,
           "rgb(222,235,247)"
          ],
          [
           0.25,
           "rgb(198,219,239)"
          ],
          [
           0.375,
           "rgb(158,202,225)"
          ],
          [
           0.5,
           "rgb(107,174,214)"
          ],
          [
           0.625,
           "rgb(66,146,198)"
          ],
          [
           0.75,
           "rgb(33,113,181)"
          ],
          [
           0.875,
           "rgb(8,81,156)"
          ],
          [
           1,
           "rgb(8,48,107)"
          ]
         ],
         "locationmode": "USA-states",
         "locations": [
          "AK",
          "AK",
          "AL",
          "AL",
          "AR",
          "AR",
          "AZ",
          "AZ",
          "CA",
          "CA",
          "CO",
          "CO",
          "CT",
          "CT",
          "DC",
          "DC",
          "DE",
          "DE",
          "FL",
          "FL",
          "GA",
          "GA",
          "HI",
          "HI",
          "IA",
          "IA",
          "ID",
          "ID",
          "IL",
          "IL",
          "IN",
          "IN",
          "KS",
          "KS",
          "KY",
          "KY",
          "LA",
          "LA",
          "MA",
          "MA",
          "MD",
          "MD",
          "ME",
          "ME",
          "MI",
          "MI",
          "MN",
          "MN",
          "MO",
          "MO",
          "MS",
          "MS",
          "MT",
          "MT",
          "NC",
          "NC",
          "ND",
          "ND",
          "NE",
          "NE",
          "NH",
          "NH",
          "NJ",
          "NJ",
          "NM",
          "NM",
          "NT",
          "NT",
          "NV",
          "NV",
          "NY",
          "NY",
          "OH",
          "OH",
          "OK",
          "OK",
          "OR",
          "OR",
          "PA",
          "PA",
          "RI",
          "RI",
          "SC",
          "SC",
          "SD",
          "SD",
          "TN",
          "TN",
          "TX",
          "TX",
          "UT",
          "UT",
          "VA",
          "VA",
          "VT",
          "VT",
          "WA",
          "WA",
          "WI",
          "WI",
          "WV",
          "WV",
          "WY",
          "WY",
          "AK",
          "AK",
          "AL",
          "AL",
          "AR",
          "AR",
          "AZ",
          "AZ",
          "CA",
          "CA",
          "CO",
          "CO",
          "CT",
          "CT",
          "DC",
          "DC",
          "DE",
          "DE",
          "FL",
          "FL",
          "GA",
          "GA",
          "HI",
          "HI",
          "IA",
          "IA",
          "ID",
          "ID",
          "IL",
          "IL",
          "IN",
          "IN",
          "KS",
          "KS",
          "KY",
          "KY",
          "LA",
          "LA",
          "MA",
          "MA",
          "MD",
          "MD",
          "ME",
          "ME",
          "MI",
          "MI",
          "MN",
          "MN",
          "MO",
          "MO",
          "MS",
          "MS",
          "MT",
          "MT",
          "NC",
          "NC",
          "ND",
          "ND",
          "NE",
          "NE",
          "NH",
          "NH",
          "NJ",
          "NJ",
          "NM",
          "NM",
          "NT",
          "NT",
          "NV",
          "NV",
          "NY",
          "NY",
          "OH",
          "OH",
          "OK",
          "OK",
          "OR",
          "OR",
          "PA",
          "PA",
          "RI",
          "RI",
          "SC",
          "SC",
          "SD",
          "SD",
          "TN",
          "TN",
          "TX",
          "TX",
          "UT",
          "UT",
          "VA",
          "VA",
          "VT",
          "VT",
          "WA",
          "WA",
          "WI",
          "WI",
          "WV",
          "WV",
          "WY",
          "WY"
         ],
         "marker": {
          "line": {
           "color": "white"
          }
         },
         "text": [
          "AK<br>Year: 2017 Math: 230.45176030000002<br>Reading: 203.0513017",
          "AK<br>Year: 2017 Math: 230.4611871<br>Reading: 211.34334269999997",
          "AL<br>Year: 2017 Math: 232.45857009999997<br>Reading: 212.8211091",
          "AL<br>Year: 2017 Math: 231.87848169999998<br>Reading: 220.0065999",
          "AR<br>Year: 2017 Math: 234.9807022<br>Reading: 211.74262000000002",
          "AR<br>Year: 2017 Math: 232.66498760000002<br>Reading: 220.6330097",
          "AZ<br>Year: 2017 Math: 235.6316557<br>Reading: 213.46267039999998",
          "AZ<br>Year: 2017 Math: 233.2150457<br>Reading: 217.52022689999998",
          "CA<br>Year: 2017 Math: 233.26568619999998<br>Reading: 210.7706082",
          "CA<br>Year: 2017 Math: 231.2155055<br>Reading: 220.2931384",
          "CO<br>Year: 2017 Math: 240.2821937<br>Reading: 221.61640559999998",
          "CO<br>Year: 2017 Math: 241.13729730000003<br>Reading: 228.02043140000004",
          "CT<br>Year: 2017 Math: 241.4876106<br>Reading: 225.69884989999997",
          "CT<br>Year: 2017 Math: 236.91665030000001<br>Reading: 231.06940530000003",
          "DC<br>Year: 2017 Math: 231.3590099<br>Reading: 209.7059168",
          "DC<br>Year: 2017 Math: 231.2817799<br>Reading: 217.0726847",
          "DE<br>Year: 2017 Math: 235.5916588<br>Reading: 217.02140950000003",
          "DE<br>Year: 2017 Math: 236.66877599999998<br>Reading: 226.0044074",
          "FL<br>Year: 2017 Math: 247.4765145<br>Reading: 226.0874762",
          "FL<br>Year: 2017 Math: 245.23157<br>Reading: 230.5293065",
          "GA<br>Year: 2017 Math: 236.6667509<br>Reading: 215.9960475",
          "GA<br>Year: 2017 Math: 236.0913659<br>Reading: 223.46619819999998",
          "HI<br>Year: 2017 Math: 238.0754512<br>Reading: 211.96439750000002",
          "HI<br>Year: 2017 Math: 237.750739<br>Reading: 221.1629899",
          "IA<br>Year: 2017 Math: 245.0853816<br>Reading: 218.88682480000003",
          "IA<br>Year: 2017 Math: 240.9940059<br>Reading: 224.76728390000002",
          "ID<br>Year: 2017 Math: 241.64338199999997<br>Reading: 220.3231426",
          "ID<br>Year: 2017 Math: 238.2289001<br>Reading: 225.3600964",
          "IL<br>Year: 2017 Math: 239.6449667<br>Reading: 217.19876859999997",
          "IL<br>Year: 2017 Math: 236.6028134<br>Reading: 223.51177090000002",
          "IN<br>Year: 2017 Math: 248.2432237<br>Reading: 224.2207755",
          "IN<br>Year: 2017 Math: 244.6945339<br>Reading: 228.74029500000003",
          "KS<br>Year: 2017 Math: 242.4832381<br>Reading: 220.723398",
          "KS<br>Year: 2017 Math: 239.8473267<br>Reading: 226.0057583",
          "KY<br>Year: 2017 Math: 240.7846346<br>Reading: 221.9300199",
          "KY<br>Year: 2017 Math: 237.52027719999998<br>Reading: 226.27731580000003",
          "LA<br>Year: 2017 Math: 228.60418190000001<br>Reading: 210.24742400000002",
          "LA<br>Year: 2017 Math: 229.35140840000003<br>Reading: 213.0166577",
          "MA<br>Year: 2017 Math: 251.55340180000002<br>Reading: 232.9402589",
          "MA<br>Year: 2017 Math: 246.59656850000002<br>Reading: 238.5091687",
          "MD<br>Year: 2017 Math: 242.0755965<br>Reading: 220.69551069999997",
          "MD<br>Year: 2017 Math: 239.06334640000003<br>Reading: 229.59108769999997",
          "ME<br>Year: 2017 Math: 240.23484130000003<br>Reading: 219.2110349",
          "ME<br>Year: 2017 Math: 239.5559952<br>Reading: 223.5981836",
          "MI<br>Year: 2017 Math: 236.8113307<br>Reading: 213.58580730000003",
          "MI<br>Year: 2017 Math: 234.2812085<br>Reading: 221.98642510000002",
          "MN<br>Year: 2017 Math: 250.3992494<br>Reading: 221.9607287",
          "MN<br>Year: 2017 Math: 247.18105690000002<br>Reading: 227.14780640000004",
          "MO<br>Year: 2017 Math: 241.2361641<br>Reading: 220.5014873",
          "MO<br>Year: 2017 Math: 237.6815798<br>Reading: 224.97627709999998",
          "MS<br>Year: 2017 Math: 235.4568755<br>Reading: 211.57824509999998",
          "MS<br>Year: 2017 Math: 233.90217119999997<br>Reading: 218.94522659999998",
          "MT<br>Year: 2017 Math: 241.34523969999998<br>Reading: 220.22639280000004",
          "MT<br>Year: 2017 Math: 240.04140550000002<br>Reading: 224.62601899999999",
          "NC<br>Year: 2017 Math: 241.85216719999997<br>Reading: 221.1697234",
          "NC<br>Year: 2017 Math: 240.00583250000003<br>Reading: 226.8317849",
          "ND<br>Year: 2017 Math: 245.6263482<br>Reading: 216.68196830000002",
          "ND<br>Year: 2017 Math: 242.74885609999998<br>Reading: 226.69569019999997",
          "NE<br>Year: 2017 Math: 247.2209733<br>Reading: 220.76644700000003",
          "NE<br>Year: 2017 Math: 243.84341969999997<br>Reading: 227.65359229999999",
          "NH<br>Year: 2017 Math: 247.0152097<br>Reading: 227.622395",
          "NH<br>Year: 2017 Math: 243.59176150000002<br>Reading: 230.2115385",
          "NJ<br>Year: 2017 Math: 248.27456969999997<br>Reading: 228.67674590000001",
          "NJ<br>Year: 2017 Math: 247.4159119<br>Reading: 237.3914716",
          "NM<br>Year: 2017 Math: 230.41794<br>Reading: 203.95849180000002",
          "NM<br>Year: 2017 Math: 228.9597938<br>Reading: 211.60481069999997",
          "NT<br>Year: 2017 Math: 240.81240899999997<br>Reading: 218.96578190000002",
          "NT<br>Year: 2017 Math: 238.59400019999998<br>Reading: 224.9204301",
          "NV<br>Year: 2017 Math: 232.0763332<br>Reading: 211.24649399999998",
          "NV<br>Year: 2017 Math: 231.282843<br>Reading: 218.53305350000002",
          "NY<br>Year: 2017 Math: 237.62465120000002<br>Reading: 219.0240122",
          "NY<br>Year: 2017 Math: 233.4225455<br>Reading: 224.7796747",
          "OH<br>Year: 2017 Math: 241.41514730000003<br>Reading: 223.49784759999997",
          "OH<br>Year: 2017 Math: 240.4299969<br>Reading: 227.09899950000002",
          "OK<br>Year: 2017 Math: 238.72844869999997<br>Reading: 212.8841397",
          "OK<br>Year: 2017 Math: 235.8625867<br>Reading: 220.40549109999998",
          "OR<br>Year: 2017 Math: 235.1656413<br>Reading: 212.40314680000003",
          "OR<br>Year: 2017 Math: 231.0436143<br>Reading: 222.78055460000002",
          "PA<br>Year: 2017 Math: 243.3370083<br>Reading: 224.1111222",
          "PA<br>Year: 2017 Math: 239.97992069999998<br>Reading: 225.75630730000003",
          "RI<br>Year: 2017 Math: 238.15398330000002<br>Reading: 220.60557659999998",
          "RI<br>Year: 2017 Math: 236.9472733<br>Reading: 226.15168549999999",
          "SC<br>Year: 2017 Math: 234.90540330000002<br>Reading: 209.56633200000002",
          "SC<br>Year: 2017 Math: 233.12889359999997<br>Reading: 216.90885469999998",
          "SD<br>Year: 2017 Math: 243.7656205<br>Reading: 219.1506216",
          "SD<br>Year: 2017 Math: 239.36951919999998<br>Reading: 224.399956",
          "TN<br>Year: 2017 Math: 236.9641708<br>Reading: 215.29826630000002",
          "TN<br>Year: 2017 Math: 236.4169963<br>Reading: 222.6835514",
          "TX<br>Year: 2017 Math: 241.0455667<br>Reading: 213.48003340000002",
          "TX<br>Year: 2017 Math: 240.8321055<br>Reading: 216.38500499999998",
          "UT<br>Year: 2017 Math: 244.4630631<br>Reading: 221.0767767",
          "UT<br>Year: 2017 Math: 240.31077480000002<br>Reading: 229.64693480000003",
          "VA<br>Year: 2017 Math: 250.47927909999999<br>Reading: 226.245481",
          "VA<br>Year: 2017 Math: 245.47200660000001<br>Reading: 229.02030040000002",
          "VT<br>Year: 2017 Math: 241.32307180000004<br>Reading: 223.34771800000001",
          "VT<br>Year: 2017 Math: 240.4434016<br>Reading: 229.64731380000003",
          "WA<br>Year: 2017 Math: 243.2587772<br>Reading: 220.2532377",
          "WA<br>Year: 2017 Math: 240.08729530000002<br>Reading: 226.1011123",
          "WI<br>Year: 2017 Math: 241.6846167<br>Reading: 216.7292028",
          "WI<br>Year: 2017 Math: 238.9828094<br>Reading: 222.7703131",
          "WV<br>Year: 2017 Math: 236.527612<br>Reading: 212.89900260000002",
          "WV<br>Year: 2017 Math: 235.5821776<br>Reading: 221.8400483",
          "WY<br>Year: 2017 Math: 249.43175580000002<br>Reading: 224.1985693",
          "WY<br>Year: 2017 Math: 246.06756549999997<br>Reading: 229.6916923",
          "AK<br>Year: 2009 Math: 238.4459925<br>Reading: 206.7242292",
          "AK<br>Year: 2009 Math: 235.9293425<br>Reading: 215.7112338",
          "AL<br>Year: 2009 Math: 227.7181926<br>Reading: 211.74193050000002",
          "AL<br>Year: 2009 Math: 228.2247489<br>Reading: 221.1006988",
          "AR<br>Year: 2009 Math: 238.82458259999999<br>Reading: 210.97585800000002",
          "AR<br>Year: 2009 Math: 236.1995327<br>Reading: 221.5645131",
          "AZ<br>Year: 2009 Math: 230.2839495<br>Reading: 206.9136801",
          "AZ<br>Year: 2009 Math: 229.68685919999996<br>Reading: 213.18922450000002",
          "CA<br>Year: 2009 Math: 232.6138321<br>Reading: 207.055218",
          "CA<br>Year: 2009 Math: 230.6765415<br>Reading: 212.63764550000002",
          "CO<br>Year: 2009 Math: 243.965015<br>Reading: 222.255777",
          "CO<br>Year: 2009 Math: 242.2698015<br>Reading: 229.2295877",
          "CT<br>Year: 2009 Math: 246.40018819999997<br>Reading: 224.53905319999996",
          "CT<br>Year: 2009 Math: 242.96108790000002<br>Reading: 233.50362579999998",
          "DC<br>Year: 2009 Math: 217.9480023<br>Reading: 198.09476619999998",
          "DC<br>Year: 2009 Math: 220.5677797<br>Reading: 205.74594040000002",
          "DE<br>Year: 2009 Math: 241.1687191<br>Reading: 222.87174190000002",
          "DE<br>Year: 2009 Math: 237.7510974<br>Reading: 228.1886232",
          "FL<br>Year: 2009 Math: 242.54442110000002<br>Reading: 222.52019610000002",
          "FL<br>Year: 2009 Math: 241.3373227<br>Reading: 228.8642131",
          "GA<br>Year: 2009 Math: 236.5085199<br>Reading: 214.28571380000002",
          "GA<br>Year: 2009 Math: 235.5460739<br>Reading: 221.3610349",
          "HI<br>Year: 2009 Math: 235.26691949999997<br>Reading: 205.13322390000002",
          "HI<br>Year: 2009 Math: 236.1308716<br>Reading: 216.66726060000002",
          "IA<br>Year: 2009 Math: 243.3199286<br>Reading: 216.96943230000002",
          "IA<br>Year: 2009 Math: 241.8441682<br>Reading: 225.965448",
          "ID<br>Year: 2009 Math: 241.9403591<br>Reading: 216.5292228",
          "ID<br>Year: 2009 Math: 240.13089580000002<br>Reading: 225.5082653",
          "IL<br>Year: 2009 Math: 239.6526887<br>Reading: 214.8423846",
          "IL<br>Year: 2009 Math: 236.9052525<br>Reading: 223.5129821",
          "IN<br>Year: 2009 Math: 242.98704339999998<br>Reading: 218.3968134",
          "IN<br>Year: 2009 Math: 242.2299855<br>Reading: 227.0696154",
          "KS<br>Year: 2009 Math: 246.16167400000003<br>Reading: 222.1581946",
          "KS<br>Year: 2009 Math: 244.3872114<br>Reading: 225.8242076",
          "KY<br>Year: 2009 Math: 240.03423560000002<br>Reading: 222.3486903",
          "KY<br>Year: 2009 Math: 237.56751949999997<br>Reading: 228.90135469999998",
          "LA<br>Year: 2009 Math: 230.1209562<br>Reading: 202.9714742",
          "LA<br>Year: 2009 Math: 228.68993909999998<br>Reading: 212.28630139999999",
          "MA<br>Year: 2009 Math: 253.4405668<br>Reading: 231.1401318",
          "MA<br>Year: 2009 Math: 251.08238980000002<br>Reading: 236.3237981",
          "MD<br>Year: 2009 Math: 244.24050970000002<br>Reading: 222.5177629",
          "MD<br>Year: 2009 Math: 243.34619300000003<br>Reading: 229.43872510000003",
          "ME<br>Year: 2009 Math: 246.5404608<br>Reading: 219.58023369999998",
          "ME<br>Year: 2009 Math: 242.2710866<br>Reading: 228.09681609999998",
          "MI<br>Year: 2009 Math: 237.5802861<br>Reading: 214.3957909",
          "MI<br>Year: 2009 Math: 234.95298160000002<br>Reading: 222.1448852",
          "MN<br>Year: 2009 Math: 251.2868955<br>Reading: 219.8187462",
          "MN<br>Year: 2009 Math: 247.556902<br>Reading: 226.9751804",
          "MO<br>Year: 2009 Math: 241.2338228<br>Reading: 218.9749832",
          "MO<br>Year: 2009 Math: 240.0938702<br>Reading: 229.0948613",
          "MS<br>Year: 2009 Math: 226.6838904<br>Reading: 207.6306934",
          "MS<br>Year: 2009 Math: 227.854993<br>Reading: 213.47530240000003",
          "MT<br>Year: 2009 Math: 247.0098734<br>Reading: 221.7826605",
          "MT<br>Year: 2009 Math: 241.6644649<br>Reading: 227.6048386",
          "NC<br>Year: 2009 Math: 243.9695966<br>Reading: 214.78778430000003",
          "NC<br>Year: 2009 Math: 243.5792701<br>Reading: 224.02092779999998",
          "ND<br>Year: 2009 Math: 246.80884590000002<br>Reading: 223.1073372",
          "ND<br>Year: 2009 Math: 243.5153071<br>Reading: 228.91858919999999",
          "NE<br>Year: 2009 Math: 238.75684159999997<br>Reading: 219.6725023",
          "NE<br>Year: 2009 Math: 238.7398143<br>Reading: 225.4668601",
          "NH<br>Year: 2009 Math: 252.1974258<br>Reading: 225.85400589999998",
          "NH<br>Year: 2009 Math: 249.8650685<br>Reading: 232.6529539",
          "NJ<br>Year: 2009 Math: 248.4270377<br>Reading: 227.1098772",
          "NJ<br>Year: 2009 Math: 244.5251381<br>Reading: 231.69815359999998",
          "NM<br>Year: 2009 Math: 230.6408759<br>Reading: 202.83436890000002",
          "NM<br>Year: 2009 Math: 229.3881713<br>Reading: 212.59483959999997",
          "NT<br>Year: 2009 Math: 240.61764920000002<br>Reading: 217.6064798",
          "NT<br>Year: 2009 Math: 238.69441969999997<br>Reading: 224.34676769999996",
          "NV<br>Year: 2009 Math: 236.10334029999999<br>Reading: 208.2577906",
          "NV<br>Year: 2009 Math: 234.2039974<br>Reading: 213.9765537",
          "NY<br>Year: 2009 Math: 241.8842705<br>Reading: 220.7946954",
          "NY<br>Year: 2009 Math: 239.3247083<br>Reading: 228.1099483",
          "OH<br>Year: 2009 Math: 245.4888563<br>Reading: 221.64348859999998",
          "OH<br>Year: 2009 Math: 241.87394480000003<br>Reading: 227.3593687",
          "OK<br>Year: 2009 Math: 237.93271040000002<br>Reading: 213.96507730000002",
          "OK<br>Year: 2009 Math: 235.6251517<br>Reading: 220.36061439999997",
          "OR<br>Year: 2009 Math: 239.9242304<br>Reading: 214.1195805",
          "OR<br>Year: 2009 Math: 235.97175570000002<br>Reading: 222.50049199999998",
          "PA<br>Year: 2009 Math: 244.738227<br>Reading: 221.3485904",
          "PA<br>Year: 2009 Math: 242.36482469999999<br>Reading: 226.13053870000002",
          "RI<br>Year: 2009 Math: 240.4065545<br>Reading: 217.8659933",
          "RI<br>Year: 2009 Math: 237.00482000000002<br>Reading: 227.78835460000002",
          "SC<br>Year: 2009 Math: 236.12872799999997<br>Reading: 213.40612760000002",
          "SC<br>Year: 2009 Math: 235.1828128<br>Reading: 218.5484679",
          "SD<br>Year: 2009 Math: 243.4159228<br>Reading: 219.5269395",
          "SD<br>Year: 2009 Math: 240.6416357<br>Reading: 224.9867318",
          "TN<br>Year: 2009 Math: 232.1633181<br>Reading: 213.85772519999998",
          "TN<br>Year: 2009 Math: 231.4680404<br>Reading: 219.65458309999997",
          "TX<br>Year: 2009 Math: 240.8848503<br>Reading: 215.67111269999998",
          "TX<br>Year: 2009 Math: 240.02622659999997<br>Reading: 222.17289669999997",
          "UT<br>Year: 2009 Math: 241.3084911<br>Reading: 216.9301106",
          "UT<br>Year: 2009 Math: 239.2707128<br>Reading: 221.549557",
          "VA<br>Year: 2009 Math: 244.65101659999996<br>Reading: 222.7808285",
          "VA<br>Year: 2009 Math: 241.4090858<br>Reading: 230.46729019999998",
          "VT<br>Year: 2009 Math: 248.878935<br>Reading: 226.1078339",
          "VT<br>Year: 2009 Math: 246.59942569999998<br>Reading: 231.4772687",
          "WA<br>Year: 2009 Math: 242.38630099999997<br>Reading: 217.0907011",
          "WA<br>Year: 2009 Math: 242.12162080000002<br>Reading: 225.733106",
          "WI<br>Year: 2009 Math: 244.67302310000002<br>Reading: 216.606254",
          "WI<br>Year: 2009 Math: 242.41006940000003<br>Reading: 223.8881088",
          "WV<br>Year: 2009 Math: 233.99410730000002<br>Reading: 210.86660419999998",
          "WV<br>Year: 2009 Math: 231.92953909999997<br>Reading: 218.3040847",
          "WY<br>Year: 2009 Math: 242.9470371<br>Reading: 219.1295972",
          "WY<br>Year: 2009 Math: 240.98958219999997<br>Reading: 226.4977208"
         ],
         "type": "choropleth",
         "z": [
          7.994232169,
          5.468155375,
          -4.7403774610000005,
          -3.653732845,
          3.8438803860000004,
          3.534545133,
          -5.347706172,
          -3.5281865239999997,
          -0.6518540429999999,
          -0.538964046,
          3.682821273,
          1.132504124,
          4.912577634,
          6.044437553,
          -13.41100755,
          -10.71400017,
          5.577060342999999,
          1.082321407,
          -4.932093335,
          -3.894247337,
          -0.158230994,
          -0.545291935,
          -2.8085316660000004,
          -1.61986734,
          -1.765453055,
          0.850162306,
          0.29697709,
          1.9019956869999999,
          0.00772193,
          0.302439132,
          -5.256180212,
          -2.46454845,
          3.678435871,
          4.539884693,
          -0.7503989609999999,
          0.04724221,
          1.5167743130000002,
          -0.661469259,
          1.8871649819999998,
          4.485821288,
          2.164913166,
          4.282846558999999,
          6.305619527,
          2.715091379,
          0.768955363,
          0.671773057,
          0.8876460840000001,
          0.375845026,
          -0.002341349,
          2.41229038,
          -8.77298506,
          -6.047178221,
          5.664633633999999,
          1.6230594809999999,
          2.11742937,
          3.573437619,
          1.1824977140000001,
          0.766450938,
          -8.464131684,
          -5.103605408,
          5.182216136,
          6.273307075,
          0.15246807099999998,
          -2.89077376,
          0.22293583399999997,
          0.428377526,
          -0.194759756,
          0.10041951,
          4.027007052,
          2.921154449,
          4.259619374,
          5.902162767999999,
          4.073708989,
          1.443947864,
          -0.7957383259999999,
          -0.237434957,
          4.7585890630000005,
          4.928141427,
          1.401218685,
          2.384904024,
          2.2525711580000003,
          0.057546712,
          1.223324692,
          2.0539191519999997,
          -0.349697708,
          1.2721164109999998,
          -4.800852742,
          -4.9489559210000005,
          -0.160716382,
          -0.805878877,
          -3.154572013,
          -1.040062072,
          -5.828262492,
          -4.062920797,
          7.555863293,
          6.156024062,
          -0.872476157,
          2.0343254230000003,
          2.9884064169999998,
          3.427260001,
          -2.533504717,
          -3.652638528,
          -6.484718689,
          -5.0779833089999995,
          -7.994232169,
          -5.468155375,
          4.7403774610000005,
          3.653732845,
          -3.8438803860000004,
          -3.534545133,
          5.347706172,
          3.5281865239999997,
          0.6518540429999999,
          0.538964046,
          -3.682821273,
          -1.132504124,
          -4.912577634,
          -6.044437553,
          13.41100755,
          10.71400017,
          -5.577060342999999,
          -1.082321407,
          4.932093335,
          3.894247337,
          0.158230994,
          0.545291935,
          2.8085316660000004,
          1.61986734,
          1.765453055,
          -0.850162306,
          -0.29697709,
          -1.9019956869999999,
          -0.00772193,
          -0.302439132,
          5.256180212,
          2.46454845,
          -3.678435871,
          -4.539884693,
          0.7503989609999999,
          -0.04724221,
          -1.5167743130000002,
          0.661469259,
          -1.8871649819999998,
          -4.485821288,
          -2.164913166,
          -4.282846558999999,
          -6.305619527,
          -2.715091379,
          -0.768955363,
          -0.671773057,
          -0.8876460840000001,
          -0.375845026,
          0.002341349,
          -2.41229038,
          8.77298506,
          6.047178221,
          -5.664633633999999,
          -1.6230594809999999,
          -2.11742937,
          -3.573437619,
          -1.1824977140000001,
          -0.766450938,
          8.464131684,
          5.103605408,
          -5.182216136,
          -6.273307075,
          -0.15246807099999998,
          2.89077376,
          -0.22293583399999997,
          -0.428377526,
          0.194759756,
          -0.10041951,
          -4.027007052,
          -2.921154449,
          -4.259619374,
          -5.902162767999999,
          -4.073708989,
          -1.443947864,
          0.7957383259999999,
          0.237434957,
          -4.7585890630000005,
          -4.928141427,
          -1.401218685,
          -2.384904024,
          -2.2525711580000003,
          -0.057546712,
          -1.223324692,
          -2.0539191519999997,
          0.349697708,
          -1.2721164109999998,
          4.800852742,
          4.9489559210000005,
          0.160716382,
          0.805878877,
          3.154572013,
          1.040062072,
          5.828262492,
          4.062920797,
          -7.555863293,
          -6.156024062,
          0.872476157,
          -2.0343254230000003,
          -2.9884064169999998,
          -3.427260001,
          2.533504717,
          3.652638528,
          6.484718689,
          5.0779833089999995
         ]
        },
        {
         "autocolorscale": false,
         "colorbar": {
          "title": {
           "text": "Average Math Difference"
          }
         },
         "colorscale": [
          [
           0,
           "rgb(247,251,255)"
          ],
          [
           0.125,
           "rgb(222,235,247)"
          ],
          [
           0.25,
           "rgb(198,219,239)"
          ],
          [
           0.375,
           "rgb(158,202,225)"
          ],
          [
           0.5,
           "rgb(107,174,214)"
          ],
          [
           0.625,
           "rgb(66,146,198)"
          ],
          [
           0.75,
           "rgb(33,113,181)"
          ],
          [
           0.875,
           "rgb(8,81,156)"
          ],
          [
           1,
           "rgb(8,48,107)"
          ]
         ],
         "locationmode": "USA-states",
         "locations": [
          "AK",
          "AK",
          "AL",
          "AL",
          "AR",
          "AR",
          "AZ",
          "AZ",
          "CA",
          "CA",
          "CO",
          "CO",
          "CT",
          "CT",
          "DC",
          "DC",
          "DE",
          "DE",
          "FL",
          "FL",
          "GA",
          "GA",
          "HI",
          "HI",
          "IA",
          "IA",
          "ID",
          "ID",
          "IL",
          "IL",
          "IN",
          "IN",
          "KS",
          "KS",
          "KY",
          "KY",
          "LA",
          "LA",
          "MA",
          "MA",
          "MD",
          "MD",
          "ME",
          "ME",
          "MI",
          "MI",
          "MN",
          "MN",
          "MO",
          "MO",
          "MS",
          "MS",
          "MT",
          "MT",
          "NC",
          "NC",
          "ND",
          "ND",
          "NE",
          "NE",
          "NH",
          "NH",
          "NJ",
          "NJ",
          "NM",
          "NM",
          "NT",
          "NT",
          "NV",
          "NV",
          "NY",
          "NY",
          "OH",
          "OH",
          "OK",
          "OK",
          "OR",
          "OR",
          "PA",
          "PA",
          "RI",
          "RI",
          "SC",
          "SC",
          "SD",
          "SD",
          "TN",
          "TN",
          "TX",
          "TX",
          "UT",
          "UT",
          "VA",
          "VA",
          "VT",
          "VT",
          "WA",
          "WA",
          "WI",
          "WI",
          "WV",
          "WV",
          "WY",
          "WY",
          "AK",
          "AK",
          "AL",
          "AL",
          "AR",
          "AR",
          "AZ",
          "AZ",
          "CA",
          "CA",
          "CO",
          "CO",
          "CT",
          "CT",
          "DC",
          "DC",
          "DE",
          "DE",
          "FL",
          "FL",
          "GA",
          "GA",
          "HI",
          "HI",
          "IA",
          "IA",
          "ID",
          "ID",
          "IL",
          "IL",
          "IN",
          "IN",
          "KS",
          "KS",
          "KY",
          "KY",
          "LA",
          "LA",
          "MA",
          "MA",
          "MD",
          "MD",
          "ME",
          "ME",
          "MI",
          "MI",
          "MN",
          "MN",
          "MO",
          "MO",
          "MS",
          "MS",
          "MT",
          "MT",
          "NC",
          "NC",
          "ND",
          "ND",
          "NE",
          "NE",
          "NH",
          "NH",
          "NJ",
          "NJ",
          "NM",
          "NM",
          "NT",
          "NT",
          "NV",
          "NV",
          "NY",
          "NY",
          "OH",
          "OH",
          "OK",
          "OK",
          "OR",
          "OR",
          "PA",
          "PA",
          "RI",
          "RI",
          "SC",
          "SC",
          "SD",
          "SD",
          "TN",
          "TN",
          "TX",
          "TX",
          "UT",
          "UT",
          "VA",
          "VA",
          "VT",
          "VT",
          "WA",
          "WA",
          "WI",
          "WI",
          "WV",
          "WV",
          "WY",
          "WY"
         ],
         "marker": {
          "line": {
           "color": "white"
          }
         },
         "text": [
          "AK<br>Year: 2017 Math: 230.45176030000002<br>Reading: 203.0513017",
          "AK<br>Year: 2017 Math: 230.4611871<br>Reading: 211.34334269999997",
          "AL<br>Year: 2017 Math: 232.45857009999997<br>Reading: 212.8211091",
          "AL<br>Year: 2017 Math: 231.87848169999998<br>Reading: 220.0065999",
          "AR<br>Year: 2017 Math: 234.9807022<br>Reading: 211.74262000000002",
          "AR<br>Year: 2017 Math: 232.66498760000002<br>Reading: 220.6330097",
          "AZ<br>Year: 2017 Math: 235.6316557<br>Reading: 213.46267039999998",
          "AZ<br>Year: 2017 Math: 233.2150457<br>Reading: 217.52022689999998",
          "CA<br>Year: 2017 Math: 233.26568619999998<br>Reading: 210.7706082",
          "CA<br>Year: 2017 Math: 231.2155055<br>Reading: 220.2931384",
          "CO<br>Year: 2017 Math: 240.2821937<br>Reading: 221.61640559999998",
          "CO<br>Year: 2017 Math: 241.13729730000003<br>Reading: 228.02043140000004",
          "CT<br>Year: 2017 Math: 241.4876106<br>Reading: 225.69884989999997",
          "CT<br>Year: 2017 Math: 236.91665030000001<br>Reading: 231.06940530000003",
          "DC<br>Year: 2017 Math: 231.3590099<br>Reading: 209.7059168",
          "DC<br>Year: 2017 Math: 231.2817799<br>Reading: 217.0726847",
          "DE<br>Year: 2017 Math: 235.5916588<br>Reading: 217.02140950000003",
          "DE<br>Year: 2017 Math: 236.66877599999998<br>Reading: 226.0044074",
          "FL<br>Year: 2017 Math: 247.4765145<br>Reading: 226.0874762",
          "FL<br>Year: 2017 Math: 245.23157<br>Reading: 230.5293065",
          "GA<br>Year: 2017 Math: 236.6667509<br>Reading: 215.9960475",
          "GA<br>Year: 2017 Math: 236.0913659<br>Reading: 223.46619819999998",
          "HI<br>Year: 2017 Math: 238.0754512<br>Reading: 211.96439750000002",
          "HI<br>Year: 2017 Math: 237.750739<br>Reading: 221.1629899",
          "IA<br>Year: 2017 Math: 245.0853816<br>Reading: 218.88682480000003",
          "IA<br>Year: 2017 Math: 240.9940059<br>Reading: 224.76728390000002",
          "ID<br>Year: 2017 Math: 241.64338199999997<br>Reading: 220.3231426",
          "ID<br>Year: 2017 Math: 238.2289001<br>Reading: 225.3600964",
          "IL<br>Year: 2017 Math: 239.6449667<br>Reading: 217.19876859999997",
          "IL<br>Year: 2017 Math: 236.6028134<br>Reading: 223.51177090000002",
          "IN<br>Year: 2017 Math: 248.2432237<br>Reading: 224.2207755",
          "IN<br>Year: 2017 Math: 244.6945339<br>Reading: 228.74029500000003",
          "KS<br>Year: 2017 Math: 242.4832381<br>Reading: 220.723398",
          "KS<br>Year: 2017 Math: 239.8473267<br>Reading: 226.0057583",
          "KY<br>Year: 2017 Math: 240.7846346<br>Reading: 221.9300199",
          "KY<br>Year: 2017 Math: 237.52027719999998<br>Reading: 226.27731580000003",
          "LA<br>Year: 2017 Math: 228.60418190000001<br>Reading: 210.24742400000002",
          "LA<br>Year: 2017 Math: 229.35140840000003<br>Reading: 213.0166577",
          "MA<br>Year: 2017 Math: 251.55340180000002<br>Reading: 232.9402589",
          "MA<br>Year: 2017 Math: 246.59656850000002<br>Reading: 238.5091687",
          "MD<br>Year: 2017 Math: 242.0755965<br>Reading: 220.69551069999997",
          "MD<br>Year: 2017 Math: 239.06334640000003<br>Reading: 229.59108769999997",
          "ME<br>Year: 2017 Math: 240.23484130000003<br>Reading: 219.2110349",
          "ME<br>Year: 2017 Math: 239.5559952<br>Reading: 223.5981836",
          "MI<br>Year: 2017 Math: 236.8113307<br>Reading: 213.58580730000003",
          "MI<br>Year: 2017 Math: 234.2812085<br>Reading: 221.98642510000002",
          "MN<br>Year: 2017 Math: 250.3992494<br>Reading: 221.9607287",
          "MN<br>Year: 2017 Math: 247.18105690000002<br>Reading: 227.14780640000004",
          "MO<br>Year: 2017 Math: 241.2361641<br>Reading: 220.5014873",
          "MO<br>Year: 2017 Math: 237.6815798<br>Reading: 224.97627709999998",
          "MS<br>Year: 2017 Math: 235.4568755<br>Reading: 211.57824509999998",
          "MS<br>Year: 2017 Math: 233.90217119999997<br>Reading: 218.94522659999998",
          "MT<br>Year: 2017 Math: 241.34523969999998<br>Reading: 220.22639280000004",
          "MT<br>Year: 2017 Math: 240.04140550000002<br>Reading: 224.62601899999999",
          "NC<br>Year: 2017 Math: 241.85216719999997<br>Reading: 221.1697234",
          "NC<br>Year: 2017 Math: 240.00583250000003<br>Reading: 226.8317849",
          "ND<br>Year: 2017 Math: 245.6263482<br>Reading: 216.68196830000002",
          "ND<br>Year: 2017 Math: 242.74885609999998<br>Reading: 226.69569019999997",
          "NE<br>Year: 2017 Math: 247.2209733<br>Reading: 220.76644700000003",
          "NE<br>Year: 2017 Math: 243.84341969999997<br>Reading: 227.65359229999999",
          "NH<br>Year: 2017 Math: 247.0152097<br>Reading: 227.622395",
          "NH<br>Year: 2017 Math: 243.59176150000002<br>Reading: 230.2115385",
          "NJ<br>Year: 2017 Math: 248.27456969999997<br>Reading: 228.67674590000001",
          "NJ<br>Year: 2017 Math: 247.4159119<br>Reading: 237.3914716",
          "NM<br>Year: 2017 Math: 230.41794<br>Reading: 203.95849180000002",
          "NM<br>Year: 2017 Math: 228.9597938<br>Reading: 211.60481069999997",
          "NT<br>Year: 2017 Math: 240.81240899999997<br>Reading: 218.96578190000002",
          "NT<br>Year: 2017 Math: 238.59400019999998<br>Reading: 224.9204301",
          "NV<br>Year: 2017 Math: 232.0763332<br>Reading: 211.24649399999998",
          "NV<br>Year: 2017 Math: 231.282843<br>Reading: 218.53305350000002",
          "NY<br>Year: 2017 Math: 237.62465120000002<br>Reading: 219.0240122",
          "NY<br>Year: 2017 Math: 233.4225455<br>Reading: 224.7796747",
          "OH<br>Year: 2017 Math: 241.41514730000003<br>Reading: 223.49784759999997",
          "OH<br>Year: 2017 Math: 240.4299969<br>Reading: 227.09899950000002",
          "OK<br>Year: 2017 Math: 238.72844869999997<br>Reading: 212.8841397",
          "OK<br>Year: 2017 Math: 235.8625867<br>Reading: 220.40549109999998",
          "OR<br>Year: 2017 Math: 235.1656413<br>Reading: 212.40314680000003",
          "OR<br>Year: 2017 Math: 231.0436143<br>Reading: 222.78055460000002",
          "PA<br>Year: 2017 Math: 243.3370083<br>Reading: 224.1111222",
          "PA<br>Year: 2017 Math: 239.97992069999998<br>Reading: 225.75630730000003",
          "RI<br>Year: 2017 Math: 238.15398330000002<br>Reading: 220.60557659999998",
          "RI<br>Year: 2017 Math: 236.9472733<br>Reading: 226.15168549999999",
          "SC<br>Year: 2017 Math: 234.90540330000002<br>Reading: 209.56633200000002",
          "SC<br>Year: 2017 Math: 233.12889359999997<br>Reading: 216.90885469999998",
          "SD<br>Year: 2017 Math: 243.7656205<br>Reading: 219.1506216",
          "SD<br>Year: 2017 Math: 239.36951919999998<br>Reading: 224.399956",
          "TN<br>Year: 2017 Math: 236.9641708<br>Reading: 215.29826630000002",
          "TN<br>Year: 2017 Math: 236.4169963<br>Reading: 222.6835514",
          "TX<br>Year: 2017 Math: 241.0455667<br>Reading: 213.48003340000002",
          "TX<br>Year: 2017 Math: 240.8321055<br>Reading: 216.38500499999998",
          "UT<br>Year: 2017 Math: 244.4630631<br>Reading: 221.0767767",
          "UT<br>Year: 2017 Math: 240.31077480000002<br>Reading: 229.64693480000003",
          "VA<br>Year: 2017 Math: 250.47927909999999<br>Reading: 226.245481",
          "VA<br>Year: 2017 Math: 245.47200660000001<br>Reading: 229.02030040000002",
          "VT<br>Year: 2017 Math: 241.32307180000004<br>Reading: 223.34771800000001",
          "VT<br>Year: 2017 Math: 240.4434016<br>Reading: 229.64731380000003",
          "WA<br>Year: 2017 Math: 243.2587772<br>Reading: 220.2532377",
          "WA<br>Year: 2017 Math: 240.08729530000002<br>Reading: 226.1011123",
          "WI<br>Year: 2017 Math: 241.6846167<br>Reading: 216.7292028",
          "WI<br>Year: 2017 Math: 238.9828094<br>Reading: 222.7703131",
          "WV<br>Year: 2017 Math: 236.527612<br>Reading: 212.89900260000002",
          "WV<br>Year: 2017 Math: 235.5821776<br>Reading: 221.8400483",
          "WY<br>Year: 2017 Math: 249.43175580000002<br>Reading: 224.1985693",
          "WY<br>Year: 2017 Math: 246.06756549999997<br>Reading: 229.6916923",
          "AK<br>Year: 2009 Math: 238.4459925<br>Reading: 206.7242292",
          "AK<br>Year: 2009 Math: 235.9293425<br>Reading: 215.7112338",
          "AL<br>Year: 2009 Math: 227.7181926<br>Reading: 211.74193050000002",
          "AL<br>Year: 2009 Math: 228.2247489<br>Reading: 221.1006988",
          "AR<br>Year: 2009 Math: 238.82458259999999<br>Reading: 210.97585800000002",
          "AR<br>Year: 2009 Math: 236.1995327<br>Reading: 221.5645131",
          "AZ<br>Year: 2009 Math: 230.2839495<br>Reading: 206.9136801",
          "AZ<br>Year: 2009 Math: 229.68685919999996<br>Reading: 213.18922450000002",
          "CA<br>Year: 2009 Math: 232.6138321<br>Reading: 207.055218",
          "CA<br>Year: 2009 Math: 230.6765415<br>Reading: 212.63764550000002",
          "CO<br>Year: 2009 Math: 243.965015<br>Reading: 222.255777",
          "CO<br>Year: 2009 Math: 242.2698015<br>Reading: 229.2295877",
          "CT<br>Year: 2009 Math: 246.40018819999997<br>Reading: 224.53905319999996",
          "CT<br>Year: 2009 Math: 242.96108790000002<br>Reading: 233.50362579999998",
          "DC<br>Year: 2009 Math: 217.9480023<br>Reading: 198.09476619999998",
          "DC<br>Year: 2009 Math: 220.5677797<br>Reading: 205.74594040000002",
          "DE<br>Year: 2009 Math: 241.1687191<br>Reading: 222.87174190000002",
          "DE<br>Year: 2009 Math: 237.7510974<br>Reading: 228.1886232",
          "FL<br>Year: 2009 Math: 242.54442110000002<br>Reading: 222.52019610000002",
          "FL<br>Year: 2009 Math: 241.3373227<br>Reading: 228.8642131",
          "GA<br>Year: 2009 Math: 236.5085199<br>Reading: 214.28571380000002",
          "GA<br>Year: 2009 Math: 235.5460739<br>Reading: 221.3610349",
          "HI<br>Year: 2009 Math: 235.26691949999997<br>Reading: 205.13322390000002",
          "HI<br>Year: 2009 Math: 236.1308716<br>Reading: 216.66726060000002",
          "IA<br>Year: 2009 Math: 243.3199286<br>Reading: 216.96943230000002",
          "IA<br>Year: 2009 Math: 241.8441682<br>Reading: 225.965448",
          "ID<br>Year: 2009 Math: 241.9403591<br>Reading: 216.5292228",
          "ID<br>Year: 2009 Math: 240.13089580000002<br>Reading: 225.5082653",
          "IL<br>Year: 2009 Math: 239.6526887<br>Reading: 214.8423846",
          "IL<br>Year: 2009 Math: 236.9052525<br>Reading: 223.5129821",
          "IN<br>Year: 2009 Math: 242.98704339999998<br>Reading: 218.3968134",
          "IN<br>Year: 2009 Math: 242.2299855<br>Reading: 227.0696154",
          "KS<br>Year: 2009 Math: 246.16167400000003<br>Reading: 222.1581946",
          "KS<br>Year: 2009 Math: 244.3872114<br>Reading: 225.8242076",
          "KY<br>Year: 2009 Math: 240.03423560000002<br>Reading: 222.3486903",
          "KY<br>Year: 2009 Math: 237.56751949999997<br>Reading: 228.90135469999998",
          "LA<br>Year: 2009 Math: 230.1209562<br>Reading: 202.9714742",
          "LA<br>Year: 2009 Math: 228.68993909999998<br>Reading: 212.28630139999999",
          "MA<br>Year: 2009 Math: 253.4405668<br>Reading: 231.1401318",
          "MA<br>Year: 2009 Math: 251.08238980000002<br>Reading: 236.3237981",
          "MD<br>Year: 2009 Math: 244.24050970000002<br>Reading: 222.5177629",
          "MD<br>Year: 2009 Math: 243.34619300000003<br>Reading: 229.43872510000003",
          "ME<br>Year: 2009 Math: 246.5404608<br>Reading: 219.58023369999998",
          "ME<br>Year: 2009 Math: 242.2710866<br>Reading: 228.09681609999998",
          "MI<br>Year: 2009 Math: 237.5802861<br>Reading: 214.3957909",
          "MI<br>Year: 2009 Math: 234.95298160000002<br>Reading: 222.1448852",
          "MN<br>Year: 2009 Math: 251.2868955<br>Reading: 219.8187462",
          "MN<br>Year: 2009 Math: 247.556902<br>Reading: 226.9751804",
          "MO<br>Year: 2009 Math: 241.2338228<br>Reading: 218.9749832",
          "MO<br>Year: 2009 Math: 240.0938702<br>Reading: 229.0948613",
          "MS<br>Year: 2009 Math: 226.6838904<br>Reading: 207.6306934",
          "MS<br>Year: 2009 Math: 227.854993<br>Reading: 213.47530240000003",
          "MT<br>Year: 2009 Math: 247.0098734<br>Reading: 221.7826605",
          "MT<br>Year: 2009 Math: 241.6644649<br>Reading: 227.6048386",
          "NC<br>Year: 2009 Math: 243.9695966<br>Reading: 214.78778430000003",
          "NC<br>Year: 2009 Math: 243.5792701<br>Reading: 224.02092779999998",
          "ND<br>Year: 2009 Math: 246.80884590000002<br>Reading: 223.1073372",
          "ND<br>Year: 2009 Math: 243.5153071<br>Reading: 228.91858919999999",
          "NE<br>Year: 2009 Math: 238.75684159999997<br>Reading: 219.6725023",
          "NE<br>Year: 2009 Math: 238.7398143<br>Reading: 225.4668601",
          "NH<br>Year: 2009 Math: 252.1974258<br>Reading: 225.85400589999998",
          "NH<br>Year: 2009 Math: 249.8650685<br>Reading: 232.6529539",
          "NJ<br>Year: 2009 Math: 248.4270377<br>Reading: 227.1098772",
          "NJ<br>Year: 2009 Math: 244.5251381<br>Reading: 231.69815359999998",
          "NM<br>Year: 2009 Math: 230.6408759<br>Reading: 202.83436890000002",
          "NM<br>Year: 2009 Math: 229.3881713<br>Reading: 212.59483959999997",
          "NT<br>Year: 2009 Math: 240.61764920000002<br>Reading: 217.6064798",
          "NT<br>Year: 2009 Math: 238.69441969999997<br>Reading: 224.34676769999996",
          "NV<br>Year: 2009 Math: 236.10334029999999<br>Reading: 208.2577906",
          "NV<br>Year: 2009 Math: 234.2039974<br>Reading: 213.9765537",
          "NY<br>Year: 2009 Math: 241.8842705<br>Reading: 220.7946954",
          "NY<br>Year: 2009 Math: 239.3247083<br>Reading: 228.1099483",
          "OH<br>Year: 2009 Math: 245.4888563<br>Reading: 221.64348859999998",
          "OH<br>Year: 2009 Math: 241.87394480000003<br>Reading: 227.3593687",
          "OK<br>Year: 2009 Math: 237.93271040000002<br>Reading: 213.96507730000002",
          "OK<br>Year: 2009 Math: 235.6251517<br>Reading: 220.36061439999997",
          "OR<br>Year: 2009 Math: 239.9242304<br>Reading: 214.1195805",
          "OR<br>Year: 2009 Math: 235.97175570000002<br>Reading: 222.50049199999998",
          "PA<br>Year: 2009 Math: 244.738227<br>Reading: 221.3485904",
          "PA<br>Year: 2009 Math: 242.36482469999999<br>Reading: 226.13053870000002",
          "RI<br>Year: 2009 Math: 240.4065545<br>Reading: 217.8659933",
          "RI<br>Year: 2009 Math: 237.00482000000002<br>Reading: 227.78835460000002",
          "SC<br>Year: 2009 Math: 236.12872799999997<br>Reading: 213.40612760000002",
          "SC<br>Year: 2009 Math: 235.1828128<br>Reading: 218.5484679",
          "SD<br>Year: 2009 Math: 243.4159228<br>Reading: 219.5269395",
          "SD<br>Year: 2009 Math: 240.6416357<br>Reading: 224.9867318",
          "TN<br>Year: 2009 Math: 232.1633181<br>Reading: 213.85772519999998",
          "TN<br>Year: 2009 Math: 231.4680404<br>Reading: 219.65458309999997",
          "TX<br>Year: 2009 Math: 240.8848503<br>Reading: 215.67111269999998",
          "TX<br>Year: 2009 Math: 240.02622659999997<br>Reading: 222.17289669999997",
          "UT<br>Year: 2009 Math: 241.3084911<br>Reading: 216.9301106",
          "UT<br>Year: 2009 Math: 239.2707128<br>Reading: 221.549557",
          "VA<br>Year: 2009 Math: 244.65101659999996<br>Reading: 222.7808285",
          "VA<br>Year: 2009 Math: 241.4090858<br>Reading: 230.46729019999998",
          "VT<br>Year: 2009 Math: 248.878935<br>Reading: 226.1078339",
          "VT<br>Year: 2009 Math: 246.59942569999998<br>Reading: 231.4772687",
          "WA<br>Year: 2009 Math: 242.38630099999997<br>Reading: 217.0907011",
          "WA<br>Year: 2009 Math: 242.12162080000002<br>Reading: 225.733106",
          "WI<br>Year: 2009 Math: 244.67302310000002<br>Reading: 216.606254",
          "WI<br>Year: 2009 Math: 242.41006940000003<br>Reading: 223.8881088",
          "WV<br>Year: 2009 Math: 233.99410730000002<br>Reading: 210.86660419999998",
          "WV<br>Year: 2009 Math: 231.92953909999997<br>Reading: 218.3040847",
          "WY<br>Year: 2009 Math: 242.9470371<br>Reading: 219.1295972",
          "WY<br>Year: 2009 Math: 240.98958219999997<br>Reading: 226.4977208"
         ],
         "type": "choropleth",
         "z": [
          7.994232169,
          5.468155375,
          -4.7403774610000005,
          -3.653732845,
          3.8438803860000004,
          3.534545133,
          -5.347706172,
          -3.5281865239999997,
          -0.6518540429999999,
          -0.538964046,
          3.682821273,
          1.132504124,
          4.912577634,
          6.044437553,
          -13.41100755,
          -10.71400017,
          5.577060342999999,
          1.082321407,
          -4.932093335,
          -3.894247337,
          -0.158230994,
          -0.545291935,
          -2.8085316660000004,
          -1.61986734,
          -1.765453055,
          0.850162306,
          0.29697709,
          1.9019956869999999,
          0.00772193,
          0.302439132,
          -5.256180212,
          -2.46454845,
          3.678435871,
          4.539884693,
          -0.7503989609999999,
          0.04724221,
          1.5167743130000002,
          -0.661469259,
          1.8871649819999998,
          4.485821288,
          2.164913166,
          4.282846558999999,
          6.305619527,
          2.715091379,
          0.768955363,
          0.671773057,
          0.8876460840000001,
          0.375845026,
          -0.002341349,
          2.41229038,
          -8.77298506,
          -6.047178221,
          5.664633633999999,
          1.6230594809999999,
          2.11742937,
          3.573437619,
          1.1824977140000001,
          0.766450938,
          -8.464131684,
          -5.103605408,
          5.182216136,
          6.273307075,
          0.15246807099999998,
          -2.89077376,
          0.22293583399999997,
          0.428377526,
          -0.194759756,
          0.10041951,
          4.027007052,
          2.921154449,
          4.259619374,
          5.902162767999999,
          4.073708989,
          1.443947864,
          -0.7957383259999999,
          -0.237434957,
          4.7585890630000005,
          4.928141427,
          1.401218685,
          2.384904024,
          2.2525711580000003,
          0.057546712,
          1.223324692,
          2.0539191519999997,
          -0.349697708,
          1.2721164109999998,
          -4.800852742,
          -4.9489559210000005,
          -0.160716382,
          -0.805878877,
          -3.154572013,
          -1.040062072,
          -5.828262492,
          -4.062920797,
          7.555863293,
          6.156024062,
          -0.872476157,
          2.0343254230000003,
          2.9884064169999998,
          3.427260001,
          -2.533504717,
          -3.652638528,
          -6.484718689,
          -5.0779833089999995,
          -7.994232169,
          -5.468155375,
          4.7403774610000005,
          3.653732845,
          -3.8438803860000004,
          -3.534545133,
          5.347706172,
          3.5281865239999997,
          0.6518540429999999,
          0.538964046,
          -3.682821273,
          -1.132504124,
          -4.912577634,
          -6.044437553,
          13.41100755,
          10.71400017,
          -5.577060342999999,
          -1.082321407,
          4.932093335,
          3.894247337,
          0.158230994,
          0.545291935,
          2.8085316660000004,
          1.61986734,
          1.765453055,
          -0.850162306,
          -0.29697709,
          -1.9019956869999999,
          -0.00772193,
          -0.302439132,
          5.256180212,
          2.46454845,
          -3.678435871,
          -4.539884693,
          0.7503989609999999,
          -0.04724221,
          -1.5167743130000002,
          0.661469259,
          -1.8871649819999998,
          -4.485821288,
          -2.164913166,
          -4.282846558999999,
          -6.305619527,
          -2.715091379,
          -0.768955363,
          -0.671773057,
          -0.8876460840000001,
          -0.375845026,
          0.002341349,
          -2.41229038,
          8.77298506,
          6.047178221,
          -5.664633633999999,
          -1.6230594809999999,
          -2.11742937,
          -3.573437619,
          -1.1824977140000001,
          -0.766450938,
          8.464131684,
          5.103605408,
          -5.182216136,
          -6.273307075,
          -0.15246807099999998,
          2.89077376,
          -0.22293583399999997,
          -0.428377526,
          0.194759756,
          -0.10041951,
          -4.027007052,
          -2.921154449,
          -4.259619374,
          -5.902162767999999,
          -4.073708989,
          -1.443947864,
          0.7957383259999999,
          0.237434957,
          -4.7585890630000005,
          -4.928141427,
          -1.401218685,
          -2.384904024,
          -2.2525711580000003,
          -0.057546712,
          -1.223324692,
          -2.0539191519999997,
          0.349697708,
          -1.2721164109999998,
          4.800852742,
          4.9489559210000005,
          0.160716382,
          0.805878877,
          3.154572013,
          1.040062072,
          5.828262492,
          4.062920797,
          -7.555863293,
          -6.156024062,
          0.872476157,
          -2.0343254230000003,
          -2.9884064169999998,
          -3.427260001,
          2.533504717,
          3.652638528,
          6.484718689,
          5.0779833089999995
         ]
        }
       ],
       "layout": {
        "template": {
         "data": {
          "bar": [
           {
            "error_x": {
             "color": "#2a3f5f"
            },
            "error_y": {
             "color": "#2a3f5f"
            },
            "marker": {
             "line": {
              "color": "#E5ECF6",
              "width": 0.5
             }
            },
            "type": "bar"
           }
          ],
          "barpolar": [
           {
            "marker": {
             "line": {
              "color": "#E5ECF6",
              "width": 0.5
             }
            },
            "type": "barpolar"
           }
          ],
          "carpet": [
           {
            "aaxis": {
             "endlinecolor": "#2a3f5f",
             "gridcolor": "white",
             "linecolor": "white",
             "minorgridcolor": "white",
             "startlinecolor": "#2a3f5f"
            },
            "baxis": {
             "endlinecolor": "#2a3f5f",
             "gridcolor": "white",
             "linecolor": "white",
             "minorgridcolor": "white",
             "startlinecolor": "#2a3f5f"
            },
            "type": "carpet"
           }
          ],
          "choropleth": [
           {
            "colorbar": {
             "outlinewidth": 0,
             "ticks": ""
            },
            "type": "choropleth"
           }
          ],
          "contour": [
           {
            "colorbar": {
             "outlinewidth": 0,
             "ticks": ""
            },
            "colorscale": [
             [
              0,
              "#0d0887"
             ],
             [
              0.1111111111111111,
              "#46039f"
             ],
             [
              0.2222222222222222,
              "#7201a8"
             ],
             [
              0.3333333333333333,
              "#9c179e"
             ],
             [
              0.4444444444444444,
              "#bd3786"
             ],
             [
              0.5555555555555556,
              "#d8576b"
             ],
             [
              0.6666666666666666,
              "#ed7953"
             ],
             [
              0.7777777777777778,
              "#fb9f3a"
             ],
             [
              0.8888888888888888,
              "#fdca26"
             ],
             [
              1,
              "#f0f921"
             ]
            ],
            "type": "contour"
           }
          ],
          "contourcarpet": [
           {
            "colorbar": {
             "outlinewidth": 0,
             "ticks": ""
            },
            "type": "contourcarpet"
           }
          ],
          "heatmap": [
           {
            "colorbar": {
             "outlinewidth": 0,
             "ticks": ""
            },
            "colorscale": [
             [
              0,
              "#0d0887"
             ],
             [
              0.1111111111111111,
              "#46039f"
             ],
             [
              0.2222222222222222,
              "#7201a8"
             ],
             [
              0.3333333333333333,
              "#9c179e"
             ],
             [
              0.4444444444444444,
              "#bd3786"
             ],
             [
              0.5555555555555556,
              "#d8576b"
             ],
             [
              0.6666666666666666,
              "#ed7953"
             ],
             [
              0.7777777777777778,
              "#fb9f3a"
             ],
             [
              0.8888888888888888,
              "#fdca26"
             ],
             [
              1,
              "#f0f921"
             ]
            ],
            "type": "heatmap"
           }
          ],
          "heatmapgl": [
           {
            "colorbar": {
             "outlinewidth": 0,
             "ticks": ""
            },
            "colorscale": [
             [
              0,
              "#0d0887"
             ],
             [
              0.1111111111111111,
              "#46039f"
             ],
             [
              0.2222222222222222,
              "#7201a8"
             ],
             [
              0.3333333333333333,
              "#9c179e"
             ],
             [
              0.4444444444444444,
              "#bd3786"
             ],
             [
              0.5555555555555556,
              "#d8576b"
             ],
             [
              0.6666666666666666,
              "#ed7953"
             ],
             [
              0.7777777777777778,
              "#fb9f3a"
             ],
             [
              0.8888888888888888,
              "#fdca26"
             ],
             [
              1,
              "#f0f921"
             ]
            ],
            "type": "heatmapgl"
           }
          ],
          "histogram": [
           {
            "marker": {
             "colorbar": {
              "outlinewidth": 0,
              "ticks": ""
             }
            },
            "type": "histogram"
           }
          ],
          "histogram2d": [
           {
            "colorbar": {
             "outlinewidth": 0,
             "ticks": ""
            },
            "colorscale": [
             [
              0,
              "#0d0887"
             ],
             [
              0.1111111111111111,
              "#46039f"
             ],
             [
              0.2222222222222222,
              "#7201a8"
             ],
             [
              0.3333333333333333,
              "#9c179e"
             ],
             [
              0.4444444444444444,
              "#bd3786"
             ],
             [
              0.5555555555555556,
              "#d8576b"
             ],
             [
              0.6666666666666666,
              "#ed7953"
             ],
             [
              0.7777777777777778,
              "#fb9f3a"
             ],
             [
              0.8888888888888888,
              "#fdca26"
             ],
             [
              1,
              "#f0f921"
             ]
            ],
            "type": "histogram2d"
           }
          ],
          "histogram2dcontour": [
           {
            "colorbar": {
             "outlinewidth": 0,
             "ticks": ""
            },
            "colorscale": [
             [
              0,
              "#0d0887"
             ],
             [
              0.1111111111111111,
              "#46039f"
             ],
             [
              0.2222222222222222,
              "#7201a8"
             ],
             [
              0.3333333333333333,
              "#9c179e"
             ],
             [
              0.4444444444444444,
              "#bd3786"
             ],
             [
              0.5555555555555556,
              "#d8576b"
             ],
             [
              0.6666666666666666,
              "#ed7953"
             ],
             [
              0.7777777777777778,
              "#fb9f3a"
             ],
             [
              0.8888888888888888,
              "#fdca26"
             ],
             [
              1,
              "#f0f921"
             ]
            ],
            "type": "histogram2dcontour"
           }
          ],
          "mesh3d": [
           {
            "colorbar": {
             "outlinewidth": 0,
             "ticks": ""
            },
            "type": "mesh3d"
           }
          ],
          "parcoords": [
           {
            "line": {
             "colorbar": {
              "outlinewidth": 0,
              "ticks": ""
             }
            },
            "type": "parcoords"
           }
          ],
          "scatter": [
           {
            "marker": {
             "colorbar": {
              "outlinewidth": 0,
              "ticks": ""
             }
            },
            "type": "scatter"
           }
          ],
          "scatter3d": [
           {
            "line": {
             "colorbar": {
              "outlinewidth": 0,
              "ticks": ""
             }
            },
            "marker": {
             "colorbar": {
              "outlinewidth": 0,
              "ticks": ""
             }
            },
            "type": "scatter3d"
           }
          ],
          "scattercarpet": [
           {
            "marker": {
             "colorbar": {
              "outlinewidth": 0,
              "ticks": ""
             }
            },
            "type": "scattercarpet"
           }
          ],
          "scattergeo": [
           {
            "marker": {
             "colorbar": {
              "outlinewidth": 0,
              "ticks": ""
             }
            },
            "type": "scattergeo"
           }
          ],
          "scattergl": [
           {
            "marker": {
             "colorbar": {
              "outlinewidth": 0,
              "ticks": ""
             }
            },
            "type": "scattergl"
           }
          ],
          "scattermapbox": [
           {
            "marker": {
             "colorbar": {
              "outlinewidth": 0,
              "ticks": ""
             }
            },
            "type": "scattermapbox"
           }
          ],
          "scatterpolar": [
           {
            "marker": {
             "colorbar": {
              "outlinewidth": 0,
              "ticks": ""
             }
            },
            "type": "scatterpolar"
           }
          ],
          "scatterpolargl": [
           {
            "marker": {
             "colorbar": {
              "outlinewidth": 0,
              "ticks": ""
             }
            },
            "type": "scatterpolargl"
           }
          ],
          "scatterternary": [
           {
            "marker": {
             "colorbar": {
              "outlinewidth": 0,
              "ticks": ""
             }
            },
            "type": "scatterternary"
           }
          ],
          "surface": [
           {
            "colorbar": {
             "outlinewidth": 0,
             "ticks": ""
            },
            "colorscale": [
             [
              0,
              "#0d0887"
             ],
             [
              0.1111111111111111,
              "#46039f"
             ],
             [
              0.2222222222222222,
              "#7201a8"
             ],
             [
              0.3333333333333333,
              "#9c179e"
             ],
             [
              0.4444444444444444,
              "#bd3786"
             ],
             [
              0.5555555555555556,
              "#d8576b"
             ],
             [
              0.6666666666666666,
              "#ed7953"
             ],
             [
              0.7777777777777778,
              "#fb9f3a"
             ],
             [
              0.8888888888888888,
              "#fdca26"
             ],
             [
              1,
              "#f0f921"
             ]
            ],
            "type": "surface"
           }
          ],
          "table": [
           {
            "cells": {
             "fill": {
              "color": "#EBF0F8"
             },
             "line": {
              "color": "white"
             }
            },
            "header": {
             "fill": {
              "color": "#C8D4E3"
             },
             "line": {
              "color": "white"
             }
            },
            "type": "table"
           }
          ]
         },
         "layout": {
          "annotationdefaults": {
           "arrowcolor": "#2a3f5f",
           "arrowhead": 0,
           "arrowwidth": 1
          },
          "colorscale": {
           "diverging": [
            [
             0,
             "#8e0152"
            ],
            [
             0.1,
             "#c51b7d"
            ],
            [
             0.2,
             "#de77ae"
            ],
            [
             0.3,
             "#f1b6da"
            ],
            [
             0.4,
             "#fde0ef"
            ],
            [
             0.5,
             "#f7f7f7"
            ],
            [
             0.6,
             "#e6f5d0"
            ],
            [
             0.7,
             "#b8e186"
            ],
            [
             0.8,
             "#7fbc41"
            ],
            [
             0.9,
             "#4d9221"
            ],
            [
             1,
             "#276419"
            ]
           ],
           "sequential": [
            [
             0,
             "#0d0887"
            ],
            [
             0.1111111111111111,
             "#46039f"
            ],
            [
             0.2222222222222222,
             "#7201a8"
            ],
            [
             0.3333333333333333,
             "#9c179e"
            ],
            [
             0.4444444444444444,
             "#bd3786"
            ],
            [
             0.5555555555555556,
             "#d8576b"
            ],
            [
             0.6666666666666666,
             "#ed7953"
            ],
            [
             0.7777777777777778,
             "#fb9f3a"
            ],
            [
             0.8888888888888888,
             "#fdca26"
            ],
            [
             1,
             "#f0f921"
            ]
           ],
           "sequentialminus": [
            [
             0,
             "#0d0887"
            ],
            [
             0.1111111111111111,
             "#46039f"
            ],
            [
             0.2222222222222222,
             "#7201a8"
            ],
            [
             0.3333333333333333,
             "#9c179e"
            ],
            [
             0.4444444444444444,
             "#bd3786"
            ],
            [
             0.5555555555555556,
             "#d8576b"
            ],
            [
             0.6666666666666666,
             "#ed7953"
            ],
            [
             0.7777777777777778,
             "#fb9f3a"
            ],
            [
             0.8888888888888888,
             "#fdca26"
            ],
            [
             1,
             "#f0f921"
            ]
           ]
          },
          "colorway": [
           "#636efa",
           "#EF553B",
           "#00cc96",
           "#ab63fa",
           "#FFA15A",
           "#19d3f3",
           "#FF6692",
           "#B6E880",
           "#FF97FF",
           "#FECB52"
          ],
          "font": {
           "color": "#2a3f5f"
          },
          "geo": {
           "bgcolor": "white",
           "lakecolor": "white",
           "landcolor": "#E5ECF6",
           "showlakes": true,
           "showland": true,
           "subunitcolor": "white"
          },
          "hoverlabel": {
           "align": "left"
          },
          "hovermode": "closest",
          "mapbox": {
           "style": "light"
          },
          "paper_bgcolor": "white",
          "plot_bgcolor": "#E5ECF6",
          "polar": {
           "angularaxis": {
            "gridcolor": "white",
            "linecolor": "white",
            "ticks": ""
           },
           "bgcolor": "#E5ECF6",
           "radialaxis": {
            "gridcolor": "white",
            "linecolor": "white",
            "ticks": ""
           }
          },
          "scene": {
           "xaxis": {
            "backgroundcolor": "#E5ECF6",
            "gridcolor": "white",
            "gridwidth": 2,
            "linecolor": "white",
            "showbackground": true,
            "ticks": "",
            "zerolinecolor": "white"
           },
           "yaxis": {
            "backgroundcolor": "#E5ECF6",
            "gridcolor": "white",
            "gridwidth": 2,
            "linecolor": "white",
            "showbackground": true,
            "ticks": "",
            "zerolinecolor": "white"
           },
           "zaxis": {
            "backgroundcolor": "#E5ECF6",
            "gridcolor": "white",
            "gridwidth": 2,
            "linecolor": "white",
            "showbackground": true,
            "ticks": "",
            "zerolinecolor": "white"
           }
          },
          "shapedefaults": {
           "line": {
            "color": "#2a3f5f"
           }
          },
          "ternary": {
           "aaxis": {
            "gridcolor": "white",
            "linecolor": "white",
            "ticks": ""
           },
           "baxis": {
            "gridcolor": "white",
            "linecolor": "white",
            "ticks": ""
           },
           "bgcolor": "#E5ECF6",
           "caxis": {
            "gridcolor": "white",
            "linecolor": "white",
            "ticks": ""
           }
          },
          "title": {
           "x": 0.05
          },
          "xaxis": {
           "automargin": true,
           "gridcolor": "white",
           "linecolor": "white",
           "ticks": "",
           "zerolinecolor": "white",
           "zerolinewidth": 2
          },
          "yaxis": {
           "automargin": true,
           "gridcolor": "white",
           "linecolor": "white",
           "ticks": "",
           "zerolinecolor": "white",
           "zerolinewidth": 2
          }
         }
        }
       }
      },
      "text/html": [
       "<div>\n",
       "        \n",
       "        \n",
       "            <div id=\"0bc1f55e-32d2-4479-864d-fbf70444752e\" class=\"plotly-graph-div\" style=\"height:525px; width:100%;\"></div>\n",
       "            <script type=\"text/javascript\">\n",
       "                require([\"plotly\"], function(Plotly) {\n",
       "                    window.PLOTLYENV=window.PLOTLYENV || {};\n",
       "                    \n",
       "                if (document.getElementById(\"0bc1f55e-32d2-4479-864d-fbf70444752e\")) {\n",
       "                    Plotly.newPlot(\n",
       "                        '0bc1f55e-32d2-4479-864d-fbf70444752e',\n",
       "                        [{\"autocolorscale\": false, \"colorbar\": {\"title\": {\"text\": \"Average Math Difference\"}}, \"colorscale\": [[0.0, \"rgb(247,251,255)\"], [0.125, \"rgb(222,235,247)\"], [0.25, \"rgb(198,219,239)\"], [0.375, \"rgb(158,202,225)\"], [0.5, \"rgb(107,174,214)\"], [0.625, \"rgb(66,146,198)\"], [0.75, \"rgb(33,113,181)\"], [0.875, \"rgb(8,81,156)\"], [1.0, \"rgb(8,48,107)\"]], \"locationmode\": \"USA-states\", \"locations\": [\"AK\", \"AK\", \"AL\", \"AL\", \"AR\", \"AR\", \"AZ\", \"AZ\", \"CA\", \"CA\", \"CO\", \"CO\", \"CT\", \"CT\", \"DC\", \"DC\", \"DE\", \"DE\", \"FL\", \"FL\", \"GA\", \"GA\", \"HI\", \"HI\", \"IA\", \"IA\", \"ID\", \"ID\", \"IL\", \"IL\", \"IN\", \"IN\", \"KS\", \"KS\", \"KY\", \"KY\", \"LA\", \"LA\", \"MA\", \"MA\", \"MD\", \"MD\", \"ME\", \"ME\", \"MI\", \"MI\", \"MN\", \"MN\", \"MO\", \"MO\", \"MS\", \"MS\", \"MT\", \"MT\", \"NC\", \"NC\", \"ND\", \"ND\", \"NE\", \"NE\", \"NH\", \"NH\", \"NJ\", \"NJ\", \"NM\", \"NM\", \"NT\", \"NT\", \"NV\", \"NV\", \"NY\", \"NY\", \"OH\", \"OH\", \"OK\", \"OK\", \"OR\", \"OR\", \"PA\", \"PA\", \"RI\", \"RI\", \"SC\", \"SC\", \"SD\", \"SD\", \"TN\", \"TN\", \"TX\", \"TX\", \"UT\", \"UT\", \"VA\", \"VA\", \"VT\", \"VT\", \"WA\", \"WA\", \"WI\", \"WI\", \"WV\", \"WV\", \"WY\", \"WY\", \"AK\", \"AK\", \"AL\", \"AL\", \"AR\", \"AR\", \"AZ\", \"AZ\", \"CA\", \"CA\", \"CO\", \"CO\", \"CT\", \"CT\", \"DC\", \"DC\", \"DE\", \"DE\", \"FL\", \"FL\", \"GA\", \"GA\", \"HI\", \"HI\", \"IA\", \"IA\", \"ID\", \"ID\", \"IL\", \"IL\", \"IN\", \"IN\", \"KS\", \"KS\", \"KY\", \"KY\", \"LA\", \"LA\", \"MA\", \"MA\", \"MD\", \"MD\", \"ME\", \"ME\", \"MI\", \"MI\", \"MN\", \"MN\", \"MO\", \"MO\", \"MS\", \"MS\", \"MT\", \"MT\", \"NC\", \"NC\", \"ND\", \"ND\", \"NE\", \"NE\", \"NH\", \"NH\", \"NJ\", \"NJ\", \"NM\", \"NM\", \"NT\", \"NT\", \"NV\", \"NV\", \"NY\", \"NY\", \"OH\", \"OH\", \"OK\", \"OK\", \"OR\", \"OR\", \"PA\", \"PA\", \"RI\", \"RI\", \"SC\", \"SC\", \"SD\", \"SD\", \"TN\", \"TN\", \"TX\", \"TX\", \"UT\", \"UT\", \"VA\", \"VA\", \"VT\", \"VT\", \"WA\", \"WA\", \"WI\", \"WI\", \"WV\", \"WV\", \"WY\", \"WY\"], \"marker\": {\"line\": {\"color\": \"white\"}}, \"text\": [\"AK<br>Year: 2017 Math: 230.45176030000002<br>Reading: 203.0513017\", \"AK<br>Year: 2017 Math: 230.4611871<br>Reading: 211.34334269999997\", \"AL<br>Year: 2017 Math: 232.45857009999997<br>Reading: 212.8211091\", \"AL<br>Year: 2017 Math: 231.87848169999998<br>Reading: 220.0065999\", \"AR<br>Year: 2017 Math: 234.9807022<br>Reading: 211.74262000000002\", \"AR<br>Year: 2017 Math: 232.66498760000002<br>Reading: 220.6330097\", \"AZ<br>Year: 2017 Math: 235.6316557<br>Reading: 213.46267039999998\", \"AZ<br>Year: 2017 Math: 233.2150457<br>Reading: 217.52022689999998\", \"CA<br>Year: 2017 Math: 233.26568619999998<br>Reading: 210.7706082\", \"CA<br>Year: 2017 Math: 231.2155055<br>Reading: 220.2931384\", \"CO<br>Year: 2017 Math: 240.2821937<br>Reading: 221.61640559999998\", \"CO<br>Year: 2017 Math: 241.13729730000003<br>Reading: 228.02043140000004\", \"CT<br>Year: 2017 Math: 241.4876106<br>Reading: 225.69884989999997\", \"CT<br>Year: 2017 Math: 236.91665030000001<br>Reading: 231.06940530000003\", \"DC<br>Year: 2017 Math: 231.3590099<br>Reading: 209.7059168\", \"DC<br>Year: 2017 Math: 231.2817799<br>Reading: 217.0726847\", \"DE<br>Year: 2017 Math: 235.5916588<br>Reading: 217.02140950000003\", \"DE<br>Year: 2017 Math: 236.66877599999998<br>Reading: 226.0044074\", \"FL<br>Year: 2017 Math: 247.4765145<br>Reading: 226.0874762\", \"FL<br>Year: 2017 Math: 245.23157<br>Reading: 230.5293065\", \"GA<br>Year: 2017 Math: 236.6667509<br>Reading: 215.9960475\", \"GA<br>Year: 2017 Math: 236.0913659<br>Reading: 223.46619819999998\", \"HI<br>Year: 2017 Math: 238.0754512<br>Reading: 211.96439750000002\", \"HI<br>Year: 2017 Math: 237.750739<br>Reading: 221.1629899\", \"IA<br>Year: 2017 Math: 245.0853816<br>Reading: 218.88682480000003\", \"IA<br>Year: 2017 Math: 240.9940059<br>Reading: 224.76728390000002\", \"ID<br>Year: 2017 Math: 241.64338199999997<br>Reading: 220.3231426\", \"ID<br>Year: 2017 Math: 238.2289001<br>Reading: 225.3600964\", \"IL<br>Year: 2017 Math: 239.6449667<br>Reading: 217.19876859999997\", \"IL<br>Year: 2017 Math: 236.6028134<br>Reading: 223.51177090000002\", \"IN<br>Year: 2017 Math: 248.2432237<br>Reading: 224.2207755\", \"IN<br>Year: 2017 Math: 244.6945339<br>Reading: 228.74029500000003\", \"KS<br>Year: 2017 Math: 242.4832381<br>Reading: 220.723398\", \"KS<br>Year: 2017 Math: 239.8473267<br>Reading: 226.0057583\", \"KY<br>Year: 2017 Math: 240.7846346<br>Reading: 221.9300199\", \"KY<br>Year: 2017 Math: 237.52027719999998<br>Reading: 226.27731580000003\", \"LA<br>Year: 2017 Math: 228.60418190000001<br>Reading: 210.24742400000002\", \"LA<br>Year: 2017 Math: 229.35140840000003<br>Reading: 213.0166577\", \"MA<br>Year: 2017 Math: 251.55340180000002<br>Reading: 232.9402589\", \"MA<br>Year: 2017 Math: 246.59656850000002<br>Reading: 238.5091687\", \"MD<br>Year: 2017 Math: 242.0755965<br>Reading: 220.69551069999997\", \"MD<br>Year: 2017 Math: 239.06334640000003<br>Reading: 229.59108769999997\", \"ME<br>Year: 2017 Math: 240.23484130000003<br>Reading: 219.2110349\", \"ME<br>Year: 2017 Math: 239.5559952<br>Reading: 223.5981836\", \"MI<br>Year: 2017 Math: 236.8113307<br>Reading: 213.58580730000003\", \"MI<br>Year: 2017 Math: 234.2812085<br>Reading: 221.98642510000002\", \"MN<br>Year: 2017 Math: 250.3992494<br>Reading: 221.9607287\", \"MN<br>Year: 2017 Math: 247.18105690000002<br>Reading: 227.14780640000004\", \"MO<br>Year: 2017 Math: 241.2361641<br>Reading: 220.5014873\", \"MO<br>Year: 2017 Math: 237.6815798<br>Reading: 224.97627709999998\", \"MS<br>Year: 2017 Math: 235.4568755<br>Reading: 211.57824509999998\", \"MS<br>Year: 2017 Math: 233.90217119999997<br>Reading: 218.94522659999998\", \"MT<br>Year: 2017 Math: 241.34523969999998<br>Reading: 220.22639280000004\", \"MT<br>Year: 2017 Math: 240.04140550000002<br>Reading: 224.62601899999999\", \"NC<br>Year: 2017 Math: 241.85216719999997<br>Reading: 221.1697234\", \"NC<br>Year: 2017 Math: 240.00583250000003<br>Reading: 226.8317849\", \"ND<br>Year: 2017 Math: 245.6263482<br>Reading: 216.68196830000002\", \"ND<br>Year: 2017 Math: 242.74885609999998<br>Reading: 226.69569019999997\", \"NE<br>Year: 2017 Math: 247.2209733<br>Reading: 220.76644700000003\", \"NE<br>Year: 2017 Math: 243.84341969999997<br>Reading: 227.65359229999999\", \"NH<br>Year: 2017 Math: 247.0152097<br>Reading: 227.622395\", \"NH<br>Year: 2017 Math: 243.59176150000002<br>Reading: 230.2115385\", \"NJ<br>Year: 2017 Math: 248.27456969999997<br>Reading: 228.67674590000001\", \"NJ<br>Year: 2017 Math: 247.4159119<br>Reading: 237.3914716\", \"NM<br>Year: 2017 Math: 230.41794<br>Reading: 203.95849180000002\", \"NM<br>Year: 2017 Math: 228.9597938<br>Reading: 211.60481069999997\", \"NT<br>Year: 2017 Math: 240.81240899999997<br>Reading: 218.96578190000002\", \"NT<br>Year: 2017 Math: 238.59400019999998<br>Reading: 224.9204301\", \"NV<br>Year: 2017 Math: 232.0763332<br>Reading: 211.24649399999998\", \"NV<br>Year: 2017 Math: 231.282843<br>Reading: 218.53305350000002\", \"NY<br>Year: 2017 Math: 237.62465120000002<br>Reading: 219.0240122\", \"NY<br>Year: 2017 Math: 233.4225455<br>Reading: 224.7796747\", \"OH<br>Year: 2017 Math: 241.41514730000003<br>Reading: 223.49784759999997\", \"OH<br>Year: 2017 Math: 240.4299969<br>Reading: 227.09899950000002\", \"OK<br>Year: 2017 Math: 238.72844869999997<br>Reading: 212.8841397\", \"OK<br>Year: 2017 Math: 235.8625867<br>Reading: 220.40549109999998\", \"OR<br>Year: 2017 Math: 235.1656413<br>Reading: 212.40314680000003\", \"OR<br>Year: 2017 Math: 231.0436143<br>Reading: 222.78055460000002\", \"PA<br>Year: 2017 Math: 243.3370083<br>Reading: 224.1111222\", \"PA<br>Year: 2017 Math: 239.97992069999998<br>Reading: 225.75630730000003\", \"RI<br>Year: 2017 Math: 238.15398330000002<br>Reading: 220.60557659999998\", \"RI<br>Year: 2017 Math: 236.9472733<br>Reading: 226.15168549999999\", \"SC<br>Year: 2017 Math: 234.90540330000002<br>Reading: 209.56633200000002\", \"SC<br>Year: 2017 Math: 233.12889359999997<br>Reading: 216.90885469999998\", \"SD<br>Year: 2017 Math: 243.7656205<br>Reading: 219.1506216\", \"SD<br>Year: 2017 Math: 239.36951919999998<br>Reading: 224.399956\", \"TN<br>Year: 2017 Math: 236.9641708<br>Reading: 215.29826630000002\", \"TN<br>Year: 2017 Math: 236.4169963<br>Reading: 222.6835514\", \"TX<br>Year: 2017 Math: 241.0455667<br>Reading: 213.48003340000002\", \"TX<br>Year: 2017 Math: 240.8321055<br>Reading: 216.38500499999998\", \"UT<br>Year: 2017 Math: 244.4630631<br>Reading: 221.0767767\", \"UT<br>Year: 2017 Math: 240.31077480000002<br>Reading: 229.64693480000003\", \"VA<br>Year: 2017 Math: 250.47927909999999<br>Reading: 226.245481\", \"VA<br>Year: 2017 Math: 245.47200660000001<br>Reading: 229.02030040000002\", \"VT<br>Year: 2017 Math: 241.32307180000004<br>Reading: 223.34771800000001\", \"VT<br>Year: 2017 Math: 240.4434016<br>Reading: 229.64731380000003\", \"WA<br>Year: 2017 Math: 243.2587772<br>Reading: 220.2532377\", \"WA<br>Year: 2017 Math: 240.08729530000002<br>Reading: 226.1011123\", \"WI<br>Year: 2017 Math: 241.6846167<br>Reading: 216.7292028\", \"WI<br>Year: 2017 Math: 238.9828094<br>Reading: 222.7703131\", \"WV<br>Year: 2017 Math: 236.527612<br>Reading: 212.89900260000002\", \"WV<br>Year: 2017 Math: 235.5821776<br>Reading: 221.8400483\", \"WY<br>Year: 2017 Math: 249.43175580000002<br>Reading: 224.1985693\", \"WY<br>Year: 2017 Math: 246.06756549999997<br>Reading: 229.6916923\", \"AK<br>Year: 2009 Math: 238.4459925<br>Reading: 206.7242292\", \"AK<br>Year: 2009 Math: 235.9293425<br>Reading: 215.7112338\", \"AL<br>Year: 2009 Math: 227.7181926<br>Reading: 211.74193050000002\", \"AL<br>Year: 2009 Math: 228.2247489<br>Reading: 221.1006988\", \"AR<br>Year: 2009 Math: 238.82458259999999<br>Reading: 210.97585800000002\", \"AR<br>Year: 2009 Math: 236.1995327<br>Reading: 221.5645131\", \"AZ<br>Year: 2009 Math: 230.2839495<br>Reading: 206.9136801\", \"AZ<br>Year: 2009 Math: 229.68685919999996<br>Reading: 213.18922450000002\", \"CA<br>Year: 2009 Math: 232.6138321<br>Reading: 207.055218\", \"CA<br>Year: 2009 Math: 230.6765415<br>Reading: 212.63764550000002\", \"CO<br>Year: 2009 Math: 243.965015<br>Reading: 222.255777\", \"CO<br>Year: 2009 Math: 242.2698015<br>Reading: 229.2295877\", \"CT<br>Year: 2009 Math: 246.40018819999997<br>Reading: 224.53905319999996\", \"CT<br>Year: 2009 Math: 242.96108790000002<br>Reading: 233.50362579999998\", \"DC<br>Year: 2009 Math: 217.9480023<br>Reading: 198.09476619999998\", \"DC<br>Year: 2009 Math: 220.5677797<br>Reading: 205.74594040000002\", \"DE<br>Year: 2009 Math: 241.1687191<br>Reading: 222.87174190000002\", \"DE<br>Year: 2009 Math: 237.7510974<br>Reading: 228.1886232\", \"FL<br>Year: 2009 Math: 242.54442110000002<br>Reading: 222.52019610000002\", \"FL<br>Year: 2009 Math: 241.3373227<br>Reading: 228.8642131\", \"GA<br>Year: 2009 Math: 236.5085199<br>Reading: 214.28571380000002\", \"GA<br>Year: 2009 Math: 235.5460739<br>Reading: 221.3610349\", \"HI<br>Year: 2009 Math: 235.26691949999997<br>Reading: 205.13322390000002\", \"HI<br>Year: 2009 Math: 236.1308716<br>Reading: 216.66726060000002\", \"IA<br>Year: 2009 Math: 243.3199286<br>Reading: 216.96943230000002\", \"IA<br>Year: 2009 Math: 241.8441682<br>Reading: 225.965448\", \"ID<br>Year: 2009 Math: 241.9403591<br>Reading: 216.5292228\", \"ID<br>Year: 2009 Math: 240.13089580000002<br>Reading: 225.5082653\", \"IL<br>Year: 2009 Math: 239.6526887<br>Reading: 214.8423846\", \"IL<br>Year: 2009 Math: 236.9052525<br>Reading: 223.5129821\", \"IN<br>Year: 2009 Math: 242.98704339999998<br>Reading: 218.3968134\", \"IN<br>Year: 2009 Math: 242.2299855<br>Reading: 227.0696154\", \"KS<br>Year: 2009 Math: 246.16167400000003<br>Reading: 222.1581946\", \"KS<br>Year: 2009 Math: 244.3872114<br>Reading: 225.8242076\", \"KY<br>Year: 2009 Math: 240.03423560000002<br>Reading: 222.3486903\", \"KY<br>Year: 2009 Math: 237.56751949999997<br>Reading: 228.90135469999998\", \"LA<br>Year: 2009 Math: 230.1209562<br>Reading: 202.9714742\", \"LA<br>Year: 2009 Math: 228.68993909999998<br>Reading: 212.28630139999999\", \"MA<br>Year: 2009 Math: 253.4405668<br>Reading: 231.1401318\", \"MA<br>Year: 2009 Math: 251.08238980000002<br>Reading: 236.3237981\", \"MD<br>Year: 2009 Math: 244.24050970000002<br>Reading: 222.5177629\", \"MD<br>Year: 2009 Math: 243.34619300000003<br>Reading: 229.43872510000003\", \"ME<br>Year: 2009 Math: 246.5404608<br>Reading: 219.58023369999998\", \"ME<br>Year: 2009 Math: 242.2710866<br>Reading: 228.09681609999998\", \"MI<br>Year: 2009 Math: 237.5802861<br>Reading: 214.3957909\", \"MI<br>Year: 2009 Math: 234.95298160000002<br>Reading: 222.1448852\", \"MN<br>Year: 2009 Math: 251.2868955<br>Reading: 219.8187462\", \"MN<br>Year: 2009 Math: 247.556902<br>Reading: 226.9751804\", \"MO<br>Year: 2009 Math: 241.2338228<br>Reading: 218.9749832\", \"MO<br>Year: 2009 Math: 240.0938702<br>Reading: 229.0948613\", \"MS<br>Year: 2009 Math: 226.6838904<br>Reading: 207.6306934\", \"MS<br>Year: 2009 Math: 227.854993<br>Reading: 213.47530240000003\", \"MT<br>Year: 2009 Math: 247.0098734<br>Reading: 221.7826605\", \"MT<br>Year: 2009 Math: 241.6644649<br>Reading: 227.6048386\", \"NC<br>Year: 2009 Math: 243.9695966<br>Reading: 214.78778430000003\", \"NC<br>Year: 2009 Math: 243.5792701<br>Reading: 224.02092779999998\", \"ND<br>Year: 2009 Math: 246.80884590000002<br>Reading: 223.1073372\", \"ND<br>Year: 2009 Math: 243.5153071<br>Reading: 228.91858919999999\", \"NE<br>Year: 2009 Math: 238.75684159999997<br>Reading: 219.6725023\", \"NE<br>Year: 2009 Math: 238.7398143<br>Reading: 225.4668601\", \"NH<br>Year: 2009 Math: 252.1974258<br>Reading: 225.85400589999998\", \"NH<br>Year: 2009 Math: 249.8650685<br>Reading: 232.6529539\", \"NJ<br>Year: 2009 Math: 248.4270377<br>Reading: 227.1098772\", \"NJ<br>Year: 2009 Math: 244.5251381<br>Reading: 231.69815359999998\", \"NM<br>Year: 2009 Math: 230.6408759<br>Reading: 202.83436890000002\", \"NM<br>Year: 2009 Math: 229.3881713<br>Reading: 212.59483959999997\", \"NT<br>Year: 2009 Math: 240.61764920000002<br>Reading: 217.6064798\", \"NT<br>Year: 2009 Math: 238.69441969999997<br>Reading: 224.34676769999996\", \"NV<br>Year: 2009 Math: 236.10334029999999<br>Reading: 208.2577906\", \"NV<br>Year: 2009 Math: 234.2039974<br>Reading: 213.9765537\", \"NY<br>Year: 2009 Math: 241.8842705<br>Reading: 220.7946954\", \"NY<br>Year: 2009 Math: 239.3247083<br>Reading: 228.1099483\", \"OH<br>Year: 2009 Math: 245.4888563<br>Reading: 221.64348859999998\", \"OH<br>Year: 2009 Math: 241.87394480000003<br>Reading: 227.3593687\", \"OK<br>Year: 2009 Math: 237.93271040000002<br>Reading: 213.96507730000002\", \"OK<br>Year: 2009 Math: 235.6251517<br>Reading: 220.36061439999997\", \"OR<br>Year: 2009 Math: 239.9242304<br>Reading: 214.1195805\", \"OR<br>Year: 2009 Math: 235.97175570000002<br>Reading: 222.50049199999998\", \"PA<br>Year: 2009 Math: 244.738227<br>Reading: 221.3485904\", \"PA<br>Year: 2009 Math: 242.36482469999999<br>Reading: 226.13053870000002\", \"RI<br>Year: 2009 Math: 240.4065545<br>Reading: 217.8659933\", \"RI<br>Year: 2009 Math: 237.00482000000002<br>Reading: 227.78835460000002\", \"SC<br>Year: 2009 Math: 236.12872799999997<br>Reading: 213.40612760000002\", \"SC<br>Year: 2009 Math: 235.1828128<br>Reading: 218.5484679\", \"SD<br>Year: 2009 Math: 243.4159228<br>Reading: 219.5269395\", \"SD<br>Year: 2009 Math: 240.6416357<br>Reading: 224.9867318\", \"TN<br>Year: 2009 Math: 232.1633181<br>Reading: 213.85772519999998\", \"TN<br>Year: 2009 Math: 231.4680404<br>Reading: 219.65458309999997\", \"TX<br>Year: 2009 Math: 240.8848503<br>Reading: 215.67111269999998\", \"TX<br>Year: 2009 Math: 240.02622659999997<br>Reading: 222.17289669999997\", \"UT<br>Year: 2009 Math: 241.3084911<br>Reading: 216.9301106\", \"UT<br>Year: 2009 Math: 239.2707128<br>Reading: 221.549557\", \"VA<br>Year: 2009 Math: 244.65101659999996<br>Reading: 222.7808285\", \"VA<br>Year: 2009 Math: 241.4090858<br>Reading: 230.46729019999998\", \"VT<br>Year: 2009 Math: 248.878935<br>Reading: 226.1078339\", \"VT<br>Year: 2009 Math: 246.59942569999998<br>Reading: 231.4772687\", \"WA<br>Year: 2009 Math: 242.38630099999997<br>Reading: 217.0907011\", \"WA<br>Year: 2009 Math: 242.12162080000002<br>Reading: 225.733106\", \"WI<br>Year: 2009 Math: 244.67302310000002<br>Reading: 216.606254\", \"WI<br>Year: 2009 Math: 242.41006940000003<br>Reading: 223.8881088\", \"WV<br>Year: 2009 Math: 233.99410730000002<br>Reading: 210.86660419999998\", \"WV<br>Year: 2009 Math: 231.92953909999997<br>Reading: 218.3040847\", \"WY<br>Year: 2009 Math: 242.9470371<br>Reading: 219.1295972\", \"WY<br>Year: 2009 Math: 240.98958219999997<br>Reading: 226.4977208\"], \"type\": \"choropleth\", \"z\": [7.994232169, 5.468155375, -4.7403774610000005, -3.653732845, 3.8438803860000004, 3.534545133, -5.347706172, -3.5281865239999997, -0.6518540429999999, -0.538964046, 3.682821273, 1.132504124, 4.912577634, 6.044437553, -13.41100755, -10.71400017, 5.577060342999999, 1.082321407, -4.932093335, -3.894247337, -0.158230994, -0.545291935, -2.8085316660000004, -1.61986734, -1.765453055, 0.850162306, 0.29697709, 1.9019956869999999, 0.00772193, 0.302439132, -5.256180212, -2.46454845, 3.678435871, 4.539884693, -0.7503989609999999, 0.04724221, 1.5167743130000002, -0.661469259, 1.8871649819999998, 4.485821288, 2.164913166, 4.282846558999999, 6.305619527, 2.715091379, 0.768955363, 0.671773057, 0.8876460840000001, 0.375845026, -0.002341349, 2.41229038, -8.77298506, -6.047178221, 5.664633633999999, 1.6230594809999999, 2.11742937, 3.573437619, 1.1824977140000001, 0.766450938, -8.464131684, -5.103605408, 5.182216136, 6.273307075, 0.15246807099999998, -2.89077376, 0.22293583399999997, 0.428377526, -0.194759756, 0.10041951, 4.027007052, 2.921154449, 4.259619374, 5.902162767999999, 4.073708989, 1.443947864, -0.7957383259999999, -0.237434957, 4.7585890630000005, 4.928141427, 1.401218685, 2.384904024, 2.2525711580000003, 0.057546712, 1.223324692, 2.0539191519999997, -0.349697708, 1.2721164109999998, -4.800852742, -4.9489559210000005, -0.160716382, -0.805878877, -3.154572013, -1.040062072, -5.828262492, -4.062920797, 7.555863293, 6.156024062, -0.872476157, 2.0343254230000003, 2.9884064169999998, 3.427260001, -2.533504717, -3.652638528, -6.484718689, -5.0779833089999995, -7.994232169, -5.468155375, 4.7403774610000005, 3.653732845, -3.8438803860000004, -3.534545133, 5.347706172, 3.5281865239999997, 0.6518540429999999, 0.538964046, -3.682821273, -1.132504124, -4.912577634, -6.044437553, 13.41100755, 10.71400017, -5.577060342999999, -1.082321407, 4.932093335, 3.894247337, 0.158230994, 0.545291935, 2.8085316660000004, 1.61986734, 1.765453055, -0.850162306, -0.29697709, -1.9019956869999999, -0.00772193, -0.302439132, 5.256180212, 2.46454845, -3.678435871, -4.539884693, 0.7503989609999999, -0.04724221, -1.5167743130000002, 0.661469259, -1.8871649819999998, -4.485821288, -2.164913166, -4.282846558999999, -6.305619527, -2.715091379, -0.768955363, -0.671773057, -0.8876460840000001, -0.375845026, 0.002341349, -2.41229038, 8.77298506, 6.047178221, -5.664633633999999, -1.6230594809999999, -2.11742937, -3.573437619, -1.1824977140000001, -0.766450938, 8.464131684, 5.103605408, -5.182216136, -6.273307075, -0.15246807099999998, 2.89077376, -0.22293583399999997, -0.428377526, 0.194759756, -0.10041951, -4.027007052, -2.921154449, -4.259619374, -5.902162767999999, -4.073708989, -1.443947864, 0.7957383259999999, 0.237434957, -4.7585890630000005, -4.928141427, -1.401218685, -2.384904024, -2.2525711580000003, -0.057546712, -1.223324692, -2.0539191519999997, 0.349697708, -1.2721164109999998, 4.800852742, 4.9489559210000005, 0.160716382, 0.805878877, 3.154572013, 1.040062072, 5.828262492, 4.062920797, -7.555863293, -6.156024062, 0.872476157, -2.0343254230000003, -2.9884064169999998, -3.427260001, 2.533504717, 3.652638528, 6.484718689, 5.0779833089999995]}, {\"autocolorscale\": false, \"colorbar\": {\"title\": {\"text\": \"Average Math Difference\"}}, \"colorscale\": [[0.0, \"rgb(247,251,255)\"], [0.125, \"rgb(222,235,247)\"], [0.25, \"rgb(198,219,239)\"], [0.375, \"rgb(158,202,225)\"], [0.5, \"rgb(107,174,214)\"], [0.625, \"rgb(66,146,198)\"], [0.75, \"rgb(33,113,181)\"], [0.875, \"rgb(8,81,156)\"], [1.0, \"rgb(8,48,107)\"]], \"locationmode\": \"USA-states\", \"locations\": [\"AK\", \"AK\", \"AL\", \"AL\", \"AR\", \"AR\", \"AZ\", \"AZ\", \"CA\", \"CA\", \"CO\", \"CO\", \"CT\", \"CT\", \"DC\", \"DC\", \"DE\", \"DE\", \"FL\", \"FL\", \"GA\", \"GA\", \"HI\", \"HI\", \"IA\", \"IA\", \"ID\", \"ID\", \"IL\", \"IL\", \"IN\", \"IN\", \"KS\", \"KS\", \"KY\", \"KY\", \"LA\", \"LA\", \"MA\", \"MA\", \"MD\", \"MD\", \"ME\", \"ME\", \"MI\", \"MI\", \"MN\", \"MN\", \"MO\", \"MO\", \"MS\", \"MS\", \"MT\", \"MT\", \"NC\", \"NC\", \"ND\", \"ND\", \"NE\", \"NE\", \"NH\", \"NH\", \"NJ\", \"NJ\", \"NM\", \"NM\", \"NT\", \"NT\", \"NV\", \"NV\", \"NY\", \"NY\", \"OH\", \"OH\", \"OK\", \"OK\", \"OR\", \"OR\", \"PA\", \"PA\", \"RI\", \"RI\", \"SC\", \"SC\", \"SD\", \"SD\", \"TN\", \"TN\", \"TX\", \"TX\", \"UT\", \"UT\", \"VA\", \"VA\", \"VT\", \"VT\", \"WA\", \"WA\", \"WI\", \"WI\", \"WV\", \"WV\", \"WY\", \"WY\", \"AK\", \"AK\", \"AL\", \"AL\", \"AR\", \"AR\", \"AZ\", \"AZ\", \"CA\", \"CA\", \"CO\", \"CO\", \"CT\", \"CT\", \"DC\", \"DC\", \"DE\", \"DE\", \"FL\", \"FL\", \"GA\", \"GA\", \"HI\", \"HI\", \"IA\", \"IA\", \"ID\", \"ID\", \"IL\", \"IL\", \"IN\", \"IN\", \"KS\", \"KS\", \"KY\", \"KY\", \"LA\", \"LA\", \"MA\", \"MA\", \"MD\", \"MD\", \"ME\", \"ME\", \"MI\", \"MI\", \"MN\", \"MN\", \"MO\", \"MO\", \"MS\", \"MS\", \"MT\", \"MT\", \"NC\", \"NC\", \"ND\", \"ND\", \"NE\", \"NE\", \"NH\", \"NH\", \"NJ\", \"NJ\", \"NM\", \"NM\", \"NT\", \"NT\", \"NV\", \"NV\", \"NY\", \"NY\", \"OH\", \"OH\", \"OK\", \"OK\", \"OR\", \"OR\", \"PA\", \"PA\", \"RI\", \"RI\", \"SC\", \"SC\", \"SD\", \"SD\", \"TN\", \"TN\", \"TX\", \"TX\", \"UT\", \"UT\", \"VA\", \"VA\", \"VT\", \"VT\", \"WA\", \"WA\", \"WI\", \"WI\", \"WV\", \"WV\", \"WY\", \"WY\"], \"marker\": {\"line\": {\"color\": \"white\"}}, \"text\": [\"AK<br>Year: 2017 Math: 230.45176030000002<br>Reading: 203.0513017\", \"AK<br>Year: 2017 Math: 230.4611871<br>Reading: 211.34334269999997\", \"AL<br>Year: 2017 Math: 232.45857009999997<br>Reading: 212.8211091\", \"AL<br>Year: 2017 Math: 231.87848169999998<br>Reading: 220.0065999\", \"AR<br>Year: 2017 Math: 234.9807022<br>Reading: 211.74262000000002\", \"AR<br>Year: 2017 Math: 232.66498760000002<br>Reading: 220.6330097\", \"AZ<br>Year: 2017 Math: 235.6316557<br>Reading: 213.46267039999998\", \"AZ<br>Year: 2017 Math: 233.2150457<br>Reading: 217.52022689999998\", \"CA<br>Year: 2017 Math: 233.26568619999998<br>Reading: 210.7706082\", \"CA<br>Year: 2017 Math: 231.2155055<br>Reading: 220.2931384\", \"CO<br>Year: 2017 Math: 240.2821937<br>Reading: 221.61640559999998\", \"CO<br>Year: 2017 Math: 241.13729730000003<br>Reading: 228.02043140000004\", \"CT<br>Year: 2017 Math: 241.4876106<br>Reading: 225.69884989999997\", \"CT<br>Year: 2017 Math: 236.91665030000001<br>Reading: 231.06940530000003\", \"DC<br>Year: 2017 Math: 231.3590099<br>Reading: 209.7059168\", \"DC<br>Year: 2017 Math: 231.2817799<br>Reading: 217.0726847\", \"DE<br>Year: 2017 Math: 235.5916588<br>Reading: 217.02140950000003\", \"DE<br>Year: 2017 Math: 236.66877599999998<br>Reading: 226.0044074\", \"FL<br>Year: 2017 Math: 247.4765145<br>Reading: 226.0874762\", \"FL<br>Year: 2017 Math: 245.23157<br>Reading: 230.5293065\", \"GA<br>Year: 2017 Math: 236.6667509<br>Reading: 215.9960475\", \"GA<br>Year: 2017 Math: 236.0913659<br>Reading: 223.46619819999998\", \"HI<br>Year: 2017 Math: 238.0754512<br>Reading: 211.96439750000002\", \"HI<br>Year: 2017 Math: 237.750739<br>Reading: 221.1629899\", \"IA<br>Year: 2017 Math: 245.0853816<br>Reading: 218.88682480000003\", \"IA<br>Year: 2017 Math: 240.9940059<br>Reading: 224.76728390000002\", \"ID<br>Year: 2017 Math: 241.64338199999997<br>Reading: 220.3231426\", \"ID<br>Year: 2017 Math: 238.2289001<br>Reading: 225.3600964\", \"IL<br>Year: 2017 Math: 239.6449667<br>Reading: 217.19876859999997\", \"IL<br>Year: 2017 Math: 236.6028134<br>Reading: 223.51177090000002\", \"IN<br>Year: 2017 Math: 248.2432237<br>Reading: 224.2207755\", \"IN<br>Year: 2017 Math: 244.6945339<br>Reading: 228.74029500000003\", \"KS<br>Year: 2017 Math: 242.4832381<br>Reading: 220.723398\", \"KS<br>Year: 2017 Math: 239.8473267<br>Reading: 226.0057583\", \"KY<br>Year: 2017 Math: 240.7846346<br>Reading: 221.9300199\", \"KY<br>Year: 2017 Math: 237.52027719999998<br>Reading: 226.27731580000003\", \"LA<br>Year: 2017 Math: 228.60418190000001<br>Reading: 210.24742400000002\", \"LA<br>Year: 2017 Math: 229.35140840000003<br>Reading: 213.0166577\", \"MA<br>Year: 2017 Math: 251.55340180000002<br>Reading: 232.9402589\", \"MA<br>Year: 2017 Math: 246.59656850000002<br>Reading: 238.5091687\", \"MD<br>Year: 2017 Math: 242.0755965<br>Reading: 220.69551069999997\", \"MD<br>Year: 2017 Math: 239.06334640000003<br>Reading: 229.59108769999997\", \"ME<br>Year: 2017 Math: 240.23484130000003<br>Reading: 219.2110349\", \"ME<br>Year: 2017 Math: 239.5559952<br>Reading: 223.5981836\", \"MI<br>Year: 2017 Math: 236.8113307<br>Reading: 213.58580730000003\", \"MI<br>Year: 2017 Math: 234.2812085<br>Reading: 221.98642510000002\", \"MN<br>Year: 2017 Math: 250.3992494<br>Reading: 221.9607287\", \"MN<br>Year: 2017 Math: 247.18105690000002<br>Reading: 227.14780640000004\", \"MO<br>Year: 2017 Math: 241.2361641<br>Reading: 220.5014873\", \"MO<br>Year: 2017 Math: 237.6815798<br>Reading: 224.97627709999998\", \"MS<br>Year: 2017 Math: 235.4568755<br>Reading: 211.57824509999998\", \"MS<br>Year: 2017 Math: 233.90217119999997<br>Reading: 218.94522659999998\", \"MT<br>Year: 2017 Math: 241.34523969999998<br>Reading: 220.22639280000004\", \"MT<br>Year: 2017 Math: 240.04140550000002<br>Reading: 224.62601899999999\", \"NC<br>Year: 2017 Math: 241.85216719999997<br>Reading: 221.1697234\", \"NC<br>Year: 2017 Math: 240.00583250000003<br>Reading: 226.8317849\", \"ND<br>Year: 2017 Math: 245.6263482<br>Reading: 216.68196830000002\", \"ND<br>Year: 2017 Math: 242.74885609999998<br>Reading: 226.69569019999997\", \"NE<br>Year: 2017 Math: 247.2209733<br>Reading: 220.76644700000003\", \"NE<br>Year: 2017 Math: 243.84341969999997<br>Reading: 227.65359229999999\", \"NH<br>Year: 2017 Math: 247.0152097<br>Reading: 227.622395\", \"NH<br>Year: 2017 Math: 243.59176150000002<br>Reading: 230.2115385\", \"NJ<br>Year: 2017 Math: 248.27456969999997<br>Reading: 228.67674590000001\", \"NJ<br>Year: 2017 Math: 247.4159119<br>Reading: 237.3914716\", \"NM<br>Year: 2017 Math: 230.41794<br>Reading: 203.95849180000002\", \"NM<br>Year: 2017 Math: 228.9597938<br>Reading: 211.60481069999997\", \"NT<br>Year: 2017 Math: 240.81240899999997<br>Reading: 218.96578190000002\", \"NT<br>Year: 2017 Math: 238.59400019999998<br>Reading: 224.9204301\", \"NV<br>Year: 2017 Math: 232.0763332<br>Reading: 211.24649399999998\", \"NV<br>Year: 2017 Math: 231.282843<br>Reading: 218.53305350000002\", \"NY<br>Year: 2017 Math: 237.62465120000002<br>Reading: 219.0240122\", \"NY<br>Year: 2017 Math: 233.4225455<br>Reading: 224.7796747\", \"OH<br>Year: 2017 Math: 241.41514730000003<br>Reading: 223.49784759999997\", \"OH<br>Year: 2017 Math: 240.4299969<br>Reading: 227.09899950000002\", \"OK<br>Year: 2017 Math: 238.72844869999997<br>Reading: 212.8841397\", \"OK<br>Year: 2017 Math: 235.8625867<br>Reading: 220.40549109999998\", \"OR<br>Year: 2017 Math: 235.1656413<br>Reading: 212.40314680000003\", \"OR<br>Year: 2017 Math: 231.0436143<br>Reading: 222.78055460000002\", \"PA<br>Year: 2017 Math: 243.3370083<br>Reading: 224.1111222\", \"PA<br>Year: 2017 Math: 239.97992069999998<br>Reading: 225.75630730000003\", \"RI<br>Year: 2017 Math: 238.15398330000002<br>Reading: 220.60557659999998\", \"RI<br>Year: 2017 Math: 236.9472733<br>Reading: 226.15168549999999\", \"SC<br>Year: 2017 Math: 234.90540330000002<br>Reading: 209.56633200000002\", \"SC<br>Year: 2017 Math: 233.12889359999997<br>Reading: 216.90885469999998\", \"SD<br>Year: 2017 Math: 243.7656205<br>Reading: 219.1506216\", \"SD<br>Year: 2017 Math: 239.36951919999998<br>Reading: 224.399956\", \"TN<br>Year: 2017 Math: 236.9641708<br>Reading: 215.29826630000002\", \"TN<br>Year: 2017 Math: 236.4169963<br>Reading: 222.6835514\", \"TX<br>Year: 2017 Math: 241.0455667<br>Reading: 213.48003340000002\", \"TX<br>Year: 2017 Math: 240.8321055<br>Reading: 216.38500499999998\", \"UT<br>Year: 2017 Math: 244.4630631<br>Reading: 221.0767767\", \"UT<br>Year: 2017 Math: 240.31077480000002<br>Reading: 229.64693480000003\", \"VA<br>Year: 2017 Math: 250.47927909999999<br>Reading: 226.245481\", \"VA<br>Year: 2017 Math: 245.47200660000001<br>Reading: 229.02030040000002\", \"VT<br>Year: 2017 Math: 241.32307180000004<br>Reading: 223.34771800000001\", \"VT<br>Year: 2017 Math: 240.4434016<br>Reading: 229.64731380000003\", \"WA<br>Year: 2017 Math: 243.2587772<br>Reading: 220.2532377\", \"WA<br>Year: 2017 Math: 240.08729530000002<br>Reading: 226.1011123\", \"WI<br>Year: 2017 Math: 241.6846167<br>Reading: 216.7292028\", \"WI<br>Year: 2017 Math: 238.9828094<br>Reading: 222.7703131\", \"WV<br>Year: 2017 Math: 236.527612<br>Reading: 212.89900260000002\", \"WV<br>Year: 2017 Math: 235.5821776<br>Reading: 221.8400483\", \"WY<br>Year: 2017 Math: 249.43175580000002<br>Reading: 224.1985693\", \"WY<br>Year: 2017 Math: 246.06756549999997<br>Reading: 229.6916923\", \"AK<br>Year: 2009 Math: 238.4459925<br>Reading: 206.7242292\", \"AK<br>Year: 2009 Math: 235.9293425<br>Reading: 215.7112338\", \"AL<br>Year: 2009 Math: 227.7181926<br>Reading: 211.74193050000002\", \"AL<br>Year: 2009 Math: 228.2247489<br>Reading: 221.1006988\", \"AR<br>Year: 2009 Math: 238.82458259999999<br>Reading: 210.97585800000002\", \"AR<br>Year: 2009 Math: 236.1995327<br>Reading: 221.5645131\", \"AZ<br>Year: 2009 Math: 230.2839495<br>Reading: 206.9136801\", \"AZ<br>Year: 2009 Math: 229.68685919999996<br>Reading: 213.18922450000002\", \"CA<br>Year: 2009 Math: 232.6138321<br>Reading: 207.055218\", \"CA<br>Year: 2009 Math: 230.6765415<br>Reading: 212.63764550000002\", \"CO<br>Year: 2009 Math: 243.965015<br>Reading: 222.255777\", \"CO<br>Year: 2009 Math: 242.2698015<br>Reading: 229.2295877\", \"CT<br>Year: 2009 Math: 246.40018819999997<br>Reading: 224.53905319999996\", \"CT<br>Year: 2009 Math: 242.96108790000002<br>Reading: 233.50362579999998\", \"DC<br>Year: 2009 Math: 217.9480023<br>Reading: 198.09476619999998\", \"DC<br>Year: 2009 Math: 220.5677797<br>Reading: 205.74594040000002\", \"DE<br>Year: 2009 Math: 241.1687191<br>Reading: 222.87174190000002\", \"DE<br>Year: 2009 Math: 237.7510974<br>Reading: 228.1886232\", \"FL<br>Year: 2009 Math: 242.54442110000002<br>Reading: 222.52019610000002\", \"FL<br>Year: 2009 Math: 241.3373227<br>Reading: 228.8642131\", \"GA<br>Year: 2009 Math: 236.5085199<br>Reading: 214.28571380000002\", \"GA<br>Year: 2009 Math: 235.5460739<br>Reading: 221.3610349\", \"HI<br>Year: 2009 Math: 235.26691949999997<br>Reading: 205.13322390000002\", \"HI<br>Year: 2009 Math: 236.1308716<br>Reading: 216.66726060000002\", \"IA<br>Year: 2009 Math: 243.3199286<br>Reading: 216.96943230000002\", \"IA<br>Year: 2009 Math: 241.8441682<br>Reading: 225.965448\", \"ID<br>Year: 2009 Math: 241.9403591<br>Reading: 216.5292228\", \"ID<br>Year: 2009 Math: 240.13089580000002<br>Reading: 225.5082653\", \"IL<br>Year: 2009 Math: 239.6526887<br>Reading: 214.8423846\", \"IL<br>Year: 2009 Math: 236.9052525<br>Reading: 223.5129821\", \"IN<br>Year: 2009 Math: 242.98704339999998<br>Reading: 218.3968134\", \"IN<br>Year: 2009 Math: 242.2299855<br>Reading: 227.0696154\", \"KS<br>Year: 2009 Math: 246.16167400000003<br>Reading: 222.1581946\", \"KS<br>Year: 2009 Math: 244.3872114<br>Reading: 225.8242076\", \"KY<br>Year: 2009 Math: 240.03423560000002<br>Reading: 222.3486903\", \"KY<br>Year: 2009 Math: 237.56751949999997<br>Reading: 228.90135469999998\", \"LA<br>Year: 2009 Math: 230.1209562<br>Reading: 202.9714742\", \"LA<br>Year: 2009 Math: 228.68993909999998<br>Reading: 212.28630139999999\", \"MA<br>Year: 2009 Math: 253.4405668<br>Reading: 231.1401318\", \"MA<br>Year: 2009 Math: 251.08238980000002<br>Reading: 236.3237981\", \"MD<br>Year: 2009 Math: 244.24050970000002<br>Reading: 222.5177629\", \"MD<br>Year: 2009 Math: 243.34619300000003<br>Reading: 229.43872510000003\", \"ME<br>Year: 2009 Math: 246.5404608<br>Reading: 219.58023369999998\", \"ME<br>Year: 2009 Math: 242.2710866<br>Reading: 228.09681609999998\", \"MI<br>Year: 2009 Math: 237.5802861<br>Reading: 214.3957909\", \"MI<br>Year: 2009 Math: 234.95298160000002<br>Reading: 222.1448852\", \"MN<br>Year: 2009 Math: 251.2868955<br>Reading: 219.8187462\", \"MN<br>Year: 2009 Math: 247.556902<br>Reading: 226.9751804\", \"MO<br>Year: 2009 Math: 241.2338228<br>Reading: 218.9749832\", \"MO<br>Year: 2009 Math: 240.0938702<br>Reading: 229.0948613\", \"MS<br>Year: 2009 Math: 226.6838904<br>Reading: 207.6306934\", \"MS<br>Year: 2009 Math: 227.854993<br>Reading: 213.47530240000003\", \"MT<br>Year: 2009 Math: 247.0098734<br>Reading: 221.7826605\", \"MT<br>Year: 2009 Math: 241.6644649<br>Reading: 227.6048386\", \"NC<br>Year: 2009 Math: 243.9695966<br>Reading: 214.78778430000003\", \"NC<br>Year: 2009 Math: 243.5792701<br>Reading: 224.02092779999998\", \"ND<br>Year: 2009 Math: 246.80884590000002<br>Reading: 223.1073372\", \"ND<br>Year: 2009 Math: 243.5153071<br>Reading: 228.91858919999999\", \"NE<br>Year: 2009 Math: 238.75684159999997<br>Reading: 219.6725023\", \"NE<br>Year: 2009 Math: 238.7398143<br>Reading: 225.4668601\", \"NH<br>Year: 2009 Math: 252.1974258<br>Reading: 225.85400589999998\", \"NH<br>Year: 2009 Math: 249.8650685<br>Reading: 232.6529539\", \"NJ<br>Year: 2009 Math: 248.4270377<br>Reading: 227.1098772\", \"NJ<br>Year: 2009 Math: 244.5251381<br>Reading: 231.69815359999998\", \"NM<br>Year: 2009 Math: 230.6408759<br>Reading: 202.83436890000002\", \"NM<br>Year: 2009 Math: 229.3881713<br>Reading: 212.59483959999997\", \"NT<br>Year: 2009 Math: 240.61764920000002<br>Reading: 217.6064798\", \"NT<br>Year: 2009 Math: 238.69441969999997<br>Reading: 224.34676769999996\", \"NV<br>Year: 2009 Math: 236.10334029999999<br>Reading: 208.2577906\", \"NV<br>Year: 2009 Math: 234.2039974<br>Reading: 213.9765537\", \"NY<br>Year: 2009 Math: 241.8842705<br>Reading: 220.7946954\", \"NY<br>Year: 2009 Math: 239.3247083<br>Reading: 228.1099483\", \"OH<br>Year: 2009 Math: 245.4888563<br>Reading: 221.64348859999998\", \"OH<br>Year: 2009 Math: 241.87394480000003<br>Reading: 227.3593687\", \"OK<br>Year: 2009 Math: 237.93271040000002<br>Reading: 213.96507730000002\", \"OK<br>Year: 2009 Math: 235.6251517<br>Reading: 220.36061439999997\", \"OR<br>Year: 2009 Math: 239.9242304<br>Reading: 214.1195805\", \"OR<br>Year: 2009 Math: 235.97175570000002<br>Reading: 222.50049199999998\", \"PA<br>Year: 2009 Math: 244.738227<br>Reading: 221.3485904\", \"PA<br>Year: 2009 Math: 242.36482469999999<br>Reading: 226.13053870000002\", \"RI<br>Year: 2009 Math: 240.4065545<br>Reading: 217.8659933\", \"RI<br>Year: 2009 Math: 237.00482000000002<br>Reading: 227.78835460000002\", \"SC<br>Year: 2009 Math: 236.12872799999997<br>Reading: 213.40612760000002\", \"SC<br>Year: 2009 Math: 235.1828128<br>Reading: 218.5484679\", \"SD<br>Year: 2009 Math: 243.4159228<br>Reading: 219.5269395\", \"SD<br>Year: 2009 Math: 240.6416357<br>Reading: 224.9867318\", \"TN<br>Year: 2009 Math: 232.1633181<br>Reading: 213.85772519999998\", \"TN<br>Year: 2009 Math: 231.4680404<br>Reading: 219.65458309999997\", \"TX<br>Year: 2009 Math: 240.8848503<br>Reading: 215.67111269999998\", \"TX<br>Year: 2009 Math: 240.02622659999997<br>Reading: 222.17289669999997\", \"UT<br>Year: 2009 Math: 241.3084911<br>Reading: 216.9301106\", \"UT<br>Year: 2009 Math: 239.2707128<br>Reading: 221.549557\", \"VA<br>Year: 2009 Math: 244.65101659999996<br>Reading: 222.7808285\", \"VA<br>Year: 2009 Math: 241.4090858<br>Reading: 230.46729019999998\", \"VT<br>Year: 2009 Math: 248.878935<br>Reading: 226.1078339\", \"VT<br>Year: 2009 Math: 246.59942569999998<br>Reading: 231.4772687\", \"WA<br>Year: 2009 Math: 242.38630099999997<br>Reading: 217.0907011\", \"WA<br>Year: 2009 Math: 242.12162080000002<br>Reading: 225.733106\", \"WI<br>Year: 2009 Math: 244.67302310000002<br>Reading: 216.606254\", \"WI<br>Year: 2009 Math: 242.41006940000003<br>Reading: 223.8881088\", \"WV<br>Year: 2009 Math: 233.99410730000002<br>Reading: 210.86660419999998\", \"WV<br>Year: 2009 Math: 231.92953909999997<br>Reading: 218.3040847\", \"WY<br>Year: 2009 Math: 242.9470371<br>Reading: 219.1295972\", \"WY<br>Year: 2009 Math: 240.98958219999997<br>Reading: 226.4977208\"], \"type\": \"choropleth\", \"z\": [7.994232169, 5.468155375, -4.7403774610000005, -3.653732845, 3.8438803860000004, 3.534545133, -5.347706172, -3.5281865239999997, -0.6518540429999999, -0.538964046, 3.682821273, 1.132504124, 4.912577634, 6.044437553, -13.41100755, -10.71400017, 5.577060342999999, 1.082321407, -4.932093335, -3.894247337, -0.158230994, -0.545291935, -2.8085316660000004, -1.61986734, -1.765453055, 0.850162306, 0.29697709, 1.9019956869999999, 0.00772193, 0.302439132, -5.256180212, -2.46454845, 3.678435871, 4.539884693, -0.7503989609999999, 0.04724221, 1.5167743130000002, -0.661469259, 1.8871649819999998, 4.485821288, 2.164913166, 4.282846558999999, 6.305619527, 2.715091379, 0.768955363, 0.671773057, 0.8876460840000001, 0.375845026, -0.002341349, 2.41229038, -8.77298506, -6.047178221, 5.664633633999999, 1.6230594809999999, 2.11742937, 3.573437619, 1.1824977140000001, 0.766450938, -8.464131684, -5.103605408, 5.182216136, 6.273307075, 0.15246807099999998, -2.89077376, 0.22293583399999997, 0.428377526, -0.194759756, 0.10041951, 4.027007052, 2.921154449, 4.259619374, 5.902162767999999, 4.073708989, 1.443947864, -0.7957383259999999, -0.237434957, 4.7585890630000005, 4.928141427, 1.401218685, 2.384904024, 2.2525711580000003, 0.057546712, 1.223324692, 2.0539191519999997, -0.349697708, 1.2721164109999998, -4.800852742, -4.9489559210000005, -0.160716382, -0.805878877, -3.154572013, -1.040062072, -5.828262492, -4.062920797, 7.555863293, 6.156024062, -0.872476157, 2.0343254230000003, 2.9884064169999998, 3.427260001, -2.533504717, -3.652638528, -6.484718689, -5.0779833089999995, -7.994232169, -5.468155375, 4.7403774610000005, 3.653732845, -3.8438803860000004, -3.534545133, 5.347706172, 3.5281865239999997, 0.6518540429999999, 0.538964046, -3.682821273, -1.132504124, -4.912577634, -6.044437553, 13.41100755, 10.71400017, -5.577060342999999, -1.082321407, 4.932093335, 3.894247337, 0.158230994, 0.545291935, 2.8085316660000004, 1.61986734, 1.765453055, -0.850162306, -0.29697709, -1.9019956869999999, -0.00772193, -0.302439132, 5.256180212, 2.46454845, -3.678435871, -4.539884693, 0.7503989609999999, -0.04724221, -1.5167743130000002, 0.661469259, -1.8871649819999998, -4.485821288, -2.164913166, -4.282846558999999, -6.305619527, -2.715091379, -0.768955363, -0.671773057, -0.8876460840000001, -0.375845026, 0.002341349, -2.41229038, 8.77298506, 6.047178221, -5.664633633999999, -1.6230594809999999, -2.11742937, -3.573437619, -1.1824977140000001, -0.766450938, 8.464131684, 5.103605408, -5.182216136, -6.273307075, -0.15246807099999998, 2.89077376, -0.22293583399999997, -0.428377526, 0.194759756, -0.10041951, -4.027007052, -2.921154449, -4.259619374, -5.902162767999999, -4.073708989, -1.443947864, 0.7957383259999999, 0.237434957, -4.7585890630000005, -4.928141427, -1.401218685, -2.384904024, -2.2525711580000003, -0.057546712, -1.223324692, -2.0539191519999997, 0.349697708, -1.2721164109999998, 4.800852742, 4.9489559210000005, 0.160716382, 0.805878877, 3.154572013, 1.040062072, 5.828262492, 4.062920797, -7.555863293, -6.156024062, 0.872476157, -2.0343254230000003, -2.9884064169999998, -3.427260001, 2.533504717, 3.652638528, 6.484718689, 5.0779833089999995]}],\n",
       "                        {\"template\": {\"data\": {\"bar\": [{\"error_x\": {\"color\": \"#2a3f5f\"}, \"error_y\": {\"color\": \"#2a3f5f\"}, \"marker\": {\"line\": {\"color\": \"#E5ECF6\", \"width\": 0.5}}, \"type\": \"bar\"}], \"barpolar\": [{\"marker\": {\"line\": {\"color\": \"#E5ECF6\", \"width\": 0.5}}, \"type\": \"barpolar\"}], \"carpet\": [{\"aaxis\": {\"endlinecolor\": \"#2a3f5f\", \"gridcolor\": \"white\", \"linecolor\": \"white\", \"minorgridcolor\": \"white\", \"startlinecolor\": \"#2a3f5f\"}, \"baxis\": {\"endlinecolor\": \"#2a3f5f\", \"gridcolor\": \"white\", \"linecolor\": \"white\", \"minorgridcolor\": \"white\", \"startlinecolor\": \"#2a3f5f\"}, \"type\": \"carpet\"}], \"choropleth\": [{\"colorbar\": {\"outlinewidth\": 0, \"ticks\": \"\"}, \"type\": \"choropleth\"}], \"contour\": [{\"colorbar\": {\"outlinewidth\": 0, \"ticks\": \"\"}, \"colorscale\": [[0.0, \"#0d0887\"], [0.1111111111111111, \"#46039f\"], [0.2222222222222222, \"#7201a8\"], [0.3333333333333333, \"#9c179e\"], [0.4444444444444444, \"#bd3786\"], [0.5555555555555556, \"#d8576b\"], [0.6666666666666666, \"#ed7953\"], [0.7777777777777778, \"#fb9f3a\"], [0.8888888888888888, \"#fdca26\"], [1.0, \"#f0f921\"]], \"type\": \"contour\"}], \"contourcarpet\": [{\"colorbar\": {\"outlinewidth\": 0, \"ticks\": \"\"}, \"type\": \"contourcarpet\"}], \"heatmap\": [{\"colorbar\": {\"outlinewidth\": 0, \"ticks\": \"\"}, \"colorscale\": [[0.0, \"#0d0887\"], [0.1111111111111111, \"#46039f\"], [0.2222222222222222, \"#7201a8\"], [0.3333333333333333, \"#9c179e\"], [0.4444444444444444, \"#bd3786\"], [0.5555555555555556, \"#d8576b\"], [0.6666666666666666, \"#ed7953\"], [0.7777777777777778, \"#fb9f3a\"], [0.8888888888888888, \"#fdca26\"], [1.0, \"#f0f921\"]], \"type\": \"heatmap\"}], \"heatmapgl\": [{\"colorbar\": {\"outlinewidth\": 0, \"ticks\": \"\"}, \"colorscale\": [[0.0, \"#0d0887\"], [0.1111111111111111, \"#46039f\"], [0.2222222222222222, \"#7201a8\"], [0.3333333333333333, \"#9c179e\"], [0.4444444444444444, \"#bd3786\"], [0.5555555555555556, \"#d8576b\"], [0.6666666666666666, \"#ed7953\"], [0.7777777777777778, \"#fb9f3a\"], [0.8888888888888888, \"#fdca26\"], [1.0, \"#f0f921\"]], \"type\": \"heatmapgl\"}], \"histogram\": [{\"marker\": {\"colorbar\": {\"outlinewidth\": 0, \"ticks\": \"\"}}, \"type\": \"histogram\"}], \"histogram2d\": [{\"colorbar\": {\"outlinewidth\": 0, \"ticks\": \"\"}, \"colorscale\": [[0.0, \"#0d0887\"], [0.1111111111111111, \"#46039f\"], [0.2222222222222222, \"#7201a8\"], [0.3333333333333333, \"#9c179e\"], [0.4444444444444444, \"#bd3786\"], [0.5555555555555556, \"#d8576b\"], [0.6666666666666666, \"#ed7953\"], [0.7777777777777778, \"#fb9f3a\"], [0.8888888888888888, \"#fdca26\"], [1.0, \"#f0f921\"]], \"type\": \"histogram2d\"}], \"histogram2dcontour\": [{\"colorbar\": {\"outlinewidth\": 0, \"ticks\": \"\"}, \"colorscale\": [[0.0, \"#0d0887\"], [0.1111111111111111, \"#46039f\"], [0.2222222222222222, \"#7201a8\"], [0.3333333333333333, \"#9c179e\"], [0.4444444444444444, \"#bd3786\"], [0.5555555555555556, \"#d8576b\"], [0.6666666666666666, \"#ed7953\"], [0.7777777777777778, \"#fb9f3a\"], [0.8888888888888888, \"#fdca26\"], [1.0, \"#f0f921\"]], \"type\": \"histogram2dcontour\"}], \"mesh3d\": [{\"colorbar\": {\"outlinewidth\": 0, \"ticks\": \"\"}, \"type\": \"mesh3d\"}], \"parcoords\": [{\"line\": {\"colorbar\": {\"outlinewidth\": 0, \"ticks\": \"\"}}, \"type\": \"parcoords\"}], \"scatter\": [{\"marker\": {\"colorbar\": {\"outlinewidth\": 0, \"ticks\": \"\"}}, \"type\": \"scatter\"}], \"scatter3d\": [{\"line\": {\"colorbar\": {\"outlinewidth\": 0, \"ticks\": \"\"}}, \"marker\": {\"colorbar\": {\"outlinewidth\": 0, \"ticks\": \"\"}}, \"type\": \"scatter3d\"}], \"scattercarpet\": [{\"marker\": {\"colorbar\": {\"outlinewidth\": 0, \"ticks\": \"\"}}, \"type\": \"scattercarpet\"}], \"scattergeo\": [{\"marker\": {\"colorbar\": {\"outlinewidth\": 0, \"ticks\": \"\"}}, \"type\": \"scattergeo\"}], \"scattergl\": [{\"marker\": {\"colorbar\": {\"outlinewidth\": 0, \"ticks\": \"\"}}, \"type\": \"scattergl\"}], \"scattermapbox\": [{\"marker\": {\"colorbar\": {\"outlinewidth\": 0, \"ticks\": \"\"}}, \"type\": \"scattermapbox\"}], \"scatterpolar\": [{\"marker\": {\"colorbar\": {\"outlinewidth\": 0, \"ticks\": \"\"}}, \"type\": \"scatterpolar\"}], \"scatterpolargl\": [{\"marker\": {\"colorbar\": {\"outlinewidth\": 0, \"ticks\": \"\"}}, \"type\": \"scatterpolargl\"}], \"scatterternary\": [{\"marker\": {\"colorbar\": {\"outlinewidth\": 0, \"ticks\": \"\"}}, \"type\": \"scatterternary\"}], \"surface\": [{\"colorbar\": {\"outlinewidth\": 0, \"ticks\": \"\"}, \"colorscale\": [[0.0, \"#0d0887\"], [0.1111111111111111, \"#46039f\"], [0.2222222222222222, \"#7201a8\"], [0.3333333333333333, \"#9c179e\"], [0.4444444444444444, \"#bd3786\"], [0.5555555555555556, \"#d8576b\"], [0.6666666666666666, \"#ed7953\"], [0.7777777777777778, \"#fb9f3a\"], [0.8888888888888888, \"#fdca26\"], [1.0, \"#f0f921\"]], \"type\": \"surface\"}], \"table\": [{\"cells\": {\"fill\": {\"color\": \"#EBF0F8\"}, \"line\": {\"color\": \"white\"}}, \"header\": {\"fill\": {\"color\": \"#C8D4E3\"}, \"line\": {\"color\": \"white\"}}, \"type\": \"table\"}]}, \"layout\": {\"annotationdefaults\": {\"arrowcolor\": \"#2a3f5f\", \"arrowhead\": 0, \"arrowwidth\": 1}, \"colorscale\": {\"diverging\": [[0, \"#8e0152\"], [0.1, \"#c51b7d\"], [0.2, \"#de77ae\"], [0.3, \"#f1b6da\"], [0.4, \"#fde0ef\"], [0.5, \"#f7f7f7\"], [0.6, \"#e6f5d0\"], [0.7, \"#b8e186\"], [0.8, \"#7fbc41\"], [0.9, \"#4d9221\"], [1, \"#276419\"]], \"sequential\": [[0.0, \"#0d0887\"], [0.1111111111111111, \"#46039f\"], [0.2222222222222222, \"#7201a8\"], [0.3333333333333333, \"#9c179e\"], [0.4444444444444444, \"#bd3786\"], [0.5555555555555556, \"#d8576b\"], [0.6666666666666666, \"#ed7953\"], [0.7777777777777778, \"#fb9f3a\"], [0.8888888888888888, \"#fdca26\"], [1.0, \"#f0f921\"]], \"sequentialminus\": [[0.0, \"#0d0887\"], [0.1111111111111111, \"#46039f\"], [0.2222222222222222, \"#7201a8\"], [0.3333333333333333, \"#9c179e\"], [0.4444444444444444, \"#bd3786\"], [0.5555555555555556, \"#d8576b\"], [0.6666666666666666, \"#ed7953\"], [0.7777777777777778, \"#fb9f3a\"], [0.8888888888888888, \"#fdca26\"], [1.0, \"#f0f921\"]]}, \"colorway\": [\"#636efa\", \"#EF553B\", \"#00cc96\", \"#ab63fa\", \"#FFA15A\", \"#19d3f3\", \"#FF6692\", \"#B6E880\", \"#FF97FF\", \"#FECB52\"], \"font\": {\"color\": \"#2a3f5f\"}, \"geo\": {\"bgcolor\": \"white\", \"lakecolor\": \"white\", \"landcolor\": \"#E5ECF6\", \"showlakes\": true, \"showland\": true, \"subunitcolor\": \"white\"}, \"hoverlabel\": {\"align\": \"left\"}, \"hovermode\": \"closest\", \"mapbox\": {\"style\": \"light\"}, \"paper_bgcolor\": \"white\", \"plot_bgcolor\": \"#E5ECF6\", \"polar\": {\"angularaxis\": {\"gridcolor\": \"white\", \"linecolor\": \"white\", \"ticks\": \"\"}, \"bgcolor\": \"#E5ECF6\", \"radialaxis\": {\"gridcolor\": \"white\", \"linecolor\": \"white\", \"ticks\": \"\"}}, \"scene\": {\"xaxis\": {\"backgroundcolor\": \"#E5ECF6\", \"gridcolor\": \"white\", \"gridwidth\": 2, \"linecolor\": \"white\", \"showbackground\": true, \"ticks\": \"\", \"zerolinecolor\": \"white\"}, \"yaxis\": {\"backgroundcolor\": \"#E5ECF6\", \"gridcolor\": \"white\", \"gridwidth\": 2, \"linecolor\": \"white\", \"showbackground\": true, \"ticks\": \"\", \"zerolinecolor\": \"white\"}, \"zaxis\": {\"backgroundcolor\": \"#E5ECF6\", \"gridcolor\": \"white\", \"gridwidth\": 2, \"linecolor\": \"white\", \"showbackground\": true, \"ticks\": \"\", \"zerolinecolor\": \"white\"}}, \"shapedefaults\": {\"line\": {\"color\": \"#2a3f5f\"}}, \"ternary\": {\"aaxis\": {\"gridcolor\": \"white\", \"linecolor\": \"white\", \"ticks\": \"\"}, \"baxis\": {\"gridcolor\": \"white\", \"linecolor\": \"white\", \"ticks\": \"\"}, \"bgcolor\": \"#E5ECF6\", \"caxis\": {\"gridcolor\": \"white\", \"linecolor\": \"white\", \"ticks\": \"\"}}, \"title\": {\"x\": 0.05}, \"xaxis\": {\"automargin\": true, \"gridcolor\": \"white\", \"linecolor\": \"white\", \"ticks\": \"\", \"zerolinecolor\": \"white\", \"zerolinewidth\": 2}, \"yaxis\": {\"automargin\": true, \"gridcolor\": \"white\", \"linecolor\": \"white\", \"ticks\": \"\", \"zerolinecolor\": \"white\", \"zerolinewidth\": 2}}}},\n",
       "                        {\"responsive\": true}\n",
       "                    ).then(function(){\n",
       "                            \n",
       "var gd = document.getElementById('0bc1f55e-32d2-4479-864d-fbf70444752e');\n",
       "var x = new MutationObserver(function (mutations, observer) {{\n",
       "        var display = window.getComputedStyle(gd).display;\n",
       "        if (!display || display === 'none') {{\n",
       "            console.log([gd, 'removed!']);\n",
       "            Plotly.purge(gd);\n",
       "            observer.disconnect();\n",
       "        }}\n",
       "}});\n",
       "\n",
       "// Listen for the removal of the full notebook cells\n",
       "var notebookContainer = gd.closest('#notebook-container');\n",
       "if (notebookContainer) {{\n",
       "    x.observe(notebookContainer, {childList: true});\n",
       "}}\n",
       "\n",
       "// Listen for the clearing of the current output cell\n",
       "var outputEl = gd.closest('.output');\n",
       "if (outputEl) {{\n",
       "    x.observe(outputEl, {childList: true});\n",
       "}}\n",
       "\n",
       "                        })\n",
       "                };\n",
       "                });\n",
       "            </script>\n",
       "        </div>"
      ]
     },
     "metadata": {},
     "output_type": "display_data"
    }
   ],
   "source": [
    "fig = go.Figure()\n",
    "fig.add_trace(go.Choropleth(\n",
    "            locations=df['state'],\n",
    "            z=df['avg_math_perchg'].astype(float),\n",
    "            locationmode='USA-states',\n",
    "            colorscale='Blues',\n",
    "            autocolorscale=False,\n",
    "            text=df['text'], # hover text\n",
    "            marker_line_color='white', # line markers between states\n",
    "            colorbar_title=\"Average Math Difference\"\n",
    "))\n",
    "\n",
    "fig.add_trace(go.Choropleth(\n",
    "            locations=df['state'],\n",
    "            z=df['avg_math_perchg'].astype(float),\n",
    "            locationmode='USA-states',\n",
    "            colorscale='Blues',\n",
    "            autocolorscale=False,\n",
    "            text=df['text'], # hover text\n",
    "            marker_line_color='white', # line markers between states\n",
    "            colorbar_title=\"Average Math Difference\"\n",
    "))"
   ]
  },
  {
   "cell_type": "code",
   "execution_count": 11,
   "metadata": {},
   "outputs": [
    {
     "data": {
      "application/vnd.plotly.v1+json": {
       "config": {
        "plotlyServerURL": "https://plot.ly"
       },
       "data": [
        {
         "autocolorscale": false,
         "colorbar": {
          "title": {
           "text": "Average Math Difference"
          }
         },
         "colorscale": [
          [
           0,
           "rgb(247,251,255)"
          ],
          [
           0.125,
           "rgb(222,235,247)"
          ],
          [
           0.25,
           "rgb(198,219,239)"
          ],
          [
           0.375,
           "rgb(158,202,225)"
          ],
          [
           0.5,
           "rgb(107,174,214)"
          ],
          [
           0.625,
           "rgb(66,146,198)"
          ],
          [
           0.75,
           "rgb(33,113,181)"
          ],
          [
           0.875,
           "rgb(8,81,156)"
          ],
          [
           1,
           "rgb(8,48,107)"
          ]
         ],
         "locationmode": "USA-states",
         "locations": [
          "AK",
          "AK",
          "AL",
          "AL",
          "AR",
          "AR",
          "AZ",
          "AZ",
          "CA",
          "CA",
          "CO",
          "CO",
          "CT",
          "CT",
          "DC",
          "DC",
          "DE",
          "DE",
          "FL",
          "FL",
          "GA",
          "GA",
          "HI",
          "HI",
          "IA",
          "IA",
          "ID",
          "ID",
          "IL",
          "IL",
          "IN",
          "IN",
          "KS",
          "KS",
          "KY",
          "KY",
          "LA",
          "LA",
          "MA",
          "MA",
          "MD",
          "MD",
          "ME",
          "ME",
          "MI",
          "MI",
          "MN",
          "MN",
          "MO",
          "MO",
          "MS",
          "MS",
          "MT",
          "MT",
          "NC",
          "NC",
          "ND",
          "ND",
          "NE",
          "NE",
          "NH",
          "NH",
          "NJ",
          "NJ",
          "NM",
          "NM",
          "NT",
          "NT",
          "NV",
          "NV",
          "NY",
          "NY",
          "OH",
          "OH",
          "OK",
          "OK",
          "OR",
          "OR",
          "PA",
          "PA",
          "RI",
          "RI",
          "SC",
          "SC",
          "SD",
          "SD",
          "TN",
          "TN",
          "TX",
          "TX",
          "UT",
          "UT",
          "VA",
          "VA",
          "VT",
          "VT",
          "WA",
          "WA",
          "WI",
          "WI",
          "WV",
          "WV",
          "WY",
          "WY",
          "AK",
          "AK",
          "AL",
          "AL",
          "AR",
          "AR",
          "AZ",
          "AZ",
          "CA",
          "CA",
          "CO",
          "CO",
          "CT",
          "CT",
          "DC",
          "DC",
          "DE",
          "DE",
          "FL",
          "FL",
          "GA",
          "GA",
          "HI",
          "HI",
          "IA",
          "IA",
          "ID",
          "ID",
          "IL",
          "IL",
          "IN",
          "IN",
          "KS",
          "KS",
          "KY",
          "KY",
          "LA",
          "LA",
          "MA",
          "MA",
          "MD",
          "MD",
          "ME",
          "ME",
          "MI",
          "MI",
          "MN",
          "MN",
          "MO",
          "MO",
          "MS",
          "MS",
          "MT",
          "MT",
          "NC",
          "NC",
          "ND",
          "ND",
          "NE",
          "NE",
          "NH",
          "NH",
          "NJ",
          "NJ",
          "NM",
          "NM",
          "NT",
          "NT",
          "NV",
          "NV",
          "NY",
          "NY",
          "OH",
          "OH",
          "OK",
          "OK",
          "OR",
          "OR",
          "PA",
          "PA",
          "RI",
          "RI",
          "SC",
          "SC",
          "SD",
          "SD",
          "TN",
          "TN",
          "TX",
          "TX",
          "UT",
          "UT",
          "VA",
          "VA",
          "VT",
          "VT",
          "WA",
          "WA",
          "WI",
          "WI",
          "WV",
          "WV",
          "WY",
          "WY"
         ],
         "marker": {
          "line": {
           "color": "white"
          }
         },
         "text": [
          "AK<br>Year: 2017 Math: 230.45176030000002<br>Reading: 203.0513017",
          "AK<br>Year: 2017 Math: 230.4611871<br>Reading: 211.34334269999997",
          "AL<br>Year: 2017 Math: 232.45857009999997<br>Reading: 212.8211091",
          "AL<br>Year: 2017 Math: 231.87848169999998<br>Reading: 220.0065999",
          "AR<br>Year: 2017 Math: 234.9807022<br>Reading: 211.74262000000002",
          "AR<br>Year: 2017 Math: 232.66498760000002<br>Reading: 220.6330097",
          "AZ<br>Year: 2017 Math: 235.6316557<br>Reading: 213.46267039999998",
          "AZ<br>Year: 2017 Math: 233.2150457<br>Reading: 217.52022689999998",
          "CA<br>Year: 2017 Math: 233.26568619999998<br>Reading: 210.7706082",
          "CA<br>Year: 2017 Math: 231.2155055<br>Reading: 220.2931384",
          "CO<br>Year: 2017 Math: 240.2821937<br>Reading: 221.61640559999998",
          "CO<br>Year: 2017 Math: 241.13729730000003<br>Reading: 228.02043140000004",
          "CT<br>Year: 2017 Math: 241.4876106<br>Reading: 225.69884989999997",
          "CT<br>Year: 2017 Math: 236.91665030000001<br>Reading: 231.06940530000003",
          "DC<br>Year: 2017 Math: 231.3590099<br>Reading: 209.7059168",
          "DC<br>Year: 2017 Math: 231.2817799<br>Reading: 217.0726847",
          "DE<br>Year: 2017 Math: 235.5916588<br>Reading: 217.02140950000003",
          "DE<br>Year: 2017 Math: 236.66877599999998<br>Reading: 226.0044074",
          "FL<br>Year: 2017 Math: 247.4765145<br>Reading: 226.0874762",
          "FL<br>Year: 2017 Math: 245.23157<br>Reading: 230.5293065",
          "GA<br>Year: 2017 Math: 236.6667509<br>Reading: 215.9960475",
          "GA<br>Year: 2017 Math: 236.0913659<br>Reading: 223.46619819999998",
          "HI<br>Year: 2017 Math: 238.0754512<br>Reading: 211.96439750000002",
          "HI<br>Year: 2017 Math: 237.750739<br>Reading: 221.1629899",
          "IA<br>Year: 2017 Math: 245.0853816<br>Reading: 218.88682480000003",
          "IA<br>Year: 2017 Math: 240.9940059<br>Reading: 224.76728390000002",
          "ID<br>Year: 2017 Math: 241.64338199999997<br>Reading: 220.3231426",
          "ID<br>Year: 2017 Math: 238.2289001<br>Reading: 225.3600964",
          "IL<br>Year: 2017 Math: 239.6449667<br>Reading: 217.19876859999997",
          "IL<br>Year: 2017 Math: 236.6028134<br>Reading: 223.51177090000002",
          "IN<br>Year: 2017 Math: 248.2432237<br>Reading: 224.2207755",
          "IN<br>Year: 2017 Math: 244.6945339<br>Reading: 228.74029500000003",
          "KS<br>Year: 2017 Math: 242.4832381<br>Reading: 220.723398",
          "KS<br>Year: 2017 Math: 239.8473267<br>Reading: 226.0057583",
          "KY<br>Year: 2017 Math: 240.7846346<br>Reading: 221.9300199",
          "KY<br>Year: 2017 Math: 237.52027719999998<br>Reading: 226.27731580000003",
          "LA<br>Year: 2017 Math: 228.60418190000001<br>Reading: 210.24742400000002",
          "LA<br>Year: 2017 Math: 229.35140840000003<br>Reading: 213.0166577",
          "MA<br>Year: 2017 Math: 251.55340180000002<br>Reading: 232.9402589",
          "MA<br>Year: 2017 Math: 246.59656850000002<br>Reading: 238.5091687",
          "MD<br>Year: 2017 Math: 242.0755965<br>Reading: 220.69551069999997",
          "MD<br>Year: 2017 Math: 239.06334640000003<br>Reading: 229.59108769999997",
          "ME<br>Year: 2017 Math: 240.23484130000003<br>Reading: 219.2110349",
          "ME<br>Year: 2017 Math: 239.5559952<br>Reading: 223.5981836",
          "MI<br>Year: 2017 Math: 236.8113307<br>Reading: 213.58580730000003",
          "MI<br>Year: 2017 Math: 234.2812085<br>Reading: 221.98642510000002",
          "MN<br>Year: 2017 Math: 250.3992494<br>Reading: 221.9607287",
          "MN<br>Year: 2017 Math: 247.18105690000002<br>Reading: 227.14780640000004",
          "MO<br>Year: 2017 Math: 241.2361641<br>Reading: 220.5014873",
          "MO<br>Year: 2017 Math: 237.6815798<br>Reading: 224.97627709999998",
          "MS<br>Year: 2017 Math: 235.4568755<br>Reading: 211.57824509999998",
          "MS<br>Year: 2017 Math: 233.90217119999997<br>Reading: 218.94522659999998",
          "MT<br>Year: 2017 Math: 241.34523969999998<br>Reading: 220.22639280000004",
          "MT<br>Year: 2017 Math: 240.04140550000002<br>Reading: 224.62601899999999",
          "NC<br>Year: 2017 Math: 241.85216719999997<br>Reading: 221.1697234",
          "NC<br>Year: 2017 Math: 240.00583250000003<br>Reading: 226.8317849",
          "ND<br>Year: 2017 Math: 245.6263482<br>Reading: 216.68196830000002",
          "ND<br>Year: 2017 Math: 242.74885609999998<br>Reading: 226.69569019999997",
          "NE<br>Year: 2017 Math: 247.2209733<br>Reading: 220.76644700000003",
          "NE<br>Year: 2017 Math: 243.84341969999997<br>Reading: 227.65359229999999",
          "NH<br>Year: 2017 Math: 247.0152097<br>Reading: 227.622395",
          "NH<br>Year: 2017 Math: 243.59176150000002<br>Reading: 230.2115385",
          "NJ<br>Year: 2017 Math: 248.27456969999997<br>Reading: 228.67674590000001",
          "NJ<br>Year: 2017 Math: 247.4159119<br>Reading: 237.3914716",
          "NM<br>Year: 2017 Math: 230.41794<br>Reading: 203.95849180000002",
          "NM<br>Year: 2017 Math: 228.9597938<br>Reading: 211.60481069999997",
          "NT<br>Year: 2017 Math: 240.81240899999997<br>Reading: 218.96578190000002",
          "NT<br>Year: 2017 Math: 238.59400019999998<br>Reading: 224.9204301",
          "NV<br>Year: 2017 Math: 232.0763332<br>Reading: 211.24649399999998",
          "NV<br>Year: 2017 Math: 231.282843<br>Reading: 218.53305350000002",
          "NY<br>Year: 2017 Math: 237.62465120000002<br>Reading: 219.0240122",
          "NY<br>Year: 2017 Math: 233.4225455<br>Reading: 224.7796747",
          "OH<br>Year: 2017 Math: 241.41514730000003<br>Reading: 223.49784759999997",
          "OH<br>Year: 2017 Math: 240.4299969<br>Reading: 227.09899950000002",
          "OK<br>Year: 2017 Math: 238.72844869999997<br>Reading: 212.8841397",
          "OK<br>Year: 2017 Math: 235.8625867<br>Reading: 220.40549109999998",
          "OR<br>Year: 2017 Math: 235.1656413<br>Reading: 212.40314680000003",
          "OR<br>Year: 2017 Math: 231.0436143<br>Reading: 222.78055460000002",
          "PA<br>Year: 2017 Math: 243.3370083<br>Reading: 224.1111222",
          "PA<br>Year: 2017 Math: 239.97992069999998<br>Reading: 225.75630730000003",
          "RI<br>Year: 2017 Math: 238.15398330000002<br>Reading: 220.60557659999998",
          "RI<br>Year: 2017 Math: 236.9472733<br>Reading: 226.15168549999999",
          "SC<br>Year: 2017 Math: 234.90540330000002<br>Reading: 209.56633200000002",
          "SC<br>Year: 2017 Math: 233.12889359999997<br>Reading: 216.90885469999998",
          "SD<br>Year: 2017 Math: 243.7656205<br>Reading: 219.1506216",
          "SD<br>Year: 2017 Math: 239.36951919999998<br>Reading: 224.399956",
          "TN<br>Year: 2017 Math: 236.9641708<br>Reading: 215.29826630000002",
          "TN<br>Year: 2017 Math: 236.4169963<br>Reading: 222.6835514",
          "TX<br>Year: 2017 Math: 241.0455667<br>Reading: 213.48003340000002",
          "TX<br>Year: 2017 Math: 240.8321055<br>Reading: 216.38500499999998",
          "UT<br>Year: 2017 Math: 244.4630631<br>Reading: 221.0767767",
          "UT<br>Year: 2017 Math: 240.31077480000002<br>Reading: 229.64693480000003",
          "VA<br>Year: 2017 Math: 250.47927909999999<br>Reading: 226.245481",
          "VA<br>Year: 2017 Math: 245.47200660000001<br>Reading: 229.02030040000002",
          "VT<br>Year: 2017 Math: 241.32307180000004<br>Reading: 223.34771800000001",
          "VT<br>Year: 2017 Math: 240.4434016<br>Reading: 229.64731380000003",
          "WA<br>Year: 2017 Math: 243.2587772<br>Reading: 220.2532377",
          "WA<br>Year: 2017 Math: 240.08729530000002<br>Reading: 226.1011123",
          "WI<br>Year: 2017 Math: 241.6846167<br>Reading: 216.7292028",
          "WI<br>Year: 2017 Math: 238.9828094<br>Reading: 222.7703131",
          "WV<br>Year: 2017 Math: 236.527612<br>Reading: 212.89900260000002",
          "WV<br>Year: 2017 Math: 235.5821776<br>Reading: 221.8400483",
          "WY<br>Year: 2017 Math: 249.43175580000002<br>Reading: 224.1985693",
          "WY<br>Year: 2017 Math: 246.06756549999997<br>Reading: 229.6916923",
          "AK<br>Year: 2009 Math: 238.4459925<br>Reading: 206.7242292",
          "AK<br>Year: 2009 Math: 235.9293425<br>Reading: 215.7112338",
          "AL<br>Year: 2009 Math: 227.7181926<br>Reading: 211.74193050000002",
          "AL<br>Year: 2009 Math: 228.2247489<br>Reading: 221.1006988",
          "AR<br>Year: 2009 Math: 238.82458259999999<br>Reading: 210.97585800000002",
          "AR<br>Year: 2009 Math: 236.1995327<br>Reading: 221.5645131",
          "AZ<br>Year: 2009 Math: 230.2839495<br>Reading: 206.9136801",
          "AZ<br>Year: 2009 Math: 229.68685919999996<br>Reading: 213.18922450000002",
          "CA<br>Year: 2009 Math: 232.6138321<br>Reading: 207.055218",
          "CA<br>Year: 2009 Math: 230.6765415<br>Reading: 212.63764550000002",
          "CO<br>Year: 2009 Math: 243.965015<br>Reading: 222.255777",
          "CO<br>Year: 2009 Math: 242.2698015<br>Reading: 229.2295877",
          "CT<br>Year: 2009 Math: 246.40018819999997<br>Reading: 224.53905319999996",
          "CT<br>Year: 2009 Math: 242.96108790000002<br>Reading: 233.50362579999998",
          "DC<br>Year: 2009 Math: 217.9480023<br>Reading: 198.09476619999998",
          "DC<br>Year: 2009 Math: 220.5677797<br>Reading: 205.74594040000002",
          "DE<br>Year: 2009 Math: 241.1687191<br>Reading: 222.87174190000002",
          "DE<br>Year: 2009 Math: 237.7510974<br>Reading: 228.1886232",
          "FL<br>Year: 2009 Math: 242.54442110000002<br>Reading: 222.52019610000002",
          "FL<br>Year: 2009 Math: 241.3373227<br>Reading: 228.8642131",
          "GA<br>Year: 2009 Math: 236.5085199<br>Reading: 214.28571380000002",
          "GA<br>Year: 2009 Math: 235.5460739<br>Reading: 221.3610349",
          "HI<br>Year: 2009 Math: 235.26691949999997<br>Reading: 205.13322390000002",
          "HI<br>Year: 2009 Math: 236.1308716<br>Reading: 216.66726060000002",
          "IA<br>Year: 2009 Math: 243.3199286<br>Reading: 216.96943230000002",
          "IA<br>Year: 2009 Math: 241.8441682<br>Reading: 225.965448",
          "ID<br>Year: 2009 Math: 241.9403591<br>Reading: 216.5292228",
          "ID<br>Year: 2009 Math: 240.13089580000002<br>Reading: 225.5082653",
          "IL<br>Year: 2009 Math: 239.6526887<br>Reading: 214.8423846",
          "IL<br>Year: 2009 Math: 236.9052525<br>Reading: 223.5129821",
          "IN<br>Year: 2009 Math: 242.98704339999998<br>Reading: 218.3968134",
          "IN<br>Year: 2009 Math: 242.2299855<br>Reading: 227.0696154",
          "KS<br>Year: 2009 Math: 246.16167400000003<br>Reading: 222.1581946",
          "KS<br>Year: 2009 Math: 244.3872114<br>Reading: 225.8242076",
          "KY<br>Year: 2009 Math: 240.03423560000002<br>Reading: 222.3486903",
          "KY<br>Year: 2009 Math: 237.56751949999997<br>Reading: 228.90135469999998",
          "LA<br>Year: 2009 Math: 230.1209562<br>Reading: 202.9714742",
          "LA<br>Year: 2009 Math: 228.68993909999998<br>Reading: 212.28630139999999",
          "MA<br>Year: 2009 Math: 253.4405668<br>Reading: 231.1401318",
          "MA<br>Year: 2009 Math: 251.08238980000002<br>Reading: 236.3237981",
          "MD<br>Year: 2009 Math: 244.24050970000002<br>Reading: 222.5177629",
          "MD<br>Year: 2009 Math: 243.34619300000003<br>Reading: 229.43872510000003",
          "ME<br>Year: 2009 Math: 246.5404608<br>Reading: 219.58023369999998",
          "ME<br>Year: 2009 Math: 242.2710866<br>Reading: 228.09681609999998",
          "MI<br>Year: 2009 Math: 237.5802861<br>Reading: 214.3957909",
          "MI<br>Year: 2009 Math: 234.95298160000002<br>Reading: 222.1448852",
          "MN<br>Year: 2009 Math: 251.2868955<br>Reading: 219.8187462",
          "MN<br>Year: 2009 Math: 247.556902<br>Reading: 226.9751804",
          "MO<br>Year: 2009 Math: 241.2338228<br>Reading: 218.9749832",
          "MO<br>Year: 2009 Math: 240.0938702<br>Reading: 229.0948613",
          "MS<br>Year: 2009 Math: 226.6838904<br>Reading: 207.6306934",
          "MS<br>Year: 2009 Math: 227.854993<br>Reading: 213.47530240000003",
          "MT<br>Year: 2009 Math: 247.0098734<br>Reading: 221.7826605",
          "MT<br>Year: 2009 Math: 241.6644649<br>Reading: 227.6048386",
          "NC<br>Year: 2009 Math: 243.9695966<br>Reading: 214.78778430000003",
          "NC<br>Year: 2009 Math: 243.5792701<br>Reading: 224.02092779999998",
          "ND<br>Year: 2009 Math: 246.80884590000002<br>Reading: 223.1073372",
          "ND<br>Year: 2009 Math: 243.5153071<br>Reading: 228.91858919999999",
          "NE<br>Year: 2009 Math: 238.75684159999997<br>Reading: 219.6725023",
          "NE<br>Year: 2009 Math: 238.7398143<br>Reading: 225.4668601",
          "NH<br>Year: 2009 Math: 252.1974258<br>Reading: 225.85400589999998",
          "NH<br>Year: 2009 Math: 249.8650685<br>Reading: 232.6529539",
          "NJ<br>Year: 2009 Math: 248.4270377<br>Reading: 227.1098772",
          "NJ<br>Year: 2009 Math: 244.5251381<br>Reading: 231.69815359999998",
          "NM<br>Year: 2009 Math: 230.6408759<br>Reading: 202.83436890000002",
          "NM<br>Year: 2009 Math: 229.3881713<br>Reading: 212.59483959999997",
          "NT<br>Year: 2009 Math: 240.61764920000002<br>Reading: 217.6064798",
          "NT<br>Year: 2009 Math: 238.69441969999997<br>Reading: 224.34676769999996",
          "NV<br>Year: 2009 Math: 236.10334029999999<br>Reading: 208.2577906",
          "NV<br>Year: 2009 Math: 234.2039974<br>Reading: 213.9765537",
          "NY<br>Year: 2009 Math: 241.8842705<br>Reading: 220.7946954",
          "NY<br>Year: 2009 Math: 239.3247083<br>Reading: 228.1099483",
          "OH<br>Year: 2009 Math: 245.4888563<br>Reading: 221.64348859999998",
          "OH<br>Year: 2009 Math: 241.87394480000003<br>Reading: 227.3593687",
          "OK<br>Year: 2009 Math: 237.93271040000002<br>Reading: 213.96507730000002",
          "OK<br>Year: 2009 Math: 235.6251517<br>Reading: 220.36061439999997",
          "OR<br>Year: 2009 Math: 239.9242304<br>Reading: 214.1195805",
          "OR<br>Year: 2009 Math: 235.97175570000002<br>Reading: 222.50049199999998",
          "PA<br>Year: 2009 Math: 244.738227<br>Reading: 221.3485904",
          "PA<br>Year: 2009 Math: 242.36482469999999<br>Reading: 226.13053870000002",
          "RI<br>Year: 2009 Math: 240.4065545<br>Reading: 217.8659933",
          "RI<br>Year: 2009 Math: 237.00482000000002<br>Reading: 227.78835460000002",
          "SC<br>Year: 2009 Math: 236.12872799999997<br>Reading: 213.40612760000002",
          "SC<br>Year: 2009 Math: 235.1828128<br>Reading: 218.5484679",
          "SD<br>Year: 2009 Math: 243.4159228<br>Reading: 219.5269395",
          "SD<br>Year: 2009 Math: 240.6416357<br>Reading: 224.9867318",
          "TN<br>Year: 2009 Math: 232.1633181<br>Reading: 213.85772519999998",
          "TN<br>Year: 2009 Math: 231.4680404<br>Reading: 219.65458309999997",
          "TX<br>Year: 2009 Math: 240.8848503<br>Reading: 215.67111269999998",
          "TX<br>Year: 2009 Math: 240.02622659999997<br>Reading: 222.17289669999997",
          "UT<br>Year: 2009 Math: 241.3084911<br>Reading: 216.9301106",
          "UT<br>Year: 2009 Math: 239.2707128<br>Reading: 221.549557",
          "VA<br>Year: 2009 Math: 244.65101659999996<br>Reading: 222.7808285",
          "VA<br>Year: 2009 Math: 241.4090858<br>Reading: 230.46729019999998",
          "VT<br>Year: 2009 Math: 248.878935<br>Reading: 226.1078339",
          "VT<br>Year: 2009 Math: 246.59942569999998<br>Reading: 231.4772687",
          "WA<br>Year: 2009 Math: 242.38630099999997<br>Reading: 217.0907011",
          "WA<br>Year: 2009 Math: 242.12162080000002<br>Reading: 225.733106",
          "WI<br>Year: 2009 Math: 244.67302310000002<br>Reading: 216.606254",
          "WI<br>Year: 2009 Math: 242.41006940000003<br>Reading: 223.8881088",
          "WV<br>Year: 2009 Math: 233.99410730000002<br>Reading: 210.86660419999998",
          "WV<br>Year: 2009 Math: 231.92953909999997<br>Reading: 218.3040847",
          "WY<br>Year: 2009 Math: 242.9470371<br>Reading: 219.1295972",
          "WY<br>Year: 2009 Math: 240.98958219999997<br>Reading: 226.4977208"
         ],
         "type": "choropleth",
         "z": [
          7.994232169,
          5.468155375,
          -4.7403774610000005,
          -3.653732845,
          3.8438803860000004,
          3.534545133,
          -5.347706172,
          -3.5281865239999997,
          -0.6518540429999999,
          -0.538964046,
          3.682821273,
          1.132504124,
          4.912577634,
          6.044437553,
          -13.41100755,
          -10.71400017,
          5.577060342999999,
          1.082321407,
          -4.932093335,
          -3.894247337,
          -0.158230994,
          -0.545291935,
          -2.8085316660000004,
          -1.61986734,
          -1.765453055,
          0.850162306,
          0.29697709,
          1.9019956869999999,
          0.00772193,
          0.302439132,
          -5.256180212,
          -2.46454845,
          3.678435871,
          4.539884693,
          -0.7503989609999999,
          0.04724221,
          1.5167743130000002,
          -0.661469259,
          1.8871649819999998,
          4.485821288,
          2.164913166,
          4.282846558999999,
          6.305619527,
          2.715091379,
          0.768955363,
          0.671773057,
          0.8876460840000001,
          0.375845026,
          -0.002341349,
          2.41229038,
          -8.77298506,
          -6.047178221,
          5.664633633999999,
          1.6230594809999999,
          2.11742937,
          3.573437619,
          1.1824977140000001,
          0.766450938,
          -8.464131684,
          -5.103605408,
          5.182216136,
          6.273307075,
          0.15246807099999998,
          -2.89077376,
          0.22293583399999997,
          0.428377526,
          -0.194759756,
          0.10041951,
          4.027007052,
          2.921154449,
          4.259619374,
          5.902162767999999,
          4.073708989,
          1.443947864,
          -0.7957383259999999,
          -0.237434957,
          4.7585890630000005,
          4.928141427,
          1.401218685,
          2.384904024,
          2.2525711580000003,
          0.057546712,
          1.223324692,
          2.0539191519999997,
          -0.349697708,
          1.2721164109999998,
          -4.800852742,
          -4.9489559210000005,
          -0.160716382,
          -0.805878877,
          -3.154572013,
          -1.040062072,
          -5.828262492,
          -4.062920797,
          7.555863293,
          6.156024062,
          -0.872476157,
          2.0343254230000003,
          2.9884064169999998,
          3.427260001,
          -2.533504717,
          -3.652638528,
          -6.484718689,
          -5.0779833089999995,
          -7.994232169,
          -5.468155375,
          4.7403774610000005,
          3.653732845,
          -3.8438803860000004,
          -3.534545133,
          5.347706172,
          3.5281865239999997,
          0.6518540429999999,
          0.538964046,
          -3.682821273,
          -1.132504124,
          -4.912577634,
          -6.044437553,
          13.41100755,
          10.71400017,
          -5.577060342999999,
          -1.082321407,
          4.932093335,
          3.894247337,
          0.158230994,
          0.545291935,
          2.8085316660000004,
          1.61986734,
          1.765453055,
          -0.850162306,
          -0.29697709,
          -1.9019956869999999,
          -0.00772193,
          -0.302439132,
          5.256180212,
          2.46454845,
          -3.678435871,
          -4.539884693,
          0.7503989609999999,
          -0.04724221,
          -1.5167743130000002,
          0.661469259,
          -1.8871649819999998,
          -4.485821288,
          -2.164913166,
          -4.282846558999999,
          -6.305619527,
          -2.715091379,
          -0.768955363,
          -0.671773057,
          -0.8876460840000001,
          -0.375845026,
          0.002341349,
          -2.41229038,
          8.77298506,
          6.047178221,
          -5.664633633999999,
          -1.6230594809999999,
          -2.11742937,
          -3.573437619,
          -1.1824977140000001,
          -0.766450938,
          8.464131684,
          5.103605408,
          -5.182216136,
          -6.273307075,
          -0.15246807099999998,
          2.89077376,
          -0.22293583399999997,
          -0.428377526,
          0.194759756,
          -0.10041951,
          -4.027007052,
          -2.921154449,
          -4.259619374,
          -5.902162767999999,
          -4.073708989,
          -1.443947864,
          0.7957383259999999,
          0.237434957,
          -4.7585890630000005,
          -4.928141427,
          -1.401218685,
          -2.384904024,
          -2.2525711580000003,
          -0.057546712,
          -1.223324692,
          -2.0539191519999997,
          0.349697708,
          -1.2721164109999998,
          4.800852742,
          4.9489559210000005,
          0.160716382,
          0.805878877,
          3.154572013,
          1.040062072,
          5.828262492,
          4.062920797,
          -7.555863293,
          -6.156024062,
          0.872476157,
          -2.0343254230000003,
          -2.9884064169999998,
          -3.427260001,
          2.533504717,
          3.652638528,
          6.484718689,
          5.0779833089999995
         ]
        },
        {
         "autocolorscale": false,
         "colorbar": {
          "title": {
           "text": "Average Math Difference"
          }
         },
         "colorscale": [
          [
           0,
           "rgb(247,251,255)"
          ],
          [
           0.125,
           "rgb(222,235,247)"
          ],
          [
           0.25,
           "rgb(198,219,239)"
          ],
          [
           0.375,
           "rgb(158,202,225)"
          ],
          [
           0.5,
           "rgb(107,174,214)"
          ],
          [
           0.625,
           "rgb(66,146,198)"
          ],
          [
           0.75,
           "rgb(33,113,181)"
          ],
          [
           0.875,
           "rgb(8,81,156)"
          ],
          [
           1,
           "rgb(8,48,107)"
          ]
         ],
         "locationmode": "USA-states",
         "locations": [
          "AK",
          "AK",
          "AL",
          "AL",
          "AR",
          "AR",
          "AZ",
          "AZ",
          "CA",
          "CA",
          "CO",
          "CO",
          "CT",
          "CT",
          "DC",
          "DC",
          "DE",
          "DE",
          "FL",
          "FL",
          "GA",
          "GA",
          "HI",
          "HI",
          "IA",
          "IA",
          "ID",
          "ID",
          "IL",
          "IL",
          "IN",
          "IN",
          "KS",
          "KS",
          "KY",
          "KY",
          "LA",
          "LA",
          "MA",
          "MA",
          "MD",
          "MD",
          "ME",
          "ME",
          "MI",
          "MI",
          "MN",
          "MN",
          "MO",
          "MO",
          "MS",
          "MS",
          "MT",
          "MT",
          "NC",
          "NC",
          "ND",
          "ND",
          "NE",
          "NE",
          "NH",
          "NH",
          "NJ",
          "NJ",
          "NM",
          "NM",
          "NT",
          "NT",
          "NV",
          "NV",
          "NY",
          "NY",
          "OH",
          "OH",
          "OK",
          "OK",
          "OR",
          "OR",
          "PA",
          "PA",
          "RI",
          "RI",
          "SC",
          "SC",
          "SD",
          "SD",
          "TN",
          "TN",
          "TX",
          "TX",
          "UT",
          "UT",
          "VA",
          "VA",
          "VT",
          "VT",
          "WA",
          "WA",
          "WI",
          "WI",
          "WV",
          "WV",
          "WY",
          "WY",
          "AK",
          "AK",
          "AL",
          "AL",
          "AR",
          "AR",
          "AZ",
          "AZ",
          "CA",
          "CA",
          "CO",
          "CO",
          "CT",
          "CT",
          "DC",
          "DC",
          "DE",
          "DE",
          "FL",
          "FL",
          "GA",
          "GA",
          "HI",
          "HI",
          "IA",
          "IA",
          "ID",
          "ID",
          "IL",
          "IL",
          "IN",
          "IN",
          "KS",
          "KS",
          "KY",
          "KY",
          "LA",
          "LA",
          "MA",
          "MA",
          "MD",
          "MD",
          "ME",
          "ME",
          "MI",
          "MI",
          "MN",
          "MN",
          "MO",
          "MO",
          "MS",
          "MS",
          "MT",
          "MT",
          "NC",
          "NC",
          "ND",
          "ND",
          "NE",
          "NE",
          "NH",
          "NH",
          "NJ",
          "NJ",
          "NM",
          "NM",
          "NT",
          "NT",
          "NV",
          "NV",
          "NY",
          "NY",
          "OH",
          "OH",
          "OK",
          "OK",
          "OR",
          "OR",
          "PA",
          "PA",
          "RI",
          "RI",
          "SC",
          "SC",
          "SD",
          "SD",
          "TN",
          "TN",
          "TX",
          "TX",
          "UT",
          "UT",
          "VA",
          "VA",
          "VT",
          "VT",
          "WA",
          "WA",
          "WI",
          "WI",
          "WV",
          "WV",
          "WY",
          "WY"
         ],
         "marker": {
          "line": {
           "color": "white"
          }
         },
         "text": [
          "AK<br>Year: 2017 Math: 230.45176030000002<br>Reading: 203.0513017",
          "AK<br>Year: 2017 Math: 230.4611871<br>Reading: 211.34334269999997",
          "AL<br>Year: 2017 Math: 232.45857009999997<br>Reading: 212.8211091",
          "AL<br>Year: 2017 Math: 231.87848169999998<br>Reading: 220.0065999",
          "AR<br>Year: 2017 Math: 234.9807022<br>Reading: 211.74262000000002",
          "AR<br>Year: 2017 Math: 232.66498760000002<br>Reading: 220.6330097",
          "AZ<br>Year: 2017 Math: 235.6316557<br>Reading: 213.46267039999998",
          "AZ<br>Year: 2017 Math: 233.2150457<br>Reading: 217.52022689999998",
          "CA<br>Year: 2017 Math: 233.26568619999998<br>Reading: 210.7706082",
          "CA<br>Year: 2017 Math: 231.2155055<br>Reading: 220.2931384",
          "CO<br>Year: 2017 Math: 240.2821937<br>Reading: 221.61640559999998",
          "CO<br>Year: 2017 Math: 241.13729730000003<br>Reading: 228.02043140000004",
          "CT<br>Year: 2017 Math: 241.4876106<br>Reading: 225.69884989999997",
          "CT<br>Year: 2017 Math: 236.91665030000001<br>Reading: 231.06940530000003",
          "DC<br>Year: 2017 Math: 231.3590099<br>Reading: 209.7059168",
          "DC<br>Year: 2017 Math: 231.2817799<br>Reading: 217.0726847",
          "DE<br>Year: 2017 Math: 235.5916588<br>Reading: 217.02140950000003",
          "DE<br>Year: 2017 Math: 236.66877599999998<br>Reading: 226.0044074",
          "FL<br>Year: 2017 Math: 247.4765145<br>Reading: 226.0874762",
          "FL<br>Year: 2017 Math: 245.23157<br>Reading: 230.5293065",
          "GA<br>Year: 2017 Math: 236.6667509<br>Reading: 215.9960475",
          "GA<br>Year: 2017 Math: 236.0913659<br>Reading: 223.46619819999998",
          "HI<br>Year: 2017 Math: 238.0754512<br>Reading: 211.96439750000002",
          "HI<br>Year: 2017 Math: 237.750739<br>Reading: 221.1629899",
          "IA<br>Year: 2017 Math: 245.0853816<br>Reading: 218.88682480000003",
          "IA<br>Year: 2017 Math: 240.9940059<br>Reading: 224.76728390000002",
          "ID<br>Year: 2017 Math: 241.64338199999997<br>Reading: 220.3231426",
          "ID<br>Year: 2017 Math: 238.2289001<br>Reading: 225.3600964",
          "IL<br>Year: 2017 Math: 239.6449667<br>Reading: 217.19876859999997",
          "IL<br>Year: 2017 Math: 236.6028134<br>Reading: 223.51177090000002",
          "IN<br>Year: 2017 Math: 248.2432237<br>Reading: 224.2207755",
          "IN<br>Year: 2017 Math: 244.6945339<br>Reading: 228.74029500000003",
          "KS<br>Year: 2017 Math: 242.4832381<br>Reading: 220.723398",
          "KS<br>Year: 2017 Math: 239.8473267<br>Reading: 226.0057583",
          "KY<br>Year: 2017 Math: 240.7846346<br>Reading: 221.9300199",
          "KY<br>Year: 2017 Math: 237.52027719999998<br>Reading: 226.27731580000003",
          "LA<br>Year: 2017 Math: 228.60418190000001<br>Reading: 210.24742400000002",
          "LA<br>Year: 2017 Math: 229.35140840000003<br>Reading: 213.0166577",
          "MA<br>Year: 2017 Math: 251.55340180000002<br>Reading: 232.9402589",
          "MA<br>Year: 2017 Math: 246.59656850000002<br>Reading: 238.5091687",
          "MD<br>Year: 2017 Math: 242.0755965<br>Reading: 220.69551069999997",
          "MD<br>Year: 2017 Math: 239.06334640000003<br>Reading: 229.59108769999997",
          "ME<br>Year: 2017 Math: 240.23484130000003<br>Reading: 219.2110349",
          "ME<br>Year: 2017 Math: 239.5559952<br>Reading: 223.5981836",
          "MI<br>Year: 2017 Math: 236.8113307<br>Reading: 213.58580730000003",
          "MI<br>Year: 2017 Math: 234.2812085<br>Reading: 221.98642510000002",
          "MN<br>Year: 2017 Math: 250.3992494<br>Reading: 221.9607287",
          "MN<br>Year: 2017 Math: 247.18105690000002<br>Reading: 227.14780640000004",
          "MO<br>Year: 2017 Math: 241.2361641<br>Reading: 220.5014873",
          "MO<br>Year: 2017 Math: 237.6815798<br>Reading: 224.97627709999998",
          "MS<br>Year: 2017 Math: 235.4568755<br>Reading: 211.57824509999998",
          "MS<br>Year: 2017 Math: 233.90217119999997<br>Reading: 218.94522659999998",
          "MT<br>Year: 2017 Math: 241.34523969999998<br>Reading: 220.22639280000004",
          "MT<br>Year: 2017 Math: 240.04140550000002<br>Reading: 224.62601899999999",
          "NC<br>Year: 2017 Math: 241.85216719999997<br>Reading: 221.1697234",
          "NC<br>Year: 2017 Math: 240.00583250000003<br>Reading: 226.8317849",
          "ND<br>Year: 2017 Math: 245.6263482<br>Reading: 216.68196830000002",
          "ND<br>Year: 2017 Math: 242.74885609999998<br>Reading: 226.69569019999997",
          "NE<br>Year: 2017 Math: 247.2209733<br>Reading: 220.76644700000003",
          "NE<br>Year: 2017 Math: 243.84341969999997<br>Reading: 227.65359229999999",
          "NH<br>Year: 2017 Math: 247.0152097<br>Reading: 227.622395",
          "NH<br>Year: 2017 Math: 243.59176150000002<br>Reading: 230.2115385",
          "NJ<br>Year: 2017 Math: 248.27456969999997<br>Reading: 228.67674590000001",
          "NJ<br>Year: 2017 Math: 247.4159119<br>Reading: 237.3914716",
          "NM<br>Year: 2017 Math: 230.41794<br>Reading: 203.95849180000002",
          "NM<br>Year: 2017 Math: 228.9597938<br>Reading: 211.60481069999997",
          "NT<br>Year: 2017 Math: 240.81240899999997<br>Reading: 218.96578190000002",
          "NT<br>Year: 2017 Math: 238.59400019999998<br>Reading: 224.9204301",
          "NV<br>Year: 2017 Math: 232.0763332<br>Reading: 211.24649399999998",
          "NV<br>Year: 2017 Math: 231.282843<br>Reading: 218.53305350000002",
          "NY<br>Year: 2017 Math: 237.62465120000002<br>Reading: 219.0240122",
          "NY<br>Year: 2017 Math: 233.4225455<br>Reading: 224.7796747",
          "OH<br>Year: 2017 Math: 241.41514730000003<br>Reading: 223.49784759999997",
          "OH<br>Year: 2017 Math: 240.4299969<br>Reading: 227.09899950000002",
          "OK<br>Year: 2017 Math: 238.72844869999997<br>Reading: 212.8841397",
          "OK<br>Year: 2017 Math: 235.8625867<br>Reading: 220.40549109999998",
          "OR<br>Year: 2017 Math: 235.1656413<br>Reading: 212.40314680000003",
          "OR<br>Year: 2017 Math: 231.0436143<br>Reading: 222.78055460000002",
          "PA<br>Year: 2017 Math: 243.3370083<br>Reading: 224.1111222",
          "PA<br>Year: 2017 Math: 239.97992069999998<br>Reading: 225.75630730000003",
          "RI<br>Year: 2017 Math: 238.15398330000002<br>Reading: 220.60557659999998",
          "RI<br>Year: 2017 Math: 236.9472733<br>Reading: 226.15168549999999",
          "SC<br>Year: 2017 Math: 234.90540330000002<br>Reading: 209.56633200000002",
          "SC<br>Year: 2017 Math: 233.12889359999997<br>Reading: 216.90885469999998",
          "SD<br>Year: 2017 Math: 243.7656205<br>Reading: 219.1506216",
          "SD<br>Year: 2017 Math: 239.36951919999998<br>Reading: 224.399956",
          "TN<br>Year: 2017 Math: 236.9641708<br>Reading: 215.29826630000002",
          "TN<br>Year: 2017 Math: 236.4169963<br>Reading: 222.6835514",
          "TX<br>Year: 2017 Math: 241.0455667<br>Reading: 213.48003340000002",
          "TX<br>Year: 2017 Math: 240.8321055<br>Reading: 216.38500499999998",
          "UT<br>Year: 2017 Math: 244.4630631<br>Reading: 221.0767767",
          "UT<br>Year: 2017 Math: 240.31077480000002<br>Reading: 229.64693480000003",
          "VA<br>Year: 2017 Math: 250.47927909999999<br>Reading: 226.245481",
          "VA<br>Year: 2017 Math: 245.47200660000001<br>Reading: 229.02030040000002",
          "VT<br>Year: 2017 Math: 241.32307180000004<br>Reading: 223.34771800000001",
          "VT<br>Year: 2017 Math: 240.4434016<br>Reading: 229.64731380000003",
          "WA<br>Year: 2017 Math: 243.2587772<br>Reading: 220.2532377",
          "WA<br>Year: 2017 Math: 240.08729530000002<br>Reading: 226.1011123",
          "WI<br>Year: 2017 Math: 241.6846167<br>Reading: 216.7292028",
          "WI<br>Year: 2017 Math: 238.9828094<br>Reading: 222.7703131",
          "WV<br>Year: 2017 Math: 236.527612<br>Reading: 212.89900260000002",
          "WV<br>Year: 2017 Math: 235.5821776<br>Reading: 221.8400483",
          "WY<br>Year: 2017 Math: 249.43175580000002<br>Reading: 224.1985693",
          "WY<br>Year: 2017 Math: 246.06756549999997<br>Reading: 229.6916923",
          "AK<br>Year: 2009 Math: 238.4459925<br>Reading: 206.7242292",
          "AK<br>Year: 2009 Math: 235.9293425<br>Reading: 215.7112338",
          "AL<br>Year: 2009 Math: 227.7181926<br>Reading: 211.74193050000002",
          "AL<br>Year: 2009 Math: 228.2247489<br>Reading: 221.1006988",
          "AR<br>Year: 2009 Math: 238.82458259999999<br>Reading: 210.97585800000002",
          "AR<br>Year: 2009 Math: 236.1995327<br>Reading: 221.5645131",
          "AZ<br>Year: 2009 Math: 230.2839495<br>Reading: 206.9136801",
          "AZ<br>Year: 2009 Math: 229.68685919999996<br>Reading: 213.18922450000002",
          "CA<br>Year: 2009 Math: 232.6138321<br>Reading: 207.055218",
          "CA<br>Year: 2009 Math: 230.6765415<br>Reading: 212.63764550000002",
          "CO<br>Year: 2009 Math: 243.965015<br>Reading: 222.255777",
          "CO<br>Year: 2009 Math: 242.2698015<br>Reading: 229.2295877",
          "CT<br>Year: 2009 Math: 246.40018819999997<br>Reading: 224.53905319999996",
          "CT<br>Year: 2009 Math: 242.96108790000002<br>Reading: 233.50362579999998",
          "DC<br>Year: 2009 Math: 217.9480023<br>Reading: 198.09476619999998",
          "DC<br>Year: 2009 Math: 220.5677797<br>Reading: 205.74594040000002",
          "DE<br>Year: 2009 Math: 241.1687191<br>Reading: 222.87174190000002",
          "DE<br>Year: 2009 Math: 237.7510974<br>Reading: 228.1886232",
          "FL<br>Year: 2009 Math: 242.54442110000002<br>Reading: 222.52019610000002",
          "FL<br>Year: 2009 Math: 241.3373227<br>Reading: 228.8642131",
          "GA<br>Year: 2009 Math: 236.5085199<br>Reading: 214.28571380000002",
          "GA<br>Year: 2009 Math: 235.5460739<br>Reading: 221.3610349",
          "HI<br>Year: 2009 Math: 235.26691949999997<br>Reading: 205.13322390000002",
          "HI<br>Year: 2009 Math: 236.1308716<br>Reading: 216.66726060000002",
          "IA<br>Year: 2009 Math: 243.3199286<br>Reading: 216.96943230000002",
          "IA<br>Year: 2009 Math: 241.8441682<br>Reading: 225.965448",
          "ID<br>Year: 2009 Math: 241.9403591<br>Reading: 216.5292228",
          "ID<br>Year: 2009 Math: 240.13089580000002<br>Reading: 225.5082653",
          "IL<br>Year: 2009 Math: 239.6526887<br>Reading: 214.8423846",
          "IL<br>Year: 2009 Math: 236.9052525<br>Reading: 223.5129821",
          "IN<br>Year: 2009 Math: 242.98704339999998<br>Reading: 218.3968134",
          "IN<br>Year: 2009 Math: 242.2299855<br>Reading: 227.0696154",
          "KS<br>Year: 2009 Math: 246.16167400000003<br>Reading: 222.1581946",
          "KS<br>Year: 2009 Math: 244.3872114<br>Reading: 225.8242076",
          "KY<br>Year: 2009 Math: 240.03423560000002<br>Reading: 222.3486903",
          "KY<br>Year: 2009 Math: 237.56751949999997<br>Reading: 228.90135469999998",
          "LA<br>Year: 2009 Math: 230.1209562<br>Reading: 202.9714742",
          "LA<br>Year: 2009 Math: 228.68993909999998<br>Reading: 212.28630139999999",
          "MA<br>Year: 2009 Math: 253.4405668<br>Reading: 231.1401318",
          "MA<br>Year: 2009 Math: 251.08238980000002<br>Reading: 236.3237981",
          "MD<br>Year: 2009 Math: 244.24050970000002<br>Reading: 222.5177629",
          "MD<br>Year: 2009 Math: 243.34619300000003<br>Reading: 229.43872510000003",
          "ME<br>Year: 2009 Math: 246.5404608<br>Reading: 219.58023369999998",
          "ME<br>Year: 2009 Math: 242.2710866<br>Reading: 228.09681609999998",
          "MI<br>Year: 2009 Math: 237.5802861<br>Reading: 214.3957909",
          "MI<br>Year: 2009 Math: 234.95298160000002<br>Reading: 222.1448852",
          "MN<br>Year: 2009 Math: 251.2868955<br>Reading: 219.8187462",
          "MN<br>Year: 2009 Math: 247.556902<br>Reading: 226.9751804",
          "MO<br>Year: 2009 Math: 241.2338228<br>Reading: 218.9749832",
          "MO<br>Year: 2009 Math: 240.0938702<br>Reading: 229.0948613",
          "MS<br>Year: 2009 Math: 226.6838904<br>Reading: 207.6306934",
          "MS<br>Year: 2009 Math: 227.854993<br>Reading: 213.47530240000003",
          "MT<br>Year: 2009 Math: 247.0098734<br>Reading: 221.7826605",
          "MT<br>Year: 2009 Math: 241.6644649<br>Reading: 227.6048386",
          "NC<br>Year: 2009 Math: 243.9695966<br>Reading: 214.78778430000003",
          "NC<br>Year: 2009 Math: 243.5792701<br>Reading: 224.02092779999998",
          "ND<br>Year: 2009 Math: 246.80884590000002<br>Reading: 223.1073372",
          "ND<br>Year: 2009 Math: 243.5153071<br>Reading: 228.91858919999999",
          "NE<br>Year: 2009 Math: 238.75684159999997<br>Reading: 219.6725023",
          "NE<br>Year: 2009 Math: 238.7398143<br>Reading: 225.4668601",
          "NH<br>Year: 2009 Math: 252.1974258<br>Reading: 225.85400589999998",
          "NH<br>Year: 2009 Math: 249.8650685<br>Reading: 232.6529539",
          "NJ<br>Year: 2009 Math: 248.4270377<br>Reading: 227.1098772",
          "NJ<br>Year: 2009 Math: 244.5251381<br>Reading: 231.69815359999998",
          "NM<br>Year: 2009 Math: 230.6408759<br>Reading: 202.83436890000002",
          "NM<br>Year: 2009 Math: 229.3881713<br>Reading: 212.59483959999997",
          "NT<br>Year: 2009 Math: 240.61764920000002<br>Reading: 217.6064798",
          "NT<br>Year: 2009 Math: 238.69441969999997<br>Reading: 224.34676769999996",
          "NV<br>Year: 2009 Math: 236.10334029999999<br>Reading: 208.2577906",
          "NV<br>Year: 2009 Math: 234.2039974<br>Reading: 213.9765537",
          "NY<br>Year: 2009 Math: 241.8842705<br>Reading: 220.7946954",
          "NY<br>Year: 2009 Math: 239.3247083<br>Reading: 228.1099483",
          "OH<br>Year: 2009 Math: 245.4888563<br>Reading: 221.64348859999998",
          "OH<br>Year: 2009 Math: 241.87394480000003<br>Reading: 227.3593687",
          "OK<br>Year: 2009 Math: 237.93271040000002<br>Reading: 213.96507730000002",
          "OK<br>Year: 2009 Math: 235.6251517<br>Reading: 220.36061439999997",
          "OR<br>Year: 2009 Math: 239.9242304<br>Reading: 214.1195805",
          "OR<br>Year: 2009 Math: 235.97175570000002<br>Reading: 222.50049199999998",
          "PA<br>Year: 2009 Math: 244.738227<br>Reading: 221.3485904",
          "PA<br>Year: 2009 Math: 242.36482469999999<br>Reading: 226.13053870000002",
          "RI<br>Year: 2009 Math: 240.4065545<br>Reading: 217.8659933",
          "RI<br>Year: 2009 Math: 237.00482000000002<br>Reading: 227.78835460000002",
          "SC<br>Year: 2009 Math: 236.12872799999997<br>Reading: 213.40612760000002",
          "SC<br>Year: 2009 Math: 235.1828128<br>Reading: 218.5484679",
          "SD<br>Year: 2009 Math: 243.4159228<br>Reading: 219.5269395",
          "SD<br>Year: 2009 Math: 240.6416357<br>Reading: 224.9867318",
          "TN<br>Year: 2009 Math: 232.1633181<br>Reading: 213.85772519999998",
          "TN<br>Year: 2009 Math: 231.4680404<br>Reading: 219.65458309999997",
          "TX<br>Year: 2009 Math: 240.8848503<br>Reading: 215.67111269999998",
          "TX<br>Year: 2009 Math: 240.02622659999997<br>Reading: 222.17289669999997",
          "UT<br>Year: 2009 Math: 241.3084911<br>Reading: 216.9301106",
          "UT<br>Year: 2009 Math: 239.2707128<br>Reading: 221.549557",
          "VA<br>Year: 2009 Math: 244.65101659999996<br>Reading: 222.7808285",
          "VA<br>Year: 2009 Math: 241.4090858<br>Reading: 230.46729019999998",
          "VT<br>Year: 2009 Math: 248.878935<br>Reading: 226.1078339",
          "VT<br>Year: 2009 Math: 246.59942569999998<br>Reading: 231.4772687",
          "WA<br>Year: 2009 Math: 242.38630099999997<br>Reading: 217.0907011",
          "WA<br>Year: 2009 Math: 242.12162080000002<br>Reading: 225.733106",
          "WI<br>Year: 2009 Math: 244.67302310000002<br>Reading: 216.606254",
          "WI<br>Year: 2009 Math: 242.41006940000003<br>Reading: 223.8881088",
          "WV<br>Year: 2009 Math: 233.99410730000002<br>Reading: 210.86660419999998",
          "WV<br>Year: 2009 Math: 231.92953909999997<br>Reading: 218.3040847",
          "WY<br>Year: 2009 Math: 242.9470371<br>Reading: 219.1295972",
          "WY<br>Year: 2009 Math: 240.98958219999997<br>Reading: 226.4977208"
         ],
         "type": "choropleth",
         "z": [
          7.994232169,
          5.468155375,
          -4.7403774610000005,
          -3.653732845,
          3.8438803860000004,
          3.534545133,
          -5.347706172,
          -3.5281865239999997,
          -0.6518540429999999,
          -0.538964046,
          3.682821273,
          1.132504124,
          4.912577634,
          6.044437553,
          -13.41100755,
          -10.71400017,
          5.577060342999999,
          1.082321407,
          -4.932093335,
          -3.894247337,
          -0.158230994,
          -0.545291935,
          -2.8085316660000004,
          -1.61986734,
          -1.765453055,
          0.850162306,
          0.29697709,
          1.9019956869999999,
          0.00772193,
          0.302439132,
          -5.256180212,
          -2.46454845,
          3.678435871,
          4.539884693,
          -0.7503989609999999,
          0.04724221,
          1.5167743130000002,
          -0.661469259,
          1.8871649819999998,
          4.485821288,
          2.164913166,
          4.282846558999999,
          6.305619527,
          2.715091379,
          0.768955363,
          0.671773057,
          0.8876460840000001,
          0.375845026,
          -0.002341349,
          2.41229038,
          -8.77298506,
          -6.047178221,
          5.664633633999999,
          1.6230594809999999,
          2.11742937,
          3.573437619,
          1.1824977140000001,
          0.766450938,
          -8.464131684,
          -5.103605408,
          5.182216136,
          6.273307075,
          0.15246807099999998,
          -2.89077376,
          0.22293583399999997,
          0.428377526,
          -0.194759756,
          0.10041951,
          4.027007052,
          2.921154449,
          4.259619374,
          5.902162767999999,
          4.073708989,
          1.443947864,
          -0.7957383259999999,
          -0.237434957,
          4.7585890630000005,
          4.928141427,
          1.401218685,
          2.384904024,
          2.2525711580000003,
          0.057546712,
          1.223324692,
          2.0539191519999997,
          -0.349697708,
          1.2721164109999998,
          -4.800852742,
          -4.9489559210000005,
          -0.160716382,
          -0.805878877,
          -3.154572013,
          -1.040062072,
          -5.828262492,
          -4.062920797,
          7.555863293,
          6.156024062,
          -0.872476157,
          2.0343254230000003,
          2.9884064169999998,
          3.427260001,
          -2.533504717,
          -3.652638528,
          -6.484718689,
          -5.0779833089999995,
          -7.994232169,
          -5.468155375,
          4.7403774610000005,
          3.653732845,
          -3.8438803860000004,
          -3.534545133,
          5.347706172,
          3.5281865239999997,
          0.6518540429999999,
          0.538964046,
          -3.682821273,
          -1.132504124,
          -4.912577634,
          -6.044437553,
          13.41100755,
          10.71400017,
          -5.577060342999999,
          -1.082321407,
          4.932093335,
          3.894247337,
          0.158230994,
          0.545291935,
          2.8085316660000004,
          1.61986734,
          1.765453055,
          -0.850162306,
          -0.29697709,
          -1.9019956869999999,
          -0.00772193,
          -0.302439132,
          5.256180212,
          2.46454845,
          -3.678435871,
          -4.539884693,
          0.7503989609999999,
          -0.04724221,
          -1.5167743130000002,
          0.661469259,
          -1.8871649819999998,
          -4.485821288,
          -2.164913166,
          -4.282846558999999,
          -6.305619527,
          -2.715091379,
          -0.768955363,
          -0.671773057,
          -0.8876460840000001,
          -0.375845026,
          0.002341349,
          -2.41229038,
          8.77298506,
          6.047178221,
          -5.664633633999999,
          -1.6230594809999999,
          -2.11742937,
          -3.573437619,
          -1.1824977140000001,
          -0.766450938,
          8.464131684,
          5.103605408,
          -5.182216136,
          -6.273307075,
          -0.15246807099999998,
          2.89077376,
          -0.22293583399999997,
          -0.428377526,
          0.194759756,
          -0.10041951,
          -4.027007052,
          -2.921154449,
          -4.259619374,
          -5.902162767999999,
          -4.073708989,
          -1.443947864,
          0.7957383259999999,
          0.237434957,
          -4.7585890630000005,
          -4.928141427,
          -1.401218685,
          -2.384904024,
          -2.2525711580000003,
          -0.057546712,
          -1.223324692,
          -2.0539191519999997,
          0.349697708,
          -1.2721164109999998,
          4.800852742,
          4.9489559210000005,
          0.160716382,
          0.805878877,
          3.154572013,
          1.040062072,
          5.828262492,
          4.062920797,
          -7.555863293,
          -6.156024062,
          0.872476157,
          -2.0343254230000003,
          -2.9884064169999998,
          -3.427260001,
          2.533504717,
          3.652638528,
          6.484718689,
          5.0779833089999995
         ]
        }
       ],
       "layout": {
        "geo": {
         "lakecolor": "rgb(255, 255, 255)",
         "projection": {
          "type": "albers usa"
         },
         "scope": "usa",
         "showlakes": true
        },
        "template": {
         "data": {
          "bar": [
           {
            "error_x": {
             "color": "#2a3f5f"
            },
            "error_y": {
             "color": "#2a3f5f"
            },
            "marker": {
             "line": {
              "color": "#E5ECF6",
              "width": 0.5
             }
            },
            "type": "bar"
           }
          ],
          "barpolar": [
           {
            "marker": {
             "line": {
              "color": "#E5ECF6",
              "width": 0.5
             }
            },
            "type": "barpolar"
           }
          ],
          "carpet": [
           {
            "aaxis": {
             "endlinecolor": "#2a3f5f",
             "gridcolor": "white",
             "linecolor": "white",
             "minorgridcolor": "white",
             "startlinecolor": "#2a3f5f"
            },
            "baxis": {
             "endlinecolor": "#2a3f5f",
             "gridcolor": "white",
             "linecolor": "white",
             "minorgridcolor": "white",
             "startlinecolor": "#2a3f5f"
            },
            "type": "carpet"
           }
          ],
          "choropleth": [
           {
            "colorbar": {
             "outlinewidth": 0,
             "ticks": ""
            },
            "type": "choropleth"
           }
          ],
          "contour": [
           {
            "colorbar": {
             "outlinewidth": 0,
             "ticks": ""
            },
            "colorscale": [
             [
              0,
              "#0d0887"
             ],
             [
              0.1111111111111111,
              "#46039f"
             ],
             [
              0.2222222222222222,
              "#7201a8"
             ],
             [
              0.3333333333333333,
              "#9c179e"
             ],
             [
              0.4444444444444444,
              "#bd3786"
             ],
             [
              0.5555555555555556,
              "#d8576b"
             ],
             [
              0.6666666666666666,
              "#ed7953"
             ],
             [
              0.7777777777777778,
              "#fb9f3a"
             ],
             [
              0.8888888888888888,
              "#fdca26"
             ],
             [
              1,
              "#f0f921"
             ]
            ],
            "type": "contour"
           }
          ],
          "contourcarpet": [
           {
            "colorbar": {
             "outlinewidth": 0,
             "ticks": ""
            },
            "type": "contourcarpet"
           }
          ],
          "heatmap": [
           {
            "colorbar": {
             "outlinewidth": 0,
             "ticks": ""
            },
            "colorscale": [
             [
              0,
              "#0d0887"
             ],
             [
              0.1111111111111111,
              "#46039f"
             ],
             [
              0.2222222222222222,
              "#7201a8"
             ],
             [
              0.3333333333333333,
              "#9c179e"
             ],
             [
              0.4444444444444444,
              "#bd3786"
             ],
             [
              0.5555555555555556,
              "#d8576b"
             ],
             [
              0.6666666666666666,
              "#ed7953"
             ],
             [
              0.7777777777777778,
              "#fb9f3a"
             ],
             [
              0.8888888888888888,
              "#fdca26"
             ],
             [
              1,
              "#f0f921"
             ]
            ],
            "type": "heatmap"
           }
          ],
          "heatmapgl": [
           {
            "colorbar": {
             "outlinewidth": 0,
             "ticks": ""
            },
            "colorscale": [
             [
              0,
              "#0d0887"
             ],
             [
              0.1111111111111111,
              "#46039f"
             ],
             [
              0.2222222222222222,
              "#7201a8"
             ],
             [
              0.3333333333333333,
              "#9c179e"
             ],
             [
              0.4444444444444444,
              "#bd3786"
             ],
             [
              0.5555555555555556,
              "#d8576b"
             ],
             [
              0.6666666666666666,
              "#ed7953"
             ],
             [
              0.7777777777777778,
              "#fb9f3a"
             ],
             [
              0.8888888888888888,
              "#fdca26"
             ],
             [
              1,
              "#f0f921"
             ]
            ],
            "type": "heatmapgl"
           }
          ],
          "histogram": [
           {
            "marker": {
             "colorbar": {
              "outlinewidth": 0,
              "ticks": ""
             }
            },
            "type": "histogram"
           }
          ],
          "histogram2d": [
           {
            "colorbar": {
             "outlinewidth": 0,
             "ticks": ""
            },
            "colorscale": [
             [
              0,
              "#0d0887"
             ],
             [
              0.1111111111111111,
              "#46039f"
             ],
             [
              0.2222222222222222,
              "#7201a8"
             ],
             [
              0.3333333333333333,
              "#9c179e"
             ],
             [
              0.4444444444444444,
              "#bd3786"
             ],
             [
              0.5555555555555556,
              "#d8576b"
             ],
             [
              0.6666666666666666,
              "#ed7953"
             ],
             [
              0.7777777777777778,
              "#fb9f3a"
             ],
             [
              0.8888888888888888,
              "#fdca26"
             ],
             [
              1,
              "#f0f921"
             ]
            ],
            "type": "histogram2d"
           }
          ],
          "histogram2dcontour": [
           {
            "colorbar": {
             "outlinewidth": 0,
             "ticks": ""
            },
            "colorscale": [
             [
              0,
              "#0d0887"
             ],
             [
              0.1111111111111111,
              "#46039f"
             ],
             [
              0.2222222222222222,
              "#7201a8"
             ],
             [
              0.3333333333333333,
              "#9c179e"
             ],
             [
              0.4444444444444444,
              "#bd3786"
             ],
             [
              0.5555555555555556,
              "#d8576b"
             ],
             [
              0.6666666666666666,
              "#ed7953"
             ],
             [
              0.7777777777777778,
              "#fb9f3a"
             ],
             [
              0.8888888888888888,
              "#fdca26"
             ],
             [
              1,
              "#f0f921"
             ]
            ],
            "type": "histogram2dcontour"
           }
          ],
          "mesh3d": [
           {
            "colorbar": {
             "outlinewidth": 0,
             "ticks": ""
            },
            "type": "mesh3d"
           }
          ],
          "parcoords": [
           {
            "line": {
             "colorbar": {
              "outlinewidth": 0,
              "ticks": ""
             }
            },
            "type": "parcoords"
           }
          ],
          "scatter": [
           {
            "marker": {
             "colorbar": {
              "outlinewidth": 0,
              "ticks": ""
             }
            },
            "type": "scatter"
           }
          ],
          "scatter3d": [
           {
            "line": {
             "colorbar": {
              "outlinewidth": 0,
              "ticks": ""
             }
            },
            "marker": {
             "colorbar": {
              "outlinewidth": 0,
              "ticks": ""
             }
            },
            "type": "scatter3d"
           }
          ],
          "scattercarpet": [
           {
            "marker": {
             "colorbar": {
              "outlinewidth": 0,
              "ticks": ""
             }
            },
            "type": "scattercarpet"
           }
          ],
          "scattergeo": [
           {
            "marker": {
             "colorbar": {
              "outlinewidth": 0,
              "ticks": ""
             }
            },
            "type": "scattergeo"
           }
          ],
          "scattergl": [
           {
            "marker": {
             "colorbar": {
              "outlinewidth": 0,
              "ticks": ""
             }
            },
            "type": "scattergl"
           }
          ],
          "scattermapbox": [
           {
            "marker": {
             "colorbar": {
              "outlinewidth": 0,
              "ticks": ""
             }
            },
            "type": "scattermapbox"
           }
          ],
          "scatterpolar": [
           {
            "marker": {
             "colorbar": {
              "outlinewidth": 0,
              "ticks": ""
             }
            },
            "type": "scatterpolar"
           }
          ],
          "scatterpolargl": [
           {
            "marker": {
             "colorbar": {
              "outlinewidth": 0,
              "ticks": ""
             }
            },
            "type": "scatterpolargl"
           }
          ],
          "scatterternary": [
           {
            "marker": {
             "colorbar": {
              "outlinewidth": 0,
              "ticks": ""
             }
            },
            "type": "scatterternary"
           }
          ],
          "surface": [
           {
            "colorbar": {
             "outlinewidth": 0,
             "ticks": ""
            },
            "colorscale": [
             [
              0,
              "#0d0887"
             ],
             [
              0.1111111111111111,
              "#46039f"
             ],
             [
              0.2222222222222222,
              "#7201a8"
             ],
             [
              0.3333333333333333,
              "#9c179e"
             ],
             [
              0.4444444444444444,
              "#bd3786"
             ],
             [
              0.5555555555555556,
              "#d8576b"
             ],
             [
              0.6666666666666666,
              "#ed7953"
             ],
             [
              0.7777777777777778,
              "#fb9f3a"
             ],
             [
              0.8888888888888888,
              "#fdca26"
             ],
             [
              1,
              "#f0f921"
             ]
            ],
            "type": "surface"
           }
          ],
          "table": [
           {
            "cells": {
             "fill": {
              "color": "#EBF0F8"
             },
             "line": {
              "color": "white"
             }
            },
            "header": {
             "fill": {
              "color": "#C8D4E3"
             },
             "line": {
              "color": "white"
             }
            },
            "type": "table"
           }
          ]
         },
         "layout": {
          "annotationdefaults": {
           "arrowcolor": "#2a3f5f",
           "arrowhead": 0,
           "arrowwidth": 1
          },
          "colorscale": {
           "diverging": [
            [
             0,
             "#8e0152"
            ],
            [
             0.1,
             "#c51b7d"
            ],
            [
             0.2,
             "#de77ae"
            ],
            [
             0.3,
             "#f1b6da"
            ],
            [
             0.4,
             "#fde0ef"
            ],
            [
             0.5,
             "#f7f7f7"
            ],
            [
             0.6,
             "#e6f5d0"
            ],
            [
             0.7,
             "#b8e186"
            ],
            [
             0.8,
             "#7fbc41"
            ],
            [
             0.9,
             "#4d9221"
            ],
            [
             1,
             "#276419"
            ]
           ],
           "sequential": [
            [
             0,
             "#0d0887"
            ],
            [
             0.1111111111111111,
             "#46039f"
            ],
            [
             0.2222222222222222,
             "#7201a8"
            ],
            [
             0.3333333333333333,
             "#9c179e"
            ],
            [
             0.4444444444444444,
             "#bd3786"
            ],
            [
             0.5555555555555556,
             "#d8576b"
            ],
            [
             0.6666666666666666,
             "#ed7953"
            ],
            [
             0.7777777777777778,
             "#fb9f3a"
            ],
            [
             0.8888888888888888,
             "#fdca26"
            ],
            [
             1,
             "#f0f921"
            ]
           ],
           "sequentialminus": [
            [
             0,
             "#0d0887"
            ],
            [
             0.1111111111111111,
             "#46039f"
            ],
            [
             0.2222222222222222,
             "#7201a8"
            ],
            [
             0.3333333333333333,
             "#9c179e"
            ],
            [
             0.4444444444444444,
             "#bd3786"
            ],
            [
             0.5555555555555556,
             "#d8576b"
            ],
            [
             0.6666666666666666,
             "#ed7953"
            ],
            [
             0.7777777777777778,
             "#fb9f3a"
            ],
            [
             0.8888888888888888,
             "#fdca26"
            ],
            [
             1,
             "#f0f921"
            ]
           ]
          },
          "colorway": [
           "#636efa",
           "#EF553B",
           "#00cc96",
           "#ab63fa",
           "#FFA15A",
           "#19d3f3",
           "#FF6692",
           "#B6E880",
           "#FF97FF",
           "#FECB52"
          ],
          "font": {
           "color": "#2a3f5f"
          },
          "geo": {
           "bgcolor": "white",
           "lakecolor": "white",
           "landcolor": "#E5ECF6",
           "showlakes": true,
           "showland": true,
           "subunitcolor": "white"
          },
          "hoverlabel": {
           "align": "left"
          },
          "hovermode": "closest",
          "mapbox": {
           "style": "light"
          },
          "paper_bgcolor": "white",
          "plot_bgcolor": "#E5ECF6",
          "polar": {
           "angularaxis": {
            "gridcolor": "white",
            "linecolor": "white",
            "ticks": ""
           },
           "bgcolor": "#E5ECF6",
           "radialaxis": {
            "gridcolor": "white",
            "linecolor": "white",
            "ticks": ""
           }
          },
          "scene": {
           "xaxis": {
            "backgroundcolor": "#E5ECF6",
            "gridcolor": "white",
            "gridwidth": 2,
            "linecolor": "white",
            "showbackground": true,
            "ticks": "",
            "zerolinecolor": "white"
           },
           "yaxis": {
            "backgroundcolor": "#E5ECF6",
            "gridcolor": "white",
            "gridwidth": 2,
            "linecolor": "white",
            "showbackground": true,
            "ticks": "",
            "zerolinecolor": "white"
           },
           "zaxis": {
            "backgroundcolor": "#E5ECF6",
            "gridcolor": "white",
            "gridwidth": 2,
            "linecolor": "white",
            "showbackground": true,
            "ticks": "",
            "zerolinecolor": "white"
           }
          },
          "shapedefaults": {
           "line": {
            "color": "#2a3f5f"
           }
          },
          "ternary": {
           "aaxis": {
            "gridcolor": "white",
            "linecolor": "white",
            "ticks": ""
           },
           "baxis": {
            "gridcolor": "white",
            "linecolor": "white",
            "ticks": ""
           },
           "bgcolor": "#E5ECF6",
           "caxis": {
            "gridcolor": "white",
            "linecolor": "white",
            "ticks": ""
           }
          },
          "title": {
           "x": 0.05
          },
          "xaxis": {
           "automargin": true,
           "gridcolor": "white",
           "linecolor": "white",
           "ticks": "",
           "zerolinecolor": "white",
           "zerolinewidth": 2
          },
          "yaxis": {
           "automargin": true,
           "gridcolor": "white",
           "linecolor": "white",
           "ticks": "",
           "zerolinecolor": "white",
           "zerolinewidth": 2
          }
         }
        },
        "title": {
         "text": "National Report Card"
        }
       }
      },
      "text/html": [
       "<div>\n",
       "        \n",
       "        \n",
       "            <div id=\"1523d204-9724-4061-abc6-35a649d07ec2\" class=\"plotly-graph-div\" style=\"height:525px; width:100%;\"></div>\n",
       "            <script type=\"text/javascript\">\n",
       "                require([\"plotly\"], function(Plotly) {\n",
       "                    window.PLOTLYENV=window.PLOTLYENV || {};\n",
       "                    \n",
       "                if (document.getElementById(\"1523d204-9724-4061-abc6-35a649d07ec2\")) {\n",
       "                    Plotly.newPlot(\n",
       "                        '1523d204-9724-4061-abc6-35a649d07ec2',\n",
       "                        [{\"autocolorscale\": false, \"colorbar\": {\"title\": {\"text\": \"Average Math Difference\"}}, \"colorscale\": [[0.0, \"rgb(247,251,255)\"], [0.125, \"rgb(222,235,247)\"], [0.25, \"rgb(198,219,239)\"], [0.375, \"rgb(158,202,225)\"], [0.5, \"rgb(107,174,214)\"], [0.625, \"rgb(66,146,198)\"], [0.75, \"rgb(33,113,181)\"], [0.875, \"rgb(8,81,156)\"], [1.0, \"rgb(8,48,107)\"]], \"locationmode\": \"USA-states\", \"locations\": [\"AK\", \"AK\", \"AL\", \"AL\", \"AR\", \"AR\", \"AZ\", \"AZ\", \"CA\", \"CA\", \"CO\", \"CO\", \"CT\", \"CT\", \"DC\", \"DC\", \"DE\", \"DE\", \"FL\", \"FL\", \"GA\", \"GA\", \"HI\", \"HI\", \"IA\", \"IA\", \"ID\", \"ID\", \"IL\", \"IL\", \"IN\", \"IN\", \"KS\", \"KS\", \"KY\", \"KY\", \"LA\", \"LA\", \"MA\", \"MA\", \"MD\", \"MD\", \"ME\", \"ME\", \"MI\", \"MI\", \"MN\", \"MN\", \"MO\", \"MO\", \"MS\", \"MS\", \"MT\", \"MT\", \"NC\", \"NC\", \"ND\", \"ND\", \"NE\", \"NE\", \"NH\", \"NH\", \"NJ\", \"NJ\", \"NM\", \"NM\", \"NT\", \"NT\", \"NV\", \"NV\", \"NY\", \"NY\", \"OH\", \"OH\", \"OK\", \"OK\", \"OR\", \"OR\", \"PA\", \"PA\", \"RI\", \"RI\", \"SC\", \"SC\", \"SD\", \"SD\", \"TN\", \"TN\", \"TX\", \"TX\", \"UT\", \"UT\", \"VA\", \"VA\", \"VT\", \"VT\", \"WA\", \"WA\", \"WI\", \"WI\", \"WV\", \"WV\", \"WY\", \"WY\", \"AK\", \"AK\", \"AL\", \"AL\", \"AR\", \"AR\", \"AZ\", \"AZ\", \"CA\", \"CA\", \"CO\", \"CO\", \"CT\", \"CT\", \"DC\", \"DC\", \"DE\", \"DE\", \"FL\", \"FL\", \"GA\", \"GA\", \"HI\", \"HI\", \"IA\", \"IA\", \"ID\", \"ID\", \"IL\", \"IL\", \"IN\", \"IN\", \"KS\", \"KS\", \"KY\", \"KY\", \"LA\", \"LA\", \"MA\", \"MA\", \"MD\", \"MD\", \"ME\", \"ME\", \"MI\", \"MI\", \"MN\", \"MN\", \"MO\", \"MO\", \"MS\", \"MS\", \"MT\", \"MT\", \"NC\", \"NC\", \"ND\", \"ND\", \"NE\", \"NE\", \"NH\", \"NH\", \"NJ\", \"NJ\", \"NM\", \"NM\", \"NT\", \"NT\", \"NV\", \"NV\", \"NY\", \"NY\", \"OH\", \"OH\", \"OK\", \"OK\", \"OR\", \"OR\", \"PA\", \"PA\", \"RI\", \"RI\", \"SC\", \"SC\", \"SD\", \"SD\", \"TN\", \"TN\", \"TX\", \"TX\", \"UT\", \"UT\", \"VA\", \"VA\", \"VT\", \"VT\", \"WA\", \"WA\", \"WI\", \"WI\", \"WV\", \"WV\", \"WY\", \"WY\"], \"marker\": {\"line\": {\"color\": \"white\"}}, \"text\": [\"AK<br>Year: 2017 Math: 230.45176030000002<br>Reading: 203.0513017\", \"AK<br>Year: 2017 Math: 230.4611871<br>Reading: 211.34334269999997\", \"AL<br>Year: 2017 Math: 232.45857009999997<br>Reading: 212.8211091\", \"AL<br>Year: 2017 Math: 231.87848169999998<br>Reading: 220.0065999\", \"AR<br>Year: 2017 Math: 234.9807022<br>Reading: 211.74262000000002\", \"AR<br>Year: 2017 Math: 232.66498760000002<br>Reading: 220.6330097\", \"AZ<br>Year: 2017 Math: 235.6316557<br>Reading: 213.46267039999998\", \"AZ<br>Year: 2017 Math: 233.2150457<br>Reading: 217.52022689999998\", \"CA<br>Year: 2017 Math: 233.26568619999998<br>Reading: 210.7706082\", \"CA<br>Year: 2017 Math: 231.2155055<br>Reading: 220.2931384\", \"CO<br>Year: 2017 Math: 240.2821937<br>Reading: 221.61640559999998\", \"CO<br>Year: 2017 Math: 241.13729730000003<br>Reading: 228.02043140000004\", \"CT<br>Year: 2017 Math: 241.4876106<br>Reading: 225.69884989999997\", \"CT<br>Year: 2017 Math: 236.91665030000001<br>Reading: 231.06940530000003\", \"DC<br>Year: 2017 Math: 231.3590099<br>Reading: 209.7059168\", \"DC<br>Year: 2017 Math: 231.2817799<br>Reading: 217.0726847\", \"DE<br>Year: 2017 Math: 235.5916588<br>Reading: 217.02140950000003\", \"DE<br>Year: 2017 Math: 236.66877599999998<br>Reading: 226.0044074\", \"FL<br>Year: 2017 Math: 247.4765145<br>Reading: 226.0874762\", \"FL<br>Year: 2017 Math: 245.23157<br>Reading: 230.5293065\", \"GA<br>Year: 2017 Math: 236.6667509<br>Reading: 215.9960475\", \"GA<br>Year: 2017 Math: 236.0913659<br>Reading: 223.46619819999998\", \"HI<br>Year: 2017 Math: 238.0754512<br>Reading: 211.96439750000002\", \"HI<br>Year: 2017 Math: 237.750739<br>Reading: 221.1629899\", \"IA<br>Year: 2017 Math: 245.0853816<br>Reading: 218.88682480000003\", \"IA<br>Year: 2017 Math: 240.9940059<br>Reading: 224.76728390000002\", \"ID<br>Year: 2017 Math: 241.64338199999997<br>Reading: 220.3231426\", \"ID<br>Year: 2017 Math: 238.2289001<br>Reading: 225.3600964\", \"IL<br>Year: 2017 Math: 239.6449667<br>Reading: 217.19876859999997\", \"IL<br>Year: 2017 Math: 236.6028134<br>Reading: 223.51177090000002\", \"IN<br>Year: 2017 Math: 248.2432237<br>Reading: 224.2207755\", \"IN<br>Year: 2017 Math: 244.6945339<br>Reading: 228.74029500000003\", \"KS<br>Year: 2017 Math: 242.4832381<br>Reading: 220.723398\", \"KS<br>Year: 2017 Math: 239.8473267<br>Reading: 226.0057583\", \"KY<br>Year: 2017 Math: 240.7846346<br>Reading: 221.9300199\", \"KY<br>Year: 2017 Math: 237.52027719999998<br>Reading: 226.27731580000003\", \"LA<br>Year: 2017 Math: 228.60418190000001<br>Reading: 210.24742400000002\", \"LA<br>Year: 2017 Math: 229.35140840000003<br>Reading: 213.0166577\", \"MA<br>Year: 2017 Math: 251.55340180000002<br>Reading: 232.9402589\", \"MA<br>Year: 2017 Math: 246.59656850000002<br>Reading: 238.5091687\", \"MD<br>Year: 2017 Math: 242.0755965<br>Reading: 220.69551069999997\", \"MD<br>Year: 2017 Math: 239.06334640000003<br>Reading: 229.59108769999997\", \"ME<br>Year: 2017 Math: 240.23484130000003<br>Reading: 219.2110349\", \"ME<br>Year: 2017 Math: 239.5559952<br>Reading: 223.5981836\", \"MI<br>Year: 2017 Math: 236.8113307<br>Reading: 213.58580730000003\", \"MI<br>Year: 2017 Math: 234.2812085<br>Reading: 221.98642510000002\", \"MN<br>Year: 2017 Math: 250.3992494<br>Reading: 221.9607287\", \"MN<br>Year: 2017 Math: 247.18105690000002<br>Reading: 227.14780640000004\", \"MO<br>Year: 2017 Math: 241.2361641<br>Reading: 220.5014873\", \"MO<br>Year: 2017 Math: 237.6815798<br>Reading: 224.97627709999998\", \"MS<br>Year: 2017 Math: 235.4568755<br>Reading: 211.57824509999998\", \"MS<br>Year: 2017 Math: 233.90217119999997<br>Reading: 218.94522659999998\", \"MT<br>Year: 2017 Math: 241.34523969999998<br>Reading: 220.22639280000004\", \"MT<br>Year: 2017 Math: 240.04140550000002<br>Reading: 224.62601899999999\", \"NC<br>Year: 2017 Math: 241.85216719999997<br>Reading: 221.1697234\", \"NC<br>Year: 2017 Math: 240.00583250000003<br>Reading: 226.8317849\", \"ND<br>Year: 2017 Math: 245.6263482<br>Reading: 216.68196830000002\", \"ND<br>Year: 2017 Math: 242.74885609999998<br>Reading: 226.69569019999997\", \"NE<br>Year: 2017 Math: 247.2209733<br>Reading: 220.76644700000003\", \"NE<br>Year: 2017 Math: 243.84341969999997<br>Reading: 227.65359229999999\", \"NH<br>Year: 2017 Math: 247.0152097<br>Reading: 227.622395\", \"NH<br>Year: 2017 Math: 243.59176150000002<br>Reading: 230.2115385\", \"NJ<br>Year: 2017 Math: 248.27456969999997<br>Reading: 228.67674590000001\", \"NJ<br>Year: 2017 Math: 247.4159119<br>Reading: 237.3914716\", \"NM<br>Year: 2017 Math: 230.41794<br>Reading: 203.95849180000002\", \"NM<br>Year: 2017 Math: 228.9597938<br>Reading: 211.60481069999997\", \"NT<br>Year: 2017 Math: 240.81240899999997<br>Reading: 218.96578190000002\", \"NT<br>Year: 2017 Math: 238.59400019999998<br>Reading: 224.9204301\", \"NV<br>Year: 2017 Math: 232.0763332<br>Reading: 211.24649399999998\", \"NV<br>Year: 2017 Math: 231.282843<br>Reading: 218.53305350000002\", \"NY<br>Year: 2017 Math: 237.62465120000002<br>Reading: 219.0240122\", \"NY<br>Year: 2017 Math: 233.4225455<br>Reading: 224.7796747\", \"OH<br>Year: 2017 Math: 241.41514730000003<br>Reading: 223.49784759999997\", \"OH<br>Year: 2017 Math: 240.4299969<br>Reading: 227.09899950000002\", \"OK<br>Year: 2017 Math: 238.72844869999997<br>Reading: 212.8841397\", \"OK<br>Year: 2017 Math: 235.8625867<br>Reading: 220.40549109999998\", \"OR<br>Year: 2017 Math: 235.1656413<br>Reading: 212.40314680000003\", \"OR<br>Year: 2017 Math: 231.0436143<br>Reading: 222.78055460000002\", \"PA<br>Year: 2017 Math: 243.3370083<br>Reading: 224.1111222\", \"PA<br>Year: 2017 Math: 239.97992069999998<br>Reading: 225.75630730000003\", \"RI<br>Year: 2017 Math: 238.15398330000002<br>Reading: 220.60557659999998\", \"RI<br>Year: 2017 Math: 236.9472733<br>Reading: 226.15168549999999\", \"SC<br>Year: 2017 Math: 234.90540330000002<br>Reading: 209.56633200000002\", \"SC<br>Year: 2017 Math: 233.12889359999997<br>Reading: 216.90885469999998\", \"SD<br>Year: 2017 Math: 243.7656205<br>Reading: 219.1506216\", \"SD<br>Year: 2017 Math: 239.36951919999998<br>Reading: 224.399956\", \"TN<br>Year: 2017 Math: 236.9641708<br>Reading: 215.29826630000002\", \"TN<br>Year: 2017 Math: 236.4169963<br>Reading: 222.6835514\", \"TX<br>Year: 2017 Math: 241.0455667<br>Reading: 213.48003340000002\", \"TX<br>Year: 2017 Math: 240.8321055<br>Reading: 216.38500499999998\", \"UT<br>Year: 2017 Math: 244.4630631<br>Reading: 221.0767767\", \"UT<br>Year: 2017 Math: 240.31077480000002<br>Reading: 229.64693480000003\", \"VA<br>Year: 2017 Math: 250.47927909999999<br>Reading: 226.245481\", \"VA<br>Year: 2017 Math: 245.47200660000001<br>Reading: 229.02030040000002\", \"VT<br>Year: 2017 Math: 241.32307180000004<br>Reading: 223.34771800000001\", \"VT<br>Year: 2017 Math: 240.4434016<br>Reading: 229.64731380000003\", \"WA<br>Year: 2017 Math: 243.2587772<br>Reading: 220.2532377\", \"WA<br>Year: 2017 Math: 240.08729530000002<br>Reading: 226.1011123\", \"WI<br>Year: 2017 Math: 241.6846167<br>Reading: 216.7292028\", \"WI<br>Year: 2017 Math: 238.9828094<br>Reading: 222.7703131\", \"WV<br>Year: 2017 Math: 236.527612<br>Reading: 212.89900260000002\", \"WV<br>Year: 2017 Math: 235.5821776<br>Reading: 221.8400483\", \"WY<br>Year: 2017 Math: 249.43175580000002<br>Reading: 224.1985693\", \"WY<br>Year: 2017 Math: 246.06756549999997<br>Reading: 229.6916923\", \"AK<br>Year: 2009 Math: 238.4459925<br>Reading: 206.7242292\", \"AK<br>Year: 2009 Math: 235.9293425<br>Reading: 215.7112338\", \"AL<br>Year: 2009 Math: 227.7181926<br>Reading: 211.74193050000002\", \"AL<br>Year: 2009 Math: 228.2247489<br>Reading: 221.1006988\", \"AR<br>Year: 2009 Math: 238.82458259999999<br>Reading: 210.97585800000002\", \"AR<br>Year: 2009 Math: 236.1995327<br>Reading: 221.5645131\", \"AZ<br>Year: 2009 Math: 230.2839495<br>Reading: 206.9136801\", \"AZ<br>Year: 2009 Math: 229.68685919999996<br>Reading: 213.18922450000002\", \"CA<br>Year: 2009 Math: 232.6138321<br>Reading: 207.055218\", \"CA<br>Year: 2009 Math: 230.6765415<br>Reading: 212.63764550000002\", \"CO<br>Year: 2009 Math: 243.965015<br>Reading: 222.255777\", \"CO<br>Year: 2009 Math: 242.2698015<br>Reading: 229.2295877\", \"CT<br>Year: 2009 Math: 246.40018819999997<br>Reading: 224.53905319999996\", \"CT<br>Year: 2009 Math: 242.96108790000002<br>Reading: 233.50362579999998\", \"DC<br>Year: 2009 Math: 217.9480023<br>Reading: 198.09476619999998\", \"DC<br>Year: 2009 Math: 220.5677797<br>Reading: 205.74594040000002\", \"DE<br>Year: 2009 Math: 241.1687191<br>Reading: 222.87174190000002\", \"DE<br>Year: 2009 Math: 237.7510974<br>Reading: 228.1886232\", \"FL<br>Year: 2009 Math: 242.54442110000002<br>Reading: 222.52019610000002\", \"FL<br>Year: 2009 Math: 241.3373227<br>Reading: 228.8642131\", \"GA<br>Year: 2009 Math: 236.5085199<br>Reading: 214.28571380000002\", \"GA<br>Year: 2009 Math: 235.5460739<br>Reading: 221.3610349\", \"HI<br>Year: 2009 Math: 235.26691949999997<br>Reading: 205.13322390000002\", \"HI<br>Year: 2009 Math: 236.1308716<br>Reading: 216.66726060000002\", \"IA<br>Year: 2009 Math: 243.3199286<br>Reading: 216.96943230000002\", \"IA<br>Year: 2009 Math: 241.8441682<br>Reading: 225.965448\", \"ID<br>Year: 2009 Math: 241.9403591<br>Reading: 216.5292228\", \"ID<br>Year: 2009 Math: 240.13089580000002<br>Reading: 225.5082653\", \"IL<br>Year: 2009 Math: 239.6526887<br>Reading: 214.8423846\", \"IL<br>Year: 2009 Math: 236.9052525<br>Reading: 223.5129821\", \"IN<br>Year: 2009 Math: 242.98704339999998<br>Reading: 218.3968134\", \"IN<br>Year: 2009 Math: 242.2299855<br>Reading: 227.0696154\", \"KS<br>Year: 2009 Math: 246.16167400000003<br>Reading: 222.1581946\", \"KS<br>Year: 2009 Math: 244.3872114<br>Reading: 225.8242076\", \"KY<br>Year: 2009 Math: 240.03423560000002<br>Reading: 222.3486903\", \"KY<br>Year: 2009 Math: 237.56751949999997<br>Reading: 228.90135469999998\", \"LA<br>Year: 2009 Math: 230.1209562<br>Reading: 202.9714742\", \"LA<br>Year: 2009 Math: 228.68993909999998<br>Reading: 212.28630139999999\", \"MA<br>Year: 2009 Math: 253.4405668<br>Reading: 231.1401318\", \"MA<br>Year: 2009 Math: 251.08238980000002<br>Reading: 236.3237981\", \"MD<br>Year: 2009 Math: 244.24050970000002<br>Reading: 222.5177629\", \"MD<br>Year: 2009 Math: 243.34619300000003<br>Reading: 229.43872510000003\", \"ME<br>Year: 2009 Math: 246.5404608<br>Reading: 219.58023369999998\", \"ME<br>Year: 2009 Math: 242.2710866<br>Reading: 228.09681609999998\", \"MI<br>Year: 2009 Math: 237.5802861<br>Reading: 214.3957909\", \"MI<br>Year: 2009 Math: 234.95298160000002<br>Reading: 222.1448852\", \"MN<br>Year: 2009 Math: 251.2868955<br>Reading: 219.8187462\", \"MN<br>Year: 2009 Math: 247.556902<br>Reading: 226.9751804\", \"MO<br>Year: 2009 Math: 241.2338228<br>Reading: 218.9749832\", \"MO<br>Year: 2009 Math: 240.0938702<br>Reading: 229.0948613\", \"MS<br>Year: 2009 Math: 226.6838904<br>Reading: 207.6306934\", \"MS<br>Year: 2009 Math: 227.854993<br>Reading: 213.47530240000003\", \"MT<br>Year: 2009 Math: 247.0098734<br>Reading: 221.7826605\", \"MT<br>Year: 2009 Math: 241.6644649<br>Reading: 227.6048386\", \"NC<br>Year: 2009 Math: 243.9695966<br>Reading: 214.78778430000003\", \"NC<br>Year: 2009 Math: 243.5792701<br>Reading: 224.02092779999998\", \"ND<br>Year: 2009 Math: 246.80884590000002<br>Reading: 223.1073372\", \"ND<br>Year: 2009 Math: 243.5153071<br>Reading: 228.91858919999999\", \"NE<br>Year: 2009 Math: 238.75684159999997<br>Reading: 219.6725023\", \"NE<br>Year: 2009 Math: 238.7398143<br>Reading: 225.4668601\", \"NH<br>Year: 2009 Math: 252.1974258<br>Reading: 225.85400589999998\", \"NH<br>Year: 2009 Math: 249.8650685<br>Reading: 232.6529539\", \"NJ<br>Year: 2009 Math: 248.4270377<br>Reading: 227.1098772\", \"NJ<br>Year: 2009 Math: 244.5251381<br>Reading: 231.69815359999998\", \"NM<br>Year: 2009 Math: 230.6408759<br>Reading: 202.83436890000002\", \"NM<br>Year: 2009 Math: 229.3881713<br>Reading: 212.59483959999997\", \"NT<br>Year: 2009 Math: 240.61764920000002<br>Reading: 217.6064798\", \"NT<br>Year: 2009 Math: 238.69441969999997<br>Reading: 224.34676769999996\", \"NV<br>Year: 2009 Math: 236.10334029999999<br>Reading: 208.2577906\", \"NV<br>Year: 2009 Math: 234.2039974<br>Reading: 213.9765537\", \"NY<br>Year: 2009 Math: 241.8842705<br>Reading: 220.7946954\", \"NY<br>Year: 2009 Math: 239.3247083<br>Reading: 228.1099483\", \"OH<br>Year: 2009 Math: 245.4888563<br>Reading: 221.64348859999998\", \"OH<br>Year: 2009 Math: 241.87394480000003<br>Reading: 227.3593687\", \"OK<br>Year: 2009 Math: 237.93271040000002<br>Reading: 213.96507730000002\", \"OK<br>Year: 2009 Math: 235.6251517<br>Reading: 220.36061439999997\", \"OR<br>Year: 2009 Math: 239.9242304<br>Reading: 214.1195805\", \"OR<br>Year: 2009 Math: 235.97175570000002<br>Reading: 222.50049199999998\", \"PA<br>Year: 2009 Math: 244.738227<br>Reading: 221.3485904\", \"PA<br>Year: 2009 Math: 242.36482469999999<br>Reading: 226.13053870000002\", \"RI<br>Year: 2009 Math: 240.4065545<br>Reading: 217.8659933\", \"RI<br>Year: 2009 Math: 237.00482000000002<br>Reading: 227.78835460000002\", \"SC<br>Year: 2009 Math: 236.12872799999997<br>Reading: 213.40612760000002\", \"SC<br>Year: 2009 Math: 235.1828128<br>Reading: 218.5484679\", \"SD<br>Year: 2009 Math: 243.4159228<br>Reading: 219.5269395\", \"SD<br>Year: 2009 Math: 240.6416357<br>Reading: 224.9867318\", \"TN<br>Year: 2009 Math: 232.1633181<br>Reading: 213.85772519999998\", \"TN<br>Year: 2009 Math: 231.4680404<br>Reading: 219.65458309999997\", \"TX<br>Year: 2009 Math: 240.8848503<br>Reading: 215.67111269999998\", \"TX<br>Year: 2009 Math: 240.02622659999997<br>Reading: 222.17289669999997\", \"UT<br>Year: 2009 Math: 241.3084911<br>Reading: 216.9301106\", \"UT<br>Year: 2009 Math: 239.2707128<br>Reading: 221.549557\", \"VA<br>Year: 2009 Math: 244.65101659999996<br>Reading: 222.7808285\", \"VA<br>Year: 2009 Math: 241.4090858<br>Reading: 230.46729019999998\", \"VT<br>Year: 2009 Math: 248.878935<br>Reading: 226.1078339\", \"VT<br>Year: 2009 Math: 246.59942569999998<br>Reading: 231.4772687\", \"WA<br>Year: 2009 Math: 242.38630099999997<br>Reading: 217.0907011\", \"WA<br>Year: 2009 Math: 242.12162080000002<br>Reading: 225.733106\", \"WI<br>Year: 2009 Math: 244.67302310000002<br>Reading: 216.606254\", \"WI<br>Year: 2009 Math: 242.41006940000003<br>Reading: 223.8881088\", \"WV<br>Year: 2009 Math: 233.99410730000002<br>Reading: 210.86660419999998\", \"WV<br>Year: 2009 Math: 231.92953909999997<br>Reading: 218.3040847\", \"WY<br>Year: 2009 Math: 242.9470371<br>Reading: 219.1295972\", \"WY<br>Year: 2009 Math: 240.98958219999997<br>Reading: 226.4977208\"], \"type\": \"choropleth\", \"z\": [7.994232169, 5.468155375, -4.7403774610000005, -3.653732845, 3.8438803860000004, 3.534545133, -5.347706172, -3.5281865239999997, -0.6518540429999999, -0.538964046, 3.682821273, 1.132504124, 4.912577634, 6.044437553, -13.41100755, -10.71400017, 5.577060342999999, 1.082321407, -4.932093335, -3.894247337, -0.158230994, -0.545291935, -2.8085316660000004, -1.61986734, -1.765453055, 0.850162306, 0.29697709, 1.9019956869999999, 0.00772193, 0.302439132, -5.256180212, -2.46454845, 3.678435871, 4.539884693, -0.7503989609999999, 0.04724221, 1.5167743130000002, -0.661469259, 1.8871649819999998, 4.485821288, 2.164913166, 4.282846558999999, 6.305619527, 2.715091379, 0.768955363, 0.671773057, 0.8876460840000001, 0.375845026, -0.002341349, 2.41229038, -8.77298506, -6.047178221, 5.664633633999999, 1.6230594809999999, 2.11742937, 3.573437619, 1.1824977140000001, 0.766450938, -8.464131684, -5.103605408, 5.182216136, 6.273307075, 0.15246807099999998, -2.89077376, 0.22293583399999997, 0.428377526, -0.194759756, 0.10041951, 4.027007052, 2.921154449, 4.259619374, 5.902162767999999, 4.073708989, 1.443947864, -0.7957383259999999, -0.237434957, 4.7585890630000005, 4.928141427, 1.401218685, 2.384904024, 2.2525711580000003, 0.057546712, 1.223324692, 2.0539191519999997, -0.349697708, 1.2721164109999998, -4.800852742, -4.9489559210000005, -0.160716382, -0.805878877, -3.154572013, -1.040062072, -5.828262492, -4.062920797, 7.555863293, 6.156024062, -0.872476157, 2.0343254230000003, 2.9884064169999998, 3.427260001, -2.533504717, -3.652638528, -6.484718689, -5.0779833089999995, -7.994232169, -5.468155375, 4.7403774610000005, 3.653732845, -3.8438803860000004, -3.534545133, 5.347706172, 3.5281865239999997, 0.6518540429999999, 0.538964046, -3.682821273, -1.132504124, -4.912577634, -6.044437553, 13.41100755, 10.71400017, -5.577060342999999, -1.082321407, 4.932093335, 3.894247337, 0.158230994, 0.545291935, 2.8085316660000004, 1.61986734, 1.765453055, -0.850162306, -0.29697709, -1.9019956869999999, -0.00772193, -0.302439132, 5.256180212, 2.46454845, -3.678435871, -4.539884693, 0.7503989609999999, -0.04724221, -1.5167743130000002, 0.661469259, -1.8871649819999998, -4.485821288, -2.164913166, -4.282846558999999, -6.305619527, -2.715091379, -0.768955363, -0.671773057, -0.8876460840000001, -0.375845026, 0.002341349, -2.41229038, 8.77298506, 6.047178221, -5.664633633999999, -1.6230594809999999, -2.11742937, -3.573437619, -1.1824977140000001, -0.766450938, 8.464131684, 5.103605408, -5.182216136, -6.273307075, -0.15246807099999998, 2.89077376, -0.22293583399999997, -0.428377526, 0.194759756, -0.10041951, -4.027007052, -2.921154449, -4.259619374, -5.902162767999999, -4.073708989, -1.443947864, 0.7957383259999999, 0.237434957, -4.7585890630000005, -4.928141427, -1.401218685, -2.384904024, -2.2525711580000003, -0.057546712, -1.223324692, -2.0539191519999997, 0.349697708, -1.2721164109999998, 4.800852742, 4.9489559210000005, 0.160716382, 0.805878877, 3.154572013, 1.040062072, 5.828262492, 4.062920797, -7.555863293, -6.156024062, 0.872476157, -2.0343254230000003, -2.9884064169999998, -3.427260001, 2.533504717, 3.652638528, 6.484718689, 5.0779833089999995]}, {\"autocolorscale\": false, \"colorbar\": {\"title\": {\"text\": \"Average Math Difference\"}}, \"colorscale\": [[0.0, \"rgb(247,251,255)\"], [0.125, \"rgb(222,235,247)\"], [0.25, \"rgb(198,219,239)\"], [0.375, \"rgb(158,202,225)\"], [0.5, \"rgb(107,174,214)\"], [0.625, \"rgb(66,146,198)\"], [0.75, \"rgb(33,113,181)\"], [0.875, \"rgb(8,81,156)\"], [1.0, \"rgb(8,48,107)\"]], \"locationmode\": \"USA-states\", \"locations\": [\"AK\", \"AK\", \"AL\", \"AL\", \"AR\", \"AR\", \"AZ\", \"AZ\", \"CA\", \"CA\", \"CO\", \"CO\", \"CT\", \"CT\", \"DC\", \"DC\", \"DE\", \"DE\", \"FL\", \"FL\", \"GA\", \"GA\", \"HI\", \"HI\", \"IA\", \"IA\", \"ID\", \"ID\", \"IL\", \"IL\", \"IN\", \"IN\", \"KS\", \"KS\", \"KY\", \"KY\", \"LA\", \"LA\", \"MA\", \"MA\", \"MD\", \"MD\", \"ME\", \"ME\", \"MI\", \"MI\", \"MN\", \"MN\", \"MO\", \"MO\", \"MS\", \"MS\", \"MT\", \"MT\", \"NC\", \"NC\", \"ND\", \"ND\", \"NE\", \"NE\", \"NH\", \"NH\", \"NJ\", \"NJ\", \"NM\", \"NM\", \"NT\", \"NT\", \"NV\", \"NV\", \"NY\", \"NY\", \"OH\", \"OH\", \"OK\", \"OK\", \"OR\", \"OR\", \"PA\", \"PA\", \"RI\", \"RI\", \"SC\", \"SC\", \"SD\", \"SD\", \"TN\", \"TN\", \"TX\", \"TX\", \"UT\", \"UT\", \"VA\", \"VA\", \"VT\", \"VT\", \"WA\", \"WA\", \"WI\", \"WI\", \"WV\", \"WV\", \"WY\", \"WY\", \"AK\", \"AK\", \"AL\", \"AL\", \"AR\", \"AR\", \"AZ\", \"AZ\", \"CA\", \"CA\", \"CO\", \"CO\", \"CT\", \"CT\", \"DC\", \"DC\", \"DE\", \"DE\", \"FL\", \"FL\", \"GA\", \"GA\", \"HI\", \"HI\", \"IA\", \"IA\", \"ID\", \"ID\", \"IL\", \"IL\", \"IN\", \"IN\", \"KS\", \"KS\", \"KY\", \"KY\", \"LA\", \"LA\", \"MA\", \"MA\", \"MD\", \"MD\", \"ME\", \"ME\", \"MI\", \"MI\", \"MN\", \"MN\", \"MO\", \"MO\", \"MS\", \"MS\", \"MT\", \"MT\", \"NC\", \"NC\", \"ND\", \"ND\", \"NE\", \"NE\", \"NH\", \"NH\", \"NJ\", \"NJ\", \"NM\", \"NM\", \"NT\", \"NT\", \"NV\", \"NV\", \"NY\", \"NY\", \"OH\", \"OH\", \"OK\", \"OK\", \"OR\", \"OR\", \"PA\", \"PA\", \"RI\", \"RI\", \"SC\", \"SC\", \"SD\", \"SD\", \"TN\", \"TN\", \"TX\", \"TX\", \"UT\", \"UT\", \"VA\", \"VA\", \"VT\", \"VT\", \"WA\", \"WA\", \"WI\", \"WI\", \"WV\", \"WV\", \"WY\", \"WY\"], \"marker\": {\"line\": {\"color\": \"white\"}}, \"text\": [\"AK<br>Year: 2017 Math: 230.45176030000002<br>Reading: 203.0513017\", \"AK<br>Year: 2017 Math: 230.4611871<br>Reading: 211.34334269999997\", \"AL<br>Year: 2017 Math: 232.45857009999997<br>Reading: 212.8211091\", \"AL<br>Year: 2017 Math: 231.87848169999998<br>Reading: 220.0065999\", \"AR<br>Year: 2017 Math: 234.9807022<br>Reading: 211.74262000000002\", \"AR<br>Year: 2017 Math: 232.66498760000002<br>Reading: 220.6330097\", \"AZ<br>Year: 2017 Math: 235.6316557<br>Reading: 213.46267039999998\", \"AZ<br>Year: 2017 Math: 233.2150457<br>Reading: 217.52022689999998\", \"CA<br>Year: 2017 Math: 233.26568619999998<br>Reading: 210.7706082\", \"CA<br>Year: 2017 Math: 231.2155055<br>Reading: 220.2931384\", \"CO<br>Year: 2017 Math: 240.2821937<br>Reading: 221.61640559999998\", \"CO<br>Year: 2017 Math: 241.13729730000003<br>Reading: 228.02043140000004\", \"CT<br>Year: 2017 Math: 241.4876106<br>Reading: 225.69884989999997\", \"CT<br>Year: 2017 Math: 236.91665030000001<br>Reading: 231.06940530000003\", \"DC<br>Year: 2017 Math: 231.3590099<br>Reading: 209.7059168\", \"DC<br>Year: 2017 Math: 231.2817799<br>Reading: 217.0726847\", \"DE<br>Year: 2017 Math: 235.5916588<br>Reading: 217.02140950000003\", \"DE<br>Year: 2017 Math: 236.66877599999998<br>Reading: 226.0044074\", \"FL<br>Year: 2017 Math: 247.4765145<br>Reading: 226.0874762\", \"FL<br>Year: 2017 Math: 245.23157<br>Reading: 230.5293065\", \"GA<br>Year: 2017 Math: 236.6667509<br>Reading: 215.9960475\", \"GA<br>Year: 2017 Math: 236.0913659<br>Reading: 223.46619819999998\", \"HI<br>Year: 2017 Math: 238.0754512<br>Reading: 211.96439750000002\", \"HI<br>Year: 2017 Math: 237.750739<br>Reading: 221.1629899\", \"IA<br>Year: 2017 Math: 245.0853816<br>Reading: 218.88682480000003\", \"IA<br>Year: 2017 Math: 240.9940059<br>Reading: 224.76728390000002\", \"ID<br>Year: 2017 Math: 241.64338199999997<br>Reading: 220.3231426\", \"ID<br>Year: 2017 Math: 238.2289001<br>Reading: 225.3600964\", \"IL<br>Year: 2017 Math: 239.6449667<br>Reading: 217.19876859999997\", \"IL<br>Year: 2017 Math: 236.6028134<br>Reading: 223.51177090000002\", \"IN<br>Year: 2017 Math: 248.2432237<br>Reading: 224.2207755\", \"IN<br>Year: 2017 Math: 244.6945339<br>Reading: 228.74029500000003\", \"KS<br>Year: 2017 Math: 242.4832381<br>Reading: 220.723398\", \"KS<br>Year: 2017 Math: 239.8473267<br>Reading: 226.0057583\", \"KY<br>Year: 2017 Math: 240.7846346<br>Reading: 221.9300199\", \"KY<br>Year: 2017 Math: 237.52027719999998<br>Reading: 226.27731580000003\", \"LA<br>Year: 2017 Math: 228.60418190000001<br>Reading: 210.24742400000002\", \"LA<br>Year: 2017 Math: 229.35140840000003<br>Reading: 213.0166577\", \"MA<br>Year: 2017 Math: 251.55340180000002<br>Reading: 232.9402589\", \"MA<br>Year: 2017 Math: 246.59656850000002<br>Reading: 238.5091687\", \"MD<br>Year: 2017 Math: 242.0755965<br>Reading: 220.69551069999997\", \"MD<br>Year: 2017 Math: 239.06334640000003<br>Reading: 229.59108769999997\", \"ME<br>Year: 2017 Math: 240.23484130000003<br>Reading: 219.2110349\", \"ME<br>Year: 2017 Math: 239.5559952<br>Reading: 223.5981836\", \"MI<br>Year: 2017 Math: 236.8113307<br>Reading: 213.58580730000003\", \"MI<br>Year: 2017 Math: 234.2812085<br>Reading: 221.98642510000002\", \"MN<br>Year: 2017 Math: 250.3992494<br>Reading: 221.9607287\", \"MN<br>Year: 2017 Math: 247.18105690000002<br>Reading: 227.14780640000004\", \"MO<br>Year: 2017 Math: 241.2361641<br>Reading: 220.5014873\", \"MO<br>Year: 2017 Math: 237.6815798<br>Reading: 224.97627709999998\", \"MS<br>Year: 2017 Math: 235.4568755<br>Reading: 211.57824509999998\", \"MS<br>Year: 2017 Math: 233.90217119999997<br>Reading: 218.94522659999998\", \"MT<br>Year: 2017 Math: 241.34523969999998<br>Reading: 220.22639280000004\", \"MT<br>Year: 2017 Math: 240.04140550000002<br>Reading: 224.62601899999999\", \"NC<br>Year: 2017 Math: 241.85216719999997<br>Reading: 221.1697234\", \"NC<br>Year: 2017 Math: 240.00583250000003<br>Reading: 226.8317849\", \"ND<br>Year: 2017 Math: 245.6263482<br>Reading: 216.68196830000002\", \"ND<br>Year: 2017 Math: 242.74885609999998<br>Reading: 226.69569019999997\", \"NE<br>Year: 2017 Math: 247.2209733<br>Reading: 220.76644700000003\", \"NE<br>Year: 2017 Math: 243.84341969999997<br>Reading: 227.65359229999999\", \"NH<br>Year: 2017 Math: 247.0152097<br>Reading: 227.622395\", \"NH<br>Year: 2017 Math: 243.59176150000002<br>Reading: 230.2115385\", \"NJ<br>Year: 2017 Math: 248.27456969999997<br>Reading: 228.67674590000001\", \"NJ<br>Year: 2017 Math: 247.4159119<br>Reading: 237.3914716\", \"NM<br>Year: 2017 Math: 230.41794<br>Reading: 203.95849180000002\", \"NM<br>Year: 2017 Math: 228.9597938<br>Reading: 211.60481069999997\", \"NT<br>Year: 2017 Math: 240.81240899999997<br>Reading: 218.96578190000002\", \"NT<br>Year: 2017 Math: 238.59400019999998<br>Reading: 224.9204301\", \"NV<br>Year: 2017 Math: 232.0763332<br>Reading: 211.24649399999998\", \"NV<br>Year: 2017 Math: 231.282843<br>Reading: 218.53305350000002\", \"NY<br>Year: 2017 Math: 237.62465120000002<br>Reading: 219.0240122\", \"NY<br>Year: 2017 Math: 233.4225455<br>Reading: 224.7796747\", \"OH<br>Year: 2017 Math: 241.41514730000003<br>Reading: 223.49784759999997\", \"OH<br>Year: 2017 Math: 240.4299969<br>Reading: 227.09899950000002\", \"OK<br>Year: 2017 Math: 238.72844869999997<br>Reading: 212.8841397\", \"OK<br>Year: 2017 Math: 235.8625867<br>Reading: 220.40549109999998\", \"OR<br>Year: 2017 Math: 235.1656413<br>Reading: 212.40314680000003\", \"OR<br>Year: 2017 Math: 231.0436143<br>Reading: 222.78055460000002\", \"PA<br>Year: 2017 Math: 243.3370083<br>Reading: 224.1111222\", \"PA<br>Year: 2017 Math: 239.97992069999998<br>Reading: 225.75630730000003\", \"RI<br>Year: 2017 Math: 238.15398330000002<br>Reading: 220.60557659999998\", \"RI<br>Year: 2017 Math: 236.9472733<br>Reading: 226.15168549999999\", \"SC<br>Year: 2017 Math: 234.90540330000002<br>Reading: 209.56633200000002\", \"SC<br>Year: 2017 Math: 233.12889359999997<br>Reading: 216.90885469999998\", \"SD<br>Year: 2017 Math: 243.7656205<br>Reading: 219.1506216\", \"SD<br>Year: 2017 Math: 239.36951919999998<br>Reading: 224.399956\", \"TN<br>Year: 2017 Math: 236.9641708<br>Reading: 215.29826630000002\", \"TN<br>Year: 2017 Math: 236.4169963<br>Reading: 222.6835514\", \"TX<br>Year: 2017 Math: 241.0455667<br>Reading: 213.48003340000002\", \"TX<br>Year: 2017 Math: 240.8321055<br>Reading: 216.38500499999998\", \"UT<br>Year: 2017 Math: 244.4630631<br>Reading: 221.0767767\", \"UT<br>Year: 2017 Math: 240.31077480000002<br>Reading: 229.64693480000003\", \"VA<br>Year: 2017 Math: 250.47927909999999<br>Reading: 226.245481\", \"VA<br>Year: 2017 Math: 245.47200660000001<br>Reading: 229.02030040000002\", \"VT<br>Year: 2017 Math: 241.32307180000004<br>Reading: 223.34771800000001\", \"VT<br>Year: 2017 Math: 240.4434016<br>Reading: 229.64731380000003\", \"WA<br>Year: 2017 Math: 243.2587772<br>Reading: 220.2532377\", \"WA<br>Year: 2017 Math: 240.08729530000002<br>Reading: 226.1011123\", \"WI<br>Year: 2017 Math: 241.6846167<br>Reading: 216.7292028\", \"WI<br>Year: 2017 Math: 238.9828094<br>Reading: 222.7703131\", \"WV<br>Year: 2017 Math: 236.527612<br>Reading: 212.89900260000002\", \"WV<br>Year: 2017 Math: 235.5821776<br>Reading: 221.8400483\", \"WY<br>Year: 2017 Math: 249.43175580000002<br>Reading: 224.1985693\", \"WY<br>Year: 2017 Math: 246.06756549999997<br>Reading: 229.6916923\", \"AK<br>Year: 2009 Math: 238.4459925<br>Reading: 206.7242292\", \"AK<br>Year: 2009 Math: 235.9293425<br>Reading: 215.7112338\", \"AL<br>Year: 2009 Math: 227.7181926<br>Reading: 211.74193050000002\", \"AL<br>Year: 2009 Math: 228.2247489<br>Reading: 221.1006988\", \"AR<br>Year: 2009 Math: 238.82458259999999<br>Reading: 210.97585800000002\", \"AR<br>Year: 2009 Math: 236.1995327<br>Reading: 221.5645131\", \"AZ<br>Year: 2009 Math: 230.2839495<br>Reading: 206.9136801\", \"AZ<br>Year: 2009 Math: 229.68685919999996<br>Reading: 213.18922450000002\", \"CA<br>Year: 2009 Math: 232.6138321<br>Reading: 207.055218\", \"CA<br>Year: 2009 Math: 230.6765415<br>Reading: 212.63764550000002\", \"CO<br>Year: 2009 Math: 243.965015<br>Reading: 222.255777\", \"CO<br>Year: 2009 Math: 242.2698015<br>Reading: 229.2295877\", \"CT<br>Year: 2009 Math: 246.40018819999997<br>Reading: 224.53905319999996\", \"CT<br>Year: 2009 Math: 242.96108790000002<br>Reading: 233.50362579999998\", \"DC<br>Year: 2009 Math: 217.9480023<br>Reading: 198.09476619999998\", \"DC<br>Year: 2009 Math: 220.5677797<br>Reading: 205.74594040000002\", \"DE<br>Year: 2009 Math: 241.1687191<br>Reading: 222.87174190000002\", \"DE<br>Year: 2009 Math: 237.7510974<br>Reading: 228.1886232\", \"FL<br>Year: 2009 Math: 242.54442110000002<br>Reading: 222.52019610000002\", \"FL<br>Year: 2009 Math: 241.3373227<br>Reading: 228.8642131\", \"GA<br>Year: 2009 Math: 236.5085199<br>Reading: 214.28571380000002\", \"GA<br>Year: 2009 Math: 235.5460739<br>Reading: 221.3610349\", \"HI<br>Year: 2009 Math: 235.26691949999997<br>Reading: 205.13322390000002\", \"HI<br>Year: 2009 Math: 236.1308716<br>Reading: 216.66726060000002\", \"IA<br>Year: 2009 Math: 243.3199286<br>Reading: 216.96943230000002\", \"IA<br>Year: 2009 Math: 241.8441682<br>Reading: 225.965448\", \"ID<br>Year: 2009 Math: 241.9403591<br>Reading: 216.5292228\", \"ID<br>Year: 2009 Math: 240.13089580000002<br>Reading: 225.5082653\", \"IL<br>Year: 2009 Math: 239.6526887<br>Reading: 214.8423846\", \"IL<br>Year: 2009 Math: 236.9052525<br>Reading: 223.5129821\", \"IN<br>Year: 2009 Math: 242.98704339999998<br>Reading: 218.3968134\", \"IN<br>Year: 2009 Math: 242.2299855<br>Reading: 227.0696154\", \"KS<br>Year: 2009 Math: 246.16167400000003<br>Reading: 222.1581946\", \"KS<br>Year: 2009 Math: 244.3872114<br>Reading: 225.8242076\", \"KY<br>Year: 2009 Math: 240.03423560000002<br>Reading: 222.3486903\", \"KY<br>Year: 2009 Math: 237.56751949999997<br>Reading: 228.90135469999998\", \"LA<br>Year: 2009 Math: 230.1209562<br>Reading: 202.9714742\", \"LA<br>Year: 2009 Math: 228.68993909999998<br>Reading: 212.28630139999999\", \"MA<br>Year: 2009 Math: 253.4405668<br>Reading: 231.1401318\", \"MA<br>Year: 2009 Math: 251.08238980000002<br>Reading: 236.3237981\", \"MD<br>Year: 2009 Math: 244.24050970000002<br>Reading: 222.5177629\", \"MD<br>Year: 2009 Math: 243.34619300000003<br>Reading: 229.43872510000003\", \"ME<br>Year: 2009 Math: 246.5404608<br>Reading: 219.58023369999998\", \"ME<br>Year: 2009 Math: 242.2710866<br>Reading: 228.09681609999998\", \"MI<br>Year: 2009 Math: 237.5802861<br>Reading: 214.3957909\", \"MI<br>Year: 2009 Math: 234.95298160000002<br>Reading: 222.1448852\", \"MN<br>Year: 2009 Math: 251.2868955<br>Reading: 219.8187462\", \"MN<br>Year: 2009 Math: 247.556902<br>Reading: 226.9751804\", \"MO<br>Year: 2009 Math: 241.2338228<br>Reading: 218.9749832\", \"MO<br>Year: 2009 Math: 240.0938702<br>Reading: 229.0948613\", \"MS<br>Year: 2009 Math: 226.6838904<br>Reading: 207.6306934\", \"MS<br>Year: 2009 Math: 227.854993<br>Reading: 213.47530240000003\", \"MT<br>Year: 2009 Math: 247.0098734<br>Reading: 221.7826605\", \"MT<br>Year: 2009 Math: 241.6644649<br>Reading: 227.6048386\", \"NC<br>Year: 2009 Math: 243.9695966<br>Reading: 214.78778430000003\", \"NC<br>Year: 2009 Math: 243.5792701<br>Reading: 224.02092779999998\", \"ND<br>Year: 2009 Math: 246.80884590000002<br>Reading: 223.1073372\", \"ND<br>Year: 2009 Math: 243.5153071<br>Reading: 228.91858919999999\", \"NE<br>Year: 2009 Math: 238.75684159999997<br>Reading: 219.6725023\", \"NE<br>Year: 2009 Math: 238.7398143<br>Reading: 225.4668601\", \"NH<br>Year: 2009 Math: 252.1974258<br>Reading: 225.85400589999998\", \"NH<br>Year: 2009 Math: 249.8650685<br>Reading: 232.6529539\", \"NJ<br>Year: 2009 Math: 248.4270377<br>Reading: 227.1098772\", \"NJ<br>Year: 2009 Math: 244.5251381<br>Reading: 231.69815359999998\", \"NM<br>Year: 2009 Math: 230.6408759<br>Reading: 202.83436890000002\", \"NM<br>Year: 2009 Math: 229.3881713<br>Reading: 212.59483959999997\", \"NT<br>Year: 2009 Math: 240.61764920000002<br>Reading: 217.6064798\", \"NT<br>Year: 2009 Math: 238.69441969999997<br>Reading: 224.34676769999996\", \"NV<br>Year: 2009 Math: 236.10334029999999<br>Reading: 208.2577906\", \"NV<br>Year: 2009 Math: 234.2039974<br>Reading: 213.9765537\", \"NY<br>Year: 2009 Math: 241.8842705<br>Reading: 220.7946954\", \"NY<br>Year: 2009 Math: 239.3247083<br>Reading: 228.1099483\", \"OH<br>Year: 2009 Math: 245.4888563<br>Reading: 221.64348859999998\", \"OH<br>Year: 2009 Math: 241.87394480000003<br>Reading: 227.3593687\", \"OK<br>Year: 2009 Math: 237.93271040000002<br>Reading: 213.96507730000002\", \"OK<br>Year: 2009 Math: 235.6251517<br>Reading: 220.36061439999997\", \"OR<br>Year: 2009 Math: 239.9242304<br>Reading: 214.1195805\", \"OR<br>Year: 2009 Math: 235.97175570000002<br>Reading: 222.50049199999998\", \"PA<br>Year: 2009 Math: 244.738227<br>Reading: 221.3485904\", \"PA<br>Year: 2009 Math: 242.36482469999999<br>Reading: 226.13053870000002\", \"RI<br>Year: 2009 Math: 240.4065545<br>Reading: 217.8659933\", \"RI<br>Year: 2009 Math: 237.00482000000002<br>Reading: 227.78835460000002\", \"SC<br>Year: 2009 Math: 236.12872799999997<br>Reading: 213.40612760000002\", \"SC<br>Year: 2009 Math: 235.1828128<br>Reading: 218.5484679\", \"SD<br>Year: 2009 Math: 243.4159228<br>Reading: 219.5269395\", \"SD<br>Year: 2009 Math: 240.6416357<br>Reading: 224.9867318\", \"TN<br>Year: 2009 Math: 232.1633181<br>Reading: 213.85772519999998\", \"TN<br>Year: 2009 Math: 231.4680404<br>Reading: 219.65458309999997\", \"TX<br>Year: 2009 Math: 240.8848503<br>Reading: 215.67111269999998\", \"TX<br>Year: 2009 Math: 240.02622659999997<br>Reading: 222.17289669999997\", \"UT<br>Year: 2009 Math: 241.3084911<br>Reading: 216.9301106\", \"UT<br>Year: 2009 Math: 239.2707128<br>Reading: 221.549557\", \"VA<br>Year: 2009 Math: 244.65101659999996<br>Reading: 222.7808285\", \"VA<br>Year: 2009 Math: 241.4090858<br>Reading: 230.46729019999998\", \"VT<br>Year: 2009 Math: 248.878935<br>Reading: 226.1078339\", \"VT<br>Year: 2009 Math: 246.59942569999998<br>Reading: 231.4772687\", \"WA<br>Year: 2009 Math: 242.38630099999997<br>Reading: 217.0907011\", \"WA<br>Year: 2009 Math: 242.12162080000002<br>Reading: 225.733106\", \"WI<br>Year: 2009 Math: 244.67302310000002<br>Reading: 216.606254\", \"WI<br>Year: 2009 Math: 242.41006940000003<br>Reading: 223.8881088\", \"WV<br>Year: 2009 Math: 233.99410730000002<br>Reading: 210.86660419999998\", \"WV<br>Year: 2009 Math: 231.92953909999997<br>Reading: 218.3040847\", \"WY<br>Year: 2009 Math: 242.9470371<br>Reading: 219.1295972\", \"WY<br>Year: 2009 Math: 240.98958219999997<br>Reading: 226.4977208\"], \"type\": \"choropleth\", \"z\": [7.994232169, 5.468155375, -4.7403774610000005, -3.653732845, 3.8438803860000004, 3.534545133, -5.347706172, -3.5281865239999997, -0.6518540429999999, -0.538964046, 3.682821273, 1.132504124, 4.912577634, 6.044437553, -13.41100755, -10.71400017, 5.577060342999999, 1.082321407, -4.932093335, -3.894247337, -0.158230994, -0.545291935, -2.8085316660000004, -1.61986734, -1.765453055, 0.850162306, 0.29697709, 1.9019956869999999, 0.00772193, 0.302439132, -5.256180212, -2.46454845, 3.678435871, 4.539884693, -0.7503989609999999, 0.04724221, 1.5167743130000002, -0.661469259, 1.8871649819999998, 4.485821288, 2.164913166, 4.282846558999999, 6.305619527, 2.715091379, 0.768955363, 0.671773057, 0.8876460840000001, 0.375845026, -0.002341349, 2.41229038, -8.77298506, -6.047178221, 5.664633633999999, 1.6230594809999999, 2.11742937, 3.573437619, 1.1824977140000001, 0.766450938, -8.464131684, -5.103605408, 5.182216136, 6.273307075, 0.15246807099999998, -2.89077376, 0.22293583399999997, 0.428377526, -0.194759756, 0.10041951, 4.027007052, 2.921154449, 4.259619374, 5.902162767999999, 4.073708989, 1.443947864, -0.7957383259999999, -0.237434957, 4.7585890630000005, 4.928141427, 1.401218685, 2.384904024, 2.2525711580000003, 0.057546712, 1.223324692, 2.0539191519999997, -0.349697708, 1.2721164109999998, -4.800852742, -4.9489559210000005, -0.160716382, -0.805878877, -3.154572013, -1.040062072, -5.828262492, -4.062920797, 7.555863293, 6.156024062, -0.872476157, 2.0343254230000003, 2.9884064169999998, 3.427260001, -2.533504717, -3.652638528, -6.484718689, -5.0779833089999995, -7.994232169, -5.468155375, 4.7403774610000005, 3.653732845, -3.8438803860000004, -3.534545133, 5.347706172, 3.5281865239999997, 0.6518540429999999, 0.538964046, -3.682821273, -1.132504124, -4.912577634, -6.044437553, 13.41100755, 10.71400017, -5.577060342999999, -1.082321407, 4.932093335, 3.894247337, 0.158230994, 0.545291935, 2.8085316660000004, 1.61986734, 1.765453055, -0.850162306, -0.29697709, -1.9019956869999999, -0.00772193, -0.302439132, 5.256180212, 2.46454845, -3.678435871, -4.539884693, 0.7503989609999999, -0.04724221, -1.5167743130000002, 0.661469259, -1.8871649819999998, -4.485821288, -2.164913166, -4.282846558999999, -6.305619527, -2.715091379, -0.768955363, -0.671773057, -0.8876460840000001, -0.375845026, 0.002341349, -2.41229038, 8.77298506, 6.047178221, -5.664633633999999, -1.6230594809999999, -2.11742937, -3.573437619, -1.1824977140000001, -0.766450938, 8.464131684, 5.103605408, -5.182216136, -6.273307075, -0.15246807099999998, 2.89077376, -0.22293583399999997, -0.428377526, 0.194759756, -0.10041951, -4.027007052, -2.921154449, -4.259619374, -5.902162767999999, -4.073708989, -1.443947864, 0.7957383259999999, 0.237434957, -4.7585890630000005, -4.928141427, -1.401218685, -2.384904024, -2.2525711580000003, -0.057546712, -1.223324692, -2.0539191519999997, 0.349697708, -1.2721164109999998, 4.800852742, 4.9489559210000005, 0.160716382, 0.805878877, 3.154572013, 1.040062072, 5.828262492, 4.062920797, -7.555863293, -6.156024062, 0.872476157, -2.0343254230000003, -2.9884064169999998, -3.427260001, 2.533504717, 3.652638528, 6.484718689, 5.0779833089999995]}],\n",
       "                        {\"geo\": {\"lakecolor\": \"rgb(255, 255, 255)\", \"projection\": {\"type\": \"albers usa\"}, \"scope\": \"usa\", \"showlakes\": true}, \"template\": {\"data\": {\"bar\": [{\"error_x\": {\"color\": \"#2a3f5f\"}, \"error_y\": {\"color\": \"#2a3f5f\"}, \"marker\": {\"line\": {\"color\": \"#E5ECF6\", \"width\": 0.5}}, \"type\": \"bar\"}], \"barpolar\": [{\"marker\": {\"line\": {\"color\": \"#E5ECF6\", \"width\": 0.5}}, \"type\": \"barpolar\"}], \"carpet\": [{\"aaxis\": {\"endlinecolor\": \"#2a3f5f\", \"gridcolor\": \"white\", \"linecolor\": \"white\", \"minorgridcolor\": \"white\", \"startlinecolor\": \"#2a3f5f\"}, \"baxis\": {\"endlinecolor\": \"#2a3f5f\", \"gridcolor\": \"white\", \"linecolor\": \"white\", \"minorgridcolor\": \"white\", \"startlinecolor\": \"#2a3f5f\"}, \"type\": \"carpet\"}], \"choropleth\": [{\"colorbar\": {\"outlinewidth\": 0, \"ticks\": \"\"}, \"type\": \"choropleth\"}], \"contour\": [{\"colorbar\": {\"outlinewidth\": 0, \"ticks\": \"\"}, \"colorscale\": [[0.0, \"#0d0887\"], [0.1111111111111111, \"#46039f\"], [0.2222222222222222, \"#7201a8\"], [0.3333333333333333, \"#9c179e\"], [0.4444444444444444, \"#bd3786\"], [0.5555555555555556, \"#d8576b\"], [0.6666666666666666, \"#ed7953\"], [0.7777777777777778, \"#fb9f3a\"], [0.8888888888888888, \"#fdca26\"], [1.0, \"#f0f921\"]], \"type\": \"contour\"}], \"contourcarpet\": [{\"colorbar\": {\"outlinewidth\": 0, \"ticks\": \"\"}, \"type\": \"contourcarpet\"}], \"heatmap\": [{\"colorbar\": {\"outlinewidth\": 0, \"ticks\": \"\"}, \"colorscale\": [[0.0, \"#0d0887\"], [0.1111111111111111, \"#46039f\"], [0.2222222222222222, \"#7201a8\"], [0.3333333333333333, \"#9c179e\"], [0.4444444444444444, \"#bd3786\"], [0.5555555555555556, \"#d8576b\"], [0.6666666666666666, \"#ed7953\"], [0.7777777777777778, \"#fb9f3a\"], [0.8888888888888888, \"#fdca26\"], [1.0, \"#f0f921\"]], \"type\": \"heatmap\"}], \"heatmapgl\": [{\"colorbar\": {\"outlinewidth\": 0, \"ticks\": \"\"}, \"colorscale\": [[0.0, \"#0d0887\"], [0.1111111111111111, \"#46039f\"], [0.2222222222222222, \"#7201a8\"], [0.3333333333333333, \"#9c179e\"], [0.4444444444444444, \"#bd3786\"], [0.5555555555555556, \"#d8576b\"], [0.6666666666666666, \"#ed7953\"], [0.7777777777777778, \"#fb9f3a\"], [0.8888888888888888, \"#fdca26\"], [1.0, \"#f0f921\"]], \"type\": \"heatmapgl\"}], \"histogram\": [{\"marker\": {\"colorbar\": {\"outlinewidth\": 0, \"ticks\": \"\"}}, \"type\": \"histogram\"}], \"histogram2d\": [{\"colorbar\": {\"outlinewidth\": 0, \"ticks\": \"\"}, \"colorscale\": [[0.0, \"#0d0887\"], [0.1111111111111111, \"#46039f\"], [0.2222222222222222, \"#7201a8\"], [0.3333333333333333, \"#9c179e\"], [0.4444444444444444, \"#bd3786\"], [0.5555555555555556, \"#d8576b\"], [0.6666666666666666, \"#ed7953\"], [0.7777777777777778, \"#fb9f3a\"], [0.8888888888888888, \"#fdca26\"], [1.0, \"#f0f921\"]], \"type\": \"histogram2d\"}], \"histogram2dcontour\": [{\"colorbar\": {\"outlinewidth\": 0, \"ticks\": \"\"}, \"colorscale\": [[0.0, \"#0d0887\"], [0.1111111111111111, \"#46039f\"], [0.2222222222222222, \"#7201a8\"], [0.3333333333333333, \"#9c179e\"], [0.4444444444444444, \"#bd3786\"], [0.5555555555555556, \"#d8576b\"], [0.6666666666666666, \"#ed7953\"], [0.7777777777777778, \"#fb9f3a\"], [0.8888888888888888, \"#fdca26\"], [1.0, \"#f0f921\"]], \"type\": \"histogram2dcontour\"}], \"mesh3d\": [{\"colorbar\": {\"outlinewidth\": 0, \"ticks\": \"\"}, \"type\": \"mesh3d\"}], \"parcoords\": [{\"line\": {\"colorbar\": {\"outlinewidth\": 0, \"ticks\": \"\"}}, \"type\": \"parcoords\"}], \"scatter\": [{\"marker\": {\"colorbar\": {\"outlinewidth\": 0, \"ticks\": \"\"}}, \"type\": \"scatter\"}], \"scatter3d\": [{\"line\": {\"colorbar\": {\"outlinewidth\": 0, \"ticks\": \"\"}}, \"marker\": {\"colorbar\": {\"outlinewidth\": 0, \"ticks\": \"\"}}, \"type\": \"scatter3d\"}], \"scattercarpet\": [{\"marker\": {\"colorbar\": {\"outlinewidth\": 0, \"ticks\": \"\"}}, \"type\": \"scattercarpet\"}], \"scattergeo\": [{\"marker\": {\"colorbar\": {\"outlinewidth\": 0, \"ticks\": \"\"}}, \"type\": \"scattergeo\"}], \"scattergl\": [{\"marker\": {\"colorbar\": {\"outlinewidth\": 0, \"ticks\": \"\"}}, \"type\": \"scattergl\"}], \"scattermapbox\": [{\"marker\": {\"colorbar\": {\"outlinewidth\": 0, \"ticks\": \"\"}}, \"type\": \"scattermapbox\"}], \"scatterpolar\": [{\"marker\": {\"colorbar\": {\"outlinewidth\": 0, \"ticks\": \"\"}}, \"type\": \"scatterpolar\"}], \"scatterpolargl\": [{\"marker\": {\"colorbar\": {\"outlinewidth\": 0, \"ticks\": \"\"}}, \"type\": \"scatterpolargl\"}], \"scatterternary\": [{\"marker\": {\"colorbar\": {\"outlinewidth\": 0, \"ticks\": \"\"}}, \"type\": \"scatterternary\"}], \"surface\": [{\"colorbar\": {\"outlinewidth\": 0, \"ticks\": \"\"}, \"colorscale\": [[0.0, \"#0d0887\"], [0.1111111111111111, \"#46039f\"], [0.2222222222222222, \"#7201a8\"], [0.3333333333333333, \"#9c179e\"], [0.4444444444444444, \"#bd3786\"], [0.5555555555555556, \"#d8576b\"], [0.6666666666666666, \"#ed7953\"], [0.7777777777777778, \"#fb9f3a\"], [0.8888888888888888, \"#fdca26\"], [1.0, \"#f0f921\"]], \"type\": \"surface\"}], \"table\": [{\"cells\": {\"fill\": {\"color\": \"#EBF0F8\"}, \"line\": {\"color\": \"white\"}}, \"header\": {\"fill\": {\"color\": \"#C8D4E3\"}, \"line\": {\"color\": \"white\"}}, \"type\": \"table\"}]}, \"layout\": {\"annotationdefaults\": {\"arrowcolor\": \"#2a3f5f\", \"arrowhead\": 0, \"arrowwidth\": 1}, \"colorscale\": {\"diverging\": [[0, \"#8e0152\"], [0.1, \"#c51b7d\"], [0.2, \"#de77ae\"], [0.3, \"#f1b6da\"], [0.4, \"#fde0ef\"], [0.5, \"#f7f7f7\"], [0.6, \"#e6f5d0\"], [0.7, \"#b8e186\"], [0.8, \"#7fbc41\"], [0.9, \"#4d9221\"], [1, \"#276419\"]], \"sequential\": [[0.0, \"#0d0887\"], [0.1111111111111111, \"#46039f\"], [0.2222222222222222, \"#7201a8\"], [0.3333333333333333, \"#9c179e\"], [0.4444444444444444, \"#bd3786\"], [0.5555555555555556, \"#d8576b\"], [0.6666666666666666, \"#ed7953\"], [0.7777777777777778, \"#fb9f3a\"], [0.8888888888888888, \"#fdca26\"], [1.0, \"#f0f921\"]], \"sequentialminus\": [[0.0, \"#0d0887\"], [0.1111111111111111, \"#46039f\"], [0.2222222222222222, \"#7201a8\"], [0.3333333333333333, \"#9c179e\"], [0.4444444444444444, \"#bd3786\"], [0.5555555555555556, \"#d8576b\"], [0.6666666666666666, \"#ed7953\"], [0.7777777777777778, \"#fb9f3a\"], [0.8888888888888888, \"#fdca26\"], [1.0, \"#f0f921\"]]}, \"colorway\": [\"#636efa\", \"#EF553B\", \"#00cc96\", \"#ab63fa\", \"#FFA15A\", \"#19d3f3\", \"#FF6692\", \"#B6E880\", \"#FF97FF\", \"#FECB52\"], \"font\": {\"color\": \"#2a3f5f\"}, \"geo\": {\"bgcolor\": \"white\", \"lakecolor\": \"white\", \"landcolor\": \"#E5ECF6\", \"showlakes\": true, \"showland\": true, \"subunitcolor\": \"white\"}, \"hoverlabel\": {\"align\": \"left\"}, \"hovermode\": \"closest\", \"mapbox\": {\"style\": \"light\"}, \"paper_bgcolor\": \"white\", \"plot_bgcolor\": \"#E5ECF6\", \"polar\": {\"angularaxis\": {\"gridcolor\": \"white\", \"linecolor\": \"white\", \"ticks\": \"\"}, \"bgcolor\": \"#E5ECF6\", \"radialaxis\": {\"gridcolor\": \"white\", \"linecolor\": \"white\", \"ticks\": \"\"}}, \"scene\": {\"xaxis\": {\"backgroundcolor\": \"#E5ECF6\", \"gridcolor\": \"white\", \"gridwidth\": 2, \"linecolor\": \"white\", \"showbackground\": true, \"ticks\": \"\", \"zerolinecolor\": \"white\"}, \"yaxis\": {\"backgroundcolor\": \"#E5ECF6\", \"gridcolor\": \"white\", \"gridwidth\": 2, \"linecolor\": \"white\", \"showbackground\": true, \"ticks\": \"\", \"zerolinecolor\": \"white\"}, \"zaxis\": {\"backgroundcolor\": \"#E5ECF6\", \"gridcolor\": \"white\", \"gridwidth\": 2, \"linecolor\": \"white\", \"showbackground\": true, \"ticks\": \"\", \"zerolinecolor\": \"white\"}}, \"shapedefaults\": {\"line\": {\"color\": \"#2a3f5f\"}}, \"ternary\": {\"aaxis\": {\"gridcolor\": \"white\", \"linecolor\": \"white\", \"ticks\": \"\"}, \"baxis\": {\"gridcolor\": \"white\", \"linecolor\": \"white\", \"ticks\": \"\"}, \"bgcolor\": \"#E5ECF6\", \"caxis\": {\"gridcolor\": \"white\", \"linecolor\": \"white\", \"ticks\": \"\"}}, \"title\": {\"x\": 0.05}, \"xaxis\": {\"automargin\": true, \"gridcolor\": \"white\", \"linecolor\": \"white\", \"ticks\": \"\", \"zerolinecolor\": \"white\", \"zerolinewidth\": 2}, \"yaxis\": {\"automargin\": true, \"gridcolor\": \"white\", \"linecolor\": \"white\", \"ticks\": \"\", \"zerolinecolor\": \"white\", \"zerolinewidth\": 2}}}, \"title\": {\"text\": \"National Report Card\"}},\n",
       "                        {\"responsive\": true}\n",
       "                    ).then(function(){\n",
       "                            \n",
       "var gd = document.getElementById('1523d204-9724-4061-abc6-35a649d07ec2');\n",
       "var x = new MutationObserver(function (mutations, observer) {{\n",
       "        var display = window.getComputedStyle(gd).display;\n",
       "        if (!display || display === 'none') {{\n",
       "            console.log([gd, 'removed!']);\n",
       "            Plotly.purge(gd);\n",
       "            observer.disconnect();\n",
       "        }}\n",
       "}});\n",
       "\n",
       "// Listen for the removal of the full notebook cells\n",
       "var notebookContainer = gd.closest('#notebook-container');\n",
       "if (notebookContainer) {{\n",
       "    x.observe(notebookContainer, {childList: true});\n",
       "}}\n",
       "\n",
       "// Listen for the clearing of the current output cell\n",
       "var outputEl = gd.closest('.output');\n",
       "if (outputEl) {{\n",
       "    x.observe(outputEl, {childList: true});\n",
       "}}\n",
       "\n",
       "                        })\n",
       "                };\n",
       "                });\n",
       "            </script>\n",
       "        </div>"
      ]
     },
     "metadata": {},
     "output_type": "display_data"
    }
   ],
   "source": [
    "fig.update_layout(\n",
    "    title_text='National Report Card',\n",
    "    geo = dict(\n",
    "        scope='usa',\n",
    "        projection=go.layout.geo.Projection(type = 'albers usa'),\n",
    "        showlakes=True, # lakes\n",
    "        lakecolor='rgb(255, 255, 255)'),\n",
    ")\n",
    "\n",
    "fig.show()"
   ]
  },
  {
   "cell_type": "code",
   "execution_count": 9,
   "metadata": {},
   "outputs": [
    {
     "data": {
      "application/vnd.plotly.v1+json": {
       "config": {
        "plotlyServerURL": "https://plot.ly"
       },
       "data": [
        {
         "autocolorscale": false,
         "colorbar": {
          "title": {
           "text": "Average Math Difference"
          }
         },
         "colorscale": [
          [
           0,
           "rgb(247,251,255)"
          ],
          [
           0.125,
           "rgb(222,235,247)"
          ],
          [
           0.25,
           "rgb(198,219,239)"
          ],
          [
           0.375,
           "rgb(158,202,225)"
          ],
          [
           0.5,
           "rgb(107,174,214)"
          ],
          [
           0.625,
           "rgb(66,146,198)"
          ],
          [
           0.75,
           "rgb(33,113,181)"
          ],
          [
           0.875,
           "rgb(8,81,156)"
          ],
          [
           1,
           "rgb(8,48,107)"
          ]
         ],
         "locationmode": "USA-states",
         "locations": [
          "AK",
          "AK",
          "AL",
          "AL",
          "AR",
          "AR",
          "AZ",
          "AZ",
          "CA",
          "CA",
          "CO",
          "CO",
          "CT",
          "CT",
          "DC",
          "DC",
          "DE",
          "DE",
          "FL",
          "FL",
          "GA",
          "GA",
          "HI",
          "HI",
          "IA",
          "IA",
          "ID",
          "ID",
          "IL",
          "IL",
          "IN",
          "IN",
          "KS",
          "KS",
          "KY",
          "KY",
          "LA",
          "LA",
          "MA",
          "MA",
          "MD",
          "MD",
          "ME",
          "ME",
          "MI",
          "MI",
          "MN",
          "MN",
          "MO",
          "MO",
          "MS",
          "MS",
          "MT",
          "MT",
          "NC",
          "NC",
          "ND",
          "ND",
          "NE",
          "NE",
          "NH",
          "NH",
          "NJ",
          "NJ",
          "NM",
          "NM",
          "NT",
          "NT",
          "NV",
          "NV",
          "NY",
          "NY",
          "OH",
          "OH",
          "OK",
          "OK",
          "OR",
          "OR",
          "PA",
          "PA",
          "RI",
          "RI",
          "SC",
          "SC",
          "SD",
          "SD",
          "TN",
          "TN",
          "TX",
          "TX",
          "UT",
          "UT",
          "VA",
          "VA",
          "VT",
          "VT",
          "WA",
          "WA",
          "WI",
          "WI",
          "WV",
          "WV",
          "WY",
          "WY",
          "AK",
          "AK",
          "AL",
          "AL",
          "AR",
          "AR",
          "AZ",
          "AZ",
          "CA",
          "CA",
          "CO",
          "CO",
          "CT",
          "CT",
          "DC",
          "DC",
          "DE",
          "DE",
          "FL",
          "FL",
          "GA",
          "GA",
          "HI",
          "HI",
          "IA",
          "IA",
          "ID",
          "ID",
          "IL",
          "IL",
          "IN",
          "IN",
          "KS",
          "KS",
          "KY",
          "KY",
          "LA",
          "LA",
          "MA",
          "MA",
          "MD",
          "MD",
          "ME",
          "ME",
          "MI",
          "MI",
          "MN",
          "MN",
          "MO",
          "MO",
          "MS",
          "MS",
          "MT",
          "MT",
          "NC",
          "NC",
          "ND",
          "ND",
          "NE",
          "NE",
          "NH",
          "NH",
          "NJ",
          "NJ",
          "NM",
          "NM",
          "NT",
          "NT",
          "NV",
          "NV",
          "NY",
          "NY",
          "OH",
          "OH",
          "OK",
          "OK",
          "OR",
          "OR",
          "PA",
          "PA",
          "RI",
          "RI",
          "SC",
          "SC",
          "SD",
          "SD",
          "TN",
          "TN",
          "TX",
          "TX",
          "UT",
          "UT",
          "VA",
          "VA",
          "VT",
          "VT",
          "WA",
          "WA",
          "WI",
          "WI",
          "WV",
          "WV",
          "WY",
          "WY"
         ],
         "marker": {
          "line": {
           "color": "white"
          }
         },
         "text": [
          "AK<br>Year: 2009 Math: 238.4459925<br>Reading: 206.7242292",
          "AK<br>Year: 2009 Math: 235.9293425<br>Reading: 215.7112338",
          "AL<br>Year: 2009 Math: 227.7181926<br>Reading: 211.74193050000002",
          "AL<br>Year: 2009 Math: 228.2247489<br>Reading: 221.1006988",
          "AR<br>Year: 2009 Math: 238.82458259999999<br>Reading: 210.97585800000002",
          "AR<br>Year: 2009 Math: 236.1995327<br>Reading: 221.5645131",
          "AZ<br>Year: 2009 Math: 230.2839495<br>Reading: 206.9136801",
          "AZ<br>Year: 2009 Math: 229.68685919999996<br>Reading: 213.18922450000002",
          "CA<br>Year: 2009 Math: 232.6138321<br>Reading: 207.055218",
          "CA<br>Year: 2009 Math: 230.6765415<br>Reading: 212.63764550000002",
          "CO<br>Year: 2009 Math: 243.965015<br>Reading: 222.255777",
          "CO<br>Year: 2009 Math: 242.2698015<br>Reading: 229.2295877",
          "CT<br>Year: 2009 Math: 246.40018819999997<br>Reading: 224.53905319999996",
          "CT<br>Year: 2009 Math: 242.96108790000002<br>Reading: 233.50362579999998",
          "DC<br>Year: 2009 Math: 217.9480023<br>Reading: 198.09476619999998",
          "DC<br>Year: 2009 Math: 220.5677797<br>Reading: 205.74594040000002",
          "DE<br>Year: 2009 Math: 241.1687191<br>Reading: 222.87174190000002",
          "DE<br>Year: 2009 Math: 237.7510974<br>Reading: 228.1886232",
          "FL<br>Year: 2009 Math: 242.54442110000002<br>Reading: 222.52019610000002",
          "FL<br>Year: 2009 Math: 241.3373227<br>Reading: 228.8642131",
          "GA<br>Year: 2009 Math: 236.5085199<br>Reading: 214.28571380000002",
          "GA<br>Year: 2009 Math: 235.5460739<br>Reading: 221.3610349",
          "HI<br>Year: 2009 Math: 235.26691949999997<br>Reading: 205.13322390000002",
          "HI<br>Year: 2009 Math: 236.1308716<br>Reading: 216.66726060000002",
          "IA<br>Year: 2009 Math: 243.3199286<br>Reading: 216.96943230000002",
          "IA<br>Year: 2009 Math: 241.8441682<br>Reading: 225.965448",
          "ID<br>Year: 2009 Math: 241.9403591<br>Reading: 216.5292228",
          "ID<br>Year: 2009 Math: 240.13089580000002<br>Reading: 225.5082653",
          "IL<br>Year: 2009 Math: 239.6526887<br>Reading: 214.8423846",
          "IL<br>Year: 2009 Math: 236.9052525<br>Reading: 223.5129821",
          "IN<br>Year: 2009 Math: 242.98704339999998<br>Reading: 218.3968134",
          "IN<br>Year: 2009 Math: 242.2299855<br>Reading: 227.0696154",
          "KS<br>Year: 2009 Math: 246.16167400000003<br>Reading: 222.1581946",
          "KS<br>Year: 2009 Math: 244.3872114<br>Reading: 225.8242076",
          "KY<br>Year: 2009 Math: 240.03423560000002<br>Reading: 222.3486903",
          "KY<br>Year: 2009 Math: 237.56751949999997<br>Reading: 228.90135469999998",
          "LA<br>Year: 2009 Math: 230.1209562<br>Reading: 202.9714742",
          "LA<br>Year: 2009 Math: 228.68993909999998<br>Reading: 212.28630139999999",
          "MA<br>Year: 2009 Math: 253.4405668<br>Reading: 231.1401318",
          "MA<br>Year: 2009 Math: 251.08238980000002<br>Reading: 236.3237981",
          "MD<br>Year: 2009 Math: 244.24050970000002<br>Reading: 222.5177629",
          "MD<br>Year: 2009 Math: 243.34619300000003<br>Reading: 229.43872510000003",
          "ME<br>Year: 2009 Math: 246.5404608<br>Reading: 219.58023369999998",
          "ME<br>Year: 2009 Math: 242.2710866<br>Reading: 228.09681609999998",
          "MI<br>Year: 2009 Math: 237.5802861<br>Reading: 214.3957909",
          "MI<br>Year: 2009 Math: 234.95298160000002<br>Reading: 222.1448852",
          "MN<br>Year: 2009 Math: 251.2868955<br>Reading: 219.8187462",
          "MN<br>Year: 2009 Math: 247.556902<br>Reading: 226.9751804",
          "MO<br>Year: 2009 Math: 241.2338228<br>Reading: 218.9749832",
          "MO<br>Year: 2009 Math: 240.0938702<br>Reading: 229.0948613",
          "MS<br>Year: 2009 Math: 226.6838904<br>Reading: 207.6306934",
          "MS<br>Year: 2009 Math: 227.854993<br>Reading: 213.47530240000003",
          "MT<br>Year: 2009 Math: 247.0098734<br>Reading: 221.7826605",
          "MT<br>Year: 2009 Math: 241.6644649<br>Reading: 227.6048386",
          "NC<br>Year: 2009 Math: 243.9695966<br>Reading: 214.78778430000003",
          "NC<br>Year: 2009 Math: 243.5792701<br>Reading: 224.02092779999998",
          "ND<br>Year: 2009 Math: 246.80884590000002<br>Reading: 223.1073372",
          "ND<br>Year: 2009 Math: 243.5153071<br>Reading: 228.91858919999999",
          "NE<br>Year: 2009 Math: 238.75684159999997<br>Reading: 219.6725023",
          "NE<br>Year: 2009 Math: 238.7398143<br>Reading: 225.4668601",
          "NH<br>Year: 2009 Math: 252.1974258<br>Reading: 225.85400589999998",
          "NH<br>Year: 2009 Math: 249.8650685<br>Reading: 232.6529539",
          "NJ<br>Year: 2009 Math: 248.4270377<br>Reading: 227.1098772",
          "NJ<br>Year: 2009 Math: 244.5251381<br>Reading: 231.69815359999998",
          "NM<br>Year: 2009 Math: 230.6408759<br>Reading: 202.83436890000002",
          "NM<br>Year: 2009 Math: 229.3881713<br>Reading: 212.59483959999997",
          "NT<br>Year: 2009 Math: 240.61764920000002<br>Reading: 217.6064798",
          "NT<br>Year: 2009 Math: 238.69441969999997<br>Reading: 224.34676769999996",
          "NV<br>Year: 2009 Math: 236.10334029999999<br>Reading: 208.2577906",
          "NV<br>Year: 2009 Math: 234.2039974<br>Reading: 213.9765537",
          "NY<br>Year: 2009 Math: 241.8842705<br>Reading: 220.7946954",
          "NY<br>Year: 2009 Math: 239.3247083<br>Reading: 228.1099483",
          "OH<br>Year: 2009 Math: 245.4888563<br>Reading: 221.64348859999998",
          "OH<br>Year: 2009 Math: 241.87394480000003<br>Reading: 227.3593687",
          "OK<br>Year: 2009 Math: 237.93271040000002<br>Reading: 213.96507730000002",
          "OK<br>Year: 2009 Math: 235.6251517<br>Reading: 220.36061439999997",
          "OR<br>Year: 2009 Math: 239.9242304<br>Reading: 214.1195805",
          "OR<br>Year: 2009 Math: 235.97175570000002<br>Reading: 222.50049199999998",
          "PA<br>Year: 2009 Math: 244.738227<br>Reading: 221.3485904",
          "PA<br>Year: 2009 Math: 242.36482469999999<br>Reading: 226.13053870000002",
          "RI<br>Year: 2009 Math: 240.4065545<br>Reading: 217.8659933",
          "RI<br>Year: 2009 Math: 237.00482000000002<br>Reading: 227.78835460000002",
          "SC<br>Year: 2009 Math: 236.12872799999997<br>Reading: 213.40612760000002",
          "SC<br>Year: 2009 Math: 235.1828128<br>Reading: 218.5484679",
          "SD<br>Year: 2009 Math: 243.4159228<br>Reading: 219.5269395",
          "SD<br>Year: 2009 Math: 240.6416357<br>Reading: 224.9867318",
          "TN<br>Year: 2009 Math: 232.1633181<br>Reading: 213.85772519999998",
          "TN<br>Year: 2009 Math: 231.4680404<br>Reading: 219.65458309999997",
          "TX<br>Year: 2009 Math: 240.8848503<br>Reading: 215.67111269999998",
          "TX<br>Year: 2009 Math: 240.02622659999997<br>Reading: 222.17289669999997",
          "UT<br>Year: 2009 Math: 241.3084911<br>Reading: 216.9301106",
          "UT<br>Year: 2009 Math: 239.2707128<br>Reading: 221.549557",
          "VA<br>Year: 2009 Math: 244.65101659999996<br>Reading: 222.7808285",
          "VA<br>Year: 2009 Math: 241.4090858<br>Reading: 230.46729019999998",
          "VT<br>Year: 2009 Math: 248.878935<br>Reading: 226.1078339",
          "VT<br>Year: 2009 Math: 246.59942569999998<br>Reading: 231.4772687",
          "WA<br>Year: 2009 Math: 242.38630099999997<br>Reading: 217.0907011",
          "WA<br>Year: 2009 Math: 242.12162080000002<br>Reading: 225.733106",
          "WI<br>Year: 2009 Math: 244.67302310000002<br>Reading: 216.606254",
          "WI<br>Year: 2009 Math: 242.41006940000003<br>Reading: 223.8881088",
          "WV<br>Year: 2009 Math: 233.99410730000002<br>Reading: 210.86660419999998",
          "WV<br>Year: 2009 Math: 231.92953909999997<br>Reading: 218.3040847",
          "WY<br>Year: 2009 Math: 242.9470371<br>Reading: 219.1295972",
          "WY<br>Year: 2009 Math: 240.98958219999997<br>Reading: 226.4977208",
          "AK<br>Year: 2017 Math: 230.45176030000002<br>Reading: 203.0513017",
          "AK<br>Year: 2017 Math: 230.4611871<br>Reading: 211.34334269999997",
          "AL<br>Year: 2017 Math: 232.45857009999997<br>Reading: 212.8211091",
          "AL<br>Year: 2017 Math: 231.87848169999998<br>Reading: 220.0065999",
          "AR<br>Year: 2017 Math: 234.9807022<br>Reading: 211.74262000000002",
          "AR<br>Year: 2017 Math: 232.66498760000002<br>Reading: 220.6330097",
          "AZ<br>Year: 2017 Math: 235.6316557<br>Reading: 213.46267039999998",
          "AZ<br>Year: 2017 Math: 233.2150457<br>Reading: 217.52022689999998",
          "CA<br>Year: 2017 Math: 233.26568619999998<br>Reading: 210.7706082",
          "CA<br>Year: 2017 Math: 231.2155055<br>Reading: 220.2931384",
          "CO<br>Year: 2017 Math: 240.2821937<br>Reading: 221.61640559999998",
          "CO<br>Year: 2017 Math: 241.13729730000003<br>Reading: 228.02043140000004",
          "CT<br>Year: 2017 Math: 241.4876106<br>Reading: 225.69884989999997",
          "CT<br>Year: 2017 Math: 236.91665030000001<br>Reading: 231.06940530000003",
          "DC<br>Year: 2017 Math: 231.3590099<br>Reading: 209.7059168",
          "DC<br>Year: 2017 Math: 231.2817799<br>Reading: 217.0726847",
          "DE<br>Year: 2017 Math: 235.5916588<br>Reading: 217.02140950000003",
          "DE<br>Year: 2017 Math: 236.66877599999998<br>Reading: 226.0044074",
          "FL<br>Year: 2017 Math: 247.4765145<br>Reading: 226.0874762",
          "FL<br>Year: 2017 Math: 245.23157<br>Reading: 230.5293065",
          "GA<br>Year: 2017 Math: 236.6667509<br>Reading: 215.9960475",
          "GA<br>Year: 2017 Math: 236.0913659<br>Reading: 223.46619819999998",
          "HI<br>Year: 2017 Math: 238.0754512<br>Reading: 211.96439750000002",
          "HI<br>Year: 2017 Math: 237.750739<br>Reading: 221.1629899",
          "IA<br>Year: 2017 Math: 245.0853816<br>Reading: 218.88682480000003",
          "IA<br>Year: 2017 Math: 240.9940059<br>Reading: 224.76728390000002",
          "ID<br>Year: 2017 Math: 241.64338199999997<br>Reading: 220.3231426",
          "ID<br>Year: 2017 Math: 238.2289001<br>Reading: 225.3600964",
          "IL<br>Year: 2017 Math: 239.6449667<br>Reading: 217.19876859999997",
          "IL<br>Year: 2017 Math: 236.6028134<br>Reading: 223.51177090000002",
          "IN<br>Year: 2017 Math: 248.2432237<br>Reading: 224.2207755",
          "IN<br>Year: 2017 Math: 244.6945339<br>Reading: 228.74029500000003",
          "KS<br>Year: 2017 Math: 242.4832381<br>Reading: 220.723398",
          "KS<br>Year: 2017 Math: 239.8473267<br>Reading: 226.0057583",
          "KY<br>Year: 2017 Math: 240.7846346<br>Reading: 221.9300199",
          "KY<br>Year: 2017 Math: 237.52027719999998<br>Reading: 226.27731580000003",
          "LA<br>Year: 2017 Math: 228.60418190000001<br>Reading: 210.24742400000002",
          "LA<br>Year: 2017 Math: 229.35140840000003<br>Reading: 213.0166577",
          "MA<br>Year: 2017 Math: 251.55340180000002<br>Reading: 232.9402589",
          "MA<br>Year: 2017 Math: 246.59656850000002<br>Reading: 238.5091687",
          "MD<br>Year: 2017 Math: 242.0755965<br>Reading: 220.69551069999997",
          "MD<br>Year: 2017 Math: 239.06334640000003<br>Reading: 229.59108769999997",
          "ME<br>Year: 2017 Math: 240.23484130000003<br>Reading: 219.2110349",
          "ME<br>Year: 2017 Math: 239.5559952<br>Reading: 223.5981836",
          "MI<br>Year: 2017 Math: 236.8113307<br>Reading: 213.58580730000003",
          "MI<br>Year: 2017 Math: 234.2812085<br>Reading: 221.98642510000002",
          "MN<br>Year: 2017 Math: 250.3992494<br>Reading: 221.9607287",
          "MN<br>Year: 2017 Math: 247.18105690000002<br>Reading: 227.14780640000004",
          "MO<br>Year: 2017 Math: 241.2361641<br>Reading: 220.5014873",
          "MO<br>Year: 2017 Math: 237.6815798<br>Reading: 224.97627709999998",
          "MS<br>Year: 2017 Math: 235.4568755<br>Reading: 211.57824509999998",
          "MS<br>Year: 2017 Math: 233.90217119999997<br>Reading: 218.94522659999998",
          "MT<br>Year: 2017 Math: 241.34523969999998<br>Reading: 220.22639280000004",
          "MT<br>Year: 2017 Math: 240.04140550000002<br>Reading: 224.62601899999999",
          "NC<br>Year: 2017 Math: 241.85216719999997<br>Reading: 221.1697234",
          "NC<br>Year: 2017 Math: 240.00583250000003<br>Reading: 226.8317849",
          "ND<br>Year: 2017 Math: 245.6263482<br>Reading: 216.68196830000002",
          "ND<br>Year: 2017 Math: 242.74885609999998<br>Reading: 226.69569019999997",
          "NE<br>Year: 2017 Math: 247.2209733<br>Reading: 220.76644700000003",
          "NE<br>Year: 2017 Math: 243.84341969999997<br>Reading: 227.65359229999999",
          "NH<br>Year: 2017 Math: 247.0152097<br>Reading: 227.622395",
          "NH<br>Year: 2017 Math: 243.59176150000002<br>Reading: 230.2115385",
          "NJ<br>Year: 2017 Math: 248.27456969999997<br>Reading: 228.67674590000001",
          "NJ<br>Year: 2017 Math: 247.4159119<br>Reading: 237.3914716",
          "NM<br>Year: 2017 Math: 230.41794<br>Reading: 203.95849180000002",
          "NM<br>Year: 2017 Math: 228.9597938<br>Reading: 211.60481069999997",
          "NT<br>Year: 2017 Math: 240.81240899999997<br>Reading: 218.96578190000002",
          "NT<br>Year: 2017 Math: 238.59400019999998<br>Reading: 224.9204301",
          "NV<br>Year: 2017 Math: 232.0763332<br>Reading: 211.24649399999998",
          "NV<br>Year: 2017 Math: 231.282843<br>Reading: 218.53305350000002",
          "NY<br>Year: 2017 Math: 237.62465120000002<br>Reading: 219.0240122",
          "NY<br>Year: 2017 Math: 233.4225455<br>Reading: 224.7796747",
          "OH<br>Year: 2017 Math: 241.41514730000003<br>Reading: 223.49784759999997",
          "OH<br>Year: 2017 Math: 240.4299969<br>Reading: 227.09899950000002",
          "OK<br>Year: 2017 Math: 238.72844869999997<br>Reading: 212.8841397",
          "OK<br>Year: 2017 Math: 235.8625867<br>Reading: 220.40549109999998",
          "OR<br>Year: 2017 Math: 235.1656413<br>Reading: 212.40314680000003",
          "OR<br>Year: 2017 Math: 231.0436143<br>Reading: 222.78055460000002",
          "PA<br>Year: 2017 Math: 243.3370083<br>Reading: 224.1111222",
          "PA<br>Year: 2017 Math: 239.97992069999998<br>Reading: 225.75630730000003",
          "RI<br>Year: 2017 Math: 238.15398330000002<br>Reading: 220.60557659999998",
          "RI<br>Year: 2017 Math: 236.9472733<br>Reading: 226.15168549999999",
          "SC<br>Year: 2017 Math: 234.90540330000002<br>Reading: 209.56633200000002",
          "SC<br>Year: 2017 Math: 233.12889359999997<br>Reading: 216.90885469999998",
          "SD<br>Year: 2017 Math: 243.7656205<br>Reading: 219.1506216",
          "SD<br>Year: 2017 Math: 239.36951919999998<br>Reading: 224.399956",
          "TN<br>Year: 2017 Math: 236.9641708<br>Reading: 215.29826630000002",
          "TN<br>Year: 2017 Math: 236.4169963<br>Reading: 222.6835514",
          "TX<br>Year: 2017 Math: 241.0455667<br>Reading: 213.48003340000002",
          "TX<br>Year: 2017 Math: 240.8321055<br>Reading: 216.38500499999998",
          "UT<br>Year: 2017 Math: 244.4630631<br>Reading: 221.0767767",
          "UT<br>Year: 2017 Math: 240.31077480000002<br>Reading: 229.64693480000003",
          "VA<br>Year: 2017 Math: 250.47927909999999<br>Reading: 226.245481",
          "VA<br>Year: 2017 Math: 245.47200660000001<br>Reading: 229.02030040000002",
          "VT<br>Year: 2017 Math: 241.32307180000004<br>Reading: 223.34771800000001",
          "VT<br>Year: 2017 Math: 240.4434016<br>Reading: 229.64731380000003",
          "WA<br>Year: 2017 Math: 243.2587772<br>Reading: 220.2532377",
          "WA<br>Year: 2017 Math: 240.08729530000002<br>Reading: 226.1011123",
          "WI<br>Year: 2017 Math: 241.6846167<br>Reading: 216.7292028",
          "WI<br>Year: 2017 Math: 238.9828094<br>Reading: 222.7703131",
          "WV<br>Year: 2017 Math: 236.527612<br>Reading: 212.89900260000002",
          "WV<br>Year: 2017 Math: 235.5821776<br>Reading: 221.8400483",
          "WY<br>Year: 2017 Math: 249.43175580000002<br>Reading: 224.1985693",
          "WY<br>Year: 2017 Math: 246.06756549999997<br>Reading: 229.6916923"
         ],
         "type": "choropleth",
         "z": [
          7.994232169,
          5.468155375,
          -4.7403774610000005,
          -3.653732845,
          3.8438803860000004,
          3.534545133,
          -5.347706172,
          -3.5281865239999997,
          -0.6518540429999999,
          -0.538964046,
          3.682821273,
          1.132504124,
          4.912577634,
          6.044437553,
          -13.41100755,
          -10.71400017,
          5.577060342999999,
          1.082321407,
          -4.932093335,
          -3.894247337,
          -0.158230994,
          -0.545291935,
          -2.8085316660000004,
          -1.61986734,
          -1.765453055,
          0.850162306,
          0.29697709,
          1.9019956869999999,
          0.00772193,
          0.302439132,
          -5.256180212,
          -2.46454845,
          3.678435871,
          4.539884693,
          -0.7503989609999999,
          0.04724221,
          1.5167743130000002,
          -0.661469259,
          1.8871649819999998,
          4.485821288,
          2.164913166,
          4.282846558999999,
          6.305619527,
          2.715091379,
          0.768955363,
          0.671773057,
          0.8876460840000001,
          0.375845026,
          -0.002341349,
          2.41229038,
          -8.77298506,
          -6.047178221,
          5.664633633999999,
          1.6230594809999999,
          2.11742937,
          3.573437619,
          1.1824977140000001,
          0.766450938,
          -8.464131684,
          -5.103605408,
          5.182216136,
          6.273307075,
          0.15246807099999998,
          -2.89077376,
          0.22293583399999997,
          0.428377526,
          -0.194759756,
          0.10041951,
          4.027007052,
          2.921154449,
          4.259619374,
          5.902162767999999,
          4.073708989,
          1.443947864,
          -0.7957383259999999,
          -0.237434957,
          4.7585890630000005,
          4.928141427,
          1.401218685,
          2.384904024,
          2.2525711580000003,
          0.057546712,
          1.223324692,
          2.0539191519999997,
          -0.349697708,
          1.2721164109999998,
          -4.800852742,
          -4.9489559210000005,
          -0.160716382,
          -0.805878877,
          -3.154572013,
          -1.040062072,
          -5.828262492,
          -4.062920797,
          7.555863293,
          6.156024062,
          -0.872476157,
          2.0343254230000003,
          2.9884064169999998,
          3.427260001,
          -2.533504717,
          -3.652638528,
          -6.484718689,
          -5.0779833089999995,
          -7.994232169,
          -5.468155375,
          4.7403774610000005,
          3.653732845,
          -3.8438803860000004,
          -3.534545133,
          5.347706172,
          3.5281865239999997,
          0.6518540429999999,
          0.538964046,
          -3.682821273,
          -1.132504124,
          -4.912577634,
          -6.044437553,
          13.41100755,
          10.71400017,
          -5.577060342999999,
          -1.082321407,
          4.932093335,
          3.894247337,
          0.158230994,
          0.545291935,
          2.8085316660000004,
          1.61986734,
          1.765453055,
          -0.850162306,
          -0.29697709,
          -1.9019956869999999,
          -0.00772193,
          -0.302439132,
          5.256180212,
          2.46454845,
          -3.678435871,
          -4.539884693,
          0.7503989609999999,
          -0.04724221,
          -1.5167743130000002,
          0.661469259,
          -1.8871649819999998,
          -4.485821288,
          -2.164913166,
          -4.282846558999999,
          -6.305619527,
          -2.715091379,
          -0.768955363,
          -0.671773057,
          -0.8876460840000001,
          -0.375845026,
          0.002341349,
          -2.41229038,
          8.77298506,
          6.047178221,
          -5.664633633999999,
          -1.6230594809999999,
          -2.11742937,
          -3.573437619,
          -1.1824977140000001,
          -0.766450938,
          8.464131684,
          5.103605408,
          -5.182216136,
          -6.273307075,
          -0.15246807099999998,
          2.89077376,
          -0.22293583399999997,
          -0.428377526,
          0.194759756,
          -0.10041951,
          -4.027007052,
          -2.921154449,
          -4.259619374,
          -5.902162767999999,
          -4.073708989,
          -1.443947864,
          0.7957383259999999,
          0.237434957,
          -4.7585890630000005,
          -4.928141427,
          -1.401218685,
          -2.384904024,
          -2.2525711580000003,
          -0.057546712,
          -1.223324692,
          -2.0539191519999997,
          0.349697708,
          -1.2721164109999998,
          4.800852742,
          4.9489559210000005,
          0.160716382,
          0.805878877,
          3.154572013,
          1.040062072,
          5.828262492,
          4.062920797,
          -7.555863293,
          -6.156024062,
          0.872476157,
          -2.0343254230000003,
          -2.9884064169999998,
          -3.427260001,
          2.533504717,
          3.652638528,
          6.484718689,
          5.0779833089999995
         ]
        },
        {
         "autocolorscale": false,
         "colorbar": {
          "title": {
           "text": "Average Math Difference"
          }
         },
         "colorscale": [
          [
           0,
           "rgb(247,251,255)"
          ],
          [
           0.125,
           "rgb(222,235,247)"
          ],
          [
           0.25,
           "rgb(198,219,239)"
          ],
          [
           0.375,
           "rgb(158,202,225)"
          ],
          [
           0.5,
           "rgb(107,174,214)"
          ],
          [
           0.625,
           "rgb(66,146,198)"
          ],
          [
           0.75,
           "rgb(33,113,181)"
          ],
          [
           0.875,
           "rgb(8,81,156)"
          ],
          [
           1,
           "rgb(8,48,107)"
          ]
         ],
         "locationmode": "USA-states",
         "locations": [
          "AK",
          "AK",
          "AL",
          "AL",
          "AR",
          "AR",
          "AZ",
          "AZ",
          "CA",
          "CA",
          "CO",
          "CO",
          "CT",
          "CT",
          "DC",
          "DC",
          "DE",
          "DE",
          "FL",
          "FL",
          "GA",
          "GA",
          "HI",
          "HI",
          "IA",
          "IA",
          "ID",
          "ID",
          "IL",
          "IL",
          "IN",
          "IN",
          "KS",
          "KS",
          "KY",
          "KY",
          "LA",
          "LA",
          "MA",
          "MA",
          "MD",
          "MD",
          "ME",
          "ME",
          "MI",
          "MI",
          "MN",
          "MN",
          "MO",
          "MO",
          "MS",
          "MS",
          "MT",
          "MT",
          "NC",
          "NC",
          "ND",
          "ND",
          "NE",
          "NE",
          "NH",
          "NH",
          "NJ",
          "NJ",
          "NM",
          "NM",
          "NT",
          "NT",
          "NV",
          "NV",
          "NY",
          "NY",
          "OH",
          "OH",
          "OK",
          "OK",
          "OR",
          "OR",
          "PA",
          "PA",
          "RI",
          "RI",
          "SC",
          "SC",
          "SD",
          "SD",
          "TN",
          "TN",
          "TX",
          "TX",
          "UT",
          "UT",
          "VA",
          "VA",
          "VT",
          "VT",
          "WA",
          "WA",
          "WI",
          "WI",
          "WV",
          "WV",
          "WY",
          "WY",
          "AK",
          "AK",
          "AL",
          "AL",
          "AR",
          "AR",
          "AZ",
          "AZ",
          "CA",
          "CA",
          "CO",
          "CO",
          "CT",
          "CT",
          "DC",
          "DC",
          "DE",
          "DE",
          "FL",
          "FL",
          "GA",
          "GA",
          "HI",
          "HI",
          "IA",
          "IA",
          "ID",
          "ID",
          "IL",
          "IL",
          "IN",
          "IN",
          "KS",
          "KS",
          "KY",
          "KY",
          "LA",
          "LA",
          "MA",
          "MA",
          "MD",
          "MD",
          "ME",
          "ME",
          "MI",
          "MI",
          "MN",
          "MN",
          "MO",
          "MO",
          "MS",
          "MS",
          "MT",
          "MT",
          "NC",
          "NC",
          "ND",
          "ND",
          "NE",
          "NE",
          "NH",
          "NH",
          "NJ",
          "NJ",
          "NM",
          "NM",
          "NT",
          "NT",
          "NV",
          "NV",
          "NY",
          "NY",
          "OH",
          "OH",
          "OK",
          "OK",
          "OR",
          "OR",
          "PA",
          "PA",
          "RI",
          "RI",
          "SC",
          "SC",
          "SD",
          "SD",
          "TN",
          "TN",
          "TX",
          "TX",
          "UT",
          "UT",
          "VA",
          "VA",
          "VT",
          "VT",
          "WA",
          "WA",
          "WI",
          "WI",
          "WV",
          "WV",
          "WY",
          "WY"
         ],
         "marker": {
          "line": {
           "color": "white"
          }
         },
         "text": [
          "AK<br>Year: 2017 Math: 230.45176030000002<br>Reading: 203.0513017",
          "AK<br>Year: 2017 Math: 230.4611871<br>Reading: 211.34334269999997",
          "AL<br>Year: 2017 Math: 232.45857009999997<br>Reading: 212.8211091",
          "AL<br>Year: 2017 Math: 231.87848169999998<br>Reading: 220.0065999",
          "AR<br>Year: 2017 Math: 234.9807022<br>Reading: 211.74262000000002",
          "AR<br>Year: 2017 Math: 232.66498760000002<br>Reading: 220.6330097",
          "AZ<br>Year: 2017 Math: 235.6316557<br>Reading: 213.46267039999998",
          "AZ<br>Year: 2017 Math: 233.2150457<br>Reading: 217.52022689999998",
          "CA<br>Year: 2017 Math: 233.26568619999998<br>Reading: 210.7706082",
          "CA<br>Year: 2017 Math: 231.2155055<br>Reading: 220.2931384",
          "CO<br>Year: 2017 Math: 240.2821937<br>Reading: 221.61640559999998",
          "CO<br>Year: 2017 Math: 241.13729730000003<br>Reading: 228.02043140000004",
          "CT<br>Year: 2017 Math: 241.4876106<br>Reading: 225.69884989999997",
          "CT<br>Year: 2017 Math: 236.91665030000001<br>Reading: 231.06940530000003",
          "DC<br>Year: 2017 Math: 231.3590099<br>Reading: 209.7059168",
          "DC<br>Year: 2017 Math: 231.2817799<br>Reading: 217.0726847",
          "DE<br>Year: 2017 Math: 235.5916588<br>Reading: 217.02140950000003",
          "DE<br>Year: 2017 Math: 236.66877599999998<br>Reading: 226.0044074",
          "FL<br>Year: 2017 Math: 247.4765145<br>Reading: 226.0874762",
          "FL<br>Year: 2017 Math: 245.23157<br>Reading: 230.5293065",
          "GA<br>Year: 2017 Math: 236.6667509<br>Reading: 215.9960475",
          "GA<br>Year: 2017 Math: 236.0913659<br>Reading: 223.46619819999998",
          "HI<br>Year: 2017 Math: 238.0754512<br>Reading: 211.96439750000002",
          "HI<br>Year: 2017 Math: 237.750739<br>Reading: 221.1629899",
          "IA<br>Year: 2017 Math: 245.0853816<br>Reading: 218.88682480000003",
          "IA<br>Year: 2017 Math: 240.9940059<br>Reading: 224.76728390000002",
          "ID<br>Year: 2017 Math: 241.64338199999997<br>Reading: 220.3231426",
          "ID<br>Year: 2017 Math: 238.2289001<br>Reading: 225.3600964",
          "IL<br>Year: 2017 Math: 239.6449667<br>Reading: 217.19876859999997",
          "IL<br>Year: 2017 Math: 236.6028134<br>Reading: 223.51177090000002",
          "IN<br>Year: 2017 Math: 248.2432237<br>Reading: 224.2207755",
          "IN<br>Year: 2017 Math: 244.6945339<br>Reading: 228.74029500000003",
          "KS<br>Year: 2017 Math: 242.4832381<br>Reading: 220.723398",
          "KS<br>Year: 2017 Math: 239.8473267<br>Reading: 226.0057583",
          "KY<br>Year: 2017 Math: 240.7846346<br>Reading: 221.9300199",
          "KY<br>Year: 2017 Math: 237.52027719999998<br>Reading: 226.27731580000003",
          "LA<br>Year: 2017 Math: 228.60418190000001<br>Reading: 210.24742400000002",
          "LA<br>Year: 2017 Math: 229.35140840000003<br>Reading: 213.0166577",
          "MA<br>Year: 2017 Math: 251.55340180000002<br>Reading: 232.9402589",
          "MA<br>Year: 2017 Math: 246.59656850000002<br>Reading: 238.5091687",
          "MD<br>Year: 2017 Math: 242.0755965<br>Reading: 220.69551069999997",
          "MD<br>Year: 2017 Math: 239.06334640000003<br>Reading: 229.59108769999997",
          "ME<br>Year: 2017 Math: 240.23484130000003<br>Reading: 219.2110349",
          "ME<br>Year: 2017 Math: 239.5559952<br>Reading: 223.5981836",
          "MI<br>Year: 2017 Math: 236.8113307<br>Reading: 213.58580730000003",
          "MI<br>Year: 2017 Math: 234.2812085<br>Reading: 221.98642510000002",
          "MN<br>Year: 2017 Math: 250.3992494<br>Reading: 221.9607287",
          "MN<br>Year: 2017 Math: 247.18105690000002<br>Reading: 227.14780640000004",
          "MO<br>Year: 2017 Math: 241.2361641<br>Reading: 220.5014873",
          "MO<br>Year: 2017 Math: 237.6815798<br>Reading: 224.97627709999998",
          "MS<br>Year: 2017 Math: 235.4568755<br>Reading: 211.57824509999998",
          "MS<br>Year: 2017 Math: 233.90217119999997<br>Reading: 218.94522659999998",
          "MT<br>Year: 2017 Math: 241.34523969999998<br>Reading: 220.22639280000004",
          "MT<br>Year: 2017 Math: 240.04140550000002<br>Reading: 224.62601899999999",
          "NC<br>Year: 2017 Math: 241.85216719999997<br>Reading: 221.1697234",
          "NC<br>Year: 2017 Math: 240.00583250000003<br>Reading: 226.8317849",
          "ND<br>Year: 2017 Math: 245.6263482<br>Reading: 216.68196830000002",
          "ND<br>Year: 2017 Math: 242.74885609999998<br>Reading: 226.69569019999997",
          "NE<br>Year: 2017 Math: 247.2209733<br>Reading: 220.76644700000003",
          "NE<br>Year: 2017 Math: 243.84341969999997<br>Reading: 227.65359229999999",
          "NH<br>Year: 2017 Math: 247.0152097<br>Reading: 227.622395",
          "NH<br>Year: 2017 Math: 243.59176150000002<br>Reading: 230.2115385",
          "NJ<br>Year: 2017 Math: 248.27456969999997<br>Reading: 228.67674590000001",
          "NJ<br>Year: 2017 Math: 247.4159119<br>Reading: 237.3914716",
          "NM<br>Year: 2017 Math: 230.41794<br>Reading: 203.95849180000002",
          "NM<br>Year: 2017 Math: 228.9597938<br>Reading: 211.60481069999997",
          "NT<br>Year: 2017 Math: 240.81240899999997<br>Reading: 218.96578190000002",
          "NT<br>Year: 2017 Math: 238.59400019999998<br>Reading: 224.9204301",
          "NV<br>Year: 2017 Math: 232.0763332<br>Reading: 211.24649399999998",
          "NV<br>Year: 2017 Math: 231.282843<br>Reading: 218.53305350000002",
          "NY<br>Year: 2017 Math: 237.62465120000002<br>Reading: 219.0240122",
          "NY<br>Year: 2017 Math: 233.4225455<br>Reading: 224.7796747",
          "OH<br>Year: 2017 Math: 241.41514730000003<br>Reading: 223.49784759999997",
          "OH<br>Year: 2017 Math: 240.4299969<br>Reading: 227.09899950000002",
          "OK<br>Year: 2017 Math: 238.72844869999997<br>Reading: 212.8841397",
          "OK<br>Year: 2017 Math: 235.8625867<br>Reading: 220.40549109999998",
          "OR<br>Year: 2017 Math: 235.1656413<br>Reading: 212.40314680000003",
          "OR<br>Year: 2017 Math: 231.0436143<br>Reading: 222.78055460000002",
          "PA<br>Year: 2017 Math: 243.3370083<br>Reading: 224.1111222",
          "PA<br>Year: 2017 Math: 239.97992069999998<br>Reading: 225.75630730000003",
          "RI<br>Year: 2017 Math: 238.15398330000002<br>Reading: 220.60557659999998",
          "RI<br>Year: 2017 Math: 236.9472733<br>Reading: 226.15168549999999",
          "SC<br>Year: 2017 Math: 234.90540330000002<br>Reading: 209.56633200000002",
          "SC<br>Year: 2017 Math: 233.12889359999997<br>Reading: 216.90885469999998",
          "SD<br>Year: 2017 Math: 243.7656205<br>Reading: 219.1506216",
          "SD<br>Year: 2017 Math: 239.36951919999998<br>Reading: 224.399956",
          "TN<br>Year: 2017 Math: 236.9641708<br>Reading: 215.29826630000002",
          "TN<br>Year: 2017 Math: 236.4169963<br>Reading: 222.6835514",
          "TX<br>Year: 2017 Math: 241.0455667<br>Reading: 213.48003340000002",
          "TX<br>Year: 2017 Math: 240.8321055<br>Reading: 216.38500499999998",
          "UT<br>Year: 2017 Math: 244.4630631<br>Reading: 221.0767767",
          "UT<br>Year: 2017 Math: 240.31077480000002<br>Reading: 229.64693480000003",
          "VA<br>Year: 2017 Math: 250.47927909999999<br>Reading: 226.245481",
          "VA<br>Year: 2017 Math: 245.47200660000001<br>Reading: 229.02030040000002",
          "VT<br>Year: 2017 Math: 241.32307180000004<br>Reading: 223.34771800000001",
          "VT<br>Year: 2017 Math: 240.4434016<br>Reading: 229.64731380000003",
          "WA<br>Year: 2017 Math: 243.2587772<br>Reading: 220.2532377",
          "WA<br>Year: 2017 Math: 240.08729530000002<br>Reading: 226.1011123",
          "WI<br>Year: 2017 Math: 241.6846167<br>Reading: 216.7292028",
          "WI<br>Year: 2017 Math: 238.9828094<br>Reading: 222.7703131",
          "WV<br>Year: 2017 Math: 236.527612<br>Reading: 212.89900260000002",
          "WV<br>Year: 2017 Math: 235.5821776<br>Reading: 221.8400483",
          "WY<br>Year: 2017 Math: 249.43175580000002<br>Reading: 224.1985693",
          "WY<br>Year: 2017 Math: 246.06756549999997<br>Reading: 229.6916923",
          "AK<br>Year: 2009 Math: 238.4459925<br>Reading: 206.7242292",
          "AK<br>Year: 2009 Math: 235.9293425<br>Reading: 215.7112338",
          "AL<br>Year: 2009 Math: 227.7181926<br>Reading: 211.74193050000002",
          "AL<br>Year: 2009 Math: 228.2247489<br>Reading: 221.1006988",
          "AR<br>Year: 2009 Math: 238.82458259999999<br>Reading: 210.97585800000002",
          "AR<br>Year: 2009 Math: 236.1995327<br>Reading: 221.5645131",
          "AZ<br>Year: 2009 Math: 230.2839495<br>Reading: 206.9136801",
          "AZ<br>Year: 2009 Math: 229.68685919999996<br>Reading: 213.18922450000002",
          "CA<br>Year: 2009 Math: 232.6138321<br>Reading: 207.055218",
          "CA<br>Year: 2009 Math: 230.6765415<br>Reading: 212.63764550000002",
          "CO<br>Year: 2009 Math: 243.965015<br>Reading: 222.255777",
          "CO<br>Year: 2009 Math: 242.2698015<br>Reading: 229.2295877",
          "CT<br>Year: 2009 Math: 246.40018819999997<br>Reading: 224.53905319999996",
          "CT<br>Year: 2009 Math: 242.96108790000002<br>Reading: 233.50362579999998",
          "DC<br>Year: 2009 Math: 217.9480023<br>Reading: 198.09476619999998",
          "DC<br>Year: 2009 Math: 220.5677797<br>Reading: 205.74594040000002",
          "DE<br>Year: 2009 Math: 241.1687191<br>Reading: 222.87174190000002",
          "DE<br>Year: 2009 Math: 237.7510974<br>Reading: 228.1886232",
          "FL<br>Year: 2009 Math: 242.54442110000002<br>Reading: 222.52019610000002",
          "FL<br>Year: 2009 Math: 241.3373227<br>Reading: 228.8642131",
          "GA<br>Year: 2009 Math: 236.5085199<br>Reading: 214.28571380000002",
          "GA<br>Year: 2009 Math: 235.5460739<br>Reading: 221.3610349",
          "HI<br>Year: 2009 Math: 235.26691949999997<br>Reading: 205.13322390000002",
          "HI<br>Year: 2009 Math: 236.1308716<br>Reading: 216.66726060000002",
          "IA<br>Year: 2009 Math: 243.3199286<br>Reading: 216.96943230000002",
          "IA<br>Year: 2009 Math: 241.8441682<br>Reading: 225.965448",
          "ID<br>Year: 2009 Math: 241.9403591<br>Reading: 216.5292228",
          "ID<br>Year: 2009 Math: 240.13089580000002<br>Reading: 225.5082653",
          "IL<br>Year: 2009 Math: 239.6526887<br>Reading: 214.8423846",
          "IL<br>Year: 2009 Math: 236.9052525<br>Reading: 223.5129821",
          "IN<br>Year: 2009 Math: 242.98704339999998<br>Reading: 218.3968134",
          "IN<br>Year: 2009 Math: 242.2299855<br>Reading: 227.0696154",
          "KS<br>Year: 2009 Math: 246.16167400000003<br>Reading: 222.1581946",
          "KS<br>Year: 2009 Math: 244.3872114<br>Reading: 225.8242076",
          "KY<br>Year: 2009 Math: 240.03423560000002<br>Reading: 222.3486903",
          "KY<br>Year: 2009 Math: 237.56751949999997<br>Reading: 228.90135469999998",
          "LA<br>Year: 2009 Math: 230.1209562<br>Reading: 202.9714742",
          "LA<br>Year: 2009 Math: 228.68993909999998<br>Reading: 212.28630139999999",
          "MA<br>Year: 2009 Math: 253.4405668<br>Reading: 231.1401318",
          "MA<br>Year: 2009 Math: 251.08238980000002<br>Reading: 236.3237981",
          "MD<br>Year: 2009 Math: 244.24050970000002<br>Reading: 222.5177629",
          "MD<br>Year: 2009 Math: 243.34619300000003<br>Reading: 229.43872510000003",
          "ME<br>Year: 2009 Math: 246.5404608<br>Reading: 219.58023369999998",
          "ME<br>Year: 2009 Math: 242.2710866<br>Reading: 228.09681609999998",
          "MI<br>Year: 2009 Math: 237.5802861<br>Reading: 214.3957909",
          "MI<br>Year: 2009 Math: 234.95298160000002<br>Reading: 222.1448852",
          "MN<br>Year: 2009 Math: 251.2868955<br>Reading: 219.8187462",
          "MN<br>Year: 2009 Math: 247.556902<br>Reading: 226.9751804",
          "MO<br>Year: 2009 Math: 241.2338228<br>Reading: 218.9749832",
          "MO<br>Year: 2009 Math: 240.0938702<br>Reading: 229.0948613",
          "MS<br>Year: 2009 Math: 226.6838904<br>Reading: 207.6306934",
          "MS<br>Year: 2009 Math: 227.854993<br>Reading: 213.47530240000003",
          "MT<br>Year: 2009 Math: 247.0098734<br>Reading: 221.7826605",
          "MT<br>Year: 2009 Math: 241.6644649<br>Reading: 227.6048386",
          "NC<br>Year: 2009 Math: 243.9695966<br>Reading: 214.78778430000003",
          "NC<br>Year: 2009 Math: 243.5792701<br>Reading: 224.02092779999998",
          "ND<br>Year: 2009 Math: 246.80884590000002<br>Reading: 223.1073372",
          "ND<br>Year: 2009 Math: 243.5153071<br>Reading: 228.91858919999999",
          "NE<br>Year: 2009 Math: 238.75684159999997<br>Reading: 219.6725023",
          "NE<br>Year: 2009 Math: 238.7398143<br>Reading: 225.4668601",
          "NH<br>Year: 2009 Math: 252.1974258<br>Reading: 225.85400589999998",
          "NH<br>Year: 2009 Math: 249.8650685<br>Reading: 232.6529539",
          "NJ<br>Year: 2009 Math: 248.4270377<br>Reading: 227.1098772",
          "NJ<br>Year: 2009 Math: 244.5251381<br>Reading: 231.69815359999998",
          "NM<br>Year: 2009 Math: 230.6408759<br>Reading: 202.83436890000002",
          "NM<br>Year: 2009 Math: 229.3881713<br>Reading: 212.59483959999997",
          "NT<br>Year: 2009 Math: 240.61764920000002<br>Reading: 217.6064798",
          "NT<br>Year: 2009 Math: 238.69441969999997<br>Reading: 224.34676769999996",
          "NV<br>Year: 2009 Math: 236.10334029999999<br>Reading: 208.2577906",
          "NV<br>Year: 2009 Math: 234.2039974<br>Reading: 213.9765537",
          "NY<br>Year: 2009 Math: 241.8842705<br>Reading: 220.7946954",
          "NY<br>Year: 2009 Math: 239.3247083<br>Reading: 228.1099483",
          "OH<br>Year: 2009 Math: 245.4888563<br>Reading: 221.64348859999998",
          "OH<br>Year: 2009 Math: 241.87394480000003<br>Reading: 227.3593687",
          "OK<br>Year: 2009 Math: 237.93271040000002<br>Reading: 213.96507730000002",
          "OK<br>Year: 2009 Math: 235.6251517<br>Reading: 220.36061439999997",
          "OR<br>Year: 2009 Math: 239.9242304<br>Reading: 214.1195805",
          "OR<br>Year: 2009 Math: 235.97175570000002<br>Reading: 222.50049199999998",
          "PA<br>Year: 2009 Math: 244.738227<br>Reading: 221.3485904",
          "PA<br>Year: 2009 Math: 242.36482469999999<br>Reading: 226.13053870000002",
          "RI<br>Year: 2009 Math: 240.4065545<br>Reading: 217.8659933",
          "RI<br>Year: 2009 Math: 237.00482000000002<br>Reading: 227.78835460000002",
          "SC<br>Year: 2009 Math: 236.12872799999997<br>Reading: 213.40612760000002",
          "SC<br>Year: 2009 Math: 235.1828128<br>Reading: 218.5484679",
          "SD<br>Year: 2009 Math: 243.4159228<br>Reading: 219.5269395",
          "SD<br>Year: 2009 Math: 240.6416357<br>Reading: 224.9867318",
          "TN<br>Year: 2009 Math: 232.1633181<br>Reading: 213.85772519999998",
          "TN<br>Year: 2009 Math: 231.4680404<br>Reading: 219.65458309999997",
          "TX<br>Year: 2009 Math: 240.8848503<br>Reading: 215.67111269999998",
          "TX<br>Year: 2009 Math: 240.02622659999997<br>Reading: 222.17289669999997",
          "UT<br>Year: 2009 Math: 241.3084911<br>Reading: 216.9301106",
          "UT<br>Year: 2009 Math: 239.2707128<br>Reading: 221.549557",
          "VA<br>Year: 2009 Math: 244.65101659999996<br>Reading: 222.7808285",
          "VA<br>Year: 2009 Math: 241.4090858<br>Reading: 230.46729019999998",
          "VT<br>Year: 2009 Math: 248.878935<br>Reading: 226.1078339",
          "VT<br>Year: 2009 Math: 246.59942569999998<br>Reading: 231.4772687",
          "WA<br>Year: 2009 Math: 242.38630099999997<br>Reading: 217.0907011",
          "WA<br>Year: 2009 Math: 242.12162080000002<br>Reading: 225.733106",
          "WI<br>Year: 2009 Math: 244.67302310000002<br>Reading: 216.606254",
          "WI<br>Year: 2009 Math: 242.41006940000003<br>Reading: 223.8881088",
          "WV<br>Year: 2009 Math: 233.99410730000002<br>Reading: 210.86660419999998",
          "WV<br>Year: 2009 Math: 231.92953909999997<br>Reading: 218.3040847",
          "WY<br>Year: 2009 Math: 242.9470371<br>Reading: 219.1295972",
          "WY<br>Year: 2009 Math: 240.98958219999997<br>Reading: 226.4977208"
         ],
         "type": "choropleth",
         "z": [
          7.994232169,
          5.468155375,
          -4.7403774610000005,
          -3.653732845,
          3.8438803860000004,
          3.534545133,
          -5.347706172,
          -3.5281865239999997,
          -0.6518540429999999,
          -0.538964046,
          3.682821273,
          1.132504124,
          4.912577634,
          6.044437553,
          -13.41100755,
          -10.71400017,
          5.577060342999999,
          1.082321407,
          -4.932093335,
          -3.894247337,
          -0.158230994,
          -0.545291935,
          -2.8085316660000004,
          -1.61986734,
          -1.765453055,
          0.850162306,
          0.29697709,
          1.9019956869999999,
          0.00772193,
          0.302439132,
          -5.256180212,
          -2.46454845,
          3.678435871,
          4.539884693,
          -0.7503989609999999,
          0.04724221,
          1.5167743130000002,
          -0.661469259,
          1.8871649819999998,
          4.485821288,
          2.164913166,
          4.282846558999999,
          6.305619527,
          2.715091379,
          0.768955363,
          0.671773057,
          0.8876460840000001,
          0.375845026,
          -0.002341349,
          2.41229038,
          -8.77298506,
          -6.047178221,
          5.664633633999999,
          1.6230594809999999,
          2.11742937,
          3.573437619,
          1.1824977140000001,
          0.766450938,
          -8.464131684,
          -5.103605408,
          5.182216136,
          6.273307075,
          0.15246807099999998,
          -2.89077376,
          0.22293583399999997,
          0.428377526,
          -0.194759756,
          0.10041951,
          4.027007052,
          2.921154449,
          4.259619374,
          5.902162767999999,
          4.073708989,
          1.443947864,
          -0.7957383259999999,
          -0.237434957,
          4.7585890630000005,
          4.928141427,
          1.401218685,
          2.384904024,
          2.2525711580000003,
          0.057546712,
          1.223324692,
          2.0539191519999997,
          -0.349697708,
          1.2721164109999998,
          -4.800852742,
          -4.9489559210000005,
          -0.160716382,
          -0.805878877,
          -3.154572013,
          -1.040062072,
          -5.828262492,
          -4.062920797,
          7.555863293,
          6.156024062,
          -0.872476157,
          2.0343254230000003,
          2.9884064169999998,
          3.427260001,
          -2.533504717,
          -3.652638528,
          -6.484718689,
          -5.0779833089999995,
          -7.994232169,
          -5.468155375,
          4.7403774610000005,
          3.653732845,
          -3.8438803860000004,
          -3.534545133,
          5.347706172,
          3.5281865239999997,
          0.6518540429999999,
          0.538964046,
          -3.682821273,
          -1.132504124,
          -4.912577634,
          -6.044437553,
          13.41100755,
          10.71400017,
          -5.577060342999999,
          -1.082321407,
          4.932093335,
          3.894247337,
          0.158230994,
          0.545291935,
          2.8085316660000004,
          1.61986734,
          1.765453055,
          -0.850162306,
          -0.29697709,
          -1.9019956869999999,
          -0.00772193,
          -0.302439132,
          5.256180212,
          2.46454845,
          -3.678435871,
          -4.539884693,
          0.7503989609999999,
          -0.04724221,
          -1.5167743130000002,
          0.661469259,
          -1.8871649819999998,
          -4.485821288,
          -2.164913166,
          -4.282846558999999,
          -6.305619527,
          -2.715091379,
          -0.768955363,
          -0.671773057,
          -0.8876460840000001,
          -0.375845026,
          0.002341349,
          -2.41229038,
          8.77298506,
          6.047178221,
          -5.664633633999999,
          -1.6230594809999999,
          -2.11742937,
          -3.573437619,
          -1.1824977140000001,
          -0.766450938,
          8.464131684,
          5.103605408,
          -5.182216136,
          -6.273307075,
          -0.15246807099999998,
          2.89077376,
          -0.22293583399999997,
          -0.428377526,
          0.194759756,
          -0.10041951,
          -4.027007052,
          -2.921154449,
          -4.259619374,
          -5.902162767999999,
          -4.073708989,
          -1.443947864,
          0.7957383259999999,
          0.237434957,
          -4.7585890630000005,
          -4.928141427,
          -1.401218685,
          -2.384904024,
          -2.2525711580000003,
          -0.057546712,
          -1.223324692,
          -2.0539191519999997,
          0.349697708,
          -1.2721164109999998,
          4.800852742,
          4.9489559210000005,
          0.160716382,
          0.805878877,
          3.154572013,
          1.040062072,
          5.828262492,
          4.062920797,
          -7.555863293,
          -6.156024062,
          0.872476157,
          -2.0343254230000003,
          -2.9884064169999998,
          -3.427260001,
          2.533504717,
          3.652638528,
          6.484718689,
          5.0779833089999995
         ]
        }
       ],
       "layout": {
        "geo": {
         "lakecolor": "rgb(255, 255, 255)",
         "projection": {
          "type": "albers usa"
         },
         "scope": "usa",
         "showlakes": true
        },
        "template": {
         "data": {
          "bar": [
           {
            "error_x": {
             "color": "#2a3f5f"
            },
            "error_y": {
             "color": "#2a3f5f"
            },
            "marker": {
             "line": {
              "color": "#E5ECF6",
              "width": 0.5
             }
            },
            "type": "bar"
           }
          ],
          "barpolar": [
           {
            "marker": {
             "line": {
              "color": "#E5ECF6",
              "width": 0.5
             }
            },
            "type": "barpolar"
           }
          ],
          "carpet": [
           {
            "aaxis": {
             "endlinecolor": "#2a3f5f",
             "gridcolor": "white",
             "linecolor": "white",
             "minorgridcolor": "white",
             "startlinecolor": "#2a3f5f"
            },
            "baxis": {
             "endlinecolor": "#2a3f5f",
             "gridcolor": "white",
             "linecolor": "white",
             "minorgridcolor": "white",
             "startlinecolor": "#2a3f5f"
            },
            "type": "carpet"
           }
          ],
          "choropleth": [
           {
            "colorbar": {
             "outlinewidth": 0,
             "ticks": ""
            },
            "type": "choropleth"
           }
          ],
          "contour": [
           {
            "colorbar": {
             "outlinewidth": 0,
             "ticks": ""
            },
            "colorscale": [
             [
              0,
              "#0d0887"
             ],
             [
              0.1111111111111111,
              "#46039f"
             ],
             [
              0.2222222222222222,
              "#7201a8"
             ],
             [
              0.3333333333333333,
              "#9c179e"
             ],
             [
              0.4444444444444444,
              "#bd3786"
             ],
             [
              0.5555555555555556,
              "#d8576b"
             ],
             [
              0.6666666666666666,
              "#ed7953"
             ],
             [
              0.7777777777777778,
              "#fb9f3a"
             ],
             [
              0.8888888888888888,
              "#fdca26"
             ],
             [
              1,
              "#f0f921"
             ]
            ],
            "type": "contour"
           }
          ],
          "contourcarpet": [
           {
            "colorbar": {
             "outlinewidth": 0,
             "ticks": ""
            },
            "type": "contourcarpet"
           }
          ],
          "heatmap": [
           {
            "colorbar": {
             "outlinewidth": 0,
             "ticks": ""
            },
            "colorscale": [
             [
              0,
              "#0d0887"
             ],
             [
              0.1111111111111111,
              "#46039f"
             ],
             [
              0.2222222222222222,
              "#7201a8"
             ],
             [
              0.3333333333333333,
              "#9c179e"
             ],
             [
              0.4444444444444444,
              "#bd3786"
             ],
             [
              0.5555555555555556,
              "#d8576b"
             ],
             [
              0.6666666666666666,
              "#ed7953"
             ],
             [
              0.7777777777777778,
              "#fb9f3a"
             ],
             [
              0.8888888888888888,
              "#fdca26"
             ],
             [
              1,
              "#f0f921"
             ]
            ],
            "type": "heatmap"
           }
          ],
          "heatmapgl": [
           {
            "colorbar": {
             "outlinewidth": 0,
             "ticks": ""
            },
            "colorscale": [
             [
              0,
              "#0d0887"
             ],
             [
              0.1111111111111111,
              "#46039f"
             ],
             [
              0.2222222222222222,
              "#7201a8"
             ],
             [
              0.3333333333333333,
              "#9c179e"
             ],
             [
              0.4444444444444444,
              "#bd3786"
             ],
             [
              0.5555555555555556,
              "#d8576b"
             ],
             [
              0.6666666666666666,
              "#ed7953"
             ],
             [
              0.7777777777777778,
              "#fb9f3a"
             ],
             [
              0.8888888888888888,
              "#fdca26"
             ],
             [
              1,
              "#f0f921"
             ]
            ],
            "type": "heatmapgl"
           }
          ],
          "histogram": [
           {
            "marker": {
             "colorbar": {
              "outlinewidth": 0,
              "ticks": ""
             }
            },
            "type": "histogram"
           }
          ],
          "histogram2d": [
           {
            "colorbar": {
             "outlinewidth": 0,
             "ticks": ""
            },
            "colorscale": [
             [
              0,
              "#0d0887"
             ],
             [
              0.1111111111111111,
              "#46039f"
             ],
             [
              0.2222222222222222,
              "#7201a8"
             ],
             [
              0.3333333333333333,
              "#9c179e"
             ],
             [
              0.4444444444444444,
              "#bd3786"
             ],
             [
              0.5555555555555556,
              "#d8576b"
             ],
             [
              0.6666666666666666,
              "#ed7953"
             ],
             [
              0.7777777777777778,
              "#fb9f3a"
             ],
             [
              0.8888888888888888,
              "#fdca26"
             ],
             [
              1,
              "#f0f921"
             ]
            ],
            "type": "histogram2d"
           }
          ],
          "histogram2dcontour": [
           {
            "colorbar": {
             "outlinewidth": 0,
             "ticks": ""
            },
            "colorscale": [
             [
              0,
              "#0d0887"
             ],
             [
              0.1111111111111111,
              "#46039f"
             ],
             [
              0.2222222222222222,
              "#7201a8"
             ],
             [
              0.3333333333333333,
              "#9c179e"
             ],
             [
              0.4444444444444444,
              "#bd3786"
             ],
             [
              0.5555555555555556,
              "#d8576b"
             ],
             [
              0.6666666666666666,
              "#ed7953"
             ],
             [
              0.7777777777777778,
              "#fb9f3a"
             ],
             [
              0.8888888888888888,
              "#fdca26"
             ],
             [
              1,
              "#f0f921"
             ]
            ],
            "type": "histogram2dcontour"
           }
          ],
          "mesh3d": [
           {
            "colorbar": {
             "outlinewidth": 0,
             "ticks": ""
            },
            "type": "mesh3d"
           }
          ],
          "parcoords": [
           {
            "line": {
             "colorbar": {
              "outlinewidth": 0,
              "ticks": ""
             }
            },
            "type": "parcoords"
           }
          ],
          "scatter": [
           {
            "marker": {
             "colorbar": {
              "outlinewidth": 0,
              "ticks": ""
             }
            },
            "type": "scatter"
           }
          ],
          "scatter3d": [
           {
            "line": {
             "colorbar": {
              "outlinewidth": 0,
              "ticks": ""
             }
            },
            "marker": {
             "colorbar": {
              "outlinewidth": 0,
              "ticks": ""
             }
            },
            "type": "scatter3d"
           }
          ],
          "scattercarpet": [
           {
            "marker": {
             "colorbar": {
              "outlinewidth": 0,
              "ticks": ""
             }
            },
            "type": "scattercarpet"
           }
          ],
          "scattergeo": [
           {
            "marker": {
             "colorbar": {
              "outlinewidth": 0,
              "ticks": ""
             }
            },
            "type": "scattergeo"
           }
          ],
          "scattergl": [
           {
            "marker": {
             "colorbar": {
              "outlinewidth": 0,
              "ticks": ""
             }
            },
            "type": "scattergl"
           }
          ],
          "scattermapbox": [
           {
            "marker": {
             "colorbar": {
              "outlinewidth": 0,
              "ticks": ""
             }
            },
            "type": "scattermapbox"
           }
          ],
          "scatterpolar": [
           {
            "marker": {
             "colorbar": {
              "outlinewidth": 0,
              "ticks": ""
             }
            },
            "type": "scatterpolar"
           }
          ],
          "scatterpolargl": [
           {
            "marker": {
             "colorbar": {
              "outlinewidth": 0,
              "ticks": ""
             }
            },
            "type": "scatterpolargl"
           }
          ],
          "scatterternary": [
           {
            "marker": {
             "colorbar": {
              "outlinewidth": 0,
              "ticks": ""
             }
            },
            "type": "scatterternary"
           }
          ],
          "surface": [
           {
            "colorbar": {
             "outlinewidth": 0,
             "ticks": ""
            },
            "colorscale": [
             [
              0,
              "#0d0887"
             ],
             [
              0.1111111111111111,
              "#46039f"
             ],
             [
              0.2222222222222222,
              "#7201a8"
             ],
             [
              0.3333333333333333,
              "#9c179e"
             ],
             [
              0.4444444444444444,
              "#bd3786"
             ],
             [
              0.5555555555555556,
              "#d8576b"
             ],
             [
              0.6666666666666666,
              "#ed7953"
             ],
             [
              0.7777777777777778,
              "#fb9f3a"
             ],
             [
              0.8888888888888888,
              "#fdca26"
             ],
             [
              1,
              "#f0f921"
             ]
            ],
            "type": "surface"
           }
          ],
          "table": [
           {
            "cells": {
             "fill": {
              "color": "#EBF0F8"
             },
             "line": {
              "color": "white"
             }
            },
            "header": {
             "fill": {
              "color": "#C8D4E3"
             },
             "line": {
              "color": "white"
             }
            },
            "type": "table"
           }
          ]
         },
         "layout": {
          "annotationdefaults": {
           "arrowcolor": "#2a3f5f",
           "arrowhead": 0,
           "arrowwidth": 1
          },
          "colorscale": {
           "diverging": [
            [
             0,
             "#8e0152"
            ],
            [
             0.1,
             "#c51b7d"
            ],
            [
             0.2,
             "#de77ae"
            ],
            [
             0.3,
             "#f1b6da"
            ],
            [
             0.4,
             "#fde0ef"
            ],
            [
             0.5,
             "#f7f7f7"
            ],
            [
             0.6,
             "#e6f5d0"
            ],
            [
             0.7,
             "#b8e186"
            ],
            [
             0.8,
             "#7fbc41"
            ],
            [
             0.9,
             "#4d9221"
            ],
            [
             1,
             "#276419"
            ]
           ],
           "sequential": [
            [
             0,
             "#0d0887"
            ],
            [
             0.1111111111111111,
             "#46039f"
            ],
            [
             0.2222222222222222,
             "#7201a8"
            ],
            [
             0.3333333333333333,
             "#9c179e"
            ],
            [
             0.4444444444444444,
             "#bd3786"
            ],
            [
             0.5555555555555556,
             "#d8576b"
            ],
            [
             0.6666666666666666,
             "#ed7953"
            ],
            [
             0.7777777777777778,
             "#fb9f3a"
            ],
            [
             0.8888888888888888,
             "#fdca26"
            ],
            [
             1,
             "#f0f921"
            ]
           ],
           "sequentialminus": [
            [
             0,
             "#0d0887"
            ],
            [
             0.1111111111111111,
             "#46039f"
            ],
            [
             0.2222222222222222,
             "#7201a8"
            ],
            [
             0.3333333333333333,
             "#9c179e"
            ],
            [
             0.4444444444444444,
             "#bd3786"
            ],
            [
             0.5555555555555556,
             "#d8576b"
            ],
            [
             0.6666666666666666,
             "#ed7953"
            ],
            [
             0.7777777777777778,
             "#fb9f3a"
            ],
            [
             0.8888888888888888,
             "#fdca26"
            ],
            [
             1,
             "#f0f921"
            ]
           ]
          },
          "colorway": [
           "#636efa",
           "#EF553B",
           "#00cc96",
           "#ab63fa",
           "#FFA15A",
           "#19d3f3",
           "#FF6692",
           "#B6E880",
           "#FF97FF",
           "#FECB52"
          ],
          "font": {
           "color": "#2a3f5f"
          },
          "geo": {
           "bgcolor": "white",
           "lakecolor": "white",
           "landcolor": "#E5ECF6",
           "showlakes": true,
           "showland": true,
           "subunitcolor": "white"
          },
          "hoverlabel": {
           "align": "left"
          },
          "hovermode": "closest",
          "mapbox": {
           "style": "light"
          },
          "paper_bgcolor": "white",
          "plot_bgcolor": "#E5ECF6",
          "polar": {
           "angularaxis": {
            "gridcolor": "white",
            "linecolor": "white",
            "ticks": ""
           },
           "bgcolor": "#E5ECF6",
           "radialaxis": {
            "gridcolor": "white",
            "linecolor": "white",
            "ticks": ""
           }
          },
          "scene": {
           "xaxis": {
            "backgroundcolor": "#E5ECF6",
            "gridcolor": "white",
            "gridwidth": 2,
            "linecolor": "white",
            "showbackground": true,
            "ticks": "",
            "zerolinecolor": "white"
           },
           "yaxis": {
            "backgroundcolor": "#E5ECF6",
            "gridcolor": "white",
            "gridwidth": 2,
            "linecolor": "white",
            "showbackground": true,
            "ticks": "",
            "zerolinecolor": "white"
           },
           "zaxis": {
            "backgroundcolor": "#E5ECF6",
            "gridcolor": "white",
            "gridwidth": 2,
            "linecolor": "white",
            "showbackground": true,
            "ticks": "",
            "zerolinecolor": "white"
           }
          },
          "shapedefaults": {
           "line": {
            "color": "#2a3f5f"
           }
          },
          "ternary": {
           "aaxis": {
            "gridcolor": "white",
            "linecolor": "white",
            "ticks": ""
           },
           "baxis": {
            "gridcolor": "white",
            "linecolor": "white",
            "ticks": ""
           },
           "bgcolor": "#E5ECF6",
           "caxis": {
            "gridcolor": "white",
            "linecolor": "white",
            "ticks": ""
           }
          },
          "title": {
           "x": 0.05
          },
          "xaxis": {
           "automargin": true,
           "gridcolor": "white",
           "linecolor": "white",
           "ticks": "",
           "zerolinecolor": "white",
           "zerolinewidth": 2
          },
          "yaxis": {
           "automargin": true,
           "gridcolor": "white",
           "linecolor": "white",
           "ticks": "",
           "zerolinecolor": "white",
           "zerolinewidth": 2
          }
         }
        },
        "title": {
         "text": "National Report Card"
        },
        "updatemenus": [
         {
          "buttons": [
           {
            "args": [
             "Year",
             "2009"
            ],
            "label": "2009",
            "method": "restyle"
           },
           {
            "args": [
             "Year",
             "2017"
            ],
            "label": "2017",
            "method": "restyle"
           }
          ],
          "direction": "down",
          "pad": {
           "r": 10,
           "t": 10
          },
          "showactive": true,
          "x": 0.1,
          "xanchor": "left",
          "y": 1.08,
          "yanchor": "top"
         },
         {
          "buttons": [
           {
            "args": [
             "Subject",
             false
            ],
            "label": "Math",
            "method": "restyle"
           },
           {
            "args": [
             "Subject",
             true
            ],
            "label": "Reading",
            "method": "restyle"
           }
          ],
          "direction": "down",
          "pad": {
           "r": 10,
           "t": 10
          },
          "showactive": true,
          "x": 0.37,
          "xanchor": "left",
          "y": 1.08,
          "yanchor": "top"
         }
        ]
       }
      },
      "text/html": [
       "<div>\n",
       "        \n",
       "        \n",
       "            <div id=\"87abe075-3ad6-417e-8b51-4204af8c087b\" class=\"plotly-graph-div\" style=\"height:525px; width:100%;\"></div>\n",
       "            <script type=\"text/javascript\">\n",
       "                require([\"plotly\"], function(Plotly) {\n",
       "                    window.PLOTLYENV=window.PLOTLYENV || {};\n",
       "                    \n",
       "                if (document.getElementById(\"87abe075-3ad6-417e-8b51-4204af8c087b\")) {\n",
       "                    Plotly.newPlot(\n",
       "                        '87abe075-3ad6-417e-8b51-4204af8c087b',\n",
       "                        [{\"autocolorscale\": false, \"colorbar\": {\"title\": {\"text\": \"Average Math Difference\"}}, \"colorscale\": [[0.0, \"rgb(247,251,255)\"], [0.125, \"rgb(222,235,247)\"], [0.25, \"rgb(198,219,239)\"], [0.375, \"rgb(158,202,225)\"], [0.5, \"rgb(107,174,214)\"], [0.625, \"rgb(66,146,198)\"], [0.75, \"rgb(33,113,181)\"], [0.875, \"rgb(8,81,156)\"], [1.0, \"rgb(8,48,107)\"]], \"locationmode\": \"USA-states\", \"locations\": [\"AK\", \"AK\", \"AL\", \"AL\", \"AR\", \"AR\", \"AZ\", \"AZ\", \"CA\", \"CA\", \"CO\", \"CO\", \"CT\", \"CT\", \"DC\", \"DC\", \"DE\", \"DE\", \"FL\", \"FL\", \"GA\", \"GA\", \"HI\", \"HI\", \"IA\", \"IA\", \"ID\", \"ID\", \"IL\", \"IL\", \"IN\", \"IN\", \"KS\", \"KS\", \"KY\", \"KY\", \"LA\", \"LA\", \"MA\", \"MA\", \"MD\", \"MD\", \"ME\", \"ME\", \"MI\", \"MI\", \"MN\", \"MN\", \"MO\", \"MO\", \"MS\", \"MS\", \"MT\", \"MT\", \"NC\", \"NC\", \"ND\", \"ND\", \"NE\", \"NE\", \"NH\", \"NH\", \"NJ\", \"NJ\", \"NM\", \"NM\", \"NT\", \"NT\", \"NV\", \"NV\", \"NY\", \"NY\", \"OH\", \"OH\", \"OK\", \"OK\", \"OR\", \"OR\", \"PA\", \"PA\", \"RI\", \"RI\", \"SC\", \"SC\", \"SD\", \"SD\", \"TN\", \"TN\", \"TX\", \"TX\", \"UT\", \"UT\", \"VA\", \"VA\", \"VT\", \"VT\", \"WA\", \"WA\", \"WI\", \"WI\", \"WV\", \"WV\", \"WY\", \"WY\", \"AK\", \"AK\", \"AL\", \"AL\", \"AR\", \"AR\", \"AZ\", \"AZ\", \"CA\", \"CA\", \"CO\", \"CO\", \"CT\", \"CT\", \"DC\", \"DC\", \"DE\", \"DE\", \"FL\", \"FL\", \"GA\", \"GA\", \"HI\", \"HI\", \"IA\", \"IA\", \"ID\", \"ID\", \"IL\", \"IL\", \"IN\", \"IN\", \"KS\", \"KS\", \"KY\", \"KY\", \"LA\", \"LA\", \"MA\", \"MA\", \"MD\", \"MD\", \"ME\", \"ME\", \"MI\", \"MI\", \"MN\", \"MN\", \"MO\", \"MO\", \"MS\", \"MS\", \"MT\", \"MT\", \"NC\", \"NC\", \"ND\", \"ND\", \"NE\", \"NE\", \"NH\", \"NH\", \"NJ\", \"NJ\", \"NM\", \"NM\", \"NT\", \"NT\", \"NV\", \"NV\", \"NY\", \"NY\", \"OH\", \"OH\", \"OK\", \"OK\", \"OR\", \"OR\", \"PA\", \"PA\", \"RI\", \"RI\", \"SC\", \"SC\", \"SD\", \"SD\", \"TN\", \"TN\", \"TX\", \"TX\", \"UT\", \"UT\", \"VA\", \"VA\", \"VT\", \"VT\", \"WA\", \"WA\", \"WI\", \"WI\", \"WV\", \"WV\", \"WY\", \"WY\"], \"marker\": {\"line\": {\"color\": \"white\"}}, \"text\": [\"AK<br>Year: 2009 Math: 238.4459925<br>Reading: 206.7242292\", \"AK<br>Year: 2009 Math: 235.9293425<br>Reading: 215.7112338\", \"AL<br>Year: 2009 Math: 227.7181926<br>Reading: 211.74193050000002\", \"AL<br>Year: 2009 Math: 228.2247489<br>Reading: 221.1006988\", \"AR<br>Year: 2009 Math: 238.82458259999999<br>Reading: 210.97585800000002\", \"AR<br>Year: 2009 Math: 236.1995327<br>Reading: 221.5645131\", \"AZ<br>Year: 2009 Math: 230.2839495<br>Reading: 206.9136801\", \"AZ<br>Year: 2009 Math: 229.68685919999996<br>Reading: 213.18922450000002\", \"CA<br>Year: 2009 Math: 232.6138321<br>Reading: 207.055218\", \"CA<br>Year: 2009 Math: 230.6765415<br>Reading: 212.63764550000002\", \"CO<br>Year: 2009 Math: 243.965015<br>Reading: 222.255777\", \"CO<br>Year: 2009 Math: 242.2698015<br>Reading: 229.2295877\", \"CT<br>Year: 2009 Math: 246.40018819999997<br>Reading: 224.53905319999996\", \"CT<br>Year: 2009 Math: 242.96108790000002<br>Reading: 233.50362579999998\", \"DC<br>Year: 2009 Math: 217.9480023<br>Reading: 198.09476619999998\", \"DC<br>Year: 2009 Math: 220.5677797<br>Reading: 205.74594040000002\", \"DE<br>Year: 2009 Math: 241.1687191<br>Reading: 222.87174190000002\", \"DE<br>Year: 2009 Math: 237.7510974<br>Reading: 228.1886232\", \"FL<br>Year: 2009 Math: 242.54442110000002<br>Reading: 222.52019610000002\", \"FL<br>Year: 2009 Math: 241.3373227<br>Reading: 228.8642131\", \"GA<br>Year: 2009 Math: 236.5085199<br>Reading: 214.28571380000002\", \"GA<br>Year: 2009 Math: 235.5460739<br>Reading: 221.3610349\", \"HI<br>Year: 2009 Math: 235.26691949999997<br>Reading: 205.13322390000002\", \"HI<br>Year: 2009 Math: 236.1308716<br>Reading: 216.66726060000002\", \"IA<br>Year: 2009 Math: 243.3199286<br>Reading: 216.96943230000002\", \"IA<br>Year: 2009 Math: 241.8441682<br>Reading: 225.965448\", \"ID<br>Year: 2009 Math: 241.9403591<br>Reading: 216.5292228\", \"ID<br>Year: 2009 Math: 240.13089580000002<br>Reading: 225.5082653\", \"IL<br>Year: 2009 Math: 239.6526887<br>Reading: 214.8423846\", \"IL<br>Year: 2009 Math: 236.9052525<br>Reading: 223.5129821\", \"IN<br>Year: 2009 Math: 242.98704339999998<br>Reading: 218.3968134\", \"IN<br>Year: 2009 Math: 242.2299855<br>Reading: 227.0696154\", \"KS<br>Year: 2009 Math: 246.16167400000003<br>Reading: 222.1581946\", \"KS<br>Year: 2009 Math: 244.3872114<br>Reading: 225.8242076\", \"KY<br>Year: 2009 Math: 240.03423560000002<br>Reading: 222.3486903\", \"KY<br>Year: 2009 Math: 237.56751949999997<br>Reading: 228.90135469999998\", \"LA<br>Year: 2009 Math: 230.1209562<br>Reading: 202.9714742\", \"LA<br>Year: 2009 Math: 228.68993909999998<br>Reading: 212.28630139999999\", \"MA<br>Year: 2009 Math: 253.4405668<br>Reading: 231.1401318\", \"MA<br>Year: 2009 Math: 251.08238980000002<br>Reading: 236.3237981\", \"MD<br>Year: 2009 Math: 244.24050970000002<br>Reading: 222.5177629\", \"MD<br>Year: 2009 Math: 243.34619300000003<br>Reading: 229.43872510000003\", \"ME<br>Year: 2009 Math: 246.5404608<br>Reading: 219.58023369999998\", \"ME<br>Year: 2009 Math: 242.2710866<br>Reading: 228.09681609999998\", \"MI<br>Year: 2009 Math: 237.5802861<br>Reading: 214.3957909\", \"MI<br>Year: 2009 Math: 234.95298160000002<br>Reading: 222.1448852\", \"MN<br>Year: 2009 Math: 251.2868955<br>Reading: 219.8187462\", \"MN<br>Year: 2009 Math: 247.556902<br>Reading: 226.9751804\", \"MO<br>Year: 2009 Math: 241.2338228<br>Reading: 218.9749832\", \"MO<br>Year: 2009 Math: 240.0938702<br>Reading: 229.0948613\", \"MS<br>Year: 2009 Math: 226.6838904<br>Reading: 207.6306934\", \"MS<br>Year: 2009 Math: 227.854993<br>Reading: 213.47530240000003\", \"MT<br>Year: 2009 Math: 247.0098734<br>Reading: 221.7826605\", \"MT<br>Year: 2009 Math: 241.6644649<br>Reading: 227.6048386\", \"NC<br>Year: 2009 Math: 243.9695966<br>Reading: 214.78778430000003\", \"NC<br>Year: 2009 Math: 243.5792701<br>Reading: 224.02092779999998\", \"ND<br>Year: 2009 Math: 246.80884590000002<br>Reading: 223.1073372\", \"ND<br>Year: 2009 Math: 243.5153071<br>Reading: 228.91858919999999\", \"NE<br>Year: 2009 Math: 238.75684159999997<br>Reading: 219.6725023\", \"NE<br>Year: 2009 Math: 238.7398143<br>Reading: 225.4668601\", \"NH<br>Year: 2009 Math: 252.1974258<br>Reading: 225.85400589999998\", \"NH<br>Year: 2009 Math: 249.8650685<br>Reading: 232.6529539\", \"NJ<br>Year: 2009 Math: 248.4270377<br>Reading: 227.1098772\", \"NJ<br>Year: 2009 Math: 244.5251381<br>Reading: 231.69815359999998\", \"NM<br>Year: 2009 Math: 230.6408759<br>Reading: 202.83436890000002\", \"NM<br>Year: 2009 Math: 229.3881713<br>Reading: 212.59483959999997\", \"NT<br>Year: 2009 Math: 240.61764920000002<br>Reading: 217.6064798\", \"NT<br>Year: 2009 Math: 238.69441969999997<br>Reading: 224.34676769999996\", \"NV<br>Year: 2009 Math: 236.10334029999999<br>Reading: 208.2577906\", \"NV<br>Year: 2009 Math: 234.2039974<br>Reading: 213.9765537\", \"NY<br>Year: 2009 Math: 241.8842705<br>Reading: 220.7946954\", \"NY<br>Year: 2009 Math: 239.3247083<br>Reading: 228.1099483\", \"OH<br>Year: 2009 Math: 245.4888563<br>Reading: 221.64348859999998\", \"OH<br>Year: 2009 Math: 241.87394480000003<br>Reading: 227.3593687\", \"OK<br>Year: 2009 Math: 237.93271040000002<br>Reading: 213.96507730000002\", \"OK<br>Year: 2009 Math: 235.6251517<br>Reading: 220.36061439999997\", \"OR<br>Year: 2009 Math: 239.9242304<br>Reading: 214.1195805\", \"OR<br>Year: 2009 Math: 235.97175570000002<br>Reading: 222.50049199999998\", \"PA<br>Year: 2009 Math: 244.738227<br>Reading: 221.3485904\", \"PA<br>Year: 2009 Math: 242.36482469999999<br>Reading: 226.13053870000002\", \"RI<br>Year: 2009 Math: 240.4065545<br>Reading: 217.8659933\", \"RI<br>Year: 2009 Math: 237.00482000000002<br>Reading: 227.78835460000002\", \"SC<br>Year: 2009 Math: 236.12872799999997<br>Reading: 213.40612760000002\", \"SC<br>Year: 2009 Math: 235.1828128<br>Reading: 218.5484679\", \"SD<br>Year: 2009 Math: 243.4159228<br>Reading: 219.5269395\", \"SD<br>Year: 2009 Math: 240.6416357<br>Reading: 224.9867318\", \"TN<br>Year: 2009 Math: 232.1633181<br>Reading: 213.85772519999998\", \"TN<br>Year: 2009 Math: 231.4680404<br>Reading: 219.65458309999997\", \"TX<br>Year: 2009 Math: 240.8848503<br>Reading: 215.67111269999998\", \"TX<br>Year: 2009 Math: 240.02622659999997<br>Reading: 222.17289669999997\", \"UT<br>Year: 2009 Math: 241.3084911<br>Reading: 216.9301106\", \"UT<br>Year: 2009 Math: 239.2707128<br>Reading: 221.549557\", \"VA<br>Year: 2009 Math: 244.65101659999996<br>Reading: 222.7808285\", \"VA<br>Year: 2009 Math: 241.4090858<br>Reading: 230.46729019999998\", \"VT<br>Year: 2009 Math: 248.878935<br>Reading: 226.1078339\", \"VT<br>Year: 2009 Math: 246.59942569999998<br>Reading: 231.4772687\", \"WA<br>Year: 2009 Math: 242.38630099999997<br>Reading: 217.0907011\", \"WA<br>Year: 2009 Math: 242.12162080000002<br>Reading: 225.733106\", \"WI<br>Year: 2009 Math: 244.67302310000002<br>Reading: 216.606254\", \"WI<br>Year: 2009 Math: 242.41006940000003<br>Reading: 223.8881088\", \"WV<br>Year: 2009 Math: 233.99410730000002<br>Reading: 210.86660419999998\", \"WV<br>Year: 2009 Math: 231.92953909999997<br>Reading: 218.3040847\", \"WY<br>Year: 2009 Math: 242.9470371<br>Reading: 219.1295972\", \"WY<br>Year: 2009 Math: 240.98958219999997<br>Reading: 226.4977208\", \"AK<br>Year: 2017 Math: 230.45176030000002<br>Reading: 203.0513017\", \"AK<br>Year: 2017 Math: 230.4611871<br>Reading: 211.34334269999997\", \"AL<br>Year: 2017 Math: 232.45857009999997<br>Reading: 212.8211091\", \"AL<br>Year: 2017 Math: 231.87848169999998<br>Reading: 220.0065999\", \"AR<br>Year: 2017 Math: 234.9807022<br>Reading: 211.74262000000002\", \"AR<br>Year: 2017 Math: 232.66498760000002<br>Reading: 220.6330097\", \"AZ<br>Year: 2017 Math: 235.6316557<br>Reading: 213.46267039999998\", \"AZ<br>Year: 2017 Math: 233.2150457<br>Reading: 217.52022689999998\", \"CA<br>Year: 2017 Math: 233.26568619999998<br>Reading: 210.7706082\", \"CA<br>Year: 2017 Math: 231.2155055<br>Reading: 220.2931384\", \"CO<br>Year: 2017 Math: 240.2821937<br>Reading: 221.61640559999998\", \"CO<br>Year: 2017 Math: 241.13729730000003<br>Reading: 228.02043140000004\", \"CT<br>Year: 2017 Math: 241.4876106<br>Reading: 225.69884989999997\", \"CT<br>Year: 2017 Math: 236.91665030000001<br>Reading: 231.06940530000003\", \"DC<br>Year: 2017 Math: 231.3590099<br>Reading: 209.7059168\", \"DC<br>Year: 2017 Math: 231.2817799<br>Reading: 217.0726847\", \"DE<br>Year: 2017 Math: 235.5916588<br>Reading: 217.02140950000003\", \"DE<br>Year: 2017 Math: 236.66877599999998<br>Reading: 226.0044074\", \"FL<br>Year: 2017 Math: 247.4765145<br>Reading: 226.0874762\", \"FL<br>Year: 2017 Math: 245.23157<br>Reading: 230.5293065\", \"GA<br>Year: 2017 Math: 236.6667509<br>Reading: 215.9960475\", \"GA<br>Year: 2017 Math: 236.0913659<br>Reading: 223.46619819999998\", \"HI<br>Year: 2017 Math: 238.0754512<br>Reading: 211.96439750000002\", \"HI<br>Year: 2017 Math: 237.750739<br>Reading: 221.1629899\", \"IA<br>Year: 2017 Math: 245.0853816<br>Reading: 218.88682480000003\", \"IA<br>Year: 2017 Math: 240.9940059<br>Reading: 224.76728390000002\", \"ID<br>Year: 2017 Math: 241.64338199999997<br>Reading: 220.3231426\", \"ID<br>Year: 2017 Math: 238.2289001<br>Reading: 225.3600964\", \"IL<br>Year: 2017 Math: 239.6449667<br>Reading: 217.19876859999997\", \"IL<br>Year: 2017 Math: 236.6028134<br>Reading: 223.51177090000002\", \"IN<br>Year: 2017 Math: 248.2432237<br>Reading: 224.2207755\", \"IN<br>Year: 2017 Math: 244.6945339<br>Reading: 228.74029500000003\", \"KS<br>Year: 2017 Math: 242.4832381<br>Reading: 220.723398\", \"KS<br>Year: 2017 Math: 239.8473267<br>Reading: 226.0057583\", \"KY<br>Year: 2017 Math: 240.7846346<br>Reading: 221.9300199\", \"KY<br>Year: 2017 Math: 237.52027719999998<br>Reading: 226.27731580000003\", \"LA<br>Year: 2017 Math: 228.60418190000001<br>Reading: 210.24742400000002\", \"LA<br>Year: 2017 Math: 229.35140840000003<br>Reading: 213.0166577\", \"MA<br>Year: 2017 Math: 251.55340180000002<br>Reading: 232.9402589\", \"MA<br>Year: 2017 Math: 246.59656850000002<br>Reading: 238.5091687\", \"MD<br>Year: 2017 Math: 242.0755965<br>Reading: 220.69551069999997\", \"MD<br>Year: 2017 Math: 239.06334640000003<br>Reading: 229.59108769999997\", \"ME<br>Year: 2017 Math: 240.23484130000003<br>Reading: 219.2110349\", \"ME<br>Year: 2017 Math: 239.5559952<br>Reading: 223.5981836\", \"MI<br>Year: 2017 Math: 236.8113307<br>Reading: 213.58580730000003\", \"MI<br>Year: 2017 Math: 234.2812085<br>Reading: 221.98642510000002\", \"MN<br>Year: 2017 Math: 250.3992494<br>Reading: 221.9607287\", \"MN<br>Year: 2017 Math: 247.18105690000002<br>Reading: 227.14780640000004\", \"MO<br>Year: 2017 Math: 241.2361641<br>Reading: 220.5014873\", \"MO<br>Year: 2017 Math: 237.6815798<br>Reading: 224.97627709999998\", \"MS<br>Year: 2017 Math: 235.4568755<br>Reading: 211.57824509999998\", \"MS<br>Year: 2017 Math: 233.90217119999997<br>Reading: 218.94522659999998\", \"MT<br>Year: 2017 Math: 241.34523969999998<br>Reading: 220.22639280000004\", \"MT<br>Year: 2017 Math: 240.04140550000002<br>Reading: 224.62601899999999\", \"NC<br>Year: 2017 Math: 241.85216719999997<br>Reading: 221.1697234\", \"NC<br>Year: 2017 Math: 240.00583250000003<br>Reading: 226.8317849\", \"ND<br>Year: 2017 Math: 245.6263482<br>Reading: 216.68196830000002\", \"ND<br>Year: 2017 Math: 242.74885609999998<br>Reading: 226.69569019999997\", \"NE<br>Year: 2017 Math: 247.2209733<br>Reading: 220.76644700000003\", \"NE<br>Year: 2017 Math: 243.84341969999997<br>Reading: 227.65359229999999\", \"NH<br>Year: 2017 Math: 247.0152097<br>Reading: 227.622395\", \"NH<br>Year: 2017 Math: 243.59176150000002<br>Reading: 230.2115385\", \"NJ<br>Year: 2017 Math: 248.27456969999997<br>Reading: 228.67674590000001\", \"NJ<br>Year: 2017 Math: 247.4159119<br>Reading: 237.3914716\", \"NM<br>Year: 2017 Math: 230.41794<br>Reading: 203.95849180000002\", \"NM<br>Year: 2017 Math: 228.9597938<br>Reading: 211.60481069999997\", \"NT<br>Year: 2017 Math: 240.81240899999997<br>Reading: 218.96578190000002\", \"NT<br>Year: 2017 Math: 238.59400019999998<br>Reading: 224.9204301\", \"NV<br>Year: 2017 Math: 232.0763332<br>Reading: 211.24649399999998\", \"NV<br>Year: 2017 Math: 231.282843<br>Reading: 218.53305350000002\", \"NY<br>Year: 2017 Math: 237.62465120000002<br>Reading: 219.0240122\", \"NY<br>Year: 2017 Math: 233.4225455<br>Reading: 224.7796747\", \"OH<br>Year: 2017 Math: 241.41514730000003<br>Reading: 223.49784759999997\", \"OH<br>Year: 2017 Math: 240.4299969<br>Reading: 227.09899950000002\", \"OK<br>Year: 2017 Math: 238.72844869999997<br>Reading: 212.8841397\", \"OK<br>Year: 2017 Math: 235.8625867<br>Reading: 220.40549109999998\", \"OR<br>Year: 2017 Math: 235.1656413<br>Reading: 212.40314680000003\", \"OR<br>Year: 2017 Math: 231.0436143<br>Reading: 222.78055460000002\", \"PA<br>Year: 2017 Math: 243.3370083<br>Reading: 224.1111222\", \"PA<br>Year: 2017 Math: 239.97992069999998<br>Reading: 225.75630730000003\", \"RI<br>Year: 2017 Math: 238.15398330000002<br>Reading: 220.60557659999998\", \"RI<br>Year: 2017 Math: 236.9472733<br>Reading: 226.15168549999999\", \"SC<br>Year: 2017 Math: 234.90540330000002<br>Reading: 209.56633200000002\", \"SC<br>Year: 2017 Math: 233.12889359999997<br>Reading: 216.90885469999998\", \"SD<br>Year: 2017 Math: 243.7656205<br>Reading: 219.1506216\", \"SD<br>Year: 2017 Math: 239.36951919999998<br>Reading: 224.399956\", \"TN<br>Year: 2017 Math: 236.9641708<br>Reading: 215.29826630000002\", \"TN<br>Year: 2017 Math: 236.4169963<br>Reading: 222.6835514\", \"TX<br>Year: 2017 Math: 241.0455667<br>Reading: 213.48003340000002\", \"TX<br>Year: 2017 Math: 240.8321055<br>Reading: 216.38500499999998\", \"UT<br>Year: 2017 Math: 244.4630631<br>Reading: 221.0767767\", \"UT<br>Year: 2017 Math: 240.31077480000002<br>Reading: 229.64693480000003\", \"VA<br>Year: 2017 Math: 250.47927909999999<br>Reading: 226.245481\", \"VA<br>Year: 2017 Math: 245.47200660000001<br>Reading: 229.02030040000002\", \"VT<br>Year: 2017 Math: 241.32307180000004<br>Reading: 223.34771800000001\", \"VT<br>Year: 2017 Math: 240.4434016<br>Reading: 229.64731380000003\", \"WA<br>Year: 2017 Math: 243.2587772<br>Reading: 220.2532377\", \"WA<br>Year: 2017 Math: 240.08729530000002<br>Reading: 226.1011123\", \"WI<br>Year: 2017 Math: 241.6846167<br>Reading: 216.7292028\", \"WI<br>Year: 2017 Math: 238.9828094<br>Reading: 222.7703131\", \"WV<br>Year: 2017 Math: 236.527612<br>Reading: 212.89900260000002\", \"WV<br>Year: 2017 Math: 235.5821776<br>Reading: 221.8400483\", \"WY<br>Year: 2017 Math: 249.43175580000002<br>Reading: 224.1985693\", \"WY<br>Year: 2017 Math: 246.06756549999997<br>Reading: 229.6916923\"], \"type\": \"choropleth\", \"z\": [7.994232169, 5.468155375, -4.7403774610000005, -3.653732845, 3.8438803860000004, 3.534545133, -5.347706172, -3.5281865239999997, -0.6518540429999999, -0.538964046, 3.682821273, 1.132504124, 4.912577634, 6.044437553, -13.41100755, -10.71400017, 5.577060342999999, 1.082321407, -4.932093335, -3.894247337, -0.158230994, -0.545291935, -2.8085316660000004, -1.61986734, -1.765453055, 0.850162306, 0.29697709, 1.9019956869999999, 0.00772193, 0.302439132, -5.256180212, -2.46454845, 3.678435871, 4.539884693, -0.7503989609999999, 0.04724221, 1.5167743130000002, -0.661469259, 1.8871649819999998, 4.485821288, 2.164913166, 4.282846558999999, 6.305619527, 2.715091379, 0.768955363, 0.671773057, 0.8876460840000001, 0.375845026, -0.002341349, 2.41229038, -8.77298506, -6.047178221, 5.664633633999999, 1.6230594809999999, 2.11742937, 3.573437619, 1.1824977140000001, 0.766450938, -8.464131684, -5.103605408, 5.182216136, 6.273307075, 0.15246807099999998, -2.89077376, 0.22293583399999997, 0.428377526, -0.194759756, 0.10041951, 4.027007052, 2.921154449, 4.259619374, 5.902162767999999, 4.073708989, 1.443947864, -0.7957383259999999, -0.237434957, 4.7585890630000005, 4.928141427, 1.401218685, 2.384904024, 2.2525711580000003, 0.057546712, 1.223324692, 2.0539191519999997, -0.349697708, 1.2721164109999998, -4.800852742, -4.9489559210000005, -0.160716382, -0.805878877, -3.154572013, -1.040062072, -5.828262492, -4.062920797, 7.555863293, 6.156024062, -0.872476157, 2.0343254230000003, 2.9884064169999998, 3.427260001, -2.533504717, -3.652638528, -6.484718689, -5.0779833089999995, -7.994232169, -5.468155375, 4.7403774610000005, 3.653732845, -3.8438803860000004, -3.534545133, 5.347706172, 3.5281865239999997, 0.6518540429999999, 0.538964046, -3.682821273, -1.132504124, -4.912577634, -6.044437553, 13.41100755, 10.71400017, -5.577060342999999, -1.082321407, 4.932093335, 3.894247337, 0.158230994, 0.545291935, 2.8085316660000004, 1.61986734, 1.765453055, -0.850162306, -0.29697709, -1.9019956869999999, -0.00772193, -0.302439132, 5.256180212, 2.46454845, -3.678435871, -4.539884693, 0.7503989609999999, -0.04724221, -1.5167743130000002, 0.661469259, -1.8871649819999998, -4.485821288, -2.164913166, -4.282846558999999, -6.305619527, -2.715091379, -0.768955363, -0.671773057, -0.8876460840000001, -0.375845026, 0.002341349, -2.41229038, 8.77298506, 6.047178221, -5.664633633999999, -1.6230594809999999, -2.11742937, -3.573437619, -1.1824977140000001, -0.766450938, 8.464131684, 5.103605408, -5.182216136, -6.273307075, -0.15246807099999998, 2.89077376, -0.22293583399999997, -0.428377526, 0.194759756, -0.10041951, -4.027007052, -2.921154449, -4.259619374, -5.902162767999999, -4.073708989, -1.443947864, 0.7957383259999999, 0.237434957, -4.7585890630000005, -4.928141427, -1.401218685, -2.384904024, -2.2525711580000003, -0.057546712, -1.223324692, -2.0539191519999997, 0.349697708, -1.2721164109999998, 4.800852742, 4.9489559210000005, 0.160716382, 0.805878877, 3.154572013, 1.040062072, 5.828262492, 4.062920797, -7.555863293, -6.156024062, 0.872476157, -2.0343254230000003, -2.9884064169999998, -3.427260001, 2.533504717, 3.652638528, 6.484718689, 5.0779833089999995]}, {\"autocolorscale\": false, \"colorbar\": {\"title\": {\"text\": \"Average Math Difference\"}}, \"colorscale\": [[0.0, \"rgb(247,251,255)\"], [0.125, \"rgb(222,235,247)\"], [0.25, \"rgb(198,219,239)\"], [0.375, \"rgb(158,202,225)\"], [0.5, \"rgb(107,174,214)\"], [0.625, \"rgb(66,146,198)\"], [0.75, \"rgb(33,113,181)\"], [0.875, \"rgb(8,81,156)\"], [1.0, \"rgb(8,48,107)\"]], \"locationmode\": \"USA-states\", \"locations\": [\"AK\", \"AK\", \"AL\", \"AL\", \"AR\", \"AR\", \"AZ\", \"AZ\", \"CA\", \"CA\", \"CO\", \"CO\", \"CT\", \"CT\", \"DC\", \"DC\", \"DE\", \"DE\", \"FL\", \"FL\", \"GA\", \"GA\", \"HI\", \"HI\", \"IA\", \"IA\", \"ID\", \"ID\", \"IL\", \"IL\", \"IN\", \"IN\", \"KS\", \"KS\", \"KY\", \"KY\", \"LA\", \"LA\", \"MA\", \"MA\", \"MD\", \"MD\", \"ME\", \"ME\", \"MI\", \"MI\", \"MN\", \"MN\", \"MO\", \"MO\", \"MS\", \"MS\", \"MT\", \"MT\", \"NC\", \"NC\", \"ND\", \"ND\", \"NE\", \"NE\", \"NH\", \"NH\", \"NJ\", \"NJ\", \"NM\", \"NM\", \"NT\", \"NT\", \"NV\", \"NV\", \"NY\", \"NY\", \"OH\", \"OH\", \"OK\", \"OK\", \"OR\", \"OR\", \"PA\", \"PA\", \"RI\", \"RI\", \"SC\", \"SC\", \"SD\", \"SD\", \"TN\", \"TN\", \"TX\", \"TX\", \"UT\", \"UT\", \"VA\", \"VA\", \"VT\", \"VT\", \"WA\", \"WA\", \"WI\", \"WI\", \"WV\", \"WV\", \"WY\", \"WY\", \"AK\", \"AK\", \"AL\", \"AL\", \"AR\", \"AR\", \"AZ\", \"AZ\", \"CA\", \"CA\", \"CO\", \"CO\", \"CT\", \"CT\", \"DC\", \"DC\", \"DE\", \"DE\", \"FL\", \"FL\", \"GA\", \"GA\", \"HI\", \"HI\", \"IA\", \"IA\", \"ID\", \"ID\", \"IL\", \"IL\", \"IN\", \"IN\", \"KS\", \"KS\", \"KY\", \"KY\", \"LA\", \"LA\", \"MA\", \"MA\", \"MD\", \"MD\", \"ME\", \"ME\", \"MI\", \"MI\", \"MN\", \"MN\", \"MO\", \"MO\", \"MS\", \"MS\", \"MT\", \"MT\", \"NC\", \"NC\", \"ND\", \"ND\", \"NE\", \"NE\", \"NH\", \"NH\", \"NJ\", \"NJ\", \"NM\", \"NM\", \"NT\", \"NT\", \"NV\", \"NV\", \"NY\", \"NY\", \"OH\", \"OH\", \"OK\", \"OK\", \"OR\", \"OR\", \"PA\", \"PA\", \"RI\", \"RI\", \"SC\", \"SC\", \"SD\", \"SD\", \"TN\", \"TN\", \"TX\", \"TX\", \"UT\", \"UT\", \"VA\", \"VA\", \"VT\", \"VT\", \"WA\", \"WA\", \"WI\", \"WI\", \"WV\", \"WV\", \"WY\", \"WY\"], \"marker\": {\"line\": {\"color\": \"white\"}}, \"text\": [\"AK<br>Year: 2017 Math: 230.45176030000002<br>Reading: 203.0513017\", \"AK<br>Year: 2017 Math: 230.4611871<br>Reading: 211.34334269999997\", \"AL<br>Year: 2017 Math: 232.45857009999997<br>Reading: 212.8211091\", \"AL<br>Year: 2017 Math: 231.87848169999998<br>Reading: 220.0065999\", \"AR<br>Year: 2017 Math: 234.9807022<br>Reading: 211.74262000000002\", \"AR<br>Year: 2017 Math: 232.66498760000002<br>Reading: 220.6330097\", \"AZ<br>Year: 2017 Math: 235.6316557<br>Reading: 213.46267039999998\", \"AZ<br>Year: 2017 Math: 233.2150457<br>Reading: 217.52022689999998\", \"CA<br>Year: 2017 Math: 233.26568619999998<br>Reading: 210.7706082\", \"CA<br>Year: 2017 Math: 231.2155055<br>Reading: 220.2931384\", \"CO<br>Year: 2017 Math: 240.2821937<br>Reading: 221.61640559999998\", \"CO<br>Year: 2017 Math: 241.13729730000003<br>Reading: 228.02043140000004\", \"CT<br>Year: 2017 Math: 241.4876106<br>Reading: 225.69884989999997\", \"CT<br>Year: 2017 Math: 236.91665030000001<br>Reading: 231.06940530000003\", \"DC<br>Year: 2017 Math: 231.3590099<br>Reading: 209.7059168\", \"DC<br>Year: 2017 Math: 231.2817799<br>Reading: 217.0726847\", \"DE<br>Year: 2017 Math: 235.5916588<br>Reading: 217.02140950000003\", \"DE<br>Year: 2017 Math: 236.66877599999998<br>Reading: 226.0044074\", \"FL<br>Year: 2017 Math: 247.4765145<br>Reading: 226.0874762\", \"FL<br>Year: 2017 Math: 245.23157<br>Reading: 230.5293065\", \"GA<br>Year: 2017 Math: 236.6667509<br>Reading: 215.9960475\", \"GA<br>Year: 2017 Math: 236.0913659<br>Reading: 223.46619819999998\", \"HI<br>Year: 2017 Math: 238.0754512<br>Reading: 211.96439750000002\", \"HI<br>Year: 2017 Math: 237.750739<br>Reading: 221.1629899\", \"IA<br>Year: 2017 Math: 245.0853816<br>Reading: 218.88682480000003\", \"IA<br>Year: 2017 Math: 240.9940059<br>Reading: 224.76728390000002\", \"ID<br>Year: 2017 Math: 241.64338199999997<br>Reading: 220.3231426\", \"ID<br>Year: 2017 Math: 238.2289001<br>Reading: 225.3600964\", \"IL<br>Year: 2017 Math: 239.6449667<br>Reading: 217.19876859999997\", \"IL<br>Year: 2017 Math: 236.6028134<br>Reading: 223.51177090000002\", \"IN<br>Year: 2017 Math: 248.2432237<br>Reading: 224.2207755\", \"IN<br>Year: 2017 Math: 244.6945339<br>Reading: 228.74029500000003\", \"KS<br>Year: 2017 Math: 242.4832381<br>Reading: 220.723398\", \"KS<br>Year: 2017 Math: 239.8473267<br>Reading: 226.0057583\", \"KY<br>Year: 2017 Math: 240.7846346<br>Reading: 221.9300199\", \"KY<br>Year: 2017 Math: 237.52027719999998<br>Reading: 226.27731580000003\", \"LA<br>Year: 2017 Math: 228.60418190000001<br>Reading: 210.24742400000002\", \"LA<br>Year: 2017 Math: 229.35140840000003<br>Reading: 213.0166577\", \"MA<br>Year: 2017 Math: 251.55340180000002<br>Reading: 232.9402589\", \"MA<br>Year: 2017 Math: 246.59656850000002<br>Reading: 238.5091687\", \"MD<br>Year: 2017 Math: 242.0755965<br>Reading: 220.69551069999997\", \"MD<br>Year: 2017 Math: 239.06334640000003<br>Reading: 229.59108769999997\", \"ME<br>Year: 2017 Math: 240.23484130000003<br>Reading: 219.2110349\", \"ME<br>Year: 2017 Math: 239.5559952<br>Reading: 223.5981836\", \"MI<br>Year: 2017 Math: 236.8113307<br>Reading: 213.58580730000003\", \"MI<br>Year: 2017 Math: 234.2812085<br>Reading: 221.98642510000002\", \"MN<br>Year: 2017 Math: 250.3992494<br>Reading: 221.9607287\", \"MN<br>Year: 2017 Math: 247.18105690000002<br>Reading: 227.14780640000004\", \"MO<br>Year: 2017 Math: 241.2361641<br>Reading: 220.5014873\", \"MO<br>Year: 2017 Math: 237.6815798<br>Reading: 224.97627709999998\", \"MS<br>Year: 2017 Math: 235.4568755<br>Reading: 211.57824509999998\", \"MS<br>Year: 2017 Math: 233.90217119999997<br>Reading: 218.94522659999998\", \"MT<br>Year: 2017 Math: 241.34523969999998<br>Reading: 220.22639280000004\", \"MT<br>Year: 2017 Math: 240.04140550000002<br>Reading: 224.62601899999999\", \"NC<br>Year: 2017 Math: 241.85216719999997<br>Reading: 221.1697234\", \"NC<br>Year: 2017 Math: 240.00583250000003<br>Reading: 226.8317849\", \"ND<br>Year: 2017 Math: 245.6263482<br>Reading: 216.68196830000002\", \"ND<br>Year: 2017 Math: 242.74885609999998<br>Reading: 226.69569019999997\", \"NE<br>Year: 2017 Math: 247.2209733<br>Reading: 220.76644700000003\", \"NE<br>Year: 2017 Math: 243.84341969999997<br>Reading: 227.65359229999999\", \"NH<br>Year: 2017 Math: 247.0152097<br>Reading: 227.622395\", \"NH<br>Year: 2017 Math: 243.59176150000002<br>Reading: 230.2115385\", \"NJ<br>Year: 2017 Math: 248.27456969999997<br>Reading: 228.67674590000001\", \"NJ<br>Year: 2017 Math: 247.4159119<br>Reading: 237.3914716\", \"NM<br>Year: 2017 Math: 230.41794<br>Reading: 203.95849180000002\", \"NM<br>Year: 2017 Math: 228.9597938<br>Reading: 211.60481069999997\", \"NT<br>Year: 2017 Math: 240.81240899999997<br>Reading: 218.96578190000002\", \"NT<br>Year: 2017 Math: 238.59400019999998<br>Reading: 224.9204301\", \"NV<br>Year: 2017 Math: 232.0763332<br>Reading: 211.24649399999998\", \"NV<br>Year: 2017 Math: 231.282843<br>Reading: 218.53305350000002\", \"NY<br>Year: 2017 Math: 237.62465120000002<br>Reading: 219.0240122\", \"NY<br>Year: 2017 Math: 233.4225455<br>Reading: 224.7796747\", \"OH<br>Year: 2017 Math: 241.41514730000003<br>Reading: 223.49784759999997\", \"OH<br>Year: 2017 Math: 240.4299969<br>Reading: 227.09899950000002\", \"OK<br>Year: 2017 Math: 238.72844869999997<br>Reading: 212.8841397\", \"OK<br>Year: 2017 Math: 235.8625867<br>Reading: 220.40549109999998\", \"OR<br>Year: 2017 Math: 235.1656413<br>Reading: 212.40314680000003\", \"OR<br>Year: 2017 Math: 231.0436143<br>Reading: 222.78055460000002\", \"PA<br>Year: 2017 Math: 243.3370083<br>Reading: 224.1111222\", \"PA<br>Year: 2017 Math: 239.97992069999998<br>Reading: 225.75630730000003\", \"RI<br>Year: 2017 Math: 238.15398330000002<br>Reading: 220.60557659999998\", \"RI<br>Year: 2017 Math: 236.9472733<br>Reading: 226.15168549999999\", \"SC<br>Year: 2017 Math: 234.90540330000002<br>Reading: 209.56633200000002\", \"SC<br>Year: 2017 Math: 233.12889359999997<br>Reading: 216.90885469999998\", \"SD<br>Year: 2017 Math: 243.7656205<br>Reading: 219.1506216\", \"SD<br>Year: 2017 Math: 239.36951919999998<br>Reading: 224.399956\", \"TN<br>Year: 2017 Math: 236.9641708<br>Reading: 215.29826630000002\", \"TN<br>Year: 2017 Math: 236.4169963<br>Reading: 222.6835514\", \"TX<br>Year: 2017 Math: 241.0455667<br>Reading: 213.48003340000002\", \"TX<br>Year: 2017 Math: 240.8321055<br>Reading: 216.38500499999998\", \"UT<br>Year: 2017 Math: 244.4630631<br>Reading: 221.0767767\", \"UT<br>Year: 2017 Math: 240.31077480000002<br>Reading: 229.64693480000003\", \"VA<br>Year: 2017 Math: 250.47927909999999<br>Reading: 226.245481\", \"VA<br>Year: 2017 Math: 245.47200660000001<br>Reading: 229.02030040000002\", \"VT<br>Year: 2017 Math: 241.32307180000004<br>Reading: 223.34771800000001\", \"VT<br>Year: 2017 Math: 240.4434016<br>Reading: 229.64731380000003\", \"WA<br>Year: 2017 Math: 243.2587772<br>Reading: 220.2532377\", \"WA<br>Year: 2017 Math: 240.08729530000002<br>Reading: 226.1011123\", \"WI<br>Year: 2017 Math: 241.6846167<br>Reading: 216.7292028\", \"WI<br>Year: 2017 Math: 238.9828094<br>Reading: 222.7703131\", \"WV<br>Year: 2017 Math: 236.527612<br>Reading: 212.89900260000002\", \"WV<br>Year: 2017 Math: 235.5821776<br>Reading: 221.8400483\", \"WY<br>Year: 2017 Math: 249.43175580000002<br>Reading: 224.1985693\", \"WY<br>Year: 2017 Math: 246.06756549999997<br>Reading: 229.6916923\", \"AK<br>Year: 2009 Math: 238.4459925<br>Reading: 206.7242292\", \"AK<br>Year: 2009 Math: 235.9293425<br>Reading: 215.7112338\", \"AL<br>Year: 2009 Math: 227.7181926<br>Reading: 211.74193050000002\", \"AL<br>Year: 2009 Math: 228.2247489<br>Reading: 221.1006988\", \"AR<br>Year: 2009 Math: 238.82458259999999<br>Reading: 210.97585800000002\", \"AR<br>Year: 2009 Math: 236.1995327<br>Reading: 221.5645131\", \"AZ<br>Year: 2009 Math: 230.2839495<br>Reading: 206.9136801\", \"AZ<br>Year: 2009 Math: 229.68685919999996<br>Reading: 213.18922450000002\", \"CA<br>Year: 2009 Math: 232.6138321<br>Reading: 207.055218\", \"CA<br>Year: 2009 Math: 230.6765415<br>Reading: 212.63764550000002\", \"CO<br>Year: 2009 Math: 243.965015<br>Reading: 222.255777\", \"CO<br>Year: 2009 Math: 242.2698015<br>Reading: 229.2295877\", \"CT<br>Year: 2009 Math: 246.40018819999997<br>Reading: 224.53905319999996\", \"CT<br>Year: 2009 Math: 242.96108790000002<br>Reading: 233.50362579999998\", \"DC<br>Year: 2009 Math: 217.9480023<br>Reading: 198.09476619999998\", \"DC<br>Year: 2009 Math: 220.5677797<br>Reading: 205.74594040000002\", \"DE<br>Year: 2009 Math: 241.1687191<br>Reading: 222.87174190000002\", \"DE<br>Year: 2009 Math: 237.7510974<br>Reading: 228.1886232\", \"FL<br>Year: 2009 Math: 242.54442110000002<br>Reading: 222.52019610000002\", \"FL<br>Year: 2009 Math: 241.3373227<br>Reading: 228.8642131\", \"GA<br>Year: 2009 Math: 236.5085199<br>Reading: 214.28571380000002\", \"GA<br>Year: 2009 Math: 235.5460739<br>Reading: 221.3610349\", \"HI<br>Year: 2009 Math: 235.26691949999997<br>Reading: 205.13322390000002\", \"HI<br>Year: 2009 Math: 236.1308716<br>Reading: 216.66726060000002\", \"IA<br>Year: 2009 Math: 243.3199286<br>Reading: 216.96943230000002\", \"IA<br>Year: 2009 Math: 241.8441682<br>Reading: 225.965448\", \"ID<br>Year: 2009 Math: 241.9403591<br>Reading: 216.5292228\", \"ID<br>Year: 2009 Math: 240.13089580000002<br>Reading: 225.5082653\", \"IL<br>Year: 2009 Math: 239.6526887<br>Reading: 214.8423846\", \"IL<br>Year: 2009 Math: 236.9052525<br>Reading: 223.5129821\", \"IN<br>Year: 2009 Math: 242.98704339999998<br>Reading: 218.3968134\", \"IN<br>Year: 2009 Math: 242.2299855<br>Reading: 227.0696154\", \"KS<br>Year: 2009 Math: 246.16167400000003<br>Reading: 222.1581946\", \"KS<br>Year: 2009 Math: 244.3872114<br>Reading: 225.8242076\", \"KY<br>Year: 2009 Math: 240.03423560000002<br>Reading: 222.3486903\", \"KY<br>Year: 2009 Math: 237.56751949999997<br>Reading: 228.90135469999998\", \"LA<br>Year: 2009 Math: 230.1209562<br>Reading: 202.9714742\", \"LA<br>Year: 2009 Math: 228.68993909999998<br>Reading: 212.28630139999999\", \"MA<br>Year: 2009 Math: 253.4405668<br>Reading: 231.1401318\", \"MA<br>Year: 2009 Math: 251.08238980000002<br>Reading: 236.3237981\", \"MD<br>Year: 2009 Math: 244.24050970000002<br>Reading: 222.5177629\", \"MD<br>Year: 2009 Math: 243.34619300000003<br>Reading: 229.43872510000003\", \"ME<br>Year: 2009 Math: 246.5404608<br>Reading: 219.58023369999998\", \"ME<br>Year: 2009 Math: 242.2710866<br>Reading: 228.09681609999998\", \"MI<br>Year: 2009 Math: 237.5802861<br>Reading: 214.3957909\", \"MI<br>Year: 2009 Math: 234.95298160000002<br>Reading: 222.1448852\", \"MN<br>Year: 2009 Math: 251.2868955<br>Reading: 219.8187462\", \"MN<br>Year: 2009 Math: 247.556902<br>Reading: 226.9751804\", \"MO<br>Year: 2009 Math: 241.2338228<br>Reading: 218.9749832\", \"MO<br>Year: 2009 Math: 240.0938702<br>Reading: 229.0948613\", \"MS<br>Year: 2009 Math: 226.6838904<br>Reading: 207.6306934\", \"MS<br>Year: 2009 Math: 227.854993<br>Reading: 213.47530240000003\", \"MT<br>Year: 2009 Math: 247.0098734<br>Reading: 221.7826605\", \"MT<br>Year: 2009 Math: 241.6644649<br>Reading: 227.6048386\", \"NC<br>Year: 2009 Math: 243.9695966<br>Reading: 214.78778430000003\", \"NC<br>Year: 2009 Math: 243.5792701<br>Reading: 224.02092779999998\", \"ND<br>Year: 2009 Math: 246.80884590000002<br>Reading: 223.1073372\", \"ND<br>Year: 2009 Math: 243.5153071<br>Reading: 228.91858919999999\", \"NE<br>Year: 2009 Math: 238.75684159999997<br>Reading: 219.6725023\", \"NE<br>Year: 2009 Math: 238.7398143<br>Reading: 225.4668601\", \"NH<br>Year: 2009 Math: 252.1974258<br>Reading: 225.85400589999998\", \"NH<br>Year: 2009 Math: 249.8650685<br>Reading: 232.6529539\", \"NJ<br>Year: 2009 Math: 248.4270377<br>Reading: 227.1098772\", \"NJ<br>Year: 2009 Math: 244.5251381<br>Reading: 231.69815359999998\", \"NM<br>Year: 2009 Math: 230.6408759<br>Reading: 202.83436890000002\", \"NM<br>Year: 2009 Math: 229.3881713<br>Reading: 212.59483959999997\", \"NT<br>Year: 2009 Math: 240.61764920000002<br>Reading: 217.6064798\", \"NT<br>Year: 2009 Math: 238.69441969999997<br>Reading: 224.34676769999996\", \"NV<br>Year: 2009 Math: 236.10334029999999<br>Reading: 208.2577906\", \"NV<br>Year: 2009 Math: 234.2039974<br>Reading: 213.9765537\", \"NY<br>Year: 2009 Math: 241.8842705<br>Reading: 220.7946954\", \"NY<br>Year: 2009 Math: 239.3247083<br>Reading: 228.1099483\", \"OH<br>Year: 2009 Math: 245.4888563<br>Reading: 221.64348859999998\", \"OH<br>Year: 2009 Math: 241.87394480000003<br>Reading: 227.3593687\", \"OK<br>Year: 2009 Math: 237.93271040000002<br>Reading: 213.96507730000002\", \"OK<br>Year: 2009 Math: 235.6251517<br>Reading: 220.36061439999997\", \"OR<br>Year: 2009 Math: 239.9242304<br>Reading: 214.1195805\", \"OR<br>Year: 2009 Math: 235.97175570000002<br>Reading: 222.50049199999998\", \"PA<br>Year: 2009 Math: 244.738227<br>Reading: 221.3485904\", \"PA<br>Year: 2009 Math: 242.36482469999999<br>Reading: 226.13053870000002\", \"RI<br>Year: 2009 Math: 240.4065545<br>Reading: 217.8659933\", \"RI<br>Year: 2009 Math: 237.00482000000002<br>Reading: 227.78835460000002\", \"SC<br>Year: 2009 Math: 236.12872799999997<br>Reading: 213.40612760000002\", \"SC<br>Year: 2009 Math: 235.1828128<br>Reading: 218.5484679\", \"SD<br>Year: 2009 Math: 243.4159228<br>Reading: 219.5269395\", \"SD<br>Year: 2009 Math: 240.6416357<br>Reading: 224.9867318\", \"TN<br>Year: 2009 Math: 232.1633181<br>Reading: 213.85772519999998\", \"TN<br>Year: 2009 Math: 231.4680404<br>Reading: 219.65458309999997\", \"TX<br>Year: 2009 Math: 240.8848503<br>Reading: 215.67111269999998\", \"TX<br>Year: 2009 Math: 240.02622659999997<br>Reading: 222.17289669999997\", \"UT<br>Year: 2009 Math: 241.3084911<br>Reading: 216.9301106\", \"UT<br>Year: 2009 Math: 239.2707128<br>Reading: 221.549557\", \"VA<br>Year: 2009 Math: 244.65101659999996<br>Reading: 222.7808285\", \"VA<br>Year: 2009 Math: 241.4090858<br>Reading: 230.46729019999998\", \"VT<br>Year: 2009 Math: 248.878935<br>Reading: 226.1078339\", \"VT<br>Year: 2009 Math: 246.59942569999998<br>Reading: 231.4772687\", \"WA<br>Year: 2009 Math: 242.38630099999997<br>Reading: 217.0907011\", \"WA<br>Year: 2009 Math: 242.12162080000002<br>Reading: 225.733106\", \"WI<br>Year: 2009 Math: 244.67302310000002<br>Reading: 216.606254\", \"WI<br>Year: 2009 Math: 242.41006940000003<br>Reading: 223.8881088\", \"WV<br>Year: 2009 Math: 233.99410730000002<br>Reading: 210.86660419999998\", \"WV<br>Year: 2009 Math: 231.92953909999997<br>Reading: 218.3040847\", \"WY<br>Year: 2009 Math: 242.9470371<br>Reading: 219.1295972\", \"WY<br>Year: 2009 Math: 240.98958219999997<br>Reading: 226.4977208\"], \"type\": \"choropleth\", \"z\": [7.994232169, 5.468155375, -4.7403774610000005, -3.653732845, 3.8438803860000004, 3.534545133, -5.347706172, -3.5281865239999997, -0.6518540429999999, -0.538964046, 3.682821273, 1.132504124, 4.912577634, 6.044437553, -13.41100755, -10.71400017, 5.577060342999999, 1.082321407, -4.932093335, -3.894247337, -0.158230994, -0.545291935, -2.8085316660000004, -1.61986734, -1.765453055, 0.850162306, 0.29697709, 1.9019956869999999, 0.00772193, 0.302439132, -5.256180212, -2.46454845, 3.678435871, 4.539884693, -0.7503989609999999, 0.04724221, 1.5167743130000002, -0.661469259, 1.8871649819999998, 4.485821288, 2.164913166, 4.282846558999999, 6.305619527, 2.715091379, 0.768955363, 0.671773057, 0.8876460840000001, 0.375845026, -0.002341349, 2.41229038, -8.77298506, -6.047178221, 5.664633633999999, 1.6230594809999999, 2.11742937, 3.573437619, 1.1824977140000001, 0.766450938, -8.464131684, -5.103605408, 5.182216136, 6.273307075, 0.15246807099999998, -2.89077376, 0.22293583399999997, 0.428377526, -0.194759756, 0.10041951, 4.027007052, 2.921154449, 4.259619374, 5.902162767999999, 4.073708989, 1.443947864, -0.7957383259999999, -0.237434957, 4.7585890630000005, 4.928141427, 1.401218685, 2.384904024, 2.2525711580000003, 0.057546712, 1.223324692, 2.0539191519999997, -0.349697708, 1.2721164109999998, -4.800852742, -4.9489559210000005, -0.160716382, -0.805878877, -3.154572013, -1.040062072, -5.828262492, -4.062920797, 7.555863293, 6.156024062, -0.872476157, 2.0343254230000003, 2.9884064169999998, 3.427260001, -2.533504717, -3.652638528, -6.484718689, -5.0779833089999995, -7.994232169, -5.468155375, 4.7403774610000005, 3.653732845, -3.8438803860000004, -3.534545133, 5.347706172, 3.5281865239999997, 0.6518540429999999, 0.538964046, -3.682821273, -1.132504124, -4.912577634, -6.044437553, 13.41100755, 10.71400017, -5.577060342999999, -1.082321407, 4.932093335, 3.894247337, 0.158230994, 0.545291935, 2.8085316660000004, 1.61986734, 1.765453055, -0.850162306, -0.29697709, -1.9019956869999999, -0.00772193, -0.302439132, 5.256180212, 2.46454845, -3.678435871, -4.539884693, 0.7503989609999999, -0.04724221, -1.5167743130000002, 0.661469259, -1.8871649819999998, -4.485821288, -2.164913166, -4.282846558999999, -6.305619527, -2.715091379, -0.768955363, -0.671773057, -0.8876460840000001, -0.375845026, 0.002341349, -2.41229038, 8.77298506, 6.047178221, -5.664633633999999, -1.6230594809999999, -2.11742937, -3.573437619, -1.1824977140000001, -0.766450938, 8.464131684, 5.103605408, -5.182216136, -6.273307075, -0.15246807099999998, 2.89077376, -0.22293583399999997, -0.428377526, 0.194759756, -0.10041951, -4.027007052, -2.921154449, -4.259619374, -5.902162767999999, -4.073708989, -1.443947864, 0.7957383259999999, 0.237434957, -4.7585890630000005, -4.928141427, -1.401218685, -2.384904024, -2.2525711580000003, -0.057546712, -1.223324692, -2.0539191519999997, 0.349697708, -1.2721164109999998, 4.800852742, 4.9489559210000005, 0.160716382, 0.805878877, 3.154572013, 1.040062072, 5.828262492, 4.062920797, -7.555863293, -6.156024062, 0.872476157, -2.0343254230000003, -2.9884064169999998, -3.427260001, 2.533504717, 3.652638528, 6.484718689, 5.0779833089999995]}],\n",
       "                        {\"geo\": {\"lakecolor\": \"rgb(255, 255, 255)\", \"projection\": {\"type\": \"albers usa\"}, \"scope\": \"usa\", \"showlakes\": true}, \"template\": {\"data\": {\"bar\": [{\"error_x\": {\"color\": \"#2a3f5f\"}, \"error_y\": {\"color\": \"#2a3f5f\"}, \"marker\": {\"line\": {\"color\": \"#E5ECF6\", \"width\": 0.5}}, \"type\": \"bar\"}], \"barpolar\": [{\"marker\": {\"line\": {\"color\": \"#E5ECF6\", \"width\": 0.5}}, \"type\": \"barpolar\"}], \"carpet\": [{\"aaxis\": {\"endlinecolor\": \"#2a3f5f\", \"gridcolor\": \"white\", \"linecolor\": \"white\", \"minorgridcolor\": \"white\", \"startlinecolor\": \"#2a3f5f\"}, \"baxis\": {\"endlinecolor\": \"#2a3f5f\", \"gridcolor\": \"white\", \"linecolor\": \"white\", \"minorgridcolor\": \"white\", \"startlinecolor\": \"#2a3f5f\"}, \"type\": \"carpet\"}], \"choropleth\": [{\"colorbar\": {\"outlinewidth\": 0, \"ticks\": \"\"}, \"type\": \"choropleth\"}], \"contour\": [{\"colorbar\": {\"outlinewidth\": 0, \"ticks\": \"\"}, \"colorscale\": [[0.0, \"#0d0887\"], [0.1111111111111111, \"#46039f\"], [0.2222222222222222, \"#7201a8\"], [0.3333333333333333, \"#9c179e\"], [0.4444444444444444, \"#bd3786\"], [0.5555555555555556, \"#d8576b\"], [0.6666666666666666, \"#ed7953\"], [0.7777777777777778, \"#fb9f3a\"], [0.8888888888888888, \"#fdca26\"], [1.0, \"#f0f921\"]], \"type\": \"contour\"}], \"contourcarpet\": [{\"colorbar\": {\"outlinewidth\": 0, \"ticks\": \"\"}, \"type\": \"contourcarpet\"}], \"heatmap\": [{\"colorbar\": {\"outlinewidth\": 0, \"ticks\": \"\"}, \"colorscale\": [[0.0, \"#0d0887\"], [0.1111111111111111, \"#46039f\"], [0.2222222222222222, \"#7201a8\"], [0.3333333333333333, \"#9c179e\"], [0.4444444444444444, \"#bd3786\"], [0.5555555555555556, \"#d8576b\"], [0.6666666666666666, \"#ed7953\"], [0.7777777777777778, \"#fb9f3a\"], [0.8888888888888888, \"#fdca26\"], [1.0, \"#f0f921\"]], \"type\": \"heatmap\"}], \"heatmapgl\": [{\"colorbar\": {\"outlinewidth\": 0, \"ticks\": \"\"}, \"colorscale\": [[0.0, \"#0d0887\"], [0.1111111111111111, \"#46039f\"], [0.2222222222222222, \"#7201a8\"], [0.3333333333333333, \"#9c179e\"], [0.4444444444444444, \"#bd3786\"], [0.5555555555555556, \"#d8576b\"], [0.6666666666666666, \"#ed7953\"], [0.7777777777777778, \"#fb9f3a\"], [0.8888888888888888, \"#fdca26\"], [1.0, \"#f0f921\"]], \"type\": \"heatmapgl\"}], \"histogram\": [{\"marker\": {\"colorbar\": {\"outlinewidth\": 0, \"ticks\": \"\"}}, \"type\": \"histogram\"}], \"histogram2d\": [{\"colorbar\": {\"outlinewidth\": 0, \"ticks\": \"\"}, \"colorscale\": [[0.0, \"#0d0887\"], [0.1111111111111111, \"#46039f\"], [0.2222222222222222, \"#7201a8\"], [0.3333333333333333, \"#9c179e\"], [0.4444444444444444, \"#bd3786\"], [0.5555555555555556, \"#d8576b\"], [0.6666666666666666, \"#ed7953\"], [0.7777777777777778, \"#fb9f3a\"], [0.8888888888888888, \"#fdca26\"], [1.0, \"#f0f921\"]], \"type\": \"histogram2d\"}], \"histogram2dcontour\": [{\"colorbar\": {\"outlinewidth\": 0, \"ticks\": \"\"}, \"colorscale\": [[0.0, \"#0d0887\"], [0.1111111111111111, \"#46039f\"], [0.2222222222222222, \"#7201a8\"], [0.3333333333333333, \"#9c179e\"], [0.4444444444444444, \"#bd3786\"], [0.5555555555555556, \"#d8576b\"], [0.6666666666666666, \"#ed7953\"], [0.7777777777777778, \"#fb9f3a\"], [0.8888888888888888, \"#fdca26\"], [1.0, \"#f0f921\"]], \"type\": \"histogram2dcontour\"}], \"mesh3d\": [{\"colorbar\": {\"outlinewidth\": 0, \"ticks\": \"\"}, \"type\": \"mesh3d\"}], \"parcoords\": [{\"line\": {\"colorbar\": {\"outlinewidth\": 0, \"ticks\": \"\"}}, \"type\": \"parcoords\"}], \"scatter\": [{\"marker\": {\"colorbar\": {\"outlinewidth\": 0, \"ticks\": \"\"}}, \"type\": \"scatter\"}], \"scatter3d\": [{\"line\": {\"colorbar\": {\"outlinewidth\": 0, \"ticks\": \"\"}}, \"marker\": {\"colorbar\": {\"outlinewidth\": 0, \"ticks\": \"\"}}, \"type\": \"scatter3d\"}], \"scattercarpet\": [{\"marker\": {\"colorbar\": {\"outlinewidth\": 0, \"ticks\": \"\"}}, \"type\": \"scattercarpet\"}], \"scattergeo\": [{\"marker\": {\"colorbar\": {\"outlinewidth\": 0, \"ticks\": \"\"}}, \"type\": \"scattergeo\"}], \"scattergl\": [{\"marker\": {\"colorbar\": {\"outlinewidth\": 0, \"ticks\": \"\"}}, \"type\": \"scattergl\"}], \"scattermapbox\": [{\"marker\": {\"colorbar\": {\"outlinewidth\": 0, \"ticks\": \"\"}}, \"type\": \"scattermapbox\"}], \"scatterpolar\": [{\"marker\": {\"colorbar\": {\"outlinewidth\": 0, \"ticks\": \"\"}}, \"type\": \"scatterpolar\"}], \"scatterpolargl\": [{\"marker\": {\"colorbar\": {\"outlinewidth\": 0, \"ticks\": \"\"}}, \"type\": \"scatterpolargl\"}], \"scatterternary\": [{\"marker\": {\"colorbar\": {\"outlinewidth\": 0, \"ticks\": \"\"}}, \"type\": \"scatterternary\"}], \"surface\": [{\"colorbar\": {\"outlinewidth\": 0, \"ticks\": \"\"}, \"colorscale\": [[0.0, \"#0d0887\"], [0.1111111111111111, \"#46039f\"], [0.2222222222222222, \"#7201a8\"], [0.3333333333333333, \"#9c179e\"], [0.4444444444444444, \"#bd3786\"], [0.5555555555555556, \"#d8576b\"], [0.6666666666666666, \"#ed7953\"], [0.7777777777777778, \"#fb9f3a\"], [0.8888888888888888, \"#fdca26\"], [1.0, \"#f0f921\"]], \"type\": \"surface\"}], \"table\": [{\"cells\": {\"fill\": {\"color\": \"#EBF0F8\"}, \"line\": {\"color\": \"white\"}}, \"header\": {\"fill\": {\"color\": \"#C8D4E3\"}, \"line\": {\"color\": \"white\"}}, \"type\": \"table\"}]}, \"layout\": {\"annotationdefaults\": {\"arrowcolor\": \"#2a3f5f\", \"arrowhead\": 0, \"arrowwidth\": 1}, \"colorscale\": {\"diverging\": [[0, \"#8e0152\"], [0.1, \"#c51b7d\"], [0.2, \"#de77ae\"], [0.3, \"#f1b6da\"], [0.4, \"#fde0ef\"], [0.5, \"#f7f7f7\"], [0.6, \"#e6f5d0\"], [0.7, \"#b8e186\"], [0.8, \"#7fbc41\"], [0.9, \"#4d9221\"], [1, \"#276419\"]], \"sequential\": [[0.0, \"#0d0887\"], [0.1111111111111111, \"#46039f\"], [0.2222222222222222, \"#7201a8\"], [0.3333333333333333, \"#9c179e\"], [0.4444444444444444, \"#bd3786\"], [0.5555555555555556, \"#d8576b\"], [0.6666666666666666, \"#ed7953\"], [0.7777777777777778, \"#fb9f3a\"], [0.8888888888888888, \"#fdca26\"], [1.0, \"#f0f921\"]], \"sequentialminus\": [[0.0, \"#0d0887\"], [0.1111111111111111, \"#46039f\"], [0.2222222222222222, \"#7201a8\"], [0.3333333333333333, \"#9c179e\"], [0.4444444444444444, \"#bd3786\"], [0.5555555555555556, \"#d8576b\"], [0.6666666666666666, \"#ed7953\"], [0.7777777777777778, \"#fb9f3a\"], [0.8888888888888888, \"#fdca26\"], [1.0, \"#f0f921\"]]}, \"colorway\": [\"#636efa\", \"#EF553B\", \"#00cc96\", \"#ab63fa\", \"#FFA15A\", \"#19d3f3\", \"#FF6692\", \"#B6E880\", \"#FF97FF\", \"#FECB52\"], \"font\": {\"color\": \"#2a3f5f\"}, \"geo\": {\"bgcolor\": \"white\", \"lakecolor\": \"white\", \"landcolor\": \"#E5ECF6\", \"showlakes\": true, \"showland\": true, \"subunitcolor\": \"white\"}, \"hoverlabel\": {\"align\": \"left\"}, \"hovermode\": \"closest\", \"mapbox\": {\"style\": \"light\"}, \"paper_bgcolor\": \"white\", \"plot_bgcolor\": \"#E5ECF6\", \"polar\": {\"angularaxis\": {\"gridcolor\": \"white\", \"linecolor\": \"white\", \"ticks\": \"\"}, \"bgcolor\": \"#E5ECF6\", \"radialaxis\": {\"gridcolor\": \"white\", \"linecolor\": \"white\", \"ticks\": \"\"}}, \"scene\": {\"xaxis\": {\"backgroundcolor\": \"#E5ECF6\", \"gridcolor\": \"white\", \"gridwidth\": 2, \"linecolor\": \"white\", \"showbackground\": true, \"ticks\": \"\", \"zerolinecolor\": \"white\"}, \"yaxis\": {\"backgroundcolor\": \"#E5ECF6\", \"gridcolor\": \"white\", \"gridwidth\": 2, \"linecolor\": \"white\", \"showbackground\": true, \"ticks\": \"\", \"zerolinecolor\": \"white\"}, \"zaxis\": {\"backgroundcolor\": \"#E5ECF6\", \"gridcolor\": \"white\", \"gridwidth\": 2, \"linecolor\": \"white\", \"showbackground\": true, \"ticks\": \"\", \"zerolinecolor\": \"white\"}}, \"shapedefaults\": {\"line\": {\"color\": \"#2a3f5f\"}}, \"ternary\": {\"aaxis\": {\"gridcolor\": \"white\", \"linecolor\": \"white\", \"ticks\": \"\"}, \"baxis\": {\"gridcolor\": \"white\", \"linecolor\": \"white\", \"ticks\": \"\"}, \"bgcolor\": \"#E5ECF6\", \"caxis\": {\"gridcolor\": \"white\", \"linecolor\": \"white\", \"ticks\": \"\"}}, \"title\": {\"x\": 0.05}, \"xaxis\": {\"automargin\": true, \"gridcolor\": \"white\", \"linecolor\": \"white\", \"ticks\": \"\", \"zerolinecolor\": \"white\", \"zerolinewidth\": 2}, \"yaxis\": {\"automargin\": true, \"gridcolor\": \"white\", \"linecolor\": \"white\", \"ticks\": \"\", \"zerolinecolor\": \"white\", \"zerolinewidth\": 2}}}, \"title\": {\"text\": \"National Report Card\"}, \"updatemenus\": [{\"buttons\": [{\"args\": [\"Year\", \"2009\"], \"label\": \"2009\", \"method\": \"restyle\"}, {\"args\": [\"Year\", \"2017\"], \"label\": \"2017\", \"method\": \"restyle\"}], \"direction\": \"down\", \"pad\": {\"r\": 10, \"t\": 10}, \"showactive\": true, \"x\": 0.1, \"xanchor\": \"left\", \"y\": 1.08, \"yanchor\": \"top\"}, {\"buttons\": [{\"args\": [\"Subject\", false], \"label\": \"Math\", \"method\": \"restyle\"}, {\"args\": [\"Subject\", true], \"label\": \"Reading\", \"method\": \"restyle\"}], \"direction\": \"down\", \"pad\": {\"r\": 10, \"t\": 10}, \"showactive\": true, \"x\": 0.37, \"xanchor\": \"left\", \"y\": 1.08, \"yanchor\": \"top\"}]},\n",
       "                        {\"responsive\": true}\n",
       "                    ).then(function(){\n",
       "                            \n",
       "var gd = document.getElementById('87abe075-3ad6-417e-8b51-4204af8c087b');\n",
       "var x = new MutationObserver(function (mutations, observer) {{\n",
       "        var display = window.getComputedStyle(gd).display;\n",
       "        if (!display || display === 'none') {{\n",
       "            console.log([gd, 'removed!']);\n",
       "            Plotly.purge(gd);\n",
       "            observer.disconnect();\n",
       "        }}\n",
       "}});\n",
       "\n",
       "// Listen for the removal of the full notebook cells\n",
       "var notebookContainer = gd.closest('#notebook-container');\n",
       "if (notebookContainer) {{\n",
       "    x.observe(notebookContainer, {childList: true});\n",
       "}}\n",
       "\n",
       "// Listen for the clearing of the current output cell\n",
       "var outputEl = gd.closest('.output');\n",
       "if (outputEl) {{\n",
       "    x.observe(outputEl, {childList: true});\n",
       "}}\n",
       "\n",
       "                        })\n",
       "                };\n",
       "                });\n",
       "            </script>\n",
       "        </div>"
      ]
     },
     "metadata": {},
     "output_type": "display_data"
    }
   ],
   "source": [
    "# Add drowdowns\n",
    "button_layer_1_height = 1.08\n",
    "fig.update_layout(\n",
    "    updatemenus=[\n",
    "        go.layout.Updatemenu(\n",
    "            buttons=list([\n",
    "                dict(\n",
    "                    args=[\"Year\", \"2009\"],\n",
    "                    label=\"2009\",\n",
    "                    method=\"restyle\"\n",
    "                ),\n",
    "                dict(\n",
    "                    args=[\"Year\", \"2017\"],\n",
    "                    label=\"2017\",\n",
    "                    method=\"restyle\"\n",
    "                ),\n",
    "            ]),\n",
    "            direction=\"down\",\n",
    "            pad={\"r\": 10, \"t\": 10},\n",
    "            showactive=True,\n",
    "            x=0.1,\n",
    "            xanchor=\"left\",\n",
    "            y=button_layer_1_height,\n",
    "            yanchor=\"top\"\n",
    "        ),\n",
    "        go.layout.Updatemenu(\n",
    "            buttons=list([\n",
    "                dict(\n",
    "                    args=[\"Subject\", False],\n",
    "                    label=\"Math\",\n",
    "                    method=\"restyle\"\n",
    "                ),\n",
    "                dict(\n",
    "                    args=[\"Subject\", True],\n",
    "                    label=\"Reading\",\n",
    "                    method=\"restyle\"\n",
    "                )\n",
    "            ]),\n",
    "            direction=\"down\",\n",
    "            pad={\"r\": 10, \"t\": 10},\n",
    "            showactive=True,\n",
    "            x=0.37,\n",
    "            xanchor=\"left\",\n",
    "            y=button_layer_1_height,\n",
    "            yanchor=\"top\"\n",
    "        ),\n",
    "      \n",
    "    ]\n",
    ")\n"
   ]
  },
  {
   "cell_type": "code",
   "execution_count": 10,
   "metadata": {},
   "outputs": [
    {
     "ename": "SyntaxError",
     "evalue": "invalid syntax (<ipython-input-10-c23b76f41e09>, line 24)",
     "output_type": "error",
     "traceback": [
      "\u001b[1;36m  File \u001b[1;32m\"<ipython-input-10-c23b76f41e09>\"\u001b[1;36m, line \u001b[1;32m24\u001b[0m\n\u001b[1;33m    style={\"display\": \"block\", \"margin-left\": \"auto\", \"margin-right\": \"auto\",\u001b[0m\n\u001b[1;37m         ^\u001b[0m\n\u001b[1;31mSyntaxError\u001b[0m\u001b[1;31m:\u001b[0m invalid syntax\n"
     ]
    }
   ],
   "source": [
    "import dash_core_components as dcc\n",
    "import dash_html_components as html\n",
    "import pandas as pd\n",
    "import plotly.graph_objs as go\n",
    "\n",
    "from app import app\n",
    "\n",
    "csv_file = \"data/NationalScores.csv\"\n",
    "df = pd.read_csv(csv_file, encoding =\"ISO-8859-1\")\n",
    "\n",
    "\n",
    "if 'DYNO' in os.environ:\n",
    "    app_name = os.environ['DASH_APP_NAME']\n",
    "else:\n",
    "    app_name = 'dash-choroplethplot'\n",
    "\n",
    "layout = html.Div([html.Div([html.H1(\"Demographic Data by Country\")],\n",
    "                                style={'textAlign': \"center\", \"padding-bottom\": \"30\"}),\n",
    "                       html.Div([html.Span(\"Metric to display : \", className=\"six columns\",\n",
    "                                           style={\"text-align\": \"right\", \"width\": \"40%\", \"padding-top\": 10}),\n",
    "                                 dcc.Dropdown(id=\"value-selected\", value='state',\n",
    "                                              options=[{'label': \"Population \", 'value': 'start_year'},\n",
    "                                                       {'label': \"GDP Per Capita \", 'value': 'end_year'},\n",
    "                                              style={\"display\": \"block\", \"margin-left\": \"auto\", \"margin-right\": \"auto\",\n",
    "                                                     \"width\": \"70%\"},\n",
    "                                              className=\"six columns\")], className=\"row\"),\n",
    "                       dcc.Graph(id=\"my-graph\")\n",
    "                       ], className=\"container\")\n",
    "\n",
    "\n",
    "@app.callback(\n",
    "    dash.dependencies.Output(\"my-graph\", \"figure\"),\n",
    "    [dash.dependencies.Input(\"value-selected\", \"value\")]\n",
    ")\n",
    "def update_figure(selected):\n",
    "    dff = df.groupby(['iso_alpha', 'country']).mean().reset_index()\n",
    "    def title(text):\n",
    "        if text == \"avg_2017_math\":\n",
    "            return \"Poplulation (million)\"\n",
    "        elif text == \"avg_2017_read\":\n",
    "            return \"GDP Per Capita (USD)\"\n",
    "        else:\n",
    "            return \"Life Expectancy (Years)\"\n",
    "    trace = go.Choropleth(locations=dff['iso_alpha'],z=dff[selected],text=dff['state'],autocolorscale=False,\n",
    "                          colorscale=\"YlGnBu\",marker={'line': {'color': 'rgb(180,180,180)','width': 0.5}},\n",
    "                          colorbar={\"thickness\": 10,\"len\": 0.3,\"x\": 0.9,\"y\": 0.7,\n",
    "                                    'title': {\"text\": title(selected), \"side\": \"bottom\"}})\n",
    "    return {\"data\": [trace],\n",
    "            \"layout\": go.Layout(title=title(selected),height=800,geo={'showframe': False,'showcoastlines': False,\n",
    "                                                                      'projection': {'type': \"miller\"}})}"
   ]
  },
  {
   "cell_type": "code",
   "execution_count": null,
   "metadata": {},
   "outputs": [],
   "source": []
  }
 ],
 "metadata": {
  "kernelspec": {
   "display_name": "Python 3",
   "language": "python",
   "name": "python3"
  },
  "language_info": {
   "codemirror_mode": {
    "name": "ipython",
    "version": 3
   },
   "file_extension": ".py",
   "mimetype": "text/x-python",
   "name": "python",
   "nbconvert_exporter": "python",
   "pygments_lexer": "ipython3",
   "version": "3.7.3"
  }
 },
 "nbformat": 4,
 "nbformat_minor": 2
}
